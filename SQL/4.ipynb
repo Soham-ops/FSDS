{
 "cells": [
  {
   "cell_type": "markdown",
   "id": "86aa1cf8",
   "metadata": {},
   "source": [
    "# Preprocessing"
   ]
  },
  {
   "cell_type": "code",
   "execution_count": 1,
   "id": "fcf9eb48",
   "metadata": {},
   "outputs": [],
   "source": [
    "import mysql.connector as conn \n",
    "mydb = conn.connect(host='localhost',user='root',passwd='root')"
   ]
  },
  {
   "cell_type": "code",
   "execution_count": 2,
   "id": "529f58e5",
   "metadata": {},
   "outputs": [],
   "source": [
    "cursor = mydb.cursor(buffered=True)"
   ]
  },
  {
   "cell_type": "code",
   "execution_count": 3,
   "id": "9b381a2d",
   "metadata": {},
   "outputs": [],
   "source": [
    "#Create database\n",
    "cursor.execute(\"create database test1\")"
   ]
  },
  {
   "cell_type": "code",
   "execution_count": 4,
   "id": "f8c25bb2",
   "metadata": {},
   "outputs": [
    {
     "data": {
      "text/plain": [
       "[('information_schema',),\n",
       " ('mysql',),\n",
       " ('performance_schema',),\n",
       " ('sakila',),\n",
       " ('sys',),\n",
       " ('test1',),\n",
       " ('testsudh',),\n",
       " ('world',)]"
      ]
     },
     "execution_count": 4,
     "metadata": {},
     "output_type": "execute_result"
    }
   ],
   "source": [
    "cursor.execute(\"show databases\")\n",
    "cursor.fetchall()"
   ]
  },
  {
   "cell_type": "code",
   "execution_count": 5,
   "id": "ab47ed5e",
   "metadata": {},
   "outputs": [
    {
     "data": {
      "text/plain": [
       "[('worker',)]"
      ]
     },
     "execution_count": 5,
     "metadata": {},
     "output_type": "execute_result"
    }
   ],
   "source": [
    "#create table\n",
    "cursor.execute(\"use test1\")\n",
    "cursor.execute(\"create table test1.worker(workerid INT(10),FIRST_NAME VARCHAR(30),DEPARTMENT VARCHAR(30),SALARY INT(10))\")\n",
    "cursor.execute(\"show tables\")\n",
    "cursor.fetchall()"
   ]
  },
  {
   "cell_type": "code",
   "execution_count": 6,
   "id": "34716102",
   "metadata": {},
   "outputs": [],
   "source": [
    "#insert data\n",
    "cursor.execute(\"insert into test1.worker values (1,'soham  ','ineuron',12312)\")\n",
    "cursor.execute(\"insert into test1.worker values (2,'ram  ','ineuron',3411)\")\n",
    "cursor.execute(\"insert into test1.worker values (3,'mohan','ineuron',45345)\")\n",
    "cursor.execute(\"insert into test1.worker values (4,'sam','ineuron',55345)\")\n",
    "cursor.execute(\"insert into test1.worker values (5,'robin','ineuron',5345)\")\n",
    "mydb.commit()"
   ]
  },
  {
   "cell_type": "code",
   "execution_count": 7,
   "id": "9097a625",
   "metadata": {},
   "outputs": [
    {
     "data": {
      "text/plain": [
       "[(1, 'soham  ', 'ineuron', 12312),\n",
       " (2, 'ram  ', 'ineuron', 3411),\n",
       " (3, 'mohan', 'ineuron', 45345),\n",
       " (4, 'sam', 'ineuron', 55345),\n",
       " (5, 'robin', 'ineuron', 5345)]"
      ]
     },
     "execution_count": 7,
     "metadata": {},
     "output_type": "execute_result"
    }
   ],
   "source": [
    "cursor.execute(\"select * from test1.worker\")\n",
    "cursor.fetchall()"
   ]
  },
  {
   "cell_type": "markdown",
   "id": "7e59a92c",
   "metadata": {},
   "source": [
    "# Q-1. Write an SQL query to print the FIRST_NAME from Worker table after replacing ‘a’ with ‘A’.\n"
   ]
  },
  {
   "cell_type": "code",
   "execution_count": 8,
   "id": "7972201c",
   "metadata": {},
   "outputs": [],
   "source": [
    "cursor.execute(\"update test1.worker set FIRST_NAME  = replace(FIRST_NAME,'a','A')\")"
   ]
  },
  {
   "cell_type": "code",
   "execution_count": 9,
   "id": "378ec63c",
   "metadata": {},
   "outputs": [],
   "source": [
    "mydb.commit()"
   ]
  },
  {
   "cell_type": "code",
   "execution_count": 10,
   "id": "fc60f05c",
   "metadata": {},
   "outputs": [
    {
     "data": {
      "text/plain": [
       "[('sohAm  ',), ('rAm  ',), ('mohAn',), ('sAm',), ('robin',)]"
      ]
     },
     "execution_count": 10,
     "metadata": {},
     "output_type": "execute_result"
    }
   ],
   "source": [
    "cursor.execute(\"select FIRST_NAME from test1.worker\")\n",
    "cursor.fetchall()"
   ]
  },
  {
   "cell_type": "markdown",
   "id": "8804d581",
   "metadata": {},
   "source": [
    "# Q-2. Write an SQL query to print all Worker details from the Worker table order by FIRST_NAME Ascending and DEPARTMENT Descending.\n"
   ]
  },
  {
   "cell_type": "code",
   "execution_count": 11,
   "id": "93e96311",
   "metadata": {},
   "outputs": [],
   "source": [
    "cursor.execute(\"select * from test1.worker order by FIRST_NAME,DEPARTMENT desc\")"
   ]
  },
  {
   "cell_type": "code",
   "execution_count": 12,
   "id": "05576bf0",
   "metadata": {},
   "outputs": [
    {
     "data": {
      "text/plain": [
       "[(3, 'mohAn', 'ineuron', 45345),\n",
       " (2, 'rAm  ', 'ineuron', 3411),\n",
       " (5, 'robin', 'ineuron', 5345),\n",
       " (4, 'sAm', 'ineuron', 55345),\n",
       " (1, 'sohAm  ', 'ineuron', 12312)]"
      ]
     },
     "execution_count": 12,
     "metadata": {},
     "output_type": "execute_result"
    }
   ],
   "source": [
    "cursor.fetchall()"
   ]
  },
  {
   "cell_type": "markdown",
   "id": "2327b3e8",
   "metadata": {},
   "source": [
    "# Q-3. Write an SQL query to fetch the names of workers who earn the highest salary.\n"
   ]
  },
  {
   "cell_type": "code",
   "execution_count": 13,
   "id": "07357ea3",
   "metadata": {},
   "outputs": [
    {
     "data": {
      "text/plain": [
       "[('sohAm  ', 55345)]"
      ]
     },
     "execution_count": 13,
     "metadata": {},
     "output_type": "execute_result"
    }
   ],
   "source": [
    "cursor.execute(\"select FIRST_NAME,max(SALARY) as salary from test1.worker\")\n",
    "cursor.fetchall()"
   ]
  },
  {
   "cell_type": "code",
   "execution_count": 14,
   "id": "90f5f3d8",
   "metadata": {},
   "outputs": [],
   "source": [
    "cursor.close()\n",
    "mydb.close()"
   ]
  },
  {
   "cell_type": "code",
   "execution_count": null,
   "id": "24d096b2",
   "metadata": {},
   "outputs": [],
   "source": []
  }
 ],
 "metadata": {
  "kernelspec": {
   "display_name": "Python 3 (ipykernel)",
   "language": "python",
   "name": "python3"
  },
  "language_info": {
   "codemirror_mode": {
    "name": "ipython",
    "version": 3
   },
   "file_extension": ".py",
   "mimetype": "text/x-python",
   "name": "python",
   "nbconvert_exporter": "python",
   "pygments_lexer": "ipython3",
   "version": "3.8.12"
  }
 },
 "nbformat": 4,
 "nbformat_minor": 5
}
