{
 "cells": [
  {
   "cell_type": "markdown",
   "id": "6d1bba92",
   "metadata": {},
   "source": [
    "# Preprocessing"
   ]
  },
  {
   "cell_type": "code",
   "execution_count": 25,
   "id": "c28f8928",
   "metadata": {},
   "outputs": [],
   "source": [
    "import mysql.connector as conn \n",
    "mydb = conn.connect(host='localhost',user='root',passwd='root')"
   ]
  },
  {
   "cell_type": "code",
   "execution_count": 26,
   "id": "15ed6d2a",
   "metadata": {},
   "outputs": [],
   "source": [
    "cursor = mydb.cursor(buffered=True)"
   ]
  },
  {
   "cell_type": "code",
   "execution_count": 27,
   "id": "b3d0c7f5",
   "metadata": {},
   "outputs": [],
   "source": [
    "#Create database\n",
    "cursor.execute(\"create database test1\")"
   ]
  },
  {
   "cell_type": "code",
   "execution_count": 28,
   "id": "fc003a00",
   "metadata": {},
   "outputs": [
    {
     "data": {
      "text/plain": [
       "[('information_schema',),\n",
       " ('mysql',),\n",
       " ('performance_schema',),\n",
       " ('sakila',),\n",
       " ('sys',),\n",
       " ('test1',),\n",
       " ('testsudh',),\n",
       " ('world',)]"
      ]
     },
     "execution_count": 28,
     "metadata": {},
     "output_type": "execute_result"
    }
   ],
   "source": [
    "cursor.execute(\"show databases\")\n",
    "cursor.fetchall()"
   ]
  },
  {
   "cell_type": "code",
   "execution_count": 29,
   "id": "484d5105",
   "metadata": {},
   "outputs": [
    {
     "data": {
      "text/plain": [
       "[('worker',)]"
      ]
     },
     "execution_count": 29,
     "metadata": {},
     "output_type": "execute_result"
    }
   ],
   "source": [
    "#create table\n",
    "cursor.execute(\"use test1\")\n",
    "cursor.execute(\"create table test1.worker(workerid INT(10),F_NAME VARCHAR(10),L_NAME VARCHAR(10),join_date DATE)\")\n",
    "cursor.execute(\"show tables\")\n",
    "cursor.fetchall()"
   ]
  },
  {
   "cell_type": "code",
   "execution_count": 30,
   "id": "7dffbe06",
   "metadata": {},
   "outputs": [],
   "source": [
    "#insert data\n",
    "cursor.execute(\"insert into test1.worker values (1,'soham','kundu','2017-12-27')\")\n",
    "cursor.execute(\"insert into test1.worker values (2,'ram','kumar','2015-2-20')\")\n",
    "cursor.execute(\"insert into test1.worker values (3,'ram','khanna','2014-2-10')\")\n",
    "mydb.commit()"
   ]
  },
  {
   "cell_type": "code",
   "execution_count": 31,
   "id": "07ce7334",
   "metadata": {},
   "outputs": [
    {
     "data": {
      "text/plain": [
       "[(1, 'soham', 'kundu', datetime.date(2017, 12, 27)),\n",
       " (2, 'ram', 'kumar', datetime.date(2015, 2, 20)),\n",
       " (3, 'ram', 'khanna', datetime.date(2014, 2, 10))]"
      ]
     },
     "execution_count": 31,
     "metadata": {},
     "output_type": "execute_result"
    }
   ],
   "source": [
    "cursor.execute(\"select * from test1.worker\")\n",
    "cursor.fetchall()"
   ]
  },
  {
   "cell_type": "markdown",
   "id": "0fb72787",
   "metadata": {},
   "source": [
    "# Q-1. Write an SQL query to print details of the Workers who have joined in Feb’2014.\n"
   ]
  },
  {
   "cell_type": "code",
   "execution_count": 32,
   "id": "0184fec3",
   "metadata": {},
   "outputs": [
    {
     "data": {
      "text/plain": [
       "[(3, 'ram', 'khanna', datetime.date(2014, 2, 10))]"
      ]
     },
     "execution_count": 32,
     "metadata": {},
     "output_type": "execute_result"
    }
   ],
   "source": [
    "cursor.execute(\"select * from test1.worker where year(join_date) =2014 and month(join_date)=2 \")\n",
    "cursor.fetchall()"
   ]
  },
  {
   "cell_type": "markdown",
   "id": "93c43e47",
   "metadata": {},
   "source": [
    "# Q-2. Write an SQL query to fetch duplicate records having matching data in some fields of a table"
   ]
  },
  {
   "cell_type": "code",
   "execution_count": 33,
   "id": "74dd06d1",
   "metadata": {},
   "outputs": [
    {
     "data": {
      "text/plain": [
       "[('ram', 2)]"
      ]
     },
     "execution_count": 33,
     "metadata": {},
     "output_type": "execute_result"
    }
   ],
   "source": [
    "cursor.execute(\"select F_NAME,count(*) from test1.worker group by F_NAME having count(*) > 1\")\n",
    "cursor.fetchall()"
   ]
  },
  {
   "cell_type": "code",
   "execution_count": 35,
   "id": "897953fa",
   "metadata": {},
   "outputs": [
    {
     "data": {
      "text/plain": [
       "[(2, 'ram', 'kumar', datetime.date(2015, 2, 20)),\n",
       " (3, 'ram', 'khanna', datetime.date(2014, 2, 10))]"
      ]
     },
     "execution_count": 35,
     "metadata": {},
     "output_type": "execute_result"
    }
   ],
   "source": [
    "cursor.execute(\"\"\"select a.* from test1.worker a join(select F_NAME,count(*) from \n",
    "                 test1.worker group by F_NAME having count(*) > 1) b on a.F_NAME =b.F_NAME\"\"\")\n",
    "cursor.fetchall()"
   ]
  },
  {
   "cell_type": "markdown",
   "id": "9189f5ff",
   "metadata": {},
   "source": [
    "# Q-3. How to remove duplicate rows from Employees table.\n"
   ]
  },
  {
   "cell_type": "code",
   "execution_count": 36,
   "id": "9ab7456f",
   "metadata": {},
   "outputs": [
    {
     "data": {
      "text/plain": [
       "[(1, 'soham', 'kundu', datetime.date(2017, 12, 27)),\n",
       " (2, 'ram', 'kumar', datetime.date(2015, 2, 20)),\n",
       " (3, 'ram', 'khanna', datetime.date(2014, 2, 10))]"
      ]
     },
     "execution_count": 36,
     "metadata": {},
     "output_type": "execute_result"
    }
   ],
   "source": [
    "cursor.execute(\"select * from test1.worker\")\n",
    "cursor.fetchall()"
   ]
  },
  {
   "cell_type": "code",
   "execution_count": 38,
   "id": "b13e8840",
   "metadata": {},
   "outputs": [],
   "source": [
    "#just for convenience using the same worker table\n",
    "cursor.execute(\"delete r1 from test1.worker as r1 inner join test1.worker as r2 where r1.workerid < r2.workerid and r1.F_NAME = r2.F_NAME\")"
   ]
  },
  {
   "cell_type": "code",
   "execution_count": 39,
   "id": "d1694c9b",
   "metadata": {},
   "outputs": [
    {
     "data": {
      "text/plain": [
       "[(1, 'soham', 'kundu', datetime.date(2017, 12, 27)),\n",
       " (3, 'ram', 'khanna', datetime.date(2014, 2, 10))]"
      ]
     },
     "execution_count": 39,
     "metadata": {},
     "output_type": "execute_result"
    }
   ],
   "source": [
    "cursor.execute(\"select * from test1.worker\")\n",
    "cursor.fetchall()"
   ]
  },
  {
   "cell_type": "code",
   "execution_count": 40,
   "id": "cc41fbea",
   "metadata": {},
   "outputs": [],
   "source": [
    "cursor.close()\n",
    "mydb.close()"
   ]
  },
  {
   "cell_type": "code",
   "execution_count": null,
   "id": "4ca014dd",
   "metadata": {},
   "outputs": [],
   "source": []
  }
 ],
 "metadata": {
  "kernelspec": {
   "display_name": "Python 3 (ipykernel)",
   "language": "python",
   "name": "python3"
  },
  "language_info": {
   "codemirror_mode": {
    "name": "ipython",
    "version": 3
   },
   "file_extension": ".py",
   "mimetype": "text/x-python",
   "name": "python",
   "nbconvert_exporter": "python",
   "pygments_lexer": "ipython3",
   "version": "3.8.12"
  }
 },
 "nbformat": 4,
 "nbformat_minor": 5
}
