{
 "cells": [
  {
   "cell_type": "markdown",
   "id": "231c76f2",
   "metadata": {},
   "source": [
    "# Preprocessing"
   ]
  },
  {
   "cell_type": "code",
   "execution_count": 14,
   "id": "7383528f",
   "metadata": {},
   "outputs": [],
   "source": [
    "import mysql.connector as conn \n",
    "mydb = conn.connect(host='localhost',user='root',passwd='root')"
   ]
  },
  {
   "cell_type": "code",
   "execution_count": 15,
   "id": "6b969891",
   "metadata": {},
   "outputs": [],
   "source": [
    "cursor = mydb.cursor(buffered=True)"
   ]
  },
  {
   "cell_type": "code",
   "execution_count": 16,
   "id": "d13ea505",
   "metadata": {},
   "outputs": [],
   "source": [
    "#Create database\n",
    "cursor.execute(\"create database test1\")"
   ]
  },
  {
   "cell_type": "code",
   "execution_count": 17,
   "id": "49b47bbf",
   "metadata": {},
   "outputs": [
    {
     "data": {
      "text/plain": [
       "[('information_schema',),\n",
       " ('mysql',),\n",
       " ('performance_schema',),\n",
       " ('sakila',),\n",
       " ('sys',),\n",
       " ('test1',),\n",
       " ('testsudh',),\n",
       " ('world',)]"
      ]
     },
     "execution_count": 17,
     "metadata": {},
     "output_type": "execute_result"
    }
   ],
   "source": [
    "cursor.execute(\"show databases\")\n",
    "cursor.fetchall()"
   ]
  },
  {
   "cell_type": "code",
   "execution_count": 18,
   "id": "befd93b1",
   "metadata": {},
   "outputs": [
    {
     "data": {
      "text/plain": [
       "[('worker',)]"
      ]
     },
     "execution_count": 18,
     "metadata": {},
     "output_type": "execute_result"
    }
   ],
   "source": [
    "#create table\n",
    "cursor.execute(\"use test1\")\n",
    "cursor.execute(\"create table test1.worker(workerid INT(10),F_NAME VARCHAR(10),SALARy int(10),primary key(workerid))\")\n",
    "cursor.execute(\"show tables\")\n",
    "cursor.fetchall()"
   ]
  },
  {
   "cell_type": "code",
   "execution_count": 19,
   "id": "b096d3db",
   "metadata": {},
   "outputs": [],
   "source": [
    "#insert data\n",
    "cursor.execute(\"insert into test1.worker values (1,'soham',5000)\")\n",
    "cursor.execute(\"insert into test1.worker values (2,'ram',4000)\")\n",
    "cursor.execute(\"insert into test1.worker values (3,'shyam',6500)\")\n",
    "cursor.execute(\"insert into test1.worker values (4,'robin',5700)\")\n",
    "cursor.execute(\"insert into test1.worker values (5,'batman',8200)\")\n",
    "mydb.commit()"
   ]
  },
  {
   "cell_type": "code",
   "execution_count": 20,
   "id": "eadef42b",
   "metadata": {},
   "outputs": [],
   "source": [
    "#insert data\n",
    "cursor.execute(\"insert into test1.worker values (6,'jadhu',2000)\")\n",
    "cursor.execute(\"insert into test1.worker values (7,'madhu',3500)\")\n",
    "cursor.execute(\"insert into test1.worker values (8,'saraswati',4300)\")\n",
    "cursor.execute(\"insert into test1.worker values (9,'vishnu',7800)\")\n",
    "cursor.execute(\"insert into test1.worker values (10,'somesh',8100)\")\n",
    "cursor.execute(\"insert into test1.worker values (11,'sudesh',9100)\")\n",
    "\n",
    "mydb.commit()"
   ]
  },
  {
   "cell_type": "code",
   "execution_count": 21,
   "id": "29f9e51c",
   "metadata": {},
   "outputs": [
    {
     "data": {
      "text/plain": [
       "[(1, 'soham', 5000),\n",
       " (2, 'ram', 4000),\n",
       " (3, 'shyam', 6500),\n",
       " (4, 'robin', 5700),\n",
       " (5, 'batman', 8200),\n",
       " (6, 'jadhu', 2000),\n",
       " (7, 'madhu', 3500),\n",
       " (8, 'saraswati', 4300),\n",
       " (9, 'vishnu', 7800),\n",
       " (10, 'somesh', 8100),\n",
       " (11, 'sudesh', 9100)]"
      ]
     },
     "execution_count": 21,
     "metadata": {},
     "output_type": "execute_result"
    }
   ],
   "source": [
    "cursor.execute(\"select * from test1.worker\")\n",
    "cursor.fetchall()"
   ]
  },
  {
   "cell_type": "markdown",
   "id": "371a0643",
   "metadata": {},
   "source": [
    "# Q-1.  Write an SQL query to show the top n (say 10) records of a table.\n"
   ]
  },
  {
   "cell_type": "code",
   "execution_count": 22,
   "id": "2ba42e59",
   "metadata": {},
   "outputs": [],
   "source": [
    "cursor.execute(\"select * from test1.worker limit 10\")"
   ]
  },
  {
   "cell_type": "code",
   "execution_count": 23,
   "id": "b9ca3868",
   "metadata": {},
   "outputs": [
    {
     "data": {
      "text/plain": [
       "[(1, 'soham', 5000),\n",
       " (2, 'ram', 4000),\n",
       " (3, 'shyam', 6500),\n",
       " (4, 'robin', 5700),\n",
       " (5, 'batman', 8200),\n",
       " (6, 'jadhu', 2000),\n",
       " (7, 'madhu', 3500),\n",
       " (8, 'saraswati', 4300),\n",
       " (9, 'vishnu', 7800),\n",
       " (10, 'somesh', 8100)]"
      ]
     },
     "execution_count": 23,
     "metadata": {},
     "output_type": "execute_result"
    }
   ],
   "source": [
    "cursor.fetchall()"
   ]
  },
  {
   "cell_type": "markdown",
   "id": "96ec341e",
   "metadata": {},
   "source": [
    "# Q-2. Write an SQL query to determine the nth (say n=5) highest salary from a table."
   ]
  },
  {
   "cell_type": "code",
   "execution_count": 29,
   "id": "720475a6",
   "metadata": {},
   "outputs": [],
   "source": [
    "cursor.execute(\"select distinct SALARY from test1.worker order by SALARY desc limit 1 offset 4\")"
   ]
  },
  {
   "cell_type": "code",
   "execution_count": 30,
   "id": "f0449be8",
   "metadata": {},
   "outputs": [
    {
     "data": {
      "text/plain": [
       "[(6500,)]"
      ]
     },
     "execution_count": 30,
     "metadata": {},
     "output_type": "execute_result"
    }
   ],
   "source": [
    "cursor.fetchall()"
   ]
  },
  {
   "cell_type": "code",
   "execution_count": 31,
   "id": "7663e744",
   "metadata": {},
   "outputs": [],
   "source": [
    "cursor.close()\n",
    "mydb.close()"
   ]
  },
  {
   "cell_type": "code",
   "execution_count": null,
   "id": "660842ec",
   "metadata": {},
   "outputs": [],
   "source": []
  }
 ],
 "metadata": {
  "kernelspec": {
   "display_name": "Python 3 (ipykernel)",
   "language": "python",
   "name": "python3"
  },
  "language_info": {
   "codemirror_mode": {
    "name": "ipython",
    "version": 3
   },
   "file_extension": ".py",
   "mimetype": "text/x-python",
   "name": "python",
   "nbconvert_exporter": "python",
   "pygments_lexer": "ipython3",
   "version": "3.8.12"
  }
 },
 "nbformat": 4,
 "nbformat_minor": 5
}
