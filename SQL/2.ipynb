{
 "cells": [
  {
   "cell_type": "markdown",
   "id": "2478fcfe",
   "metadata": {},
   "source": [
    "# Pre-processing"
   ]
  },
  {
   "cell_type": "code",
   "execution_count": 2,
   "id": "9e9e2c76",
   "metadata": {},
   "outputs": [],
   "source": [
    "import mysql.connector as conn \n",
    "mydb = conn.connect(host='localhost',user='root',passwd='root')"
   ]
  },
  {
   "cell_type": "code",
   "execution_count": 3,
   "id": "cb8c2596",
   "metadata": {},
   "outputs": [],
   "source": [
    "cursor = mydb.cursor()"
   ]
  },
  {
   "cell_type": "code",
   "execution_count": 4,
   "id": "3125afef",
   "metadata": {},
   "outputs": [],
   "source": [
    "#Create database\n",
    "cursor.execute(\"create database test1\")"
   ]
  },
  {
   "cell_type": "code",
   "execution_count": 5,
   "id": "7f90ec51",
   "metadata": {},
   "outputs": [],
   "source": [
    "cursor.execute(\"show databases\")"
   ]
  },
  {
   "cell_type": "code",
   "execution_count": 6,
   "id": "8de23e39",
   "metadata": {},
   "outputs": [
    {
     "data": {
      "text/plain": [
       "[('information_schema',),\n",
       " ('mysql',),\n",
       " ('performance_schema',),\n",
       " ('sakila',),\n",
       " ('sys',),\n",
       " ('test1',),\n",
       " ('testsudh',),\n",
       " ('world',)]"
      ]
     },
     "execution_count": 6,
     "metadata": {},
     "output_type": "execute_result"
    }
   ],
   "source": [
    "cursor.fetchall()"
   ]
  },
  {
   "cell_type": "code",
   "execution_count": 7,
   "id": "7b9e23f3",
   "metadata": {},
   "outputs": [
    {
     "data": {
      "text/plain": [
       "[('worker',)]"
      ]
     },
     "execution_count": 7,
     "metadata": {},
     "output_type": "execute_result"
    }
   ],
   "source": [
    "#create table\n",
    "cursor.execute(\"use test1\")\n",
    "cursor.execute(\"create table test1.worker(workerid INT(10),FIRST_NAME VARCHAR(30),DEPARTMENT VARCHAR(30))\")\n",
    "cursor.execute(\"show tables\")\n",
    "cursor.fetchall()"
   ]
  },
  {
   "cell_type": "code",
   "execution_count": 8,
   "id": "285e45b4",
   "metadata": {},
   "outputs": [],
   "source": [
    "#insert data\n",
    "cursor.execute(\"insert into test1.worker values (1,'soham','ineuron')\")\n",
    "cursor.execute(\"insert into test1.worker values (2,'ram','ineuron')\")\n",
    "cursor.execute(\"insert into test1.worker values (3,'mohan','ineuron')\")\n",
    "cursor.execute(\"insert into test1.worker values (4,'soham','ineuron')\")\n",
    "cursor.execute(\"insert into test1.worker values (5,'ram','ineuron')\")\n",
    "cursor.execute(\"insert into test1.worker values (6,'mohan','ineuron')\")\n",
    "mydb.commit()"
   ]
  },
  {
   "cell_type": "markdown",
   "id": "b5a186d3",
   "metadata": {},
   "source": [
    "# Q-1. Write an SQL query to print the first three characters of  FIRST_NAME from Worker table.\n"
   ]
  },
  {
   "cell_type": "code",
   "execution_count": 9,
   "id": "60ab2ec4",
   "metadata": {},
   "outputs": [
    {
     "data": {
      "text/plain": [
       "[('soh',), ('ram',), ('moh',), ('soh',), ('ram',), ('moh',)]"
      ]
     },
     "execution_count": 9,
     "metadata": {},
     "output_type": "execute_result"
    }
   ],
   "source": [
    "cursor.execute(\"select substring(First_Name,1,3) from test1.worker\")\n",
    "cursor.fetchall()"
   ]
  },
  {
   "cell_type": "markdown",
   "id": "41c8dc31",
   "metadata": {},
   "source": [
    "#  Q-2. Write an SQL query to find the position of the alphabet (‘a’) in the first name column ‘Amitabh’ from Worker table.\n"
   ]
  },
  {
   "cell_type": "code",
   "execution_count": 10,
   "id": "c5684ab2",
   "metadata": {},
   "outputs": [],
   "source": [
    "cursor.execute(\"insert into test1.worker values (6,'Amitabh','ineuron')\")\n",
    "mydb.commit()"
   ]
  },
  {
   "cell_type": "code",
   "execution_count": 12,
   "id": "a9b9b0e9",
   "metadata": {},
   "outputs": [
    {
     "data": {
      "text/plain": [
       "[('soham',),\n",
       " ('ram',),\n",
       " ('mohan',),\n",
       " ('soham',),\n",
       " ('ram',),\n",
       " ('mohan',),\n",
       " ('Amitabh',)]"
      ]
     },
     "execution_count": 12,
     "metadata": {},
     "output_type": "execute_result"
    }
   ],
   "source": [
    "cursor.execute(\"select FIRST_NAME as WORKER_NAME from test1.worker\")\n",
    "cursor.fetchall()"
   ]
  },
  {
   "cell_type": "code",
   "execution_count": 13,
   "id": "eaaa9b1e",
   "metadata": {},
   "outputs": [
    {
     "data": {
      "text/plain": [
       "[(4,), (2,), (4,), (4,), (2,), (4,), (1,)]"
      ]
     },
     "execution_count": 13,
     "metadata": {},
     "output_type": "execute_result"
    }
   ],
   "source": [
    "cursor.execute(\"select position('a' in FIRST_NAME) from test1.worker\")\n",
    "cursor.fetchall()"
   ]
  },
  {
   "cell_type": "markdown",
   "id": "24c228b1",
   "metadata": {},
   "source": [
    "# Q-3. Write an SQL query to print the name of employees having the highest salary in each department.\n"
   ]
  },
  {
   "cell_type": "code",
   "execution_count": 14,
   "id": "f7fa483b",
   "metadata": {},
   "outputs": [],
   "source": [
    "cursor.execute(\"alter table test1.worker add salary INT(10)\")\n",
    "mydb.commit()"
   ]
  },
  {
   "cell_type": "code",
   "execution_count": 15,
   "id": "7b6a2da9",
   "metadata": {},
   "outputs": [],
   "source": [
    "#insert data\n",
    "cursor.execute(\"insert into test1.worker values (7,'soham','ineuron',1000)\")\n",
    "cursor.execute(\"insert into test1.worker values (8,'ram','ineuron',1200)\")\n",
    "cursor.execute(\"insert into test1.worker values (9,'mohan','ineuron',500)\")\n",
    "cursor.execute(\"insert into test1.worker values (10,'soham','ineuron',1100)\")\n",
    "cursor.execute(\"insert into test1.worker values (11,'ram','ineuron',1231321)\")\n",
    "cursor.execute(\"insert into test1.worker values (12,'mohan','ineuron',200)\")\n",
    "mydb.commit()"
   ]
  },
  {
   "cell_type": "code",
   "execution_count": 16,
   "id": "55287ec8",
   "metadata": {},
   "outputs": [
    {
     "data": {
      "text/plain": [
       "[('ram',)]"
      ]
     },
     "execution_count": 16,
     "metadata": {},
     "output_type": "execute_result"
    }
   ],
   "source": [
    "cursor.execute(\"select FIRST_NAME from test1.worker where salary=(select max(salary) from test1.worker)\")\n",
    "cursor.fetchall()"
   ]
  },
  {
   "cell_type": "code",
   "execution_count": null,
   "id": "a34a40ed",
   "metadata": {},
   "outputs": [],
   "source": []
  }
 ],
 "metadata": {
  "kernelspec": {
   "display_name": "Python 3 (ipykernel)",
   "language": "python",
   "name": "python3"
  },
  "language_info": {
   "codemirror_mode": {
    "name": "ipython",
    "version": 3
   },
   "file_extension": ".py",
   "mimetype": "text/x-python",
   "name": "python",
   "nbconvert_exporter": "python",
   "pygments_lexer": "ipython3",
   "version": "3.8.12"
  }
 },
 "nbformat": 4,
 "nbformat_minor": 5
}
