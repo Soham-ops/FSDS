{
 "cells": [
  {
   "cell_type": "markdown",
   "id": "c239fc86",
   "metadata": {},
   "source": [
    "# Preprocessing "
   ]
  },
  {
   "cell_type": "code",
   "execution_count": 1,
   "id": "2f72a614",
   "metadata": {},
   "outputs": [],
   "source": [
    "import mysql.connector as conn\n",
    "mydb = conn.connect(host='localhost',user='root',passwd = 'root')"
   ]
  },
  {
   "cell_type": "code",
   "execution_count": 2,
   "id": "9d1171fc",
   "metadata": {},
   "outputs": [],
   "source": [
    "cursor = mydb.cursor()"
   ]
  },
  {
   "cell_type": "code",
   "execution_count": 18,
   "id": "f2ca1841",
   "metadata": {},
   "outputs": [],
   "source": [
    "#Create database\n",
    "cursor.execute(\"create database test1\")"
   ]
  },
  {
   "cell_type": "code",
   "execution_count": 19,
   "id": "89adf568",
   "metadata": {},
   "outputs": [
    {
     "data": {
      "text/plain": [
       "[('information_schema',),\n",
       " ('mysql',),\n",
       " ('performance_schema',),\n",
       " ('sakila',),\n",
       " ('sys',),\n",
       " ('test1',),\n",
       " ('testsudh',),\n",
       " ('world',)]"
      ]
     },
     "execution_count": 19,
     "metadata": {},
     "output_type": "execute_result"
    }
   ],
   "source": [
    "cursor.execute(\"show databases\")\n",
    "cursor.fetchall()"
   ]
  },
  {
   "cell_type": "code",
   "execution_count": 20,
   "id": "6521d7ad",
   "metadata": {},
   "outputs": [
    {
     "data": {
      "text/plain": [
       "[('worker',)]"
      ]
     },
     "execution_count": 20,
     "metadata": {},
     "output_type": "execute_result"
    }
   ],
   "source": [
    "#create table\n",
    "cursor.execute(\"use test1\")\n",
    "cursor.execute(\"create table test1.worker(workerid INT(10),FIRST_NAME VARCHAR(30),emailid VARCHAR(30))\")\n",
    "cursor.execute(\"show tables\")\n",
    "cursor.fetchall()"
   ]
  },
  {
   "cell_type": "code",
   "execution_count": 21,
   "id": "ecfa3b08",
   "metadata": {},
   "outputs": [],
   "source": [
    "#insert data\n",
    "cursor.execute(\"insert into test1.worker values (1,'soham','soham@ineuron.ai')\")\n",
    "cursor.execute(\"insert into test1.worker values (2,'ram','ram@gmail.com')\")\n",
    "cursor.execute(\"insert into test1.worker values (3,'vipul','vipul@yahoo.com')\")\n",
    "cursor.execute(\"insert into test1.worker values (4,'satish','satish@yahoo.com')\")\n",
    "mydb.commit()"
   ]
  },
  {
   "cell_type": "code",
   "execution_count": 22,
   "id": "8c4d9df1",
   "metadata": {},
   "outputs": [
    {
     "data": {
      "text/plain": [
       "[(1, 'soham', 'soham@ineuron.ai'),\n",
       " (2, 'ram', 'ram@gmail.com'),\n",
       " (3, 'vipul', 'vipul@yahoo.com'),\n",
       " (4, 'satish', 'satish@yahoo.com')]"
      ]
     },
     "execution_count": 22,
     "metadata": {},
     "output_type": "execute_result"
    }
   ],
   "source": [
    "cursor.execute(\"select * from test1.worker\")\n",
    "cursor.fetchall()"
   ]
  },
  {
   "cell_type": "markdown",
   "id": "7a054ece",
   "metadata": {},
   "source": [
    "# Q-1. Write an SQL query to print details of workers excluding first names, “Vipul” and “Satish” from Worker table.\n"
   ]
  },
  {
   "cell_type": "code",
   "execution_count": 23,
   "id": "66a33749",
   "metadata": {},
   "outputs": [
    {
     "data": {
      "text/plain": [
       "[(1, 'soham', 'soham@ineuron.ai'), (2, 'ram', 'ram@gmail.com')]"
      ]
     },
     "execution_count": 23,
     "metadata": {},
     "output_type": "execute_result"
    }
   ],
   "source": [
    "cursor.execute(\"select * from test1.worker where FIRST_NAME not in ('vipul','satish')\")\n",
    "cursor.fetchall()"
   ]
  },
  {
   "cell_type": "markdown",
   "id": "689865c8",
   "metadata": {},
   "source": [
    "# Q-2. Write an SQL query to print details of the Workers whose FIRST_NAME ends with ‘h’ and contains six alphabets.\n"
   ]
  },
  {
   "cell_type": "code",
   "execution_count": 25,
   "id": "b60f02de",
   "metadata": {},
   "outputs": [
    {
     "data": {
      "text/plain": [
       "[(4, 'satish', 'satish@yahoo.com')]"
      ]
     },
     "execution_count": 25,
     "metadata": {},
     "output_type": "execute_result"
    }
   ],
   "source": [
    "cursor.execute(\"select * from test1.worker where FIRST_NAME like '_____h'\")\n",
    "cursor.fetchall()"
   ]
  },
  {
   "cell_type": "markdown",
   "id": "b2e6789a",
   "metadata": {},
   "source": [
    "# Q-3. Write a query to validate Email of Employee.\n"
   ]
  },
  {
   "cell_type": "code",
   "execution_count": 26,
   "id": "c95818d2",
   "metadata": {},
   "outputs": [
    {
     "data": {
      "text/plain": [
       "[]"
      ]
     },
     "execution_count": 26,
     "metadata": {},
     "output_type": "execute_result"
    }
   ],
   "source": [
    "cursor.execute(\"select * from test1.worker where emailid not like '%_@__%.__%'\")\n",
    "cursor.fetchall()"
   ]
  },
  {
   "cell_type": "code",
   "execution_count": 3,
   "id": "2fa24e8d",
   "metadata": {},
   "outputs": [],
   "source": [
    "cursor.close()\n",
    "mydb.close()"
   ]
  },
  {
   "cell_type": "code",
   "execution_count": null,
   "id": "13c7b952",
   "metadata": {},
   "outputs": [],
   "source": []
  }
 ],
 "metadata": {
  "kernelspec": {
   "display_name": "Python 3 (ipykernel)",
   "language": "python",
   "name": "python3"
  },
  "language_info": {
   "codemirror_mode": {
    "name": "ipython",
    "version": 3
   },
   "file_extension": ".py",
   "mimetype": "text/x-python",
   "name": "python",
   "nbconvert_exporter": "python",
   "pygments_lexer": "ipython3",
   "version": "3.8.12"
  }
 },
 "nbformat": 4,
 "nbformat_minor": 5
}
