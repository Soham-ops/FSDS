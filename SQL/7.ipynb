{
 "cells": [
  {
   "cell_type": "markdown",
   "id": "7472eec9",
   "metadata": {},
   "source": [
    "# Preprocessing"
   ]
  },
  {
   "cell_type": "code",
   "execution_count": 1,
   "id": "24dc53fd",
   "metadata": {},
   "outputs": [],
   "source": [
    "import mysql.connector as conn \n",
    "mydb = conn.connect(host='localhost',user='root',passwd='root')"
   ]
  },
  {
   "cell_type": "code",
   "execution_count": 2,
   "id": "417765be",
   "metadata": {},
   "outputs": [],
   "source": [
    "cursor = mydb.cursor(buffered=True)"
   ]
  },
  {
   "cell_type": "code",
   "execution_count": 3,
   "id": "4618a91f",
   "metadata": {},
   "outputs": [],
   "source": [
    "#Create database\n",
    "cursor.execute(\"create database test1\")"
   ]
  },
  {
   "cell_type": "code",
   "execution_count": 4,
   "id": "bc914a6c",
   "metadata": {},
   "outputs": [
    {
     "data": {
      "text/plain": [
       "[('information_schema',),\n",
       " ('mysql',),\n",
       " ('performance_schema',),\n",
       " ('sakila',),\n",
       " ('sys',),\n",
       " ('test1',),\n",
       " ('testsudh',),\n",
       " ('world',)]"
      ]
     },
     "execution_count": 4,
     "metadata": {},
     "output_type": "execute_result"
    }
   ],
   "source": [
    "cursor.execute(\"show databases\")\n",
    "cursor.fetchall()"
   ]
  },
  {
   "cell_type": "code",
   "execution_count": 5,
   "id": "3f0d035d",
   "metadata": {},
   "outputs": [
    {
     "data": {
      "text/plain": [
       "[('worker',)]"
      ]
     },
     "execution_count": 5,
     "metadata": {},
     "output_type": "execute_result"
    }
   ],
   "source": [
    "#create table\n",
    "cursor.execute(\"use test1\")\n",
    "cursor.execute(\"create table test1.worker(workerid INT(10),F_NAME VARCHAR(10))\")\n",
    "cursor.execute(\"show tables\")\n",
    "cursor.fetchall()"
   ]
  },
  {
   "cell_type": "code",
   "execution_count": 6,
   "id": "59a7dd3e",
   "metadata": {},
   "outputs": [],
   "source": [
    "#insert data\n",
    "cursor.execute(\"insert into test1.worker values (1,'soham')\")\n",
    "cursor.execute(\"insert into test1.worker values (2,'ram')\")\n",
    "cursor.execute(\"insert into test1.worker values (3,'shyam')\")\n",
    "cursor.execute(\"insert into test1.worker values (4,'robin')\")\n",
    "cursor.execute(\"insert into test1.worker values (5,'batman')\")\n",
    "\n",
    "\n",
    "mydb.commit()"
   ]
  },
  {
   "cell_type": "code",
   "execution_count": 7,
   "id": "dac3d3fe",
   "metadata": {},
   "outputs": [
    {
     "data": {
      "text/plain": [
       "[(1, 'soham'), (2, 'ram'), (3, 'shyam'), (4, 'robin'), (5, 'batman')]"
      ]
     },
     "execution_count": 7,
     "metadata": {},
     "output_type": "execute_result"
    }
   ],
   "source": [
    "cursor.execute(\"select * from test1.worker\")\n",
    "cursor.fetchall()"
   ]
  },
  {
   "cell_type": "markdown",
   "id": "24274486",
   "metadata": {},
   "source": [
    "# Q-1. Write an SQL query to show only odd rows from a table.\n"
   ]
  },
  {
   "cell_type": "code",
   "execution_count": 8,
   "id": "78697648",
   "metadata": {},
   "outputs": [],
   "source": [
    "cursor.execute(\"select * from test1.worker group by workerid having mod(workerid,2)=1\")"
   ]
  },
  {
   "cell_type": "code",
   "execution_count": 9,
   "id": "36ac9905",
   "metadata": {},
   "outputs": [
    {
     "data": {
      "text/plain": [
       "[(1, 'soham'), (3, 'shyam'), (5, 'batman')]"
      ]
     },
     "execution_count": 9,
     "metadata": {},
     "output_type": "execute_result"
    }
   ],
   "source": [
    "cursor.fetchall()"
   ]
  },
  {
   "cell_type": "markdown",
   "id": "8a9dd7ed",
   "metadata": {},
   "source": [
    "# Q-2. Write an SQL query to clone a new table from another table.\n"
   ]
  },
  {
   "cell_type": "code",
   "execution_count": 10,
   "id": "4b42efa5",
   "metadata": {},
   "outputs": [],
   "source": [
    "cursor.execute(\"create table new_table select * from test1.worker\")"
   ]
  },
  {
   "cell_type": "code",
   "execution_count": 11,
   "id": "cbb8b7b8",
   "metadata": {},
   "outputs": [],
   "source": [
    "cursor.execute(\"select * from new_table\")"
   ]
  },
  {
   "cell_type": "code",
   "execution_count": 12,
   "id": "938dad3b",
   "metadata": {},
   "outputs": [
    {
     "data": {
      "text/plain": [
       "[(1, 'soham'), (2, 'ram'), (3, 'shyam'), (4, 'robin'), (5, 'batman')]"
      ]
     },
     "execution_count": 12,
     "metadata": {},
     "output_type": "execute_result"
    }
   ],
   "source": [
    "cursor.fetchall()"
   ]
  },
  {
   "cell_type": "code",
   "execution_count": 3,
   "id": "00f3031e",
   "metadata": {},
   "outputs": [],
   "source": [
    "cursor.close()\n",
    "mydb.close()"
   ]
  },
  {
   "cell_type": "code",
   "execution_count": null,
   "id": "fd58c6bc",
   "metadata": {},
   "outputs": [],
   "source": []
  }
 ],
 "metadata": {
  "kernelspec": {
   "display_name": "Python 3 (ipykernel)",
   "language": "python",
   "name": "python3"
  },
  "language_info": {
   "codemirror_mode": {
    "name": "ipython",
    "version": 3
   },
   "file_extension": ".py",
   "mimetype": "text/x-python",
   "name": "python",
   "nbconvert_exporter": "python",
   "pygments_lexer": "ipython3",
   "version": "3.8.12"
  }
 },
 "nbformat": 4,
 "nbformat_minor": 5
}
