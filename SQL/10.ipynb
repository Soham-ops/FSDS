{
 "cells": [
  {
   "cell_type": "markdown",
   "id": "a7e7daf5",
   "metadata": {},
   "source": [
    "# Preprocessing"
   ]
  },
  {
   "cell_type": "code",
   "execution_count": 30,
   "id": "fc38f1bf",
   "metadata": {},
   "outputs": [],
   "source": [
    "import mysql.connector as conn \n",
    "mydb = conn.connect(host='localhost',user='root',passwd='root')"
   ]
  },
  {
   "cell_type": "code",
   "execution_count": 31,
   "id": "2202441b",
   "metadata": {},
   "outputs": [],
   "source": [
    "cursor = mydb.cursor(buffered=True)"
   ]
  },
  {
   "cell_type": "code",
   "execution_count": 32,
   "id": "a97f8c21",
   "metadata": {},
   "outputs": [],
   "source": [
    "#Create database\n",
    "cursor.execute(\"create database test1\")"
   ]
  },
  {
   "cell_type": "code",
   "execution_count": 33,
   "id": "9346a7e7",
   "metadata": {},
   "outputs": [
    {
     "data": {
      "text/plain": [
       "[('information_schema',),\n",
       " ('mysql',),\n",
       " ('performance_schema',),\n",
       " ('sakila',),\n",
       " ('sys',),\n",
       " ('test1',),\n",
       " ('testsudh',),\n",
       " ('world',)]"
      ]
     },
     "execution_count": 33,
     "metadata": {},
     "output_type": "execute_result"
    }
   ],
   "source": [
    "cursor.execute(\"show databases\")\n",
    "cursor.fetchall()"
   ]
  },
  {
   "cell_type": "code",
   "execution_count": 34,
   "id": "8505f641",
   "metadata": {},
   "outputs": [
    {
     "data": {
      "text/plain": [
       "[('worker',)]"
      ]
     },
     "execution_count": 34,
     "metadata": {},
     "output_type": "execute_result"
    }
   ],
   "source": [
    "#create table\n",
    "cursor.execute(\"use test1\")\n",
    "cursor.execute(\"create table test1.worker(workerid INT(10),F_NAME VARCHAR(10),SALARY int(10),primary key(workerid))\")\n",
    "cursor.execute(\"show tables\")\n",
    "cursor.fetchall()"
   ]
  },
  {
   "cell_type": "code",
   "execution_count": 35,
   "id": "31b5dd90",
   "metadata": {},
   "outputs": [],
   "source": [
    "#insert data\n",
    "cursor.execute(\"insert into test1.worker values (1,'soham',5000)\")\n",
    "cursor.execute(\"insert into test1.worker values (2,'ram',4000)\")\n",
    "cursor.execute(\"insert into test1.worker values (3,'shyam',6500)\")\n",
    "cursor.execute(\"insert into test1.worker values (4,'robin',5000)\")\n",
    "cursor.execute(\"insert into test1.worker values (5,'batman',8200)\")\n",
    "mydb.commit()"
   ]
  },
  {
   "cell_type": "code",
   "execution_count": 36,
   "id": "a90ad4cd",
   "metadata": {},
   "outputs": [
    {
     "data": {
      "text/plain": [
       "[(1, 'soham', 5000),\n",
       " (2, 'ram', 4000),\n",
       " (3, 'shyam', 6500),\n",
       " (4, 'robin', 5000),\n",
       " (5, 'batman', 8200)]"
      ]
     },
     "execution_count": 36,
     "metadata": {},
     "output_type": "execute_result"
    }
   ],
   "source": [
    "cursor.execute(\"select * from test1.worker\")\n",
    "cursor.fetchall()"
   ]
  },
  {
   "cell_type": "markdown",
   "id": "208e7f74",
   "metadata": {},
   "source": [
    "# Q-1. Write an SQL query to determine the 5th highest salary without using TOP or limit method.\n"
   ]
  },
  {
   "cell_type": "code",
   "execution_count": 39,
   "id": "5cd1b2d0",
   "metadata": {},
   "outputs": [],
   "source": [
    "cursor.execute(\"select * from test1.worker a where(5) = (select count(SALARY) from test1.worker b where a.SALARY <=b.SALARY)\")"
   ]
  },
  {
   "cell_type": "code",
   "execution_count": 40,
   "id": "716fa79c",
   "metadata": {},
   "outputs": [
    {
     "data": {
      "text/plain": [
       "[(2, 'ram', 4000)]"
      ]
     },
     "execution_count": 40,
     "metadata": {},
     "output_type": "execute_result"
    }
   ],
   "source": [
    "cursor.fetchall()"
   ]
  },
  {
   "cell_type": "markdown",
   "id": "cc4512f3",
   "metadata": {},
   "source": [
    "# Q-2. Write an SQL query to fetch the list of employees with the same salary.\n"
   ]
  },
  {
   "cell_type": "code",
   "execution_count": 41,
   "id": "7cbef6ac",
   "metadata": {},
   "outputs": [],
   "source": [
    "cursor.execute(\"select * from test1.worker where SALARY in (select SALARY from test1.worker group by SALARY having count(*)>1)\")"
   ]
  },
  {
   "cell_type": "code",
   "execution_count": 42,
   "id": "252f0b19",
   "metadata": {},
   "outputs": [
    {
     "data": {
      "text/plain": [
       "[(1, 'soham', 5000), (4, 'robin', 5000)]"
      ]
     },
     "execution_count": 42,
     "metadata": {},
     "output_type": "execute_result"
    }
   ],
   "source": [
    "cursor.fetchall()"
   ]
  },
  {
   "cell_type": "code",
   "execution_count": 43,
   "id": "c5a470bb",
   "metadata": {},
   "outputs": [],
   "source": [
    "cursor.close()\n",
    "mydb.close()"
   ]
  },
  {
   "cell_type": "code",
   "execution_count": null,
   "id": "20dfc160",
   "metadata": {},
   "outputs": [],
   "source": []
  }
 ],
 "metadata": {
  "kernelspec": {
   "display_name": "Python 3 (ipykernel)",
   "language": "python",
   "name": "python3"
  },
  "language_info": {
   "codemirror_mode": {
    "name": "ipython",
    "version": 3
   },
   "file_extension": ".py",
   "mimetype": "text/x-python",
   "name": "python",
   "nbconvert_exporter": "python",
   "pygments_lexer": "ipython3",
   "version": "3.8.12"
  }
 },
 "nbformat": 4,
 "nbformat_minor": 5
}
