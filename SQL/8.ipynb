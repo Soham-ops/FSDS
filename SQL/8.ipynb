{
 "cells": [
  {
   "cell_type": "markdown",
   "id": "10fbc9fd",
   "metadata": {},
   "source": [
    "# Preprocessing"
   ]
  },
  {
   "cell_type": "code",
   "execution_count": 1,
   "id": "ad65fb6e",
   "metadata": {},
   "outputs": [],
   "source": [
    "import mysql.connector as conn \n",
    "mydb = conn.connect(host='localhost',user='root',passwd='root')"
   ]
  },
  {
   "cell_type": "code",
   "execution_count": 2,
   "id": "b6bcdcf5",
   "metadata": {},
   "outputs": [],
   "source": [
    "cursor = mydb.cursor(buffered=True)"
   ]
  },
  {
   "cell_type": "code",
   "execution_count": 3,
   "id": "ab6b74ca",
   "metadata": {},
   "outputs": [],
   "source": [
    "#Create database\n",
    "cursor.execute(\"create database test1\")"
   ]
  },
  {
   "cell_type": "code",
   "execution_count": 4,
   "id": "2514253f",
   "metadata": {},
   "outputs": [
    {
     "data": {
      "text/plain": [
       "[('information_schema',),\n",
       " ('mysql',),\n",
       " ('performance_schema',),\n",
       " ('sakila',),\n",
       " ('sys',),\n",
       " ('test1',),\n",
       " ('testsudh',),\n",
       " ('world',)]"
      ]
     },
     "execution_count": 4,
     "metadata": {},
     "output_type": "execute_result"
    }
   ],
   "source": [
    "cursor.execute(\"show databases\")\n",
    "cursor.fetchall()"
   ]
  },
  {
   "cell_type": "code",
   "execution_count": 5,
   "id": "fcd69ea8",
   "metadata": {},
   "outputs": [
    {
     "data": {
      "text/plain": [
       "[('worker',)]"
      ]
     },
     "execution_count": 5,
     "metadata": {},
     "output_type": "execute_result"
    }
   ],
   "source": [
    "#create table\n",
    "cursor.execute(\"use test1\")\n",
    "cursor.execute(\"create table test1.worker(workerid INT(10),F_NAME VARCHAR(10),primary key(workerid))\")\n",
    "cursor.execute(\"show tables\")\n",
    "cursor.fetchall()"
   ]
  },
  {
   "cell_type": "code",
   "execution_count": 6,
   "id": "0a51e0e5",
   "metadata": {},
   "outputs": [],
   "source": [
    "#insert data\n",
    "cursor.execute(\"insert into test1.worker values (1,'soham')\")\n",
    "cursor.execute(\"insert into test1.worker values (2,'ram')\")\n",
    "cursor.execute(\"insert into test1.worker values (3,'shyam')\")\n",
    "cursor.execute(\"insert into test1.worker values (4,'robin')\")\n",
    "cursor.execute(\"insert into test1.worker values (5,'batman')\")\n",
    "mydb.commit()"
   ]
  },
  {
   "cell_type": "code",
   "execution_count": 9,
   "id": "00d3d43b",
   "metadata": {},
   "outputs": [
    {
     "data": {
      "text/plain": [
       "[(1, 'soham'), (2, 'ram'), (3, 'shyam'), (4, 'robin'), (5, 'batman')]"
      ]
     },
     "execution_count": 9,
     "metadata": {},
     "output_type": "execute_result"
    }
   ],
   "source": [
    "cursor.execute(\"select * from test1.worker\")\n",
    "cursor.fetchall()"
   ]
  },
  {
   "cell_type": "code",
   "execution_count": 7,
   "id": "77f514b2",
   "metadata": {},
   "outputs": [
    {
     "data": {
      "text/plain": [
       "[('worker',), ('worker1',)]"
      ]
     },
     "execution_count": 7,
     "metadata": {},
     "output_type": "execute_result"
    }
   ],
   "source": [
    "#create table\n",
    "cursor.execute(\"use test1\")\n",
    "cursor.execute(\"create table test1.worker1(workerid INT(10),F_NAME VARCHAR(10),primary key(workerid))\")\n",
    "cursor.execute(\"show tables\")\n",
    "cursor.fetchall()"
   ]
  },
  {
   "cell_type": "code",
   "execution_count": 10,
   "id": "4fd3b881",
   "metadata": {},
   "outputs": [],
   "source": [
    "#insert data\n",
    "cursor.execute(\"insert into test1.worker1 values (1,'soham')\")\n",
    "cursor.execute(\"insert into test1.worker1 values (5,'ram')\")\n",
    "cursor.execute(\"insert into test1.worker1 values (2,'shyam')\")\n",
    "cursor.execute(\"insert into test1.worker1 values (6,'robin')\")\n",
    "cursor.execute(\"insert into test1.worker1 values (3,'batman')\")\n",
    "mydb.commit()"
   ]
  },
  {
   "cell_type": "code",
   "execution_count": 11,
   "id": "d16a6b39",
   "metadata": {},
   "outputs": [
    {
     "data": {
      "text/plain": [
       "[(1, 'soham'), (2, 'shyam'), (3, 'batman'), (5, 'ram'), (6, 'robin')]"
      ]
     },
     "execution_count": 11,
     "metadata": {},
     "output_type": "execute_result"
    }
   ],
   "source": [
    "cursor.execute(\"select * from test1.worker1\")\n",
    "cursor.fetchall()"
   ]
  },
  {
   "cell_type": "markdown",
   "id": "52ade8fb",
   "metadata": {},
   "source": [
    "# Q-1. Write an SQL query to fetch intersecting records of two tables.\n"
   ]
  },
  {
   "cell_type": "code",
   "execution_count": 12,
   "id": "d5080131",
   "metadata": {},
   "outputs": [],
   "source": [
    "cursor.execute(\"select * from test1.worker inner join test1.worker1 on test1.worker.workerid = test1.worker1.workerid \")"
   ]
  },
  {
   "cell_type": "code",
   "execution_count": 13,
   "id": "3666707a",
   "metadata": {},
   "outputs": [
    {
     "data": {
      "text/plain": [
       "[(1, 'soham', 1, 'soham'),\n",
       " (2, 'ram', 2, 'shyam'),\n",
       " (3, 'shyam', 3, 'batman'),\n",
       " (5, 'batman', 5, 'ram')]"
      ]
     },
     "execution_count": 13,
     "metadata": {},
     "output_type": "execute_result"
    }
   ],
   "source": [
    "cursor.fetchall()"
   ]
  },
  {
   "cell_type": "markdown",
   "id": "2ec136a8",
   "metadata": {},
   "source": [
    "# Q-2. Write an SQL query to show records from one table that another table does not have.\n"
   ]
  },
  {
   "cell_type": "code",
   "execution_count": 14,
   "id": "b7164bf4",
   "metadata": {},
   "outputs": [],
   "source": [
    "cursor.execute(\"select * from test1.worker left join test1.worker1 on test1.worker.workerid = test1.worker1.workerid\")"
   ]
  },
  {
   "cell_type": "code",
   "execution_count": 15,
   "id": "6bad4fcc",
   "metadata": {},
   "outputs": [
    {
     "data": {
      "text/plain": [
       "[(1, 'soham', 1, 'soham'),\n",
       " (2, 'ram', 2, 'shyam'),\n",
       " (3, 'shyam', 3, 'batman'),\n",
       " (4, 'robin', None, None),\n",
       " (5, 'batman', 5, 'ram')]"
      ]
     },
     "execution_count": 15,
     "metadata": {},
     "output_type": "execute_result"
    }
   ],
   "source": [
    "cursor.fetchall()"
   ]
  },
  {
   "cell_type": "code",
   "execution_count": 16,
   "id": "289eff0c",
   "metadata": {},
   "outputs": [],
   "source": [
    "cursor.close()\n",
    "mydb.close()"
   ]
  },
  {
   "cell_type": "code",
   "execution_count": null,
   "id": "b4cf723f",
   "metadata": {},
   "outputs": [],
   "source": []
  }
 ],
 "metadata": {
  "kernelspec": {
   "display_name": "Python 3 (ipykernel)",
   "language": "python",
   "name": "python3"
  },
  "language_info": {
   "codemirror_mode": {
    "name": "ipython",
    "version": 3
   },
   "file_extension": ".py",
   "mimetype": "text/x-python",
   "name": "python",
   "nbconvert_exporter": "python",
   "pygments_lexer": "ipython3",
   "version": "3.8.12"
  }
 },
 "nbformat": 4,
 "nbformat_minor": 5
}
