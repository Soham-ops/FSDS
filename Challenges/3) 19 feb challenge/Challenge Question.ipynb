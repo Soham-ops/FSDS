{
 "cells": [
  {
   "cell_type": "markdown",
   "id": "a0bea8ec",
   "metadata": {},
   "source": [
    "# Challenge "
   ]
  },
  {
   "cell_type": "code",
   "execution_count": null,
   "id": "4335d761",
   "metadata": {},
   "outputs": [],
   "source": [
    "<li>dwd this dataset https://archive.ics.uci.edu/ml/datasets/Carbon+Nanotubes</li>\n",
    "<li>insert data in bulk (csv file in mongodb)</li>\n",
    "then perform the following operations\n",
    "<li>insert</li>\n",
    "<li>update</li>\n",
    "<li>Delete</li>\n",
    "<li>find operation</li>\n",
    "<li>filter</li>\n",
    "\n",
    "Code Evaluation\n",
    "<li>Modular coding-> OOPS and different functionality in different files and we import them</li>\n",
    "<li>Exception handling</li>\n",
    "<li>proper log</li>"
   ]
  }
 ],
 "metadata": {
  "kernelspec": {
   "display_name": "Python 3 (ipykernel)",
   "language": "python",
   "name": "python3"
  },
  "language_info": {
   "codemirror_mode": {
    "name": "ipython",
    "version": 3
   },
   "file_extension": ".py",
   "mimetype": "text/x-python",
   "name": "python",
   "nbconvert_exporter": "python",
   "pygments_lexer": "ipython3",
   "version": "3.8.12"
  }
 },
 "nbformat": 4,
 "nbformat_minor": 5
}
