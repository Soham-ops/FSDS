{
 "cells": [
  {
   "cell_type": "markdown",
   "id": "a243b8b2",
   "metadata": {},
   "source": [
    "# 1. Assign the value 7 to the variable guess_me. Then, write the conditional tests (if, else, and elif) to print the string 'too low' if guess_me is less than 7, 'too high' if greater than 7, and 'just right' if equal to 7.\n"
   ]
  },
  {
   "cell_type": "code",
   "execution_count": 1,
   "id": "5cbe2666",
   "metadata": {},
   "outputs": [],
   "source": [
    "class Guess:\n",
    "    \n",
    "    def __init__(self):\n",
    "        self.guess_me = 7\n",
    "        \n",
    "    def condition(self):\n",
    "        \n",
    "        if self.guess_me < 7:\n",
    "            return 'too low'\n",
    "        elif self.guess_me > 7:\n",
    "            return 'too high'\n",
    "        else:\n",
    "            return 'just right'"
   ]
  },
  {
   "cell_type": "code",
   "execution_count": 2,
   "id": "f821ab43",
   "metadata": {},
   "outputs": [
    {
     "data": {
      "text/plain": [
       "'just right'"
      ]
     },
     "execution_count": 2,
     "metadata": {},
     "output_type": "execute_result"
    }
   ],
   "source": [
    "obj = Guess()\n",
    "obj.condition()"
   ]
  },
  {
   "cell_type": "code",
   "execution_count": null,
   "id": "8ebbbf50",
   "metadata": {},
   "outputs": [],
   "source": []
  },
  {
   "cell_type": "markdown",
   "id": "5cc0fd08",
   "metadata": {},
   "source": [
    "# 2. Assign the value 7 to the variable guess_me and the value 1 to the variable start. Write a while loop that compares start with guess_me. Print too low if start is less than guess me. If start equals guess_me, print 'found it!' and exit the loop. If start is greater than guess_me, print 'oops' and exit the loop. Increment start at the end of the loop.\n"
   ]
  },
  {
   "cell_type": "code",
   "execution_count": 7,
   "id": "a02f96b5",
   "metadata": {},
   "outputs": [],
   "source": [
    "class Guess:\n",
    "    \n",
    "    def __init__(self):\n",
    "        self.guess_me = 7\n",
    "        self.start = 1\n",
    "        \n",
    "    def condition(self):\n",
    "        \n",
    "        while self.start <= self.guess_me:\n",
    "            \n",
    "            if self.start < self.guess_me:\n",
    "                print('too low')\n",
    "                self.start +=1\n",
    "            \n",
    "            elif self.start == self.guess_me:\n",
    "                print('found it')\n",
    "                self.start +=1\n",
    "                \n",
    "        else:\n",
    "            print(\"OOPS\")\n",
    "            "
   ]
  },
  {
   "cell_type": "code",
   "execution_count": 8,
   "id": "4a32efda",
   "metadata": {},
   "outputs": [
    {
     "name": "stdout",
     "output_type": "stream",
     "text": [
      "too low\n",
      "too low\n",
      "too low\n",
      "too low\n",
      "too low\n",
      "too low\n",
      "found it\n",
      "OOPS\n"
     ]
    }
   ],
   "source": [
    "obj = Guess()\n",
    "obj.condition()"
   ]
  },
  {
   "cell_type": "code",
   "execution_count": null,
   "id": "31c8a9ee",
   "metadata": {},
   "outputs": [],
   "source": []
  },
  {
   "cell_type": "markdown",
   "id": "6e46b107",
   "metadata": {},
   "source": [
    "# 3. Print the following values of the list [3, 2, 1, 0] using a for loop.\n"
   ]
  },
  {
   "cell_type": "code",
   "execution_count": 10,
   "id": "a2f55e13",
   "metadata": {},
   "outputs": [
    {
     "name": "stdout",
     "output_type": "stream",
     "text": [
      "3 2 1 0 "
     ]
    }
   ],
   "source": [
    "ls = [3,2,1,0]\n",
    "\n",
    "for i in ls:\n",
    "    print(i,end=\" \")"
   ]
  },
  {
   "cell_type": "code",
   "execution_count": null,
   "id": "8f1ff71b",
   "metadata": {},
   "outputs": [],
   "source": []
  },
  {
   "cell_type": "markdown",
   "id": "f1461f4b",
   "metadata": {},
   "source": [
    "# 4. Use a list comprehension to make a list of the even numbers in range(10)\n"
   ]
  },
  {
   "cell_type": "code",
   "execution_count": 12,
   "id": "ffdf4664",
   "metadata": {},
   "outputs": [
    {
     "data": {
      "text/plain": [
       "[0, 2, 4, 6, 8]"
      ]
     },
     "execution_count": 12,
     "metadata": {},
     "output_type": "execute_result"
    }
   ],
   "source": [
    "ls = [i for i in range(10) if i%2==0]\n",
    "ls"
   ]
  },
  {
   "cell_type": "code",
   "execution_count": null,
   "id": "3c893685",
   "metadata": {},
   "outputs": [],
   "source": []
  },
  {
   "cell_type": "markdown",
   "id": "c6e09eb9",
   "metadata": {},
   "source": [
    "# 5. Use a dictionary comprehension to create the dictionary squares. Use range(10) to return the keys, and use the square of each key as its value.\n"
   ]
  },
  {
   "cell_type": "code",
   "execution_count": 13,
   "id": "e055e32f",
   "metadata": {},
   "outputs": [
    {
     "data": {
      "text/plain": [
       "{0: 0, 1: 1, 2: 4, 3: 9, 4: 16, 5: 25, 6: 36, 7: 49, 8: 64, 9: 81}"
      ]
     },
     "execution_count": 13,
     "metadata": {},
     "output_type": "execute_result"
    }
   ],
   "source": [
    "squares = {i:i**2for i in range(10)}\n",
    "squares"
   ]
  },
  {
   "cell_type": "code",
   "execution_count": null,
   "id": "57dbbf40",
   "metadata": {},
   "outputs": [],
   "source": []
  },
  {
   "cell_type": "markdown",
   "id": "f82ec6aa",
   "metadata": {},
   "source": [
    "# 6. Construct the set odd from the odd numbers in the range using a set comprehension (10).\n"
   ]
  },
  {
   "cell_type": "code",
   "execution_count": 14,
   "id": "8f47a54f",
   "metadata": {},
   "outputs": [
    {
     "data": {
      "text/plain": [
       "{1, 3, 5, 7, 9}"
      ]
     },
     "execution_count": 14,
     "metadata": {},
     "output_type": "execute_result"
    }
   ],
   "source": [
    "odd = {i for i in range(10) if i%2!=0 }\n",
    "odd"
   ]
  },
  {
   "cell_type": "code",
   "execution_count": 15,
   "id": "2530ae6c",
   "metadata": {},
   "outputs": [
    {
     "data": {
      "text/plain": [
       "set"
      ]
     },
     "execution_count": 15,
     "metadata": {},
     "output_type": "execute_result"
    }
   ],
   "source": [
    "type(odd)"
   ]
  },
  {
   "cell_type": "code",
   "execution_count": null,
   "id": "d35479ca",
   "metadata": {},
   "outputs": [],
   "source": []
  },
  {
   "cell_type": "markdown",
   "id": "45dff8fc",
   "metadata": {},
   "source": [
    "# 7. Use a generator comprehension to return the string 'Got ' and a number for the numbers in range(10). Iterate through this by using a for loop.\n"
   ]
  },
  {
   "cell_type": "code",
   "execution_count": 59,
   "id": "4019971a",
   "metadata": {},
   "outputs": [],
   "source": [
    "itr = (i if i!= 10 else \"Got\" for i in range(11) )"
   ]
  },
  {
   "cell_type": "code",
   "execution_count": 60,
   "id": "ccb0ebdb",
   "metadata": {},
   "outputs": [
    {
     "name": "stdout",
     "output_type": "stream",
     "text": [
      "0 1 2 3 4 5 6 7 8 9 Got "
     ]
    }
   ],
   "source": [
    "for i in itr:\n",
    "    print(i,end=\" \")"
   ]
  },
  {
   "cell_type": "code",
   "execution_count": null,
   "id": "e9c81d18",
   "metadata": {},
   "outputs": [],
   "source": []
  },
  {
   "cell_type": "markdown",
   "id": "cb0b6a82",
   "metadata": {},
   "source": [
    "# 8. Define a function called good that returns the list ['Harry', 'Ron', 'Hermione'].\n"
   ]
  },
  {
   "cell_type": "code",
   "execution_count": 31,
   "id": "f591241b",
   "metadata": {},
   "outputs": [],
   "source": [
    "def good():\n",
    "    ls = ['Harry', 'Ron', 'Hermione']\n",
    "    return ls"
   ]
  },
  {
   "cell_type": "code",
   "execution_count": 32,
   "id": "fca0bf06",
   "metadata": {},
   "outputs": [
    {
     "data": {
      "text/plain": [
       "['Harry', 'Ron', 'Hermione']"
      ]
     },
     "execution_count": 32,
     "metadata": {},
     "output_type": "execute_result"
    }
   ],
   "source": [
    "good()"
   ]
  },
  {
   "cell_type": "code",
   "execution_count": null,
   "id": "00ff01b9",
   "metadata": {},
   "outputs": [],
   "source": []
  },
  {
   "cell_type": "markdown",
   "id": "2a9f5e34",
   "metadata": {},
   "source": [
    "# 9. Define a generator function called get_odds that returns the odd numbers from range(10). Use a for loop to find and print the third value returned.\n"
   ]
  },
  {
   "cell_type": "code",
   "execution_count": 39,
   "id": "df43cb26",
   "metadata": {},
   "outputs": [],
   "source": [
    "def get_odds():\n",
    "    \n",
    "    for i in range(10):\n",
    "        \n",
    "        if i%2!=0:\n",
    "            yield i"
   ]
  },
  {
   "cell_type": "code",
   "execution_count": 40,
   "id": "b22d41ba",
   "metadata": {},
   "outputs": [
    {
     "name": "stdout",
     "output_type": "stream",
     "text": [
      "5\n"
     ]
    }
   ],
   "source": [
    "count=1\n",
    "for i in get_odds():\n",
    "    if count==3:\n",
    "        print(i)\n",
    "    count+=1"
   ]
  },
  {
   "cell_type": "code",
   "execution_count": null,
   "id": "31622183",
   "metadata": {},
   "outputs": [],
   "source": []
  },
  {
   "cell_type": "markdown",
   "id": "c262ca81",
   "metadata": {},
   "source": [
    "# 10. Define an exception called OopsException. Raise this exception to see what happens. Then write the code to catch this exception and print 'Caught an oops'.\n"
   ]
  },
  {
   "cell_type": "code",
   "execution_count": 43,
   "id": "3989fe69",
   "metadata": {},
   "outputs": [],
   "source": [
    "class OopsException(Exception):\n",
    "    pass\n",
    "\n",
    "class CustomException:\n",
    "    \n",
    "    def __init__(self):\n",
    "        pass\n",
    "    \n",
    "    def custom(self):\n",
    "        \n",
    "        try:\n",
    "            raise OopsException\n",
    "        except OopsException:\n",
    "            return 'Caught an oops'"
   ]
  },
  {
   "cell_type": "code",
   "execution_count": 44,
   "id": "de58475e",
   "metadata": {},
   "outputs": [
    {
     "data": {
      "text/plain": [
       "'Caught an oops'"
      ]
     },
     "execution_count": 44,
     "metadata": {},
     "output_type": "execute_result"
    }
   ],
   "source": [
    "obj = CustomException()\n",
    "obj.custom()"
   ]
  },
  {
   "cell_type": "code",
   "execution_count": null,
   "id": "b5eddcf7",
   "metadata": {},
   "outputs": [],
   "source": []
  },
  {
   "cell_type": "markdown",
   "id": "3953d8dd",
   "metadata": {},
   "source": [
    "# 11. Use zip() to make a dictionary called movies that pairs these lists: titles = ['Creature of Habit', 'Crewel Fate'] and plots = ['A nun turns into a monster', 'A haunted yarn shop'].\n",
    "\n"
   ]
  },
  {
   "cell_type": "code",
   "execution_count": 52,
   "id": "876084d6",
   "metadata": {},
   "outputs": [],
   "source": [
    "titles = ['Creature of Habit', 'Crewel Fate']\n",
    "plots = ['A nun turns into a monster', 'A haunted yarn shop']\n",
    "\n",
    "pairing = zip(titles,plots)"
   ]
  },
  {
   "cell_type": "code",
   "execution_count": 53,
   "id": "6a052cea",
   "metadata": {},
   "outputs": [
    {
     "data": {
      "text/plain": [
       "{'Creature of Habit': 'A nun turns into a monster',\n",
       " 'Crewel Fate': 'A haunted yarn shop'}"
      ]
     },
     "execution_count": 53,
     "metadata": {},
     "output_type": "execute_result"
    }
   ],
   "source": [
    "dict(pairing)"
   ]
  },
  {
   "cell_type": "code",
   "execution_count": null,
   "id": "3314e1e6",
   "metadata": {},
   "outputs": [],
   "source": []
  }
 ],
 "metadata": {
  "kernelspec": {
   "display_name": "iNeuronFSDSPythonModule",
   "language": "python",
   "name": "ineuronfsdspythonmodule"
  },
  "language_info": {
   "codemirror_mode": {
    "name": "ipython",
    "version": 3
   },
   "file_extension": ".py",
   "mimetype": "text/x-python",
   "name": "python",
   "nbconvert_exporter": "python",
   "pygments_lexer": "ipython3",
   "version": "3.6.12"
  }
 },
 "nbformat": 4,
 "nbformat_minor": 5
}
