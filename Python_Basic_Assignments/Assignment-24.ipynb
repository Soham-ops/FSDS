{
 "cells": [
  {
   "cell_type": "markdown",
   "id": "e35cea7e",
   "metadata": {},
   "source": [
    "# 1. What is the relationship between def statements and lambda expressions ?\n"
   ]
  },
  {
   "cell_type": "markdown",
   "id": "f384bae9",
   "metadata": {},
   "source": [
    "<li>def statements are used to create regular functions,functions that have identifiers</li>\n",
    "<li>Whereas lambda expression are used to create lambda functions,functions that are anonymous and dont have identifers</li>"
   ]
  },
  {
   "cell_type": "code",
   "execution_count": null,
   "id": "6336ee36",
   "metadata": {},
   "outputs": [],
   "source": []
  },
  {
   "cell_type": "markdown",
   "id": "788b54fa",
   "metadata": {},
   "source": [
    "# 2. What is the benefit of lambda?\n"
   ]
  },
  {
   "cell_type": "markdown",
   "id": "0986459c",
   "metadata": {},
   "source": [
    "<li>Replicate the functionality of a simple function on an ad hoc basis, without having to create a regular function using def</li>"
   ]
  },
  {
   "cell_type": "code",
   "execution_count": null,
   "id": "1a6cda06",
   "metadata": {},
   "outputs": [],
   "source": []
  },
  {
   "cell_type": "markdown",
   "id": "0b4a57a5",
   "metadata": {},
   "source": [
    "# 3. Compare and contrast map, filter, and reduce.\n"
   ]
  },
  {
   "cell_type": "code",
   "execution_count": 1,
   "id": "8d87c89d",
   "metadata": {},
   "outputs": [
    {
     "data": {
      "text/plain": [
       "[2, 10]"
      ]
     },
     "execution_count": 1,
     "metadata": {},
     "output_type": "execute_result"
    }
   ],
   "source": [
    "#filter\n",
    "li = [2,5,7,10,15,17]\n",
    "list(filter(lambda x: x%2 == 0,li))#filter from li based on x%2 == 0 condition being true,where x is an item of li"
   ]
  },
  {
   "cell_type": "code",
   "execution_count": 2,
   "id": "896e984b",
   "metadata": {},
   "outputs": [
    {
     "data": {
      "text/plain": [
       "[4, 25, 49, 100, 225, 289]"
      ]
     },
     "execution_count": 2,
     "metadata": {},
     "output_type": "execute_result"
    }
   ],
   "source": [
    "#map\n",
    "li = [2,5,7,10,15,17]\n",
    "list(map(lambda x: x**2,li))#map x**2 on all elements of li and return me a new list"
   ]
  },
  {
   "cell_type": "code",
   "execution_count": 8,
   "id": "56a604df",
   "metadata": {},
   "outputs": [
    {
     "data": {
      "text/plain": [
       "15"
      ]
     },
     "execution_count": 8,
     "metadata": {},
     "output_type": "execute_result"
    }
   ],
   "source": [
    "#reduce\n",
    "from functools import reduce\n",
    "li = [1,2,3,4,5]\n",
    "add = reduce(lambda x,y: x+y,li)#taking 2 args from li at a time add them and in this way return the result\n",
    "add"
   ]
  },
  {
   "cell_type": "code",
   "execution_count": null,
   "id": "df6e1129",
   "metadata": {},
   "outputs": [],
   "source": []
  },
  {
   "cell_type": "markdown",
   "id": "3f0c82b0",
   "metadata": {},
   "source": [
    "# 4. What are function annotations, and how are they used?\n"
   ]
  },
  {
   "cell_type": "code",
   "execution_count": 9,
   "id": "e6e41f8a",
   "metadata": {},
   "outputs": [],
   "source": [
    "def add(a,b) -> int:#'-> int' is an exmaple of function annotation and helps wo add more detail to our programs \n",
    "    return a+b"
   ]
  },
  {
   "cell_type": "code",
   "execution_count": 10,
   "id": "ba981c5a",
   "metadata": {},
   "outputs": [
    {
     "data": {
      "text/plain": [
       "3"
      ]
     },
     "execution_count": 10,
     "metadata": {},
     "output_type": "execute_result"
    }
   ],
   "source": [
    "add(1,2)"
   ]
  },
  {
   "cell_type": "markdown",
   "id": "0d156918",
   "metadata": {},
   "source": [
    "# 5. What are recursive functions, and how are they used?\n"
   ]
  },
  {
   "cell_type": "code",
   "execution_count": 13,
   "id": "3ed5d3e0",
   "metadata": {},
   "outputs": [],
   "source": [
    "#How recursive functions are used\n",
    "def fact(n):\n",
    "    if n==1:\n",
    "        return 1\n",
    "    else:\n",
    "        return n* fact(n-1)# A function that call itself is called recursive function"
   ]
  },
  {
   "cell_type": "code",
   "execution_count": 14,
   "id": "9b3703b2",
   "metadata": {},
   "outputs": [
    {
     "data": {
      "text/plain": [
       "120"
      ]
     },
     "execution_count": 14,
     "metadata": {},
     "output_type": "execute_result"
    }
   ],
   "source": [
    "fact(5)"
   ]
  },
  {
   "cell_type": "markdown",
   "id": "c8e0471f",
   "metadata": {},
   "source": [
    "# 6. What are some general design guidelines for coding functions?\n"
   ]
  },
  {
   "cell_type": "markdown",
   "id": "a96b0723",
   "metadata": {},
   "source": [
    "<ul>Quoting relevant points from the PEP - 8 document\n",
    "<li>Function names should be lowercase, with words separated by underscores as necessary to improve readability.</li>\n",
    "<li>Variable names follow the same convention as function names.</li>\n",
    "<li>Always use self for the first argument to instance methods.</li>\n",
    "<li>Always use cls for the first argument to class methods.</li>\n",
    "<li>If a function argument's name clashes with a reserved keyword, it is generally better to append a single trailing underscore rather than use an abbreviation or spelling corruption. Thus class_ is better than clss. (Perhaps better is to avoid such clashes by using a synonym.)</li>\n",
    "</ul>"
   ]
  },
  {
   "cell_type": "code",
   "execution_count": null,
   "id": "64dbc377",
   "metadata": {},
   "outputs": [],
   "source": []
  },
  {
   "cell_type": "markdown",
   "id": "c5a110e7",
   "metadata": {},
   "source": [
    "# 7. Name three or more ways that functions can communicate results to a caller.\n"
   ]
  },
  {
   "cell_type": "markdown",
   "id": "d19054a5",
   "metadata": {},
   "source": [
    "<li>Through return statement</li>\n",
    "<li>by changing status of a class variable</li>\n",
    "<li>By changing staus of an instance variable</li>"
   ]
  },
  {
   "cell_type": "code",
   "execution_count": null,
   "id": "068700ea",
   "metadata": {},
   "outputs": [],
   "source": []
  }
 ],
 "metadata": {
  "kernelspec": {
   "display_name": "iNeuronFSDSPythonModule",
   "language": "python",
   "name": "ineuronfsdspythonmodule"
  },
  "language_info": {
   "codemirror_mode": {
    "name": "ipython",
    "version": 3
   },
   "file_extension": ".py",
   "mimetype": "text/x-python",
   "name": "python",
   "nbconvert_exporter": "python",
   "pygments_lexer": "ipython3",
   "version": "3.6.12"
  }
 },
 "nbformat": 4,
 "nbformat_minor": 5
}
