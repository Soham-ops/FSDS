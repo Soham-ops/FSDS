{
 "cells": [
  {
   "cell_type": "markdown",
   "id": "884e0ac5",
   "metadata": {},
   "source": [
    "# 1) . What is the difference between enclosing a list comprehension in square brackets and parentheses?\n"
   ]
  },
  {
   "cell_type": "code",
   "execution_count": 1,
   "id": "afd3cc20",
   "metadata": {},
   "outputs": [
    {
     "data": {
      "text/plain": [
       "list"
      ]
     },
     "execution_count": 1,
     "metadata": {},
     "output_type": "execute_result"
    }
   ],
   "source": [
    "#list comprehension with square brackets\n",
    "l = [i for i in range(5)]\n",
    "type(l)"
   ]
  },
  {
   "cell_type": "code",
   "execution_count": 2,
   "id": "030cffd1",
   "metadata": {},
   "outputs": [
    {
     "data": {
      "text/plain": [
       "generator"
      ]
     },
     "execution_count": 2,
     "metadata": {},
     "output_type": "execute_result"
    }
   ],
   "source": [
    "#list comprehension with parenthesis\n",
    "l = (i for i in range(5))\n",
    "type(l)"
   ]
  },
  {
   "cell_type": "code",
   "execution_count": null,
   "id": "a82b91d9",
   "metadata": {},
   "outputs": [],
   "source": []
  },
  {
   "cell_type": "markdown",
   "id": "08496baf",
   "metadata": {},
   "source": [
    "# 2) What is the relationship between generators and iterators?\n"
   ]
  },
  {
   "cell_type": "code",
   "execution_count": 3,
   "id": "f4500c19",
   "metadata": {},
   "outputs": [
    {
     "name": "stdout",
     "output_type": "stream",
     "text": [
      "0\n",
      "1\n",
      "2\n",
      "3\n",
      "4\n"
     ]
    }
   ],
   "source": [
    "# l is a generator\n",
    "l = (i for i in range(5))\n",
    "#i is an iterator that iterate 1 by 1 over a generator object and for that in this case for loop is internally calling next()\n",
    "for i in l:\n",
    "    print(i)"
   ]
  },
  {
   "cell_type": "code",
   "execution_count": null,
   "id": "008e4650",
   "metadata": {},
   "outputs": [],
   "source": []
  },
  {
   "cell_type": "markdown",
   "id": "aad83f48",
   "metadata": {},
   "source": [
    "# 3) What are the signs that a function is a generator function?\n"
   ]
  },
  {
   "cell_type": "markdown",
   "id": "5b765ebd",
   "metadata": {},
   "source": [
    "<li>presence of yield keyword</li>"
   ]
  },
  {
   "cell_type": "code",
   "execution_count": null,
   "id": "122d935a",
   "metadata": {},
   "outputs": [],
   "source": []
  },
  {
   "cell_type": "markdown",
   "id": "c838fba3",
   "metadata": {},
   "source": [
    "# 4) What is the purpose of a yield statement?\n"
   ]
  },
  {
   "cell_type": "code",
   "execution_count": 7,
   "id": "bffdf455",
   "metadata": {},
   "outputs": [],
   "source": [
    "def sample():\n",
    "    \n",
    "    for i in range(5):#now if range(5) was range(infinity) then my ram would have got exhausted if I had not used yield keyword\n",
    "        yield i       #Thus with yield we get one number at a time and the not the entire sequence"
   ]
  },
  {
   "cell_type": "code",
   "execution_count": 8,
   "id": "5853166b",
   "metadata": {},
   "outputs": [
    {
     "name": "stdout",
     "output_type": "stream",
     "text": [
      "0\n",
      "1\n",
      "2\n",
      "3\n",
      "4\n"
     ]
    }
   ],
   "source": [
    "for j in sample():\n",
    "    print(j)"
   ]
  },
  {
   "cell_type": "code",
   "execution_count": null,
   "id": "e49ae32f",
   "metadata": {},
   "outputs": [],
   "source": []
  },
  {
   "cell_type": "markdown",
   "id": "57d6acf8",
   "metadata": {},
   "source": [
    "# 5) What is the relationship between map calls and list comprehensions? Make a comparison and contrast between the two.\n",
    "\n"
   ]
  },
  {
   "cell_type": "code",
   "execution_count": 14,
   "id": "95394185",
   "metadata": {},
   "outputs": [
    {
     "data": {
      "text/plain": [
       "[1, 4, 9, 16, 25]"
      ]
     },
     "execution_count": 14,
     "metadata": {},
     "output_type": "execute_result"
    }
   ],
   "source": [
    "li = [1,2,3,4,5]\n",
    "list(map(lambda x:x**2,li))"
   ]
  },
  {
   "cell_type": "code",
   "execution_count": 15,
   "id": "96a171f8",
   "metadata": {},
   "outputs": [
    {
     "data": {
      "text/plain": [
       "[1, 4, 9, 16, 25]"
      ]
     },
     "execution_count": 15,
     "metadata": {},
     "output_type": "execute_result"
    }
   ],
   "source": [
    "li = [1,2,3,4,5]\n",
    "[i**2 for i in li]#list comprehension can do the functionality of map()"
   ]
  },
  {
   "cell_type": "code",
   "execution_count": 16,
   "id": "892f3a58",
   "metadata": {},
   "outputs": [
    {
     "data": {
      "text/plain": [
       "[2, 4]"
      ]
     },
     "execution_count": 16,
     "metadata": {},
     "output_type": "execute_result"
    }
   ],
   "source": [
    "li = [1,2,3,4,5]\n",
    "[i for i in li if i%2==0]#list comprehension can do the functionality of filter() but map() cant do"
   ]
  },
  {
   "cell_type": "code",
   "execution_count": null,
   "id": "db2dadc4",
   "metadata": {},
   "outputs": [],
   "source": []
  }
 ],
 "metadata": {
  "kernelspec": {
   "display_name": "iNeuronFSDSPythonModule",
   "language": "python",
   "name": "ineuronfsdspythonmodule"
  },
  "language_info": {
   "codemirror_mode": {
    "name": "ipython",
    "version": 3
   },
   "file_extension": ".py",
   "mimetype": "text/x-python",
   "name": "python",
   "nbconvert_exporter": "python",
   "pygments_lexer": "ipython3",
   "version": "3.6.12"
  }
 },
 "nbformat": 4,
 "nbformat_minor": 5
}
