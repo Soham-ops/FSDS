{
 "cells": [
  {
   "cell_type": "markdown",
   "id": "a6367696",
   "metadata": {},
   "source": [
    "# 1. In what modes should the PdfFileReader() and PdfFileWriter() File objects will be opened?"
   ]
  },
  {
   "cell_type": "code",
   "execution_count": 9,
   "id": "05aaa1a1",
   "metadata": {},
   "outputs": [],
   "source": [
    "from PyPDF2 import PdfFileReader\n",
    "import os\n",
    "class PdfClass:\n",
    "    \n",
    "    def __init__(self,path):\n",
    "        self.pdf_path = path\n",
    "        \n",
    "    def extract(self):\n",
    "        with open(self.pdf_path,'rb') as file:# file mode used\n",
    "            pdf = PdfFileReader(self.pdf_path)\n",
    "            info = pdf.getDocumentInfo()\n",
    "            \n",
    "        txt = f\"\"\"\n",
    "        Information about {self.pdf_path}\n",
    "       \n",
    "        Number of pages {pdf.numPages}\n",
    "        \"\"\"\n",
    "        \n",
    "        print(txt)\n",
    "        return info"
   ]
  },
  {
   "cell_type": "code",
   "execution_count": 10,
   "id": "fa1221f5",
   "metadata": {},
   "outputs": [
    {
     "data": {
      "text/plain": [
       "['.ipynb_checkpoints',\n",
       " 'Assignment-12.ipynb',\n",
       " 'example-new.pdf',\n",
       " 'example.pdf',\n",
       " 'example_2.pdf',\n",
       " 'example_3.pdf',\n",
       " 'ex_4.pdf',\n",
       " 'Rough.ipynb',\n",
       " 'Status.txt']"
      ]
     },
     "execution_count": 10,
     "metadata": {},
     "output_type": "execute_result"
    }
   ],
   "source": [
    "os.listdir()"
   ]
  },
  {
   "cell_type": "code",
   "execution_count": 11,
   "id": "e0e47d21",
   "metadata": {},
   "outputs": [],
   "source": [
    "path = 'example.pdf'\n",
    "pdf = PdfClass(path)"
   ]
  },
  {
   "cell_type": "code",
   "execution_count": 12,
   "id": "0938310e",
   "metadata": {},
   "outputs": [
    {
     "name": "stdout",
     "output_type": "stream",
     "text": [
      "\n",
      "        Information about example.pdf\n",
      "       \n",
      "        Number of pages 5\n",
      "        \n"
     ]
    },
    {
     "data": {
      "text/plain": [
       "{'/Producer': 'Adobe XD'}"
      ]
     },
     "execution_count": 12,
     "metadata": {},
     "output_type": "execute_result"
    }
   ],
   "source": [
    "pdf.extract()"
   ]
  },
  {
   "cell_type": "markdown",
   "id": "46a183d4",
   "metadata": {},
   "source": [
    "#### <li>Thus,For PdfFileReader() file object should be opened in 'rb' mode</li>"
   ]
  },
  {
   "cell_type": "code",
   "execution_count": 6,
   "id": "5bad65d2",
   "metadata": {},
   "outputs": [],
   "source": [
    "from PyPDF2 import PdfFileReader\n",
    "from PyPDF2 import PdfFileWriter\n",
    "class PdfClass:\n",
    "    \n",
    "    def __init__(self,path):\n",
    "        self.pdf_path = path\n",
    "        \n",
    "    def newPDf(self,op_filename):\n",
    "        \n",
    "        try:\n",
    "            src_pdf = open(self.pdf_path,'rb')\n",
    "\n",
    "            pdf_read = PdfFileReader(src_pdf)\n",
    "            file = PdfFileWriter()\n",
    "\n",
    "            #writing to new pdf\n",
    "            for page in range(pdf_read.getNumPages()):\n",
    "                page_no = pdf_read.getPage(page)\n",
    "                file.addPage(page_no)\n",
    "\n",
    "            dest_pdf = open(op_filename,'wb')#file mode used\n",
    "            file.write(dest_pdf)\n",
    "\n",
    "            #closing both files\n",
    "            src_pdf.close()\n",
    "            dest_pdf.close()\n",
    "            \n",
    "            return 'file created succesfully'\n",
    "\n",
    "        except Exception as e :\n",
    "            return f\"Something wrong {e}\""
   ]
  },
  {
   "cell_type": "code",
   "execution_count": 7,
   "id": "98424811",
   "metadata": {},
   "outputs": [
    {
     "data": {
      "text/plain": [
       "'file created succesfully'"
      ]
     },
     "execution_count": 7,
     "metadata": {},
     "output_type": "execute_result"
    }
   ],
   "source": [
    "src = 'example.pdf'\n",
    "op = 'example-new.pdf'\n",
    "pdf = PdfClass(src)\n",
    "pdf.newPDf(op)"
   ]
  },
  {
   "cell_type": "markdown",
   "id": "cd828541",
   "metadata": {},
   "source": [
    "#### <li>Thus,For PdfFileReader() file object should be opened in 'wb' mode</li>"
   ]
  },
  {
   "cell_type": "code",
   "execution_count": null,
   "id": "bfd0ab61",
   "metadata": {},
   "outputs": [],
   "source": []
  },
  {
   "cell_type": "markdown",
   "id": "8dc2e561",
   "metadata": {},
   "source": [
    "# 2. From a PdfFileReader object, how do you get a Page object for page 5?"
   ]
  },
  {
   "cell_type": "markdown",
   "id": "fdac0a15",
   "metadata": {},
   "source": [
    "\n",
    "<li>pdf_read = PdfFileReader(src_pdf)</li>\n",
    "<li>page_no = pdf_read.getPage(5)</li>\n",
    "\n"
   ]
  },
  {
   "cell_type": "code",
   "execution_count": null,
   "id": "54fa66b2",
   "metadata": {},
   "outputs": [],
   "source": []
  },
  {
   "cell_type": "markdown",
   "id": "8f66fcb5",
   "metadata": {},
   "source": [
    "# 3. What PdfFileReader variable stores the number of pages in the PDF document?"
   ]
  },
  {
   "cell_type": "markdown",
   "id": "9505aa30",
   "metadata": {},
   "source": [
    "<li>numPages is that variable</li>"
   ]
  },
  {
   "cell_type": "markdown",
   "id": "bbb97de0",
   "metadata": {},
   "source": [
    "<li>pdf = PdfFileReader(src_pdf)</li>\n",
    "<li>pdf.numPages</li>"
   ]
  },
  {
   "cell_type": "code",
   "execution_count": null,
   "id": "cfaa9c46",
   "metadata": {},
   "outputs": [],
   "source": []
  },
  {
   "cell_type": "markdown",
   "id": "16365ad5",
   "metadata": {},
   "source": [
    "# 4. If a PdfFileReader object’s PDF is encrypted with the password swordfish, what must you do before you can obtain Page objects from it?"
   ]
  },
  {
   "cell_type": "code",
   "execution_count": 1,
   "id": "19e06339",
   "metadata": {},
   "outputs": [],
   "source": [
    "from PyPDF2 import PdfFileReader\n",
    "from PyPDF2 import PdfFileWriter\n",
    "class PdfClass:\n",
    "    \n",
    "    def __init__(self,path):\n",
    "        self.pdf_path = path\n",
    "        \n",
    "    def new_encrpyted_pdf(self,op_filename,pwd):\n",
    "        \n",
    "        try:\n",
    "            src_pdf = open(self.pdf_path,'rb')\n",
    "\n",
    "            pdf_read = PdfFileReader(src_pdf)\n",
    "            file = PdfFileWriter()\n",
    "\n",
    "            #writing to new pdf\n",
    "            for page in range(pdf_read.getNumPages()):\n",
    "                page_no = pdf_read.getPage(page)\n",
    "                file.addPage(page_no)\n",
    "\n",
    "            file.encrypt(user_pwd = pwd,owner_pwd=None,use_128bit=True)\n",
    "            \n",
    "            with open(op_filename,'wb') as dest_pdf:\n",
    "                file.write(dest_pdf)\n",
    "\n",
    "            #closing src file\n",
    "            src_pdf.close()\n",
    "            \n",
    "            \n",
    "            return 'file created succesfully'\n",
    "         \n",
    "        except Exception as e :\n",
    "            return f\"Something wrong {e}\"\n",
    "        \n",
    "    def read_encrpyted(self,in_filename,pwd):\n",
    "        try:\n",
    "            \n",
    "            src_pdf = open(in_filename,'rb')\n",
    "            pdf_read = PdfFileReader(src_pdf)\n",
    "            decrypt_key = pdf_read.decrypt(pwd)\n",
    "            \n",
    "            if decrypt_key == 1:\n",
    "                info = pdf_read.getDocumentInfo()\n",
    "                txt = f\"Information about {self.pdf_path},Number of pages {pdf_read.numPages}\"\n",
    "                return txt\n",
    "            \n",
    "            else:\n",
    "                return 'Wrong key'\n",
    "                \n",
    "        except Exception as e :\n",
    "            return f\"Something wrong {e}\"\n",
    "            \n",
    "\n",
    "       "
   ]
  },
  {
   "cell_type": "code",
   "execution_count": 2,
   "id": "8ecabe69",
   "metadata": {},
   "outputs": [
    {
     "name": "stdout",
     "output_type": "stream",
     "text": [
      "file created succesfully\n",
      "Information about example.pdf,Number of pages 5\n"
     ]
    }
   ],
   "source": [
    "src = 'example.pdf'\n",
    "op = 'example-new.pdf'\n",
    "pwd = 'swordfish'\n",
    "pdf = PdfClass(src)\n",
    "print(pdf.new_encrpyted_pdf(op,pwd))\n",
    "print(pdf.read_encrpyted(op,pwd))"
   ]
  },
  {
   "cell_type": "markdown",
   "id": "6f765b1a",
   "metadata": {},
   "source": [
    "#### <li>Thus post decrpytion we can get access to Page objects</li>"
   ]
  },
  {
   "cell_type": "code",
   "execution_count": null,
   "id": "9d4717aa",
   "metadata": {},
   "outputs": [],
   "source": []
  },
  {
   "cell_type": "markdown",
   "id": "c4c9fee7",
   "metadata": {},
   "source": [
    "# 5. What methods do you use to rotate a page?"
   ]
  },
  {
   "cell_type": "markdown",
   "id": "047d9e93",
   "metadata": {},
   "source": [
    "<li>PyPDF2.pdf.PageObject.rotateCounterClockwise</li>\n",
    "<li>PyPDF2.pdf.PageObject.rotateClockwise</li>"
   ]
  },
  {
   "cell_type": "code",
   "execution_count": null,
   "id": "2ec1bbee",
   "metadata": {},
   "outputs": [],
   "source": []
  },
  {
   "cell_type": "markdown",
   "id": "e8fffcbf",
   "metadata": {},
   "source": [
    "# 6. What is the difference between a Run object and a Paragraph object?"
   ]
  },
  {
   "cell_type": "markdown",
   "id": "1ca7d0e5",
   "metadata": {},
   "source": [
    "<ul>Word documents contains stext within three object levels.\n",
    "    <li>The lowest level is run object</li>\n",
    "    <li>The middle level is Paragraph object</li>\n",
    "</ul>"
   ]
  },
  {
   "cell_type": "code",
   "execution_count": null,
   "id": "6848560c",
   "metadata": {},
   "outputs": [],
   "source": []
  },
  {
   "cell_type": "markdown",
   "id": "1191a15d",
   "metadata": {},
   "source": [
    "# 7. How do you obtain a list of Paragraph objects for a Document object that’s stored in a variable named doc?"
   ]
  },
  {
   "cell_type": "code",
   "execution_count": 2,
   "id": "5c0f5b7d",
   "metadata": {},
   "outputs": [
    {
     "data": {
      "text/plain": [
       "[<docx.text.paragraph.Paragraph at 0x151f7f50e80>,\n",
       " <docx.text.paragraph.Paragraph at 0x151f7f50f60>,\n",
       " <docx.text.paragraph.Paragraph at 0x151f7f50dd8>,\n",
       " <docx.text.paragraph.Paragraph at 0x151f7f50eb8>,\n",
       " <docx.text.paragraph.Paragraph at 0x151f7f50fd0>,\n",
       " <docx.text.paragraph.Paragraph at 0x151f7f50a58>]"
      ]
     },
     "execution_count": 2,
     "metadata": {},
     "output_type": "execute_result"
    }
   ],
   "source": [
    "import docx\n",
    "\n",
    "doc = docx.Document()\n",
    "doc.add_heading(\"Sample Doc\")\n",
    "for i in range(5):\n",
    "    doc.add_paragraph(f\"Paragraph {i}\")\n",
    "doc.save('Sample.docx')\n",
    "doc.paragraphs"
   ]
  },
  {
   "cell_type": "code",
   "execution_count": null,
   "id": "77b82b61",
   "metadata": {},
   "outputs": [],
   "source": []
  },
  {
   "cell_type": "markdown",
   "id": "be0e4670",
   "metadata": {},
   "source": [
    "# 8. What type of object has bold, underline, italic, strike, and outline variables?"
   ]
  },
  {
   "cell_type": "markdown",
   "id": "4ebc642b",
   "metadata": {},
   "source": [
    "<li>Font objects i.e class docx.text.run.Font have all the above mentioned variables</li>\n"
   ]
  },
  {
   "cell_type": "code",
   "execution_count": null,
   "id": "d479f402",
   "metadata": {},
   "outputs": [],
   "source": []
  },
  {
   "cell_type": "markdown",
   "id": "09ace997",
   "metadata": {},
   "source": [
    "# 9. What is the difference between False, True, and None for the bold variable?"
   ]
  },
  {
   "cell_type": "markdown",
   "id": "51b63886",
   "metadata": {},
   "source": [
    "<ul>quoting from the offical library documentation\n",
    "<li>Many font properties are tri-state, meaning they can take the values True, False, and None. </li>\n",
    "<li>True means the property is “on”, False means it is “off”. Conceptually, the None value means “inherit”.</li>\n",
    "</ul>"
   ]
  },
  {
   "cell_type": "code",
   "execution_count": null,
   "id": "47cf9515",
   "metadata": {},
   "outputs": [],
   "source": []
  },
  {
   "cell_type": "markdown",
   "id": "1a0e013e",
   "metadata": {},
   "source": [
    "# 10. How do you create a Document object for a new Word document?"
   ]
  },
  {
   "cell_type": "markdown",
   "id": "fe47c0ab",
   "metadata": {},
   "source": [
    "<li>import docx</li>\n",
    "<li>doc = docx.Document()</li"
   ]
  },
  {
   "cell_type": "code",
   "execution_count": null,
   "id": "a30b1256",
   "metadata": {},
   "outputs": [],
   "source": []
  },
  {
   "cell_type": "markdown",
   "id": "7670cf21",
   "metadata": {},
   "source": [
    "# 11. How do you add a paragraph with the text &#39;Hello, there!&#39; to a Document object stored in a variable named doc?"
   ]
  },
  {
   "cell_type": "code",
   "execution_count": 7,
   "id": "c1c95509",
   "metadata": {},
   "outputs": [
    {
     "name": "stdout",
     "output_type": "stream",
     "text": [
      "Hello,there!\n"
     ]
    }
   ],
   "source": [
    "import docx\n",
    "\n",
    "doc = docx.Document()\n",
    "doc.add_paragraph(f\"Hello,there!\")\n",
    "doc.save('Sample.docx')\n",
    "for para in doc.paragraphs:\n",
    "    print(para.text)"
   ]
  },
  {
   "cell_type": "code",
   "execution_count": null,
   "id": "1c549b78",
   "metadata": {},
   "outputs": [],
   "source": []
  },
  {
   "cell_type": "markdown",
   "id": "6aa45e87",
   "metadata": {},
   "source": [
    "# 12. What integers represent the levels of headings available in Word documents?"
   ]
  },
  {
   "cell_type": "markdown",
   "id": "898c560f",
   "metadata": {},
   "source": [
    "<li>integers from 1 to 9 with 1 being the highest</li>"
   ]
  },
  {
   "cell_type": "code",
   "execution_count": null,
   "id": "eb22f096",
   "metadata": {},
   "outputs": [],
   "source": []
  }
 ],
 "metadata": {
  "kernelspec": {
   "display_name": "iNeuronFSDSPythonModule",
   "language": "python",
   "name": "ineuronfsdspythonmodule"
  },
  "language_info": {
   "codemirror_mode": {
    "name": "ipython",
    "version": 3
   },
   "file_extension": ".py",
   "mimetype": "text/x-python",
   "name": "python",
   "nbconvert_exporter": "python",
   "pygments_lexer": "ipython3",
   "version": "3.6.12"
  }
 },
 "nbformat": 4,
 "nbformat_minor": 5
}
