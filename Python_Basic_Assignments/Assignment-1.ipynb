{
 "cells": [
  {
   "cell_type": "markdown",
   "id": "breathing-greenhouse",
   "metadata": {},
   "source": [
    "## 1. In the below elements which of them are values or an expression? eg:- values can be integer or string and expressions will be mathematical operators.\n",
    "\n",
    "\n",
    "#### *, 'hello', -87.8, -, / , +, 6"
   ]
  },
  {
   "cell_type": "markdown",
   "id": "hybrid-wallpaper",
   "metadata": {},
   "source": [
    "# Soln"
   ]
  },
  {
   "cell_type": "markdown",
   "id": "dressed-stability",
   "metadata": {},
   "source": [
    "<li>operators are (*,-,/,+) and operands/values are (6,-87.8,'hello') </li>\n",
    "<li>operators are applicable on operands/values</li>"
   ]
  },
  {
   "cell_type": "code",
   "execution_count": 1,
   "id": "literary-scope",
   "metadata": {},
   "outputs": [
    {
     "name": "stdout",
     "output_type": "stream",
     "text": [
      "93.8\n",
      "-81.8\n",
      "-526.8\n",
      "-14.633333333333333\n",
      "hellohellohellohellohellohello\n"
     ]
    }
   ],
   "source": [
    "# examples\n",
    "a = 6-(-87.8)\n",
    "print(a)\n",
    "a = 6+(-87.8)\n",
    "print(a)\n",
    "a = -87.8*6\n",
    "print(a)\n",
    "a= -87.8/6\n",
    "print(a)\n",
    "a = 'hello'*6\n",
    "print(a)"
   ]
  },
  {
   "cell_type": "code",
   "execution_count": null,
   "id": "considerable-italic",
   "metadata": {},
   "outputs": [],
   "source": []
  },
  {
   "cell_type": "markdown",
   "id": "responsible-commander",
   "metadata": {},
   "source": [
    "## 2. What is the difference between string and variable? "
   ]
  },
  {
   "cell_type": "markdown",
   "id": "freelance-comedy",
   "metadata": {},
   "source": [
    "# Soln"
   ]
  },
  {
   "cell_type": "code",
   "execution_count": 2,
   "id": "waiting-celebrity",
   "metadata": {},
   "outputs": [
    {
     "name": "stdout",
     "output_type": "stream",
     "text": [
      "123\n",
      "mohan\n"
     ]
    }
   ],
   "source": [
    "#lets take the example of mohan vs 'mohan'\n",
    "#mohan is a name of a variable that holds data\n",
    "mohan = 123\n",
    "print(mohan)\n",
    "#'mohan' is normal string aka arrangement of characters that is stored in a variable named s\n",
    "s = 'mohan'\n",
    "print(s)"
   ]
  },
  {
   "cell_type": "code",
   "execution_count": null,
   "id": "impaired-effects",
   "metadata": {},
   "outputs": [],
   "source": []
  },
  {
   "cell_type": "markdown",
   "id": "known-abraham",
   "metadata": {},
   "source": [
    "## 3. Describe three different data types."
   ]
  },
  {
   "cell_type": "markdown",
   "id": "statutory-amber",
   "metadata": {},
   "source": [
    "# Soln"
   ]
  },
  {
   "cell_type": "code",
   "execution_count": 3,
   "id": "indirect-count",
   "metadata": {},
   "outputs": [
    {
     "name": "stdout",
     "output_type": "stream",
     "text": [
      "1\n",
      "1.2122\n",
      "(3+4j)\n"
     ]
    }
   ],
   "source": [
    "#numeric data\n",
    "a = 1\n",
    "print(a)\n",
    "a=1.2122\n",
    "print(a)\n",
    "a= 3+4j\n",
    "print(a)"
   ]
  },
  {
   "cell_type": "code",
   "execution_count": 4,
   "id": "suitable-scanning",
   "metadata": {},
   "outputs": [
    {
     "name": "stdout",
     "output_type": "stream",
     "text": [
      "apple\n",
      "b\n"
     ]
    }
   ],
   "source": [
    "#strings\n",
    "a = 'apple'\n",
    "print(a)\n",
    "a='b'\n",
    "print(a)"
   ]
  },
  {
   "cell_type": "code",
   "execution_count": 5,
   "id": "transparent-juvenile",
   "metadata": {},
   "outputs": [
    {
     "name": "stdout",
     "output_type": "stream",
     "text": [
      "True\n",
      "False\n"
     ]
    }
   ],
   "source": [
    "#boolean\n",
    "a = True\n",
    "print(a)\n",
    "a = False\n",
    "print(a)"
   ]
  },
  {
   "cell_type": "code",
   "execution_count": null,
   "id": "nasty-iceland",
   "metadata": {},
   "outputs": [],
   "source": []
  },
  {
   "cell_type": "markdown",
   "id": "mature-scope",
   "metadata": {},
   "source": [
    "## 4. What is an expression made up of? What do all expressions do?"
   ]
  },
  {
   "cell_type": "markdown",
   "id": "involved-mouth",
   "metadata": {},
   "source": [
    "# Soln a"
   ]
  },
  {
   "cell_type": "code",
   "execution_count": 6,
   "id": "compressed-crawford",
   "metadata": {},
   "outputs": [
    {
     "name": "stdout",
     "output_type": "stream",
     "text": [
      "d represents an expression made up of operators and operands\n"
     ]
    }
   ],
   "source": [
    "# Example\n",
    "a = 1\n",
    "b = 2\n",
    "c = 3\n",
    "d = a*b+c\n",
    "print(\"d represents an expression made up of operators and operands\")"
   ]
  },
  {
   "cell_type": "markdown",
   "id": "welcome-routine",
   "metadata": {},
   "source": [
    "# Soln b (Need of Expressions )"
   ]
  },
  {
   "cell_type": "code",
   "execution_count": 7,
   "id": "restricted-corporation",
   "metadata": {},
   "outputs": [
    {
     "name": "stdout",
     "output_type": "stream",
     "text": [
      "Enter Name--adsa\n",
      "Enter Age--23\n",
      "Is Indian (Y/N) -- y\n",
      "Eligble Voter\n"
     ]
    }
   ],
   "source": [
    "name = input('Enter Name--')\n",
    "age = int(input('Enter Age--'))\n",
    "citizen = input('Is Indian (Y/N) -- ')\n",
    "\n",
    "if age >=18 and (citizen == 'Y' or citizen =='y'): #expressions being combined using logical operators\n",
    "    print('Eligble Voter')\n",
    "else:\n",
    "    print('Not eligible')"
   ]
  },
  {
   "cell_type": "markdown",
   "id": "fabulous-beaver",
   "metadata": {},
   "source": [
    "<li> Like in soln b,we use expressions to write complex conditions that deal with real life scenarios</li>"
   ]
  },
  {
   "cell_type": "code",
   "execution_count": null,
   "id": "domestic-defensive",
   "metadata": {},
   "outputs": [],
   "source": []
  },
  {
   "cell_type": "markdown",
   "id": "illegal-coverage",
   "metadata": {},
   "source": [
    "## 5. This assignment statements, like spam = 10. What is the difference between an expression and a statement?\n"
   ]
  },
  {
   "cell_type": "markdown",
   "id": "upper-passport",
   "metadata": {},
   "source": [
    "# Soln"
   ]
  },
  {
   "cell_type": "code",
   "execution_count": 8,
   "id": "civilian-allergy",
   "metadata": {},
   "outputs": [],
   "source": [
    "spam = 10 "
   ]
  },
  {
   "cell_type": "markdown",
   "id": "edb334dc",
   "metadata": {},
   "source": [
    "<li>Its just an assignment of value to a variable named spam</li>"
   ]
  },
  {
   "cell_type": "code",
   "execution_count": 9,
   "id": "ordered-teach",
   "metadata": {},
   "outputs": [
    {
     "name": "stdout",
     "output_type": "stream",
     "text": [
      "23\n"
     ]
    }
   ],
   "source": [
    "spam = 10\n",
    "y = 2\n",
    "z = 3\n",
    "j = spam*y+z \n",
    "print(j)"
   ]
  },
  {
   "cell_type": "markdown",
   "id": "71e2ee5d",
   "metadata": {},
   "source": [
    "<li>Over here we are using the variable spam in which we just ASSIGNED a value in a expression to get an outcome </li>"
   ]
  },
  {
   "cell_type": "code",
   "execution_count": null,
   "id": "proud-genealogy",
   "metadata": {},
   "outputs": [],
   "source": []
  },
  {
   "cell_type": "markdown",
   "id": "economic-rabbit",
   "metadata": {},
   "source": [
    "## 6. After running the following code, what does the variable bacon contain?\n",
    "## bacon = 22\n",
    "## bacon + 1\n"
   ]
  },
  {
   "cell_type": "markdown",
   "id": "precise-syndrome",
   "metadata": {},
   "source": [
    "# Soln"
   ]
  },
  {
   "cell_type": "markdown",
   "id": "fa069e70",
   "metadata": {},
   "source": [
    "<li>22 as the incremented value has not be stored</li>"
   ]
  },
  {
   "cell_type": "code",
   "execution_count": null,
   "id": "fossil-snake",
   "metadata": {},
   "outputs": [],
   "source": []
  },
  {
   "cell_type": "markdown",
   "id": "cardiovascular-federal",
   "metadata": {},
   "source": [
    "## 7. What should the values of the following two terms be?\n",
    "\n",
    "# 'spam' + 'spamspam'\n",
    "# 'spam' * 3\n"
   ]
  },
  {
   "cell_type": "markdown",
   "id": "blank-bunch",
   "metadata": {},
   "source": [
    "# Soln"
   ]
  },
  {
   "cell_type": "code",
   "execution_count": 15,
   "id": "dated-amount",
   "metadata": {},
   "outputs": [],
   "source": [
    "# spamspamspam\n",
    "# spamspamspam"
   ]
  },
  {
   "cell_type": "code",
   "execution_count": null,
   "id": "anticipated-acrylic",
   "metadata": {},
   "outputs": [],
   "source": []
  },
  {
   "cell_type": "markdown",
   "id": "artistic-klein",
   "metadata": {},
   "source": [
    "## 8. Why is it that eggs is a true variable name but 100 is not?"
   ]
  },
  {
   "cell_type": "markdown",
   "id": "trained-server",
   "metadata": {},
   "source": [
    "# Soln"
   ]
  },
  {
   "cell_type": "markdown",
   "id": "d265326f",
   "metadata": {},
   "source": [
    "<li>naming coventions come into play while we give a name to a varible</li>\n",
    "<li>eg</li>"
   ]
  },
  {
   "cell_type": "code",
   "execution_count": 10,
   "id": "bored-reception",
   "metadata": {},
   "outputs": [
    {
     "ename": "SyntaxError",
     "evalue": "invalid syntax (Temp/ipykernel_11448/1558277273.py, line 1)",
     "output_type": "error",
     "traceback": [
      "\u001b[1;36m  File \u001b[1;32m\"C:\\Users\\HP\\AppData\\Local\\Temp/ipykernel_11448/1558277273.py\"\u001b[1;36m, line \u001b[1;32m1\u001b[0m\n\u001b[1;33m    1b=5#not valid\u001b[0m\n\u001b[1;37m     ^\u001b[0m\n\u001b[1;31mSyntaxError\u001b[0m\u001b[1;31m:\u001b[0m invalid syntax\n"
     ]
    }
   ],
   "source": [
    "#not valid\n",
    "1b=5\n",
    "print(1b)"
   ]
  },
  {
   "cell_type": "code",
   "execution_count": 11,
   "id": "48858f4d",
   "metadata": {},
   "outputs": [
    {
     "name": "stdout",
     "output_type": "stream",
     "text": [
      "5\n"
     ]
    }
   ],
   "source": [
    "#valid\n",
    "b=5\n",
    "print(b)"
   ]
  },
  {
   "cell_type": "code",
   "execution_count": null,
   "id": "93ab47b2",
   "metadata": {},
   "outputs": [],
   "source": []
  },
  {
   "cell_type": "markdown",
   "id": "referenced-interview",
   "metadata": {},
   "source": [
    "## 9. What three functions can be used to get the integer, floating-point number, or string version of a value?"
   ]
  },
  {
   "cell_type": "markdown",
   "id": "homeless-banner",
   "metadata": {},
   "source": [
    "# Soln"
   ]
  },
  {
   "cell_type": "code",
   "execution_count": 25,
   "id": "significant-commissioner",
   "metadata": {},
   "outputs": [
    {
     "name": "stdout",
     "output_type": "stream",
     "text": [
      "55 <class 'int'>\n",
      "55.0 <class 'float'>\n",
      "55 <class 'str'>\n"
     ]
    }
   ],
   "source": [
    "a=55\n",
    "ia=int(a)\n",
    "fa=float(a)\n",
    "sa=str(a)\n",
    "print(ia,type(ia))\n",
    "print(fa,type(fa))\n",
    "print(sa,type(sa))"
   ]
  },
  {
   "cell_type": "code",
   "execution_count": null,
   "id": "academic-porcelain",
   "metadata": {},
   "outputs": [],
   "source": []
  },
  {
   "cell_type": "markdown",
   "id": "mounted-context",
   "metadata": {},
   "source": [
    "## 10. Why does this expression cause an error? How can you fix it?\n",
    "\n",
    "### 'I have eaten ' + 99 + ' burritos.'\n",
    "\n"
   ]
  },
  {
   "cell_type": "code",
   "execution_count": 21,
   "id": "raising-clearing",
   "metadata": {},
   "outputs": [],
   "source": []
  },
  {
   "cell_type": "markdown",
   "id": "funky-november",
   "metadata": {},
   "source": [
    "# Soln"
   ]
  },
  {
   "cell_type": "code",
   "execution_count": 22,
   "id": "digital-phase",
   "metadata": {},
   "outputs": [
    {
     "ename": "TypeError",
     "evalue": "must be str, not int",
     "output_type": "error",
     "traceback": [
      "\u001b[1;31m---------------------------------------------------------------------------\u001b[0m",
      "\u001b[1;31mTypeError\u001b[0m                                 Traceback (most recent call last)",
      "\u001b[1;32m<ipython-input-22-d24137131a5c>\u001b[0m in \u001b[0;36m<module>\u001b[1;34m()\u001b[0m\n\u001b[1;32m----> 1\u001b[1;33m \u001b[1;34m'I have eaten '\u001b[0m \u001b[1;33m+\u001b[0m \u001b[1;36m99\u001b[0m \u001b[1;33m+\u001b[0m \u001b[1;34m' burritos.'\u001b[0m\u001b[1;33m\u001b[0m\u001b[1;33m\u001b[0m\u001b[0m\n\u001b[0m",
      "\u001b[1;31mTypeError\u001b[0m: must be str, not int"
     ]
    }
   ],
   "source": [
    "'I have eaten ' + 99 + ' burritos.' # Typeerror because of doing str + int"
   ]
  },
  {
   "cell_type": "code",
   "execution_count": 23,
   "id": "employed-immunology",
   "metadata": {},
   "outputs": [
    {
     "data": {
      "text/plain": [
       "'I have eaten 99 burritos.'"
      ]
     },
     "execution_count": 23,
     "metadata": {},
     "output_type": "execute_result"
    }
   ],
   "source": [
    "'I have eaten ' + '99' + ' burritos.'# resolution"
   ]
  },
  {
   "cell_type": "code",
   "execution_count": null,
   "id": "insured-shape",
   "metadata": {},
   "outputs": [],
   "source": []
  }
 ],
 "metadata": {
  "kernelspec": {
   "display_name": "Python 3 (ipykernel)",
   "language": "python",
   "name": "python3"
  },
  "language_info": {
   "codemirror_mode": {
    "name": "ipython",
    "version": 3
   },
   "file_extension": ".py",
   "mimetype": "text/x-python",
   "name": "python",
   "nbconvert_exporter": "python",
   "pygments_lexer": "ipython3",
   "version": "3.8.12"
  }
 },
 "nbformat": 4,
 "nbformat_minor": 5
}
