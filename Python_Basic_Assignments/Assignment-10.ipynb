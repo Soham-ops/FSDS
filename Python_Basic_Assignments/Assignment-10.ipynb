{
 "cells": [
  {
   "cell_type": "markdown",
   "id": "advisory-tennessee",
   "metadata": {},
   "source": [
    "# 1. How do you distinguish between shutil.copy() and shutil.copytree()?\n"
   ]
  },
  {
   "cell_type": "markdown",
   "id": "listed-certificate",
   "metadata": {},
   "source": [
    "# Soln"
   ]
  },
  {
   "cell_type": "code",
   "execution_count": 28,
   "id": "extensive-receiver",
   "metadata": {},
   "outputs": [],
   "source": [
    "import os\n",
    "import shutil"
   ]
  },
  {
   "cell_type": "code",
   "execution_count": 29,
   "id": "tough-asian",
   "metadata": {},
   "outputs": [
    {
     "data": {
      "text/plain": [
       "['.ipynb_checkpoints',\n",
       " 'Assignment-10.ipynb',\n",
       " 'Assignment-11.ipynb',\n",
       " 'Rough.ipynb',\n",
       " 'Status.txt']"
      ]
     },
     "execution_count": 29,
     "metadata": {},
     "output_type": "execute_result"
    }
   ],
   "source": [
    "os.listdir()"
   ]
  },
  {
   "cell_type": "code",
   "execution_count": 30,
   "id": "accurate-glossary",
   "metadata": {},
   "outputs": [],
   "source": [
    "f = open('work.txt','w')\n",
    "f.write('Hello \\n')\n",
    "ls = ['This is Ram \\n','This is Vishnu \\n','This is Murli \\n']\n",
    "f.writelines(ls)\n",
    "f.close()"
   ]
  },
  {
   "cell_type": "code",
   "execution_count": 31,
   "id": "important-thirty",
   "metadata": {},
   "outputs": [],
   "source": [
    "source = 'work.txt'"
   ]
  },
  {
   "cell_type": "code",
   "execution_count": 32,
   "id": "narrative-witch",
   "metadata": {},
   "outputs": [],
   "source": [
    "os.mkdir('shutilc')"
   ]
  },
  {
   "cell_type": "code",
   "execution_count": 33,
   "id": "secure-dubai",
   "metadata": {},
   "outputs": [
    {
     "data": {
      "text/plain": [
       "['.ipynb_checkpoints',\n",
       " 'Assignment-10.ipynb',\n",
       " 'Assignment-11.ipynb',\n",
       " 'Rough.ipynb',\n",
       " 'shutilc',\n",
       " 'Status.txt',\n",
       " 'work.txt']"
      ]
     },
     "execution_count": 33,
     "metadata": {},
     "output_type": "execute_result"
    }
   ],
   "source": [
    "os.listdir()"
   ]
  },
  {
   "cell_type": "code",
   "execution_count": 34,
   "id": "vietnamese-sodium",
   "metadata": {},
   "outputs": [
    {
     "data": {
      "text/plain": [
       "'E:\\\\iNeuron\\\\FSDS November\\\\Python_Basic_Assignments_Answer\\\\shutilc'"
      ]
     },
     "execution_count": 34,
     "metadata": {},
     "output_type": "execute_result"
    }
   ],
   "source": [
    "os.path.join(os.getcwd(),'shutilc')"
   ]
  },
  {
   "cell_type": "code",
   "execution_count": 35,
   "id": "imported-witch",
   "metadata": {},
   "outputs": [],
   "source": [
    "destination = os.path.join(os.getcwd(),'shutilc')"
   ]
  },
  {
   "cell_type": "code",
   "execution_count": 36,
   "id": "attempted-toolbox",
   "metadata": {},
   "outputs": [
    {
     "data": {
      "text/plain": [
       "[]"
      ]
     },
     "execution_count": 36,
     "metadata": {},
     "output_type": "execute_result"
    }
   ],
   "source": [
    "os.listdir(destination)#pre copy"
   ]
  },
  {
   "cell_type": "code",
   "execution_count": 37,
   "id": "coupled-minneapolis",
   "metadata": {},
   "outputs": [
    {
     "data": {
      "text/plain": [
       "'E:\\\\iNeuron\\\\FSDS November\\\\Python_Basic_Assignments_Answer\\\\shutilc\\\\work.txt'"
      ]
     },
     "execution_count": 37,
     "metadata": {},
     "output_type": "execute_result"
    }
   ],
   "source": [
    "shutil.copy(source,destination)"
   ]
  },
  {
   "cell_type": "code",
   "execution_count": 38,
   "id": "infrared-praise",
   "metadata": {},
   "outputs": [
    {
     "data": {
      "text/plain": [
       "['work.txt']"
      ]
     },
     "execution_count": 38,
     "metadata": {},
     "output_type": "execute_result"
    }
   ],
   "source": [
    "os.listdir(destination)#post copy"
   ]
  },
  {
   "cell_type": "markdown",
   "id": "federal-brooks",
   "metadata": {},
   "source": [
    "# Copytree"
   ]
  },
  {
   "cell_type": "code",
   "execution_count": 39,
   "id": "invalid-explorer",
   "metadata": {},
   "outputs": [
    {
     "data": {
      "text/plain": [
       "'E:\\\\iNeuron\\\\FSDS November\\\\Python_Basic_Assignments_Answer\\\\shutilc'"
      ]
     },
     "execution_count": 39,
     "metadata": {},
     "output_type": "execute_result"
    }
   ],
   "source": [
    "os.path.join(os.getcwd(),'shutilc')"
   ]
  },
  {
   "cell_type": "code",
   "execution_count": 40,
   "id": "spoken-fossil",
   "metadata": {},
   "outputs": [],
   "source": [
    "source = os.path.join(os.getcwd(),'shutilc')"
   ]
  },
  {
   "cell_type": "code",
   "execution_count": 41,
   "id": "oriented-court",
   "metadata": {},
   "outputs": [
    {
     "data": {
      "text/plain": [
       "'E:\\\\iNeuron\\\\FSDS November\\\\Python_Basic_Assignments_Answer\\\\shutilc\\\\test1'"
      ]
     },
     "execution_count": 41,
     "metadata": {},
     "output_type": "execute_result"
    }
   ],
   "source": [
    "nest1 = os.path.join(source,'test1')\n",
    "nest1"
   ]
  },
  {
   "cell_type": "code",
   "execution_count": 42,
   "id": "moved-evolution",
   "metadata": {},
   "outputs": [],
   "source": [
    "os.mkdir(nest1)"
   ]
  },
  {
   "cell_type": "code",
   "execution_count": 43,
   "id": "dangerous-saturn",
   "metadata": {},
   "outputs": [
    {
     "data": {
      "text/plain": [
       "['test1', 'work.txt']"
      ]
     },
     "execution_count": 43,
     "metadata": {},
     "output_type": "execute_result"
    }
   ],
   "source": [
    "os.listdir(source)"
   ]
  },
  {
   "cell_type": "code",
   "execution_count": 44,
   "id": "egyptian-filter",
   "metadata": {},
   "outputs": [
    {
     "data": {
      "text/plain": [
       "'E:\\\\iNeuron\\\\FSDS November\\\\Python_Basic_Assignments_Answer\\\\shutilc\\\\test1\\\\test2'"
      ]
     },
     "execution_count": 44,
     "metadata": {},
     "output_type": "execute_result"
    }
   ],
   "source": [
    "nest2 = os.path.join(nest1,'test2')\n",
    "nest2"
   ]
  },
  {
   "cell_type": "code",
   "execution_count": 45,
   "id": "peaceful-fleet",
   "metadata": {},
   "outputs": [],
   "source": [
    "os.mkdir(nest2)"
   ]
  },
  {
   "cell_type": "code",
   "execution_count": 46,
   "id": "systematic-montreal",
   "metadata": {},
   "outputs": [
    {
     "data": {
      "text/plain": [
       "['test2']"
      ]
     },
     "execution_count": 46,
     "metadata": {},
     "output_type": "execute_result"
    }
   ],
   "source": [
    "os.listdir(nest1)"
   ]
  },
  {
   "cell_type": "code",
   "execution_count": 47,
   "id": "alive-oakland",
   "metadata": {},
   "outputs": [],
   "source": [
    "src = 'E:\\\\iNeuron\\\\FSDS November\\\\Python_Basic_Assignments_Answer\\\\shutilc\\\\work.txt'\n",
    "dest = nest2"
   ]
  },
  {
   "cell_type": "code",
   "execution_count": 48,
   "id": "damaged-romantic",
   "metadata": {},
   "outputs": [
    {
     "data": {
      "text/plain": [
       "[]"
      ]
     },
     "execution_count": 48,
     "metadata": {},
     "output_type": "execute_result"
    }
   ],
   "source": [
    "os.listdir(nest2)#pre move"
   ]
  },
  {
   "cell_type": "code",
   "execution_count": 49,
   "id": "outdoor-greenhouse",
   "metadata": {},
   "outputs": [
    {
     "data": {
      "text/plain": [
       "'E:\\\\iNeuron\\\\FSDS November\\\\Python_Basic_Assignments_Answer\\\\shutilc\\\\test1\\\\test2\\\\work.txt'"
      ]
     },
     "execution_count": 49,
     "metadata": {},
     "output_type": "execute_result"
    }
   ],
   "source": [
    "shutil.move(src,dest)"
   ]
  },
  {
   "cell_type": "code",
   "execution_count": 50,
   "id": "gentle-proxy",
   "metadata": {},
   "outputs": [
    {
     "data": {
      "text/plain": [
       "['work.txt']"
      ]
     },
     "execution_count": 50,
     "metadata": {},
     "output_type": "execute_result"
    }
   ],
   "source": [
    "os.listdir(nest2)#post move"
   ]
  },
  {
   "cell_type": "code",
   "execution_count": 51,
   "id": "accepted-negative",
   "metadata": {},
   "outputs": [],
   "source": [
    "dst = 'E:\\\\iNeuron\\\\FSDS November\\\\Python_Basic_Assignments_Answer\\\\shutilcDest'"
   ]
  },
  {
   "cell_type": "code",
   "execution_count": 52,
   "id": "editorial-unknown",
   "metadata": {},
   "outputs": [
    {
     "data": {
      "text/plain": [
       "['.ipynb_checkpoints',\n",
       " 'Assignment-10.ipynb',\n",
       " 'Assignment-11.ipynb',\n",
       " 'Rough.ipynb',\n",
       " 'shutilc',\n",
       " 'Status.txt',\n",
       " 'work.txt']"
      ]
     },
     "execution_count": 52,
     "metadata": {},
     "output_type": "execute_result"
    }
   ],
   "source": [
    "os.listdir()#pre copytree operation"
   ]
  },
  {
   "cell_type": "code",
   "execution_count": 53,
   "id": "removable-baker",
   "metadata": {},
   "outputs": [
    {
     "data": {
      "text/plain": [
       "'E:\\\\iNeuron\\\\FSDS November\\\\Python_Basic_Assignments_Answer\\\\shutilcDest'"
      ]
     },
     "execution_count": 53,
     "metadata": {},
     "output_type": "execute_result"
    }
   ],
   "source": [
    "shutil.copytree(source,dst)#copy dir. struct with shutilc as source"
   ]
  },
  {
   "cell_type": "code",
   "execution_count": 54,
   "id": "sexual-contents",
   "metadata": {},
   "outputs": [
    {
     "data": {
      "text/plain": [
       "['.ipynb_checkpoints',\n",
       " 'Assignment-10.ipynb',\n",
       " 'Assignment-11.ipynb',\n",
       " 'Rough.ipynb',\n",
       " 'shutilc',\n",
       " 'shutilcDest',\n",
       " 'Status.txt',\n",
       " 'work.txt']"
      ]
     },
     "execution_count": 54,
     "metadata": {},
     "output_type": "execute_result"
    }
   ],
   "source": [
    "os.listdir()#post copytree operation"
   ]
  },
  {
   "cell_type": "code",
   "execution_count": 55,
   "id": "aquatic-january",
   "metadata": {},
   "outputs": [
    {
     "data": {
      "text/plain": [
       "['test1']"
      ]
     },
     "execution_count": 55,
     "metadata": {},
     "output_type": "execute_result"
    }
   ],
   "source": [
    "os.listdir('./shutilcDest')"
   ]
  },
  {
   "cell_type": "code",
   "execution_count": 56,
   "id": "enormous-youth",
   "metadata": {},
   "outputs": [
    {
     "data": {
      "text/plain": [
       "['test2']"
      ]
     },
     "execution_count": 56,
     "metadata": {},
     "output_type": "execute_result"
    }
   ],
   "source": [
    "os.listdir('./shutilcDest/test1')"
   ]
  },
  {
   "cell_type": "code",
   "execution_count": 57,
   "id": "canadian-commission",
   "metadata": {},
   "outputs": [
    {
     "data": {
      "text/plain": [
       "['work.txt']"
      ]
     },
     "execution_count": 57,
     "metadata": {},
     "output_type": "execute_result"
    }
   ],
   "source": [
    "os.listdir('./shutilcDest/test1/test2')"
   ]
  },
  {
   "cell_type": "markdown",
   "id": "expensive-tennis",
   "metadata": {},
   "source": [
    "### So as seen copy() will copy contents of a files whereas copytree() will replicate the entire tree structure with root = source variable"
   ]
  },
  {
   "cell_type": "code",
   "execution_count": null,
   "id": "comparative-collins",
   "metadata": {},
   "outputs": [],
   "source": []
  },
  {
   "cell_type": "markdown",
   "id": "creative-specialist",
   "metadata": {},
   "source": [
    "# 2. What function is used to rename files??\n"
   ]
  },
  {
   "cell_type": "markdown",
   "id": "composite-killer",
   "metadata": {},
   "source": [
    "# Soln"
   ]
  },
  {
   "cell_type": "markdown",
   "id": "empty-transformation",
   "metadata": {},
   "source": [
    "<li>os.rename()</li>"
   ]
  },
  {
   "cell_type": "markdown",
   "id": "fancy-equipment",
   "metadata": {},
   "source": [
    "# 3. What is the difference between the delete functions in the send2trash and shutil modules?\n"
   ]
  },
  {
   "cell_type": "markdown",
   "id": "verbal-holly",
   "metadata": {},
   "source": [
    "# Soln"
   ]
  },
  {
   "cell_type": "markdown",
   "id": "corrected-hometown",
   "metadata": {},
   "source": [
    "<li>delete function of shutil module is used to delete the file permanently</li> \n",
    "<li>whereas the one in send2trash does not delete the file permanently ans instead sends it to the recycle bin</li>"
   ]
  },
  {
   "cell_type": "markdown",
   "id": "african-horror",
   "metadata": {},
   "source": [
    "# 4.ZipFile objects have a close() method just like File objects’ close() method. What ZipFile method is equivalent to File objects’ open() method?\n"
   ]
  },
  {
   "cell_type": "markdown",
   "id": "sixth-currency",
   "metadata": {},
   "source": [
    "# Soln"
   ]
  },
  {
   "cell_type": "markdown",
   "id": "asian-moore",
   "metadata": {},
   "source": [
    "<li>Quoting from the python documentation</li>\n",
    "<p>class zipfile.ZipFile(file, mode='r', compression=ZIP_STORED, allowZip64=True, compresslevel=None, *, strict_timestamps=True)</p>\n",
    "<ul>\n",
    "<li>Open a ZIP file, where file can be a path to a file (a string), a file-like object or a path-like object.</li>\n",
    "</ul>\n",
    "<li>Hence ZipFile() is the equivalent method</li>"
   ]
  },
  {
   "cell_type": "markdown",
   "id": "welcome-ideal",
   "metadata": {},
   "source": [
    "# 5. Create a programme that searches a folder tree for files with a certain file extension (such as .pdf or .jpg). Copy these files from whatever location they are in to a new folder.\n",
    "\n"
   ]
  },
  {
   "cell_type": "markdown",
   "id": "natural-david",
   "metadata": {},
   "source": [
    "# Soln"
   ]
  },
  {
   "cell_type": "code",
   "execution_count": 3,
   "id": "freelance-assessment",
   "metadata": {},
   "outputs": [
    {
     "ename": "SyntaxError",
     "evalue": "EOL while scanning string literal (<ipython-input-3-3397633c6633>, line 8)",
     "output_type": "error",
     "traceback": [
      "\u001b[1;36m  File \u001b[1;32m\"<ipython-input-3-3397633c6633>\"\u001b[1;36m, line \u001b[1;32m8\u001b[0m\n\u001b[1;33m    abspath = input(r\"Please enter the 'ABSOLUTE' file path of the root that provides a nested structure else,\\\\\u001b[0m\n\u001b[1;37m                                                                                                                ^\u001b[0m\n\u001b[1;31mSyntaxError\u001b[0m\u001b[1;31m:\u001b[0m EOL while scanning string literal\n"
     ]
    }
   ],
   "source": [
    "import os\n",
    "import shutil\n",
    "\n",
    "class soln:\n",
    "    \n",
    "    def __init__(self):\n",
    "        \n",
    "        abspath = input(r\"Please enter the 'ABSOLUTE' file path of the root that provides a nested structure else,\\\\\n",
    "                        leave blank -  \")\n",
    "        \n",
    "        #If abspathf field is blank\n",
    "        if not abspath:\n",
    "            print('The field was left blank, hence creating dummy nested structure')\n",
    "            self.createNested()\n",
    "        \n",
    "        else:\n",
    "            print('Path Received')\n",
    "            self.target = abspath\n",
    "    \n",
    "    def createNested(self):\n",
    "        #Code to generate Dummy nested structure to test the code\n",
    "        try:\n",
    "            #Start Point\n",
    "            home = os.getcwd()\n",
    "            \n",
    "            os.mkdir('OS Walk demo folder')\n",
    "            root = os.path.join(os.getcwd(),'OS Walk demo folder')\n",
    "        \n",
    "            #Setting dummy target for nested search to start\n",
    "            self.target = root \n",
    "            \n",
    "            os.chdir(root)\n",
    "            \n",
    "            os.mkdir('nest1')\n",
    "            f = open('test1.txt','w')\n",
    "            f.close()\n",
    "            f = open('test2.txt','w')\n",
    "            f.close()\n",
    "            root1 = os.path.join(os.getcwd(),'nest1')\n",
    "            os.chdir(root1)\n",
    "            \n",
    "            \n",
    "            os.mkdir('nest2')\n",
    "            f = open('test3.txt','w')\n",
    "            f.close()\n",
    "            root2 = os.path.join(os.getcwd(),'nest2')\n",
    "            os.chdir(root2)\n",
    "            \n",
    "            os.mkdir('nest3')\n",
    "            root3 = os.path.join(os.getcwd(),'nest3')\n",
    "            os.chdir(root3)\n",
    "            \n",
    "            f = open('test4.txt','w')\n",
    "            f.close()\n",
    "            f = open('test5.txt','w')\n",
    "            f.close()\n",
    "            \n",
    "            #Return to Start Point\n",
    "            os.chdir(home)\n",
    "            \n",
    "            \n",
    "        except Exception as e:\n",
    "            return f'Something went wrong as {e}'\n",
    "        \n",
    "    def searchFile(self):\n",
    "        \n",
    "        try:\n",
    "            fileX2Search = input(\"Input file extenstion in this format 'txt,pdf' etc. to search accordingly - \")\n",
    "\n",
    "            # List to store the file paths whose extension matches\n",
    "            self.filePath = []\n",
    "\n",
    "            #Traverse folder tree and find files having requiste extensions\n",
    "            for i in os.walk(self.target):\n",
    "                \n",
    "                folder = i[0]\n",
    "                fileList = i[2]\n",
    "                \n",
    "                for file in fileList:\n",
    "\n",
    "                    fileX = file.split('.')[1]\n",
    "                    \n",
    "                    #If extension of file matches the extesnion we are searching\n",
    "                    if fileX2Search == fileX:\n",
    "                        \n",
    "                        #note down the paths of files in self.filePath\n",
    "                        path = os.path.join(folder,file)\n",
    "\n",
    "                        self.filePath.append(path)\n",
    "        \n",
    "        \n",
    "        except Exception as e:\n",
    "            return f\"Something went wrong as {e}\"\n",
    "        \n",
    "    \n",
    "    def copyFile(self):\n",
    "        \n",
    "        # if no file found of the requisite file path\n",
    "        if not self.filePath:\n",
    "            \n",
    "            return 'No files found with the requisite extension'\n",
    "        \n",
    "        else:\n",
    "        \n",
    "            try:\n",
    "\n",
    "                #Create folder where copied files are to be sent\n",
    "                destFolder = input('Enter name of folder where files have to be sent')\n",
    "                os.mkdir(destFolder)\n",
    "                print(f\"Created Folder {destFolder}\")\n",
    "\n",
    "                dest = os.path.join(os.getcwd(),destFolder)\n",
    "\n",
    "                # Copy all files to the given folder\n",
    "                for file in self.filePath:\n",
    "\n",
    "                    print(f\"MOVING {file}-------->{dest}\")\n",
    "                    shutil.copy(file,dest)\n",
    "                    print('copied')\n",
    "\n",
    "            except Exception as e:\n",
    "                return f\"Something went wrong as {e}\"\n"
   ]
  },
  {
   "cell_type": "code",
   "execution_count": 4,
   "id": "5be19433",
   "metadata": {},
   "outputs": [
    {
     "name": "stdout",
     "output_type": "stream",
     "text": [
      "Please enter the 'ABSOLUTE' file path of the root that provides a nested structure else,\\\n",
      "                        leave blank -  \n",
      "The field was left blank, hence creating dummy nested structure\n"
     ]
    }
   ],
   "source": [
    "obj = soln()"
   ]
  },
  {
   "cell_type": "code",
   "execution_count": 5,
   "id": "9c607037",
   "metadata": {},
   "outputs": [
    {
     "name": "stdout",
     "output_type": "stream",
     "text": [
      "Input file extenstion in this format 'txt,pdf' etc. to search accordingly - txt\n"
     ]
    }
   ],
   "source": [
    "obj.searchFile()"
   ]
  },
  {
   "cell_type": "code",
   "execution_count": 6,
   "id": "1bfb2c2f",
   "metadata": {},
   "outputs": [
    {
     "data": {
      "text/plain": [
       "['E:\\\\iNeuron\\\\FSDS November\\\\Python_Basic_Assignments_Answer\\\\OS Walk demo folder\\\\test1.txt',\n",
       " 'E:\\\\iNeuron\\\\FSDS November\\\\Python_Basic_Assignments_Answer\\\\OS Walk demo folder\\\\test2.txt',\n",
       " 'E:\\\\iNeuron\\\\FSDS November\\\\Python_Basic_Assignments_Answer\\\\OS Walk demo folder\\\\nest1\\\\test3.txt',\n",
       " 'E:\\\\iNeuron\\\\FSDS November\\\\Python_Basic_Assignments_Answer\\\\OS Walk demo folder\\\\nest1\\\\nest2\\\\nest3\\\\test4.txt',\n",
       " 'E:\\\\iNeuron\\\\FSDS November\\\\Python_Basic_Assignments_Answer\\\\OS Walk demo folder\\\\nest1\\\\nest2\\\\nest3\\\\test5.txt']"
      ]
     },
     "execution_count": 6,
     "metadata": {},
     "output_type": "execute_result"
    }
   ],
   "source": [
    "obj.filePath"
   ]
  },
  {
   "cell_type": "code",
   "execution_count": 7,
   "id": "cfeaf1e1",
   "metadata": {},
   "outputs": [
    {
     "name": "stdout",
     "output_type": "stream",
     "text": [
      "Enter name of folder where files have to be sentdemo_dest\n",
      "Created Folder demo_dest\n",
      "MOVING E:\\iNeuron\\FSDS November\\Python_Basic_Assignments_Answer\\OS Walk demo folder\\test1.txt-------->E:\\iNeuron\\FSDS November\\Python_Basic_Assignments_Answer\\demo_dest\n",
      "copied\n",
      "MOVING E:\\iNeuron\\FSDS November\\Python_Basic_Assignments_Answer\\OS Walk demo folder\\test2.txt-------->E:\\iNeuron\\FSDS November\\Python_Basic_Assignments_Answer\\demo_dest\n",
      "copied\n",
      "MOVING E:\\iNeuron\\FSDS November\\Python_Basic_Assignments_Answer\\OS Walk demo folder\\nest1\\test3.txt-------->E:\\iNeuron\\FSDS November\\Python_Basic_Assignments_Answer\\demo_dest\n",
      "copied\n",
      "MOVING E:\\iNeuron\\FSDS November\\Python_Basic_Assignments_Answer\\OS Walk demo folder\\nest1\\nest2\\nest3\\test4.txt-------->E:\\iNeuron\\FSDS November\\Python_Basic_Assignments_Answer\\demo_dest\n",
      "copied\n",
      "MOVING E:\\iNeuron\\FSDS November\\Python_Basic_Assignments_Answer\\OS Walk demo folder\\nest1\\nest2\\nest3\\test5.txt-------->E:\\iNeuron\\FSDS November\\Python_Basic_Assignments_Answer\\demo_dest\n",
      "copied\n"
     ]
    }
   ],
   "source": [
    "obj.copyFile()"
   ]
  },
  {
   "cell_type": "code",
   "execution_count": null,
   "id": "67b8992e",
   "metadata": {},
   "outputs": [],
   "source": []
  }
 ],
 "metadata": {
  "kernelspec": {
   "display_name": "iNeuronFSDSPythonModule",
   "language": "python",
   "name": "ineuronfsdspythonmodule"
  },
  "language_info": {
   "codemirror_mode": {
    "name": "ipython",
    "version": 3
   },
   "file_extension": ".py",
   "mimetype": "text/x-python",
   "name": "python",
   "nbconvert_exporter": "python",
   "pygments_lexer": "ipython3",
   "version": "3.6.12"
  }
 },
 "nbformat": 4,
 "nbformat_minor": 5
}
