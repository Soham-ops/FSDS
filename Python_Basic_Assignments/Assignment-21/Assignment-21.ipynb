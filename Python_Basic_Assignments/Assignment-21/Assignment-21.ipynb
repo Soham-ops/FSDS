{
 "cells": [
  {
   "cell_type": "markdown",
   "id": "06ccb6f2",
   "metadata": {},
   "source": [
    "# 1. Add the current date to the text file today.txt as a string.\n"
   ]
  },
  {
   "cell_type": "code",
   "execution_count": 7,
   "id": "12673fcb",
   "metadata": {},
   "outputs": [],
   "source": [
    "from datetime import date\n",
    "from pathlib import Path\n",
    "\n",
    "current = str(date.today())\n",
    "p1 = Path('today.txt')\n",
    "with open(p1,'w') as file:\n",
    "    file.write(current)\n"
   ]
  },
  {
   "cell_type": "code",
   "execution_count": null,
   "id": "9a3d7f26",
   "metadata": {},
   "outputs": [],
   "source": []
  },
  {
   "cell_type": "markdown",
   "id": "ca74a4d9",
   "metadata": {},
   "source": [
    "# 2. Read the text file today.txt into the string today_string\n"
   ]
  },
  {
   "cell_type": "code",
   "execution_count": 12,
   "id": "13f53717",
   "metadata": {},
   "outputs": [],
   "source": [
    "class ReadFile:\n",
    "    \n",
    "    def __init__(self):\n",
    "        self.file = Path('today.txt')\n",
    "\n",
    "    def read(self):\n",
    "        with open(self.file,'r') as file:\n",
    "            today_string = file.read()\n",
    "        print(today_string)"
   ]
  },
  {
   "cell_type": "code",
   "execution_count": 13,
   "id": "5cfb890c",
   "metadata": {},
   "outputs": [
    {
     "name": "stdout",
     "output_type": "stream",
     "text": [
      "2022-02-01\n"
     ]
    }
   ],
   "source": [
    "obj = ReadFile()\n",
    "obj.read()"
   ]
  },
  {
   "cell_type": "code",
   "execution_count": null,
   "id": "4f9662fb",
   "metadata": {},
   "outputs": [],
   "source": []
  },
  {
   "cell_type": "markdown",
   "id": "da21f2ba",
   "metadata": {},
   "source": [
    "# 3. Parse the date from today_string.\n"
   ]
  },
  {
   "cell_type": "code",
   "execution_count": 14,
   "id": "127df6d9",
   "metadata": {},
   "outputs": [],
   "source": [
    "class ReadFile:\n",
    "    \n",
    "    def __init__(self):\n",
    "        self.file = Path('today.txt')\n",
    "\n",
    "    def read(self):\n",
    "        with open(self.file,'r') as file:\n",
    "            today_string = file.read()\n",
    "        return today_string"
   ]
  },
  {
   "cell_type": "code",
   "execution_count": 16,
   "id": "ee92c7ea",
   "metadata": {},
   "outputs": [
    {
     "name": "stdout",
     "output_type": "stream",
     "text": [
      "Parsing Started\n",
      "2 0 2 2 - 0 2 - 0 1 "
     ]
    }
   ],
   "source": [
    "obj = ReadFile()\n",
    "print(\"Parsing Started\")\n",
    "for i in obj.read():\n",
    "    print(i,end=\" \")\n",
    "print('Parsing Ended')"
   ]
  },
  {
   "cell_type": "code",
   "execution_count": null,
   "id": "87ab3975",
   "metadata": {},
   "outputs": [],
   "source": []
  },
  {
   "cell_type": "markdown",
   "id": "3a5f8810",
   "metadata": {},
   "source": [
    "# 4. List the files in your current directory\n"
   ]
  },
  {
   "cell_type": "code",
   "execution_count": 17,
   "id": "9f3a5103",
   "metadata": {},
   "outputs": [
    {
     "name": "stdout",
     "output_type": "stream",
     "text": [
      " Volume in drive E is Work\n",
      " Volume Serial Number is 1CA8-628F\n",
      "\n",
      " Directory of E:\\iNeuron\\FSDS November\\Python_Basic_Assignments\n",
      "\n",
      "01-02-2022  07.55 PM    <DIR>          .\n",
      "01-02-2022  07.55 PM    <DIR>          ..\n",
      "01-02-2022  07.44 PM    <DIR>          .ipynb_checkpoints\n",
      "01-02-2022  07.55 PM             3,298 Assignment-21.ipynb\n",
      "20-01-2022  01.38 PM            31,244 Rough.ipynb\n",
      "20-01-2022  12.41 PM                46 Status.txt\n",
      "01-02-2022  07.50 PM                10 today.txt\n",
      "               4 File(s)         34,598 bytes\n",
      "               3 Dir(s)  186,202,963,968 bytes free\n"
     ]
    }
   ],
   "source": [
    "ls"
   ]
  },
  {
   "cell_type": "code",
   "execution_count": null,
   "id": "e2b09a24",
   "metadata": {},
   "outputs": [],
   "source": []
  },
  {
   "cell_type": "markdown",
   "id": "11e414e9",
   "metadata": {},
   "source": [
    "# 5. Create a list of all of the files in your parent directory (minimum five files should be available).\n"
   ]
  },
  {
   "cell_type": "code",
   "execution_count": 18,
   "id": "9d045808",
   "metadata": {},
   "outputs": [
    {
     "name": "stdout",
     "output_type": "stream",
     "text": [
      ".ipynb_checkpoints\\Assignment - 13-checkpoint.ipynb\n",
      ".ipynb_checkpoints\\Assignment-1-checkpoint.ipynb\n",
      ".ipynb_checkpoints\\Assignment-10-checkpoint.ipynb\n",
      ".ipynb_checkpoints\\Assignment-11-checkpoint.ipynb\n",
      ".ipynb_checkpoints\\Assignment-12-checkpoint.ipynb\n",
      ".ipynb_checkpoints\\Assignment-14-checkpoint.ipynb\n",
      ".ipynb_checkpoints\\Assignment-15-checkpoint.ipynb\n",
      ".ipynb_checkpoints\\Assignment-16-checkpoint.ipynb\n",
      ".ipynb_checkpoints\\Assignment-17-checkpoint.ipynb\n",
      ".ipynb_checkpoints\\Assignment-18-checkpoint.ipynb\n",
      ".ipynb_checkpoints\\Assignment-19-checkpoint.ipynb\n",
      ".ipynb_checkpoints\\Assignment-2-checkpoint.ipynb\n",
      ".ipynb_checkpoints\\Assignment-20-checkpoint.ipynb\n",
      ".ipynb_checkpoints\\Assignment-21-checkpoint.ipynb\n",
      ".ipynb_checkpoints\\Assignment-3-checkpoint.ipynb\n",
      ".ipynb_checkpoints\\Assignment-4-checkpoint.ipynb\n",
      ".ipynb_checkpoints\\Assignment-5-checkpoint.ipynb\n",
      ".ipynb_checkpoints\\Assignment-6-checkpoint.ipynb\n",
      ".ipynb_checkpoints\\Assignment-9-checkpoint.ipynb\n",
      ".ipynb_checkpoints\\Rough-checkpoint.ipynb\n"
     ]
    }
   ],
   "source": [
    "p2 = Path(\".ipynb_checkpoints\")\n",
    "for item in p2.iterdir():\n",
    "    print(item)"
   ]
  },
  {
   "cell_type": "code",
   "execution_count": null,
   "id": "6da675a6",
   "metadata": {},
   "outputs": [],
   "source": []
  },
  {
   "cell_type": "markdown",
   "id": "92d2f38f",
   "metadata": {},
   "source": [
    "# 6. Use multiprocessing to create three separate processes. Make each one wait a random number of seconds between one and five, print the current time, and then exit.\n"
   ]
  },
  {
   "cell_type": "code",
   "execution_count": 1,
   "id": "e72817f9",
   "metadata": {},
   "outputs": [
    {
     "name": "stdout",
     "output_type": "stream",
     "text": [
      "finish\n"
     ]
    }
   ],
   "source": [
    "import multiprocessing\n",
    "from random import randint\n",
    "from datetime import datetime\n",
    "import time\n",
    "import custom\n",
    "\n",
    "def print_time1(timer):\n",
    "    \n",
    "    print(f\"I will wait for {timer} secs\")\n",
    "    time.sleep(timer)\n",
    "    now = datetime.now()\n",
    "    current_time = now.strftime(\"%H:%M:%S\")\n",
    "    print(current_time)\n",
    "    \n",
    "def print_time2(timer):\n",
    "    \n",
    "    print(f\"I will wait for {timer} secs\")\n",
    "    time.sleep(timer)\n",
    "    now = datetime.now()\n",
    "    current_time = now.strftime(\"%H:%M:%S\")\n",
    "    print(current_time)\n",
    "    \n",
    "    \n",
    "def print_time3(timer):\n",
    "    \n",
    "    print(f\"I will wait for {timer} secs\")\n",
    "    time.sleep(timer)\n",
    "    now = datetime.now()\n",
    "    current_time = now.strftime(\"%H:%M:%S\")\n",
    "    print(current_time)\n",
    "    \n",
    "\n",
    "if __name__ == \"__main__\":   \n",
    "    p1 = multiprocessing.Process(target = custom.print_time1,args = (randint(1,5),))\n",
    "    p2 = multiprocessing.Process(target = custom.print_time2,args = (randint(1,5),))\n",
    "    p3 = multiprocessing.Process(target = custom.print_time3,args = (randint(1,5),))\n",
    "    \n",
    "    \n",
    "    p1.start()\n",
    "    p2.start()\n",
    "    p3.start()\n",
    "    \n",
    "    p1.join()\n",
    "    p2.join()\n",
    "    p3.join()\n",
    "    \n",
    "    print(\"finish\")\n"
   ]
  },
  {
   "cell_type": "markdown",
   "id": "d3858ba1",
   "metadata": {},
   "source": [
    "#### Proof of execution"
   ]
  },
  {
   "cell_type": "markdown",
   "id": "4256b051",
   "metadata": {},
   "source": [
    "<img src =\"img_1.png\"/>"
   ]
  },
  {
   "cell_type": "markdown",
   "id": "44157ad8",
   "metadata": {},
   "source": [
    "<li> NOTE - Due to this bug https://bugs.python.org/issue25053 in python, functions (print_time1,print_time2,print_time3) could not be used directly and had to be imported from another module customs</li>"
   ]
  },
  {
   "cell_type": "code",
   "execution_count": null,
   "id": "140c4535",
   "metadata": {},
   "outputs": [],
   "source": []
  },
  {
   "cell_type": "markdown",
   "id": "f5e960a9",
   "metadata": {},
   "source": [
    "# 7. Create a date object of your day of birth.\n"
   ]
  },
  {
   "cell_type": "code",
   "execution_count": 20,
   "id": "fb06f92b",
   "metadata": {},
   "outputs": [
    {
     "name": "stdout",
     "output_type": "stream",
     "text": [
      "<class 'datetime.date'>\n"
     ]
    }
   ],
   "source": [
    "import datetime\n",
    "\n",
    "x = datetime.date(1996,5,25)\n",
    "\n",
    "print(type(x))\n"
   ]
  },
  {
   "cell_type": "code",
   "execution_count": null,
   "id": "2e2818da",
   "metadata": {},
   "outputs": [],
   "source": []
  },
  {
   "cell_type": "markdown",
   "id": "fded69f9",
   "metadata": {},
   "source": [
    "# 8. What day of the week was your day of birth?\n"
   ]
  },
  {
   "cell_type": "code",
   "execution_count": 31,
   "id": "97ea37ae",
   "metadata": {},
   "outputs": [
    {
     "data": {
      "text/plain": [
       "'Saturday'"
      ]
     },
     "execution_count": 31,
     "metadata": {},
     "output_type": "execute_result"
    }
   ],
   "source": [
    "import datetime\n",
    "\n",
    "x = datetime.date(1996,5,25)\n",
    "\n",
    "x.strftime(\"%A\")"
   ]
  },
  {
   "cell_type": "code",
   "execution_count": null,
   "id": "10107706",
   "metadata": {},
   "outputs": [],
   "source": []
  },
  {
   "cell_type": "markdown",
   "id": "1dc4cab5",
   "metadata": {},
   "source": [
    "# 9. When will you be (or when were you) 10,000 days old?\n"
   ]
  },
  {
   "cell_type": "code",
   "execution_count": 7,
   "id": "481d9275",
   "metadata": {},
   "outputs": [
    {
     "name": "stdout",
     "output_type": "stream",
     "text": [
      "I will be 10,000 days old on 2023-05-25\n"
     ]
    }
   ],
   "source": [
    "import datetime \n",
    "\n",
    "#Converting 10000 imto years\n",
    "days_in_yrs = 10000//365\n",
    "#Giving DOB\n",
    "x = datetime.date(1996,5,25)\n",
    "y = x.year + days_in_yrs\n",
    "x = datetime.date(y,5,25)\n",
    "print(f\"I will be 10,000 days old on {x}\")"
   ]
  },
  {
   "cell_type": "code",
   "execution_count": null,
   "id": "e60fb558",
   "metadata": {},
   "outputs": [],
   "source": []
  }
 ],
 "metadata": {
  "kernelspec": {
   "display_name": "iNeuronFSDSPythonModule",
   "language": "python",
   "name": "ineuronfsdspythonmodule"
  },
  "language_info": {
   "codemirror_mode": {
    "name": "ipython",
    "version": 3
   },
   "file_extension": ".py",
   "mimetype": "text/x-python",
   "name": "python",
   "nbconvert_exporter": "python",
   "pygments_lexer": "ipython3",
   "version": "3.6.12"
  }
 },
 "nbformat": 4,
 "nbformat_minor": 5
}
