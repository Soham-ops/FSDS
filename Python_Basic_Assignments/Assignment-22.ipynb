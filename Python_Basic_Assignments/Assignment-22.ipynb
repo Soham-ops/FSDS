{
 "cells": [
  {
   "cell_type": "markdown",
   "id": "d37e1ea9",
   "metadata": {},
   "source": [
    "# 1. What is the result of the code, and explain?\n",
    "\n",
    "<li>X = 'iNeuron'</li>\n",
    "<li>def func():</li>\n",
    "<li>print(X)</li>\n",
    "\n",
    "\n",
    "<li>func()</li>\n",
    "\n"
   ]
  },
  {
   "cell_type": "code",
   "execution_count": 2,
   "id": "26b3cf05",
   "metadata": {},
   "outputs": [
    {
     "name": "stdout",
     "output_type": "stream",
     "text": [
      "iNeuron\n"
     ]
    }
   ],
   "source": [
    "X = 'iNeuron' # Storing string 'iNeuron' in variable X\n",
    "def func():#defining a function that will print this variable X\n",
    "    print(X)\n",
    "func()#calling the function\n"
   ]
  },
  {
   "cell_type": "code",
   "execution_count": null,
   "id": "369299d8",
   "metadata": {},
   "outputs": [],
   "source": []
  },
  {
   "cell_type": "markdown",
   "id": "2b7fba89",
   "metadata": {},
   "source": [
    "# 2. What is the result of the code, and explain?\n",
    "\n",
    "\n",
    "<li>X = 'iNeuron'</li>\n",
    "<li> def func():</li>\n",
    "<li>X = 'NI!'</li>\n",
    "\n",
    "\n",
    "<li>func()</li>\n",
    "<li>print(X)</li>\n"
   ]
  },
  {
   "cell_type": "code",
   "execution_count": 1,
   "id": "21e58a29",
   "metadata": {},
   "outputs": [
    {
     "name": "stdout",
     "output_type": "stream",
     "text": [
      "iNeuron\n"
     ]
    }
   ],
   "source": [
    "X = 'iNeuron'# Storing string 'iNeuron' in variable X\n",
    "def func():\n",
    "    X = 'NI!'# Storing string 'NI!'# in variable X\n",
    "\n",
    "\n",
    "func()\n",
    "print(X)#since now the function(func) as exitied thus X= 'NI!' assignment does not exist and X= 'iNeuroun' will be printed\n"
   ]
  },
  {
   "cell_type": "code",
   "execution_count": null,
   "id": "ac2bb571",
   "metadata": {},
   "outputs": [],
   "source": []
  },
  {
   "cell_type": "markdown",
   "id": "ad66a399",
   "metadata": {},
   "source": [
    "# 3. What does this code print, and why?\n",
    "\n",
    "\n",
    "<li>X = 'iNeuron'</li>\n",
    "<li>def func():</li>\n",
    "<li>X = 'NI'</li>\n",
    "<li>print(X)</li>\n",
    "\n",
    "\n",
    "<li>func()</li>\n",
    "<li>print(X)</li>\n"
   ]
  },
  {
   "cell_type": "code",
   "execution_count": 3,
   "id": "1b45b42c",
   "metadata": {},
   "outputs": [
    {
     "name": "stdout",
     "output_type": "stream",
     "text": [
      "NI\n",
      "iNeuron\n"
     ]
    }
   ],
   "source": [
    "\n",
    "X = 'iNeuron'\n",
    "def func():\n",
    "    X = 'NI'\n",
    "    print(X) #At this stage X = 'NI' is visible as its a local assignemtn and print X will print 'NI'\n",
    "\n",
    "\n",
    "func()\n",
    "print(X)#At this point X = 'iNeuron' assingment is the only assingnmen that exists thus print X will print iNeuron\n"
   ]
  },
  {
   "cell_type": "code",
   "execution_count": null,
   "id": "84f09390",
   "metadata": {},
   "outputs": [],
   "source": []
  },
  {
   "cell_type": "markdown",
   "id": "ace8919c",
   "metadata": {},
   "source": [
    "# 4. What output does this code produce? Why?\n",
    "\n",
    "\n",
    "<li>X = 'iNeuron'</li>\n",
    "<li>def func():</li>\n",
    "<li>global X</li>\n",
    "<li>X = 'NI'</li>\n",
    "\n",
    "\n",
    "<li>func()</li>\n",
    "<li>print(X)</li>\n"
   ]
  },
  {
   "cell_type": "code",
   "execution_count": 4,
   "id": "b2c934d7",
   "metadata": {},
   "outputs": [
    {
     "name": "stdout",
     "output_type": "stream",
     "text": [
      "NI\n"
     ]
    }
   ],
   "source": [
    "X = 'iNeuron'\n",
    "def func():\n",
    "    global X\n",
    "    X = 'NI'#Due to above line X='NI' is an assingment done to the global variable X='iNeuron' thus X now contains 'NI'\n",
    "    \n",
    "\n",
    "\n",
    "func()\n",
    "print(X)# Hence print X will print NI\n"
   ]
  },
  {
   "cell_type": "code",
   "execution_count": null,
   "id": "4bb7cc6d",
   "metadata": {},
   "outputs": [],
   "source": []
  },
  {
   "cell_type": "markdown",
   "id": "46d3d96e",
   "metadata": {},
   "source": [
    "# 5. What about this code—what’s the output, and why?\n",
    "\n",
    "\n",
    "<li>X = 'iNeuron'</li>\n",
    "<li>def func():,</li>\n",
    "<li>X = 'NI'</li>\n",
    "<li>def nested():</li>\n",
    "<li>print(X)</li>\n",
    "<li>nested()</li>\n",
    "\n",
    "\n",
    "<li>func()</li>\n",
    "<li>X</li>\n",
    "\n"
   ]
  },
  {
   "cell_type": "code",
   "execution_count": 8,
   "id": "1b114307",
   "metadata": {},
   "outputs": [
    {
     "name": "stdout",
     "output_type": "stream",
     "text": [
      "NI\n",
      "iNeuron\n"
     ]
    }
   ],
   "source": [
    "X = 'iNeuron'\n",
    "def func():\n",
    "    X = 'NI'\n",
    "    def nested():\n",
    "        print(X) # since nested() does not have any local variable X it will refer to the local variable X of func and thus will print 'NI'\n",
    "    nested()\n",
    "\n",
    "\n",
    "func()\n",
    "print(X)#This will print iNeuron as it does not whats inside func"
   ]
  },
  {
   "cell_type": "code",
   "execution_count": null,
   "id": "9ef2d61a",
   "metadata": {},
   "outputs": [],
   "source": []
  },
  {
   "cell_type": "markdown",
   "id": "11aded72",
   "metadata": {},
   "source": [
    "# 6. How about this code: what is its output in Python 3, and explain?\n",
    "\n",
    "\n",
    "<li>def func():</li>\n",
    "<li>X = 'NI'</li>\n",
    "<li>def nested():</li>\n",
    "<li>nonlocal X</li>\n",
    "<li>X = 'Spam'</li>\n",
    "<li>nested()</li>\n",
    "<li>print(X)</li>\n",
    "\n",
    "\n",
    "<li>func()</li>\n",
    "\n",
    "\n"
   ]
  },
  {
   "cell_type": "code",
   "execution_count": 11,
   "id": "e0338c97",
   "metadata": {},
   "outputs": [
    {
     "name": "stdout",
     "output_type": "stream",
     "text": [
      "Spam\n"
     ]
    }
   ],
   "source": [
    "def func():\n",
    "    X = 'NI'\n",
    "    def nested():\n",
    "        nonlocal X\n",
    "        X = 'Spam'#with the above line we are referring to X inside func() and not X as a local variable inside nested()\n",
    "    nested()\n",
    "    print(X)#Thus due to nonlocal usage X='Spam' is applied on the local var X of func.Hence Spam is printed\n",
    "\n",
    "func()\n"
   ]
  },
  {
   "cell_type": "code",
   "execution_count": null,
   "id": "73e8ed5d",
   "metadata": {},
   "outputs": [],
   "source": []
  }
 ],
 "metadata": {
  "kernelspec": {
   "display_name": "iNeuronFSDSPythonModule",
   "language": "python",
   "name": "ineuronfsdspythonmodule"
  },
  "language_info": {
   "codemirror_mode": {
    "name": "ipython",
    "version": 3
   },
   "file_extension": ".py",
   "mimetype": "text/x-python",
   "name": "python",
   "nbconvert_exporter": "python",
   "pygments_lexer": "ipython3",
   "version": "3.6.12"
  }
 },
 "nbformat": 4,
 "nbformat_minor": 5
}
