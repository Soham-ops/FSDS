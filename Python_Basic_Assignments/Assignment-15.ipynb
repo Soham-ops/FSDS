{
 "cells": [
  {
   "cell_type": "markdown",
   "id": "047a0dbd",
   "metadata": {},
   "source": [
    "# 1.How many seconds are in an hour? Use the interactive interpreter as a calculator and multiply the number of seconds in a minute (60) by the number of minutes in an hour (also 60).\n"
   ]
  },
  {
   "cell_type": "code",
   "execution_count": 5,
   "id": "13fa3cfc",
   "metadata": {},
   "outputs": [],
   "source": [
    "class Calculator:\n",
    "    \n",
    "    def __init__(self,hours):\n",
    "        self.hours = hours\n",
    "        \n",
    "    def hrs_to_sec(self):\n",
    "        return 60*60*self.hours"
   ]
  },
  {
   "cell_type": "code",
   "execution_count": 6,
   "id": "31c95a9a",
   "metadata": {},
   "outputs": [
    {
     "name": "stdout",
     "output_type": "stream",
     "text": [
      "Enter number of hours please-> 2\n"
     ]
    },
    {
     "data": {
      "text/plain": [
       "7200"
      ]
     },
     "execution_count": 6,
     "metadata": {},
     "output_type": "execute_result"
    }
   ],
   "source": [
    "hrs = int(input('Enter number of hours please-> '))\n",
    "obj = Calculator(hrs)\n",
    "obj.hrs_to_sec()"
   ]
  },
  {
   "cell_type": "code",
   "execution_count": null,
   "id": "36fc2564",
   "metadata": {},
   "outputs": [],
   "source": []
  },
  {
   "cell_type": "markdown",
   "id": "441bca79",
   "metadata": {},
   "source": [
    "# 2. Assign the result from the previous task (seconds in an hour) to a variable called seconds_per_hour."
   ]
  },
  {
   "cell_type": "code",
   "execution_count": 33,
   "id": "b4343126",
   "metadata": {},
   "outputs": [],
   "source": [
    "class Calculator:\n",
    "    \n",
    "    def __init__(self,hours):\n",
    "        self.hours = hours\n",
    "        \n",
    "    def hrs_to_sec(self):\n",
    "        seconds_per_hr =  60*60*self.hours\n",
    "        return seconds_per_hr"
   ]
  },
  {
   "cell_type": "code",
   "execution_count": 34,
   "id": "4ac52176",
   "metadata": {},
   "outputs": [
    {
     "name": "stdout",
     "output_type": "stream",
     "text": [
      "Enter number of hours please-> 2\n"
     ]
    },
    {
     "data": {
      "text/plain": [
       "7200"
      ]
     },
     "execution_count": 34,
     "metadata": {},
     "output_type": "execute_result"
    }
   ],
   "source": [
    "hrs = int(input('Enter number of hours please-> '))\n",
    "obj = Calculator(hrs)\n",
    "obj.hrs_to_sec()"
   ]
  },
  {
   "cell_type": "code",
   "execution_count": null,
   "id": "8e09fd3b",
   "metadata": {},
   "outputs": [],
   "source": []
  },
  {
   "cell_type": "markdown",
   "id": "d08d33b3",
   "metadata": {},
   "source": [
    "# 3. How many seconds do you think there are in a day? Make use of the variables seconds per hour and minutes per hour.\n"
   ]
  },
  {
   "cell_type": "code",
   "execution_count": 37,
   "id": "08f6af52",
   "metadata": {},
   "outputs": [],
   "source": [
    "class Calculator:\n",
    "    \n",
    "    def __init__(self,hours):\n",
    "        self.hours = hours\n",
    "        self.minutes_per_hour = 60 \n",
    "        self.seconds_per_hour = 60*self.minutes_per_hour\n",
    "        \n",
    "    def hrs_to_sec(self):\n",
    "        second_day = self.seconds_per_hour*self.hours\n",
    "        \n",
    "        \n",
    "        return second_day"
   ]
  },
  {
   "cell_type": "code",
   "execution_count": 38,
   "id": "ad478d40",
   "metadata": {},
   "outputs": [
    {
     "name": "stdout",
     "output_type": "stream",
     "text": [
      "Enter number of hours please-> 24\n"
     ]
    },
    {
     "data": {
      "text/plain": [
       "86400"
      ]
     },
     "execution_count": 38,
     "metadata": {},
     "output_type": "execute_result"
    }
   ],
   "source": [
    "hrs = int(input('Enter number of hours please-> '))\n",
    "obj = Calculator(hrs)\n",
    "obj.hrs_to_sec()"
   ]
  },
  {
   "cell_type": "code",
   "execution_count": null,
   "id": "c42e40d2",
   "metadata": {},
   "outputs": [],
   "source": []
  },
  {
   "cell_type": "markdown",
   "id": "d17865f3",
   "metadata": {},
   "source": [
    "# 4. Calculate seconds per day again, but this time save the result in a variable called seconds_per_day\n"
   ]
  },
  {
   "cell_type": "code",
   "execution_count": 39,
   "id": "7496f6e3",
   "metadata": {},
   "outputs": [],
   "source": [
    "class Calculator:\n",
    "    \n",
    "    def __init__(self,hours):\n",
    "        self.hours = hours\n",
    "        self.minutes_per_hour = 60 \n",
    "        self.seconds_per_hour = 60*self.minutes_per_hour\n",
    "        \n",
    "    def hrs_to_sec(self):\n",
    "        second_per_day = self.seconds_per_hour*self.hours\n",
    "        \n",
    "        \n",
    "        return second_per_day"
   ]
  },
  {
   "cell_type": "code",
   "execution_count": 40,
   "id": "a52790fe",
   "metadata": {},
   "outputs": [
    {
     "name": "stdout",
     "output_type": "stream",
     "text": [
      "Enter number of hours please-> 24\n"
     ]
    },
    {
     "data": {
      "text/plain": [
       "86400"
      ]
     },
     "execution_count": 40,
     "metadata": {},
     "output_type": "execute_result"
    }
   ],
   "source": [
    "hrs = int(input('Enter number of hours please-> '))\n",
    "obj = Calculator(hrs)\n",
    "obj.hrs_to_sec()"
   ]
  },
  {
   "cell_type": "code",
   "execution_count": null,
   "id": "0fa7e998",
   "metadata": {},
   "outputs": [],
   "source": []
  },
  {
   "cell_type": "markdown",
   "id": "c1be2604",
   "metadata": {},
   "source": [
    "# 5. Divide seconds_per_day by seconds_per_hour. Use floating-point (/) division.\n"
   ]
  },
  {
   "cell_type": "code",
   "execution_count": 41,
   "id": "dda9bcde",
   "metadata": {},
   "outputs": [],
   "source": [
    "class Calculator:\n",
    "    \n",
    "    def __init__(self,hours):\n",
    "        self.hours = hours\n",
    "        self.minutes_per_hour = 60 \n",
    "        self.seconds_per_hour = 60*self.minutes_per_hour\n",
    "        \n",
    "    def hrs_to_sec(self):\n",
    "        second_per_day = self.seconds_per_hour*self.hours\n",
    "        \n",
    "        \n",
    "        return second_per_day/self.seconds_per_hour"
   ]
  },
  {
   "cell_type": "code",
   "execution_count": 42,
   "id": "1c9f0327",
   "metadata": {},
   "outputs": [
    {
     "name": "stdout",
     "output_type": "stream",
     "text": [
      "Enter number of hours please-> 3\n"
     ]
    },
    {
     "data": {
      "text/plain": [
       "3.0"
      ]
     },
     "execution_count": 42,
     "metadata": {},
     "output_type": "execute_result"
    }
   ],
   "source": [
    "hrs = int(input('Enter number of hours please-> '))\n",
    "obj = Calculator(hrs)\n",
    "obj.hrs_to_sec()"
   ]
  },
  {
   "cell_type": "code",
   "execution_count": null,
   "id": "1c6961b9",
   "metadata": {},
   "outputs": [],
   "source": []
  },
  {
   "cell_type": "markdown",
   "id": "c4be08b6",
   "metadata": {},
   "source": [
    "# 6. Divide seconds_per_day by seconds_per_hour, using integer (//) division. Did this number agree with the floating-point value from the previous question, aside from the final .0?\n"
   ]
  },
  {
   "cell_type": "code",
   "execution_count": 44,
   "id": "ca4890a4",
   "metadata": {},
   "outputs": [],
   "source": [
    "class Calculator:\n",
    "    \n",
    "    def __init__(self,hours):\n",
    "        self.hours = hours\n",
    "        self.minutes_per_hour = 60 \n",
    "        self.seconds_per_hour = 60*self.minutes_per_hour\n",
    "        \n",
    "    def hrs_to_sec(self):\n",
    "        second_per_day = self.seconds_per_hour*self.hours\n",
    "        \n",
    "        \n",
    "        return second_per_day//self.seconds_per_hour"
   ]
  },
  {
   "cell_type": "code",
   "execution_count": 45,
   "id": "17e84c3b",
   "metadata": {},
   "outputs": [
    {
     "name": "stdout",
     "output_type": "stream",
     "text": [
      "Enter number of hours please-> 3\n"
     ]
    },
    {
     "data": {
      "text/plain": [
       "3"
      ]
     },
     "execution_count": 45,
     "metadata": {},
     "output_type": "execute_result"
    }
   ],
   "source": [
    "hrs = int(input('Enter number of hours please-> '))\n",
    "obj = Calculator(hrs)\n",
    "obj.hrs_to_sec()"
   ]
  },
  {
   "cell_type": "markdown",
   "id": "f7849124",
   "metadata": {},
   "source": [
    "<li>Yes,number agree with the floating-point value from the previous question, aside from the final .0</li>"
   ]
  },
  {
   "cell_type": "code",
   "execution_count": null,
   "id": "20cf2dab",
   "metadata": {},
   "outputs": [],
   "source": []
  },
  {
   "cell_type": "markdown",
   "id": "c2925430",
   "metadata": {},
   "source": [
    "# 7. Write a generator, genPrimes, that returns the sequence of prime numbers on successive calls to its next() method: 2, 3, 5, 7, 11, ...\n"
   ]
  },
  {
   "cell_type": "code",
   "execution_count": 71,
   "id": "5abf7a83",
   "metadata": {},
   "outputs": [],
   "source": [
    "class Primes:\n",
    "    \n",
    "    def __init__(self):\n",
    "        pass\n",
    "        \n",
    "    def genNumber(self):\n",
    "        \n",
    "        count = 2\n",
    "        while True:\n",
    "            yield count\n",
    "            count+=1\n",
    "    \n",
    "    def checkPrime(self,Range):\n",
    "        \n",
    "        for i in range(2,Range):\n",
    "            if Range % i == 0:\n",
    "                return f'{Range} is Not Prime'\n",
    "        else:\n",
    "            print(Range)\n",
    "    "
   ]
  },
  {
   "cell_type": "code",
   "execution_count": 72,
   "id": "701a040a",
   "metadata": {},
   "outputs": [],
   "source": [
    "obj = Primes()\n",
    "num = obj.genNumber()"
   ]
  },
  {
   "cell_type": "code",
   "execution_count": 73,
   "id": "7df8274b",
   "metadata": {},
   "outputs": [
    {
     "name": "stdout",
     "output_type": "stream",
     "text": [
      "2\n"
     ]
    }
   ],
   "source": [
    "obj.checkPrime(next(num))"
   ]
  },
  {
   "cell_type": "code",
   "execution_count": 74,
   "id": "c56e461b",
   "metadata": {},
   "outputs": [
    {
     "name": "stdout",
     "output_type": "stream",
     "text": [
      "3\n"
     ]
    }
   ],
   "source": [
    "obj.checkPrime(next(num))"
   ]
  },
  {
   "cell_type": "code",
   "execution_count": 75,
   "id": "702e6411",
   "metadata": {},
   "outputs": [
    {
     "data": {
      "text/plain": [
       "'4 is Not Prime'"
      ]
     },
     "execution_count": 75,
     "metadata": {},
     "output_type": "execute_result"
    }
   ],
   "source": [
    "obj.checkPrime(next(num))"
   ]
  },
  {
   "cell_type": "code",
   "execution_count": 76,
   "id": "0a4815ff",
   "metadata": {},
   "outputs": [
    {
     "name": "stdout",
     "output_type": "stream",
     "text": [
      "5\n"
     ]
    }
   ],
   "source": [
    "obj.checkPrime(next(num))"
   ]
  },
  {
   "cell_type": "code",
   "execution_count": 77,
   "id": "b38c5089",
   "metadata": {},
   "outputs": [
    {
     "data": {
      "text/plain": [
       "'6 is Not Prime'"
      ]
     },
     "execution_count": 77,
     "metadata": {},
     "output_type": "execute_result"
    }
   ],
   "source": [
    "obj.checkPrime(next(num))"
   ]
  },
  {
   "cell_type": "code",
   "execution_count": 78,
   "id": "eeedfdfb",
   "metadata": {},
   "outputs": [
    {
     "name": "stdout",
     "output_type": "stream",
     "text": [
      "7\n"
     ]
    }
   ],
   "source": [
    "obj.checkPrime(next(num))"
   ]
  },
  {
   "cell_type": "code",
   "execution_count": 79,
   "id": "53277f35",
   "metadata": {},
   "outputs": [
    {
     "data": {
      "text/plain": [
       "'8 is Not Prime'"
      ]
     },
     "execution_count": 79,
     "metadata": {},
     "output_type": "execute_result"
    }
   ],
   "source": [
    "obj.checkPrime(next(num))"
   ]
  },
  {
   "cell_type": "code",
   "execution_count": 80,
   "id": "02bbee7f",
   "metadata": {},
   "outputs": [
    {
     "data": {
      "text/plain": [
       "'9 is Not Prime'"
      ]
     },
     "execution_count": 80,
     "metadata": {},
     "output_type": "execute_result"
    }
   ],
   "source": [
    "obj.checkPrime(next(num))"
   ]
  },
  {
   "cell_type": "code",
   "execution_count": 81,
   "id": "f2acda66",
   "metadata": {},
   "outputs": [
    {
     "data": {
      "text/plain": [
       "'10 is Not Prime'"
      ]
     },
     "execution_count": 81,
     "metadata": {},
     "output_type": "execute_result"
    }
   ],
   "source": [
    "obj.checkPrime(next(num))"
   ]
  },
  {
   "cell_type": "code",
   "execution_count": 82,
   "id": "4b4a0e86",
   "metadata": {},
   "outputs": [
    {
     "name": "stdout",
     "output_type": "stream",
     "text": [
      "11\n"
     ]
    }
   ],
   "source": [
    "obj.checkPrime(next(num))"
   ]
  },
  {
   "cell_type": "code",
   "execution_count": null,
   "id": "6014e165",
   "metadata": {},
   "outputs": [],
   "source": []
  }
 ],
 "metadata": {
  "kernelspec": {
   "display_name": "iNeuronFSDSPythonModule",
   "language": "python",
   "name": "ineuronfsdspythonmodule"
  },
  "language_info": {
   "codemirror_mode": {
    "name": "ipython",
    "version": 3
   },
   "file_extension": ".py",
   "mimetype": "text/x-python",
   "name": "python",
   "nbconvert_exporter": "python",
   "pygments_lexer": "ipython3",
   "version": "3.6.12"
  }
 },
 "nbformat": 4,
 "nbformat_minor": 5
}
