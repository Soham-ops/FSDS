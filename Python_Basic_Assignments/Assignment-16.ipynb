{
 "cells": [
  {
   "cell_type": "markdown",
   "id": "d1b72f06",
   "metadata": {},
   "source": [
    "# 1. Create a list called years_list, starting with the year of your birth, and each year thereafter until the year of your fifth birthday. For example, if you were born in 1980. the list would be years_list = [1980, 1981, 1982, 1983, 1984, 1985].\n"
   ]
  },
  {
   "cell_type": "code",
   "execution_count": 6,
   "id": "f8f93bd6",
   "metadata": {},
   "outputs": [],
   "source": [
    "class Bday_minus_five:\n",
    "    \n",
    "    def __init__(self):\n",
    "        self.years_list = []\n",
    "        \n",
    "    def plus_five(self,yob):\n",
    "        for i in range(6):\n",
    "            self.years_list.append(yob)\n",
    "            yob+=1\n"
   ]
  },
  {
   "cell_type": "code",
   "execution_count": 8,
   "id": "ff7ad50e",
   "metadata": {},
   "outputs": [
    {
     "name": "stdout",
     "output_type": "stream",
     "text": [
      "Enter YOB: 1995\n"
     ]
    },
    {
     "data": {
      "text/plain": [
       "[1995, 1996, 1997, 1998, 1999, 2000]"
      ]
     },
     "execution_count": 8,
     "metadata": {},
     "output_type": "execute_result"
    }
   ],
   "source": [
    "obj = Bday_minus_five()\n",
    "yob = int(input(\"Enter YOB: \"))\n",
    "obj.plus_five(yob)\n",
    "obj.years_list"
   ]
  },
  {
   "cell_type": "code",
   "execution_count": null,
   "id": "c31ce35b",
   "metadata": {},
   "outputs": [],
   "source": []
  },
  {
   "cell_type": "markdown",
   "id": "8f746c32",
   "metadata": {},
   "source": [
    "# 2. In which year in years_list was your third birthday? Remember, you were 0 years of age for your first year.\n"
   ]
  },
  {
   "cell_type": "code",
   "execution_count": 11,
   "id": "c594721b",
   "metadata": {},
   "outputs": [],
   "source": [
    "class Bday_minus_five:\n",
    "    \n",
    "    def __init__(self):\n",
    "        self.years_list = []\n",
    "        \n",
    "    def plus_five(self,yob):\n",
    "        for i in range(6):\n",
    "            self.years_list.append(yob)\n",
    "            yob+=1\n",
    "    def third_bday(self):\n",
    "        return self.years_list[3]"
   ]
  },
  {
   "cell_type": "code",
   "execution_count": 12,
   "id": "efad1044",
   "metadata": {},
   "outputs": [
    {
     "name": "stdout",
     "output_type": "stream",
     "text": [
      "Enter YOB: 1995\n"
     ]
    },
    {
     "data": {
      "text/plain": [
       "1998"
      ]
     },
     "execution_count": 12,
     "metadata": {},
     "output_type": "execute_result"
    }
   ],
   "source": [
    "obj = Bday_minus_five()\n",
    "yob = int(input(\"Enter YOB: \"))\n",
    "obj.plus_five(yob)\n",
    "obj.third_bday()"
   ]
  },
  {
   "cell_type": "code",
   "execution_count": null,
   "id": "251637fe",
   "metadata": {},
   "outputs": [],
   "source": []
  },
  {
   "cell_type": "markdown",
   "id": "a6f35e7e",
   "metadata": {},
   "source": [
    "# 3.In the years list, which year were you the oldest?\n"
   ]
  },
  {
   "cell_type": "code",
   "execution_count": 17,
   "id": "d89210c4",
   "metadata": {},
   "outputs": [],
   "source": [
    "class Bday_minus_five:\n",
    "    \n",
    "    def __init__(self):\n",
    "        self.years_list = []\n",
    "        \n",
    "    def plus_five(self,yob):\n",
    "        for i in range(6):\n",
    "            self.years_list.append(yob)\n",
    "            yob+=1\n",
    "    def oldest(self):\n",
    "        oldest = len(self.years_list)\n",
    "        return self.years_list[oldest-1]"
   ]
  },
  {
   "cell_type": "code",
   "execution_count": 18,
   "id": "1a6b693c",
   "metadata": {},
   "outputs": [
    {
     "name": "stdout",
     "output_type": "stream",
     "text": [
      "Enter YOB: 1995\n"
     ]
    },
    {
     "data": {
      "text/plain": [
       "2000"
      ]
     },
     "execution_count": 18,
     "metadata": {},
     "output_type": "execute_result"
    }
   ],
   "source": [
    "obj = Bday_minus_five()\n",
    "yob = int(input(\"Enter YOB: \"))\n",
    "obj.plus_five(yob)\n",
    "obj.oldest()"
   ]
  },
  {
   "cell_type": "code",
   "execution_count": null,
   "id": "1d2f92b5",
   "metadata": {},
   "outputs": [],
   "source": []
  },
  {
   "cell_type": "markdown",
   "id": "598870e5",
   "metadata": {},
   "source": [
    "# 4. Make a list called things with these three strings as elements: \"mozzarella\", \"cinderella\", \"salmonella\".\n"
   ]
  },
  {
   "cell_type": "code",
   "execution_count": 21,
   "id": "c43b8dd3",
   "metadata": {},
   "outputs": [
    {
     "data": {
      "text/plain": [
       "['mozzarella', 'cinderella', 'salmonella']"
      ]
     },
     "execution_count": 21,
     "metadata": {},
     "output_type": "execute_result"
    }
   ],
   "source": [
    "things = ['mozzarella','cinderella','salmonella']\n",
    "things"
   ]
  },
  {
   "cell_type": "code",
   "execution_count": null,
   "id": "1d61db9d",
   "metadata": {},
   "outputs": [],
   "source": []
  },
  {
   "cell_type": "markdown",
   "id": "fca01e93",
   "metadata": {},
   "source": [
    "# 5. Capitalize the element in things that refers to a person and then print the list. Did it change the element in the list?\n"
   ]
  },
  {
   "cell_type": "code",
   "execution_count": 24,
   "id": "b98bf702",
   "metadata": {},
   "outputs": [],
   "source": [
    "class Capitalize:\n",
    "    \n",
    "    def __init__(self):\n",
    "        self.things = ['mozzarella','cinderella','salmonella']\n",
    "        \n",
    "    def find_capital(self):\n",
    "        for i in range(len(self.things)):\n",
    "            if self.things[i] == 'cinderella' or self.things[i] == 'salmonella':\n",
    "                self.things[i] = self.things[i].capitalize()\n",
    "                \n",
    "        return self.things"
   ]
  },
  {
   "cell_type": "code",
   "execution_count": 25,
   "id": "c23aabce",
   "metadata": {},
   "outputs": [
    {
     "data": {
      "text/plain": [
       "['mozzarella', 'Cinderella', 'Salmonella']"
      ]
     },
     "execution_count": 25,
     "metadata": {},
     "output_type": "execute_result"
    }
   ],
   "source": [
    "obj = Capitalize()\n",
    "obj.find_capital()"
   ]
  },
  {
   "cell_type": "code",
   "execution_count": null,
   "id": "49237694",
   "metadata": {},
   "outputs": [],
   "source": []
  },
  {
   "cell_type": "markdown",
   "id": "a1d3ef4b",
   "metadata": {},
   "source": [
    "# 6. Make a surprise list with the elements \"Groucho,\" \"Chico,\" and \"Harpo.\"\n"
   ]
  },
  {
   "cell_type": "code",
   "execution_count": 27,
   "id": "b7d6b81f",
   "metadata": {},
   "outputs": [],
   "source": [
    "class SampleClass:\n",
    "    \n",
    "    def __init__(self):\n",
    "        self.surprise_list = [ \"Groucho\", \"Chico\",\"Harpo\"]\n",
    "        \n",
    "    def return_list(self):\n",
    "                \n",
    "        return self.surprise_list"
   ]
  },
  {
   "cell_type": "code",
   "execution_count": 28,
   "id": "95368d17",
   "metadata": {},
   "outputs": [
    {
     "data": {
      "text/plain": [
       "['Groucho', 'Chico', 'Harpo']"
      ]
     },
     "execution_count": 28,
     "metadata": {},
     "output_type": "execute_result"
    }
   ],
   "source": [
    "obj = SampleClass()\n",
    "obj.return_list()"
   ]
  },
  {
   "cell_type": "code",
   "execution_count": null,
   "id": "cc6157a7",
   "metadata": {},
   "outputs": [],
   "source": []
  },
  {
   "cell_type": "markdown",
   "id": "46fae3e0",
   "metadata": {},
   "source": [
    "# 7. Lowercase the last element of the surprise list, reverse it, and then capitalize it.\n"
   ]
  },
  {
   "cell_type": "code",
   "execution_count": 33,
   "id": "81547d45",
   "metadata": {},
   "outputs": [],
   "source": [
    "class SampleClass:\n",
    "    \n",
    "    def __init__(self):\n",
    "        self.surprise_list = [ \"Groucho\", \"Chico\",\"Harpo\"]\n",
    "        \n",
    "    def return_list(self):\n",
    "        \n",
    "        self.surprise_list[2]=self.surprise_list[2].lower()\n",
    "        self.surprise_list.reverse()\n",
    "        return self.surprise_list"
   ]
  },
  {
   "cell_type": "code",
   "execution_count": 34,
   "id": "cb179f8c",
   "metadata": {},
   "outputs": [
    {
     "data": {
      "text/plain": [
       "['harpo', 'Chico', 'Groucho']"
      ]
     },
     "execution_count": 34,
     "metadata": {},
     "output_type": "execute_result"
    }
   ],
   "source": [
    "obj = SampleClass()\n",
    "obj.return_list()"
   ]
  },
  {
   "cell_type": "code",
   "execution_count": null,
   "id": "b4b2f583",
   "metadata": {},
   "outputs": [],
   "source": []
  },
  {
   "cell_type": "markdown",
   "id": "8f48f5d5",
   "metadata": {},
   "source": [
    "# 8. Make an English-to-French dictionary called e2f and print it. Here are your starter words: dog is chien, cat is chat, and walrus is morse.\n"
   ]
  },
  {
   "cell_type": "code",
   "execution_count": 36,
   "id": "2a2bf138",
   "metadata": {},
   "outputs": [],
   "source": [
    "class e2f:\n",
    "    \n",
    "    def __init__(self):\n",
    "        self.dict = {}\n",
    "        \n",
    "    def starter(self):\n",
    "        self.dict['dog'] = 'chien'\n",
    "        self.dict['cat'] = 'chat'\n",
    "        self.dict['walrus'] = 'morse'"
   ]
  },
  {
   "cell_type": "code",
   "execution_count": 37,
   "id": "36991cbb",
   "metadata": {},
   "outputs": [
    {
     "data": {
      "text/plain": [
       "{'dog': 'chien', 'cat': 'chat', 'walrus': 'morse'}"
      ]
     },
     "execution_count": 37,
     "metadata": {},
     "output_type": "execute_result"
    }
   ],
   "source": [
    "obj = e2f()\n",
    "obj.starter()\n",
    "obj.dict"
   ]
  },
  {
   "cell_type": "code",
   "execution_count": null,
   "id": "24620295",
   "metadata": {},
   "outputs": [],
   "source": []
  },
  {
   "cell_type": "markdown",
   "id": "e47e95e5",
   "metadata": {},
   "source": [
    "# 9. Write the French word for walrus in your three-word dictionary e2f.\n"
   ]
  },
  {
   "cell_type": "code",
   "execution_count": 38,
   "id": "b6171032",
   "metadata": {},
   "outputs": [],
   "source": [
    "class e2f:\n",
    "    \n",
    "    def __init__(self):\n",
    "        self.dict = {}\n",
    "        \n",
    "    def starter(self):\n",
    "        self.dict['dog'] = 'chien'\n",
    "        self.dict['cat'] = 'chat'\n",
    "        self.dict['walrus'] = 'morse'"
   ]
  },
  {
   "cell_type": "code",
   "execution_count": 39,
   "id": "c2b9b4bb",
   "metadata": {},
   "outputs": [
    {
     "data": {
      "text/plain": [
       "'morse'"
      ]
     },
     "execution_count": 39,
     "metadata": {},
     "output_type": "execute_result"
    }
   ],
   "source": [
    "obj = e2f()\n",
    "obj.starter()\n",
    "obj.dict['walrus']"
   ]
  },
  {
   "cell_type": "code",
   "execution_count": null,
   "id": "a8bd48a1",
   "metadata": {},
   "outputs": [],
   "source": []
  },
  {
   "cell_type": "markdown",
   "id": "be3c75e6",
   "metadata": {},
   "source": [
    "# 10. Make a French-to-English dictionary called f2e from e2f. Use the items method.\n"
   ]
  },
  {
   "cell_type": "code",
   "execution_count": 42,
   "id": "2902b114",
   "metadata": {},
   "outputs": [],
   "source": [
    "class e2f:\n",
    "    \n",
    "    def __init__(self):\n",
    "        self.dict = {}\n",
    "        \n",
    "    def starter(self):\n",
    "        self.dict['dog'] = 'chien'\n",
    "        self.dict['cat'] = 'chat'\n",
    "        self.dict['walrus'] = 'morse'\n",
    "        \n",
    "class f2e(e2f):\n",
    "    \n",
    "    def __init__(self):\n",
    "        super().__init__()\n",
    "        self.dict2 = {}\n",
    "        \n",
    "    def starter2(self):\n",
    "        \n",
    "        for i,j in self.dict.items():\n",
    "            self.dict2[j] = i"
   ]
  },
  {
   "cell_type": "code",
   "execution_count": 43,
   "id": "0c346c8f",
   "metadata": {},
   "outputs": [
    {
     "data": {
      "text/plain": [
       "{'chien': 'dog', 'chat': 'cat', 'morse': 'walrus'}"
      ]
     },
     "execution_count": 43,
     "metadata": {},
     "output_type": "execute_result"
    }
   ],
   "source": [
    "obj = f2e()\n",
    "obj.starter()\n",
    "obj.starter2()\n",
    "obj.dict2"
   ]
  },
  {
   "cell_type": "code",
   "execution_count": null,
   "id": "100ce0e2",
   "metadata": {},
   "outputs": [],
   "source": []
  },
  {
   "cell_type": "markdown",
   "id": "b7a1bae3",
   "metadata": {},
   "source": [
    "# 11. Print the English version of the French word chien using f2e.\n"
   ]
  },
  {
   "cell_type": "code",
   "execution_count": 44,
   "id": "7aa5204f",
   "metadata": {},
   "outputs": [],
   "source": [
    "class e2f:\n",
    "    \n",
    "    def __init__(self):\n",
    "        self.dict = {}\n",
    "        \n",
    "    def starter(self):\n",
    "        self.dict['dog'] = 'chien'\n",
    "        self.dict['cat'] = 'chat'\n",
    "        self.dict['walrus'] = 'morse'\n",
    "        \n",
    "class f2e(e2f):\n",
    "    \n",
    "    def __init__(self):\n",
    "        super().__init__()\n",
    "        self.dict2 = {}\n",
    "        \n",
    "    def starter2(self):\n",
    "        \n",
    "        for i,j in self.dict.items():\n",
    "            self.dict2[j] = i"
   ]
  },
  {
   "cell_type": "code",
   "execution_count": 45,
   "id": "988279fd",
   "metadata": {},
   "outputs": [
    {
     "data": {
      "text/plain": [
       "'dog'"
      ]
     },
     "execution_count": 45,
     "metadata": {},
     "output_type": "execute_result"
    }
   ],
   "source": [
    "obj = f2e()\n",
    "obj.starter()\n",
    "obj.starter2()\n",
    "obj.dict2['chien']"
   ]
  },
  {
   "cell_type": "code",
   "execution_count": null,
   "id": "825969c5",
   "metadata": {},
   "outputs": [],
   "source": []
  },
  {
   "cell_type": "markdown",
   "id": "b6830246",
   "metadata": {},
   "source": [
    "# 12. Make and print a set of English words from the keys in e2f.\n"
   ]
  },
  {
   "cell_type": "code",
   "execution_count": 46,
   "id": "0abccca4",
   "metadata": {},
   "outputs": [],
   "source": [
    "class e2f:\n",
    "    \n",
    "    def __init__(self):\n",
    "        self.dict = {}\n",
    "        \n",
    "    def starter(self):\n",
    "        self.dict['dog'] = 'chien'\n",
    "        self.dict['cat'] = 'chat'\n",
    "        self.dict['walrus'] = 'morse'\n"
   ]
  },
  {
   "cell_type": "code",
   "execution_count": 47,
   "id": "7a60c508",
   "metadata": {},
   "outputs": [
    {
     "data": {
      "text/plain": [
       "{'cat', 'dog', 'walrus'}"
      ]
     },
     "execution_count": 47,
     "metadata": {},
     "output_type": "execute_result"
    }
   ],
   "source": [
    "obj = e2f()\n",
    "obj.starter()\n",
    "set(obj.dict.keys())"
   ]
  },
  {
   "cell_type": "code",
   "execution_count": null,
   "id": "280705d6",
   "metadata": {},
   "outputs": [],
   "source": []
  },
  {
   "cell_type": "markdown",
   "id": "fa5b9fe3",
   "metadata": {},
   "source": [
    "# 13. Make a multilevel dictionary called life. Use these strings for the topmost keys: 'animals', 'plants', and 'other'. Make the 'animals' key refer to another dictionary with the keys 'cats', 'octopi', and 'emus'. Make the 'cats' key refer to a list of strings with the values 'Henri', 'Grumpy', and 'Lucy'. Make all the other keys refer to empty dictionaries.\n"
   ]
  },
  {
   "cell_type": "code",
   "execution_count": 50,
   "id": "8026ac08",
   "metadata": {},
   "outputs": [],
   "source": [
    "class MDict:\n",
    "    \n",
    "    def __init__(self):\n",
    "        \n",
    "        self.life = {'animals':{'cats':['Henri','Grumpy','Lucy'],'octopi':{},'emus':{}},\n",
    "                    'plants':{},\n",
    "                    'other':{}}\n"
   ]
  },
  {
   "cell_type": "code",
   "execution_count": 51,
   "id": "0ce12e86",
   "metadata": {},
   "outputs": [
    {
     "data": {
      "text/plain": [
       "{'animals': {'cats': ['Henri', 'Grumpy', 'Lucy'], 'octopi': {}, 'emus': {}},\n",
       " 'plants': {},\n",
       " 'other': {}}"
      ]
     },
     "execution_count": 51,
     "metadata": {},
     "output_type": "execute_result"
    }
   ],
   "source": [
    "obj = MDict()\n",
    "obj.life"
   ]
  },
  {
   "cell_type": "code",
   "execution_count": null,
   "id": "865dee6d",
   "metadata": {},
   "outputs": [],
   "source": []
  },
  {
   "cell_type": "markdown",
   "id": "9213aa4f",
   "metadata": {},
   "source": [
    "# 14. Print the top-level keys of life.\n"
   ]
  },
  {
   "cell_type": "code",
   "execution_count": 52,
   "id": "9d4339ae",
   "metadata": {},
   "outputs": [],
   "source": [
    "class MDict:\n",
    "    \n",
    "    def __init__(self):\n",
    "        \n",
    "        self.life = {'animals':{'cats':['Henri','Grumpy','Lucy'],'octopi':{},'emus':{}},\n",
    "                    'plants':{},\n",
    "                    'other':{}}\n"
   ]
  },
  {
   "cell_type": "code",
   "execution_count": 53,
   "id": "11e34f73",
   "metadata": {},
   "outputs": [
    {
     "data": {
      "text/plain": [
       "dict_keys(['animals', 'plants', 'other'])"
      ]
     },
     "execution_count": 53,
     "metadata": {},
     "output_type": "execute_result"
    }
   ],
   "source": [
    "obj = MDict()\n",
    "obj.life.keys()"
   ]
  },
  {
   "cell_type": "code",
   "execution_count": null,
   "id": "ae7e59a7",
   "metadata": {},
   "outputs": [],
   "source": []
  },
  {
   "cell_type": "markdown",
   "id": "8af978be",
   "metadata": {},
   "source": [
    "# 15. Print the keys for life['animals'].\n"
   ]
  },
  {
   "cell_type": "code",
   "execution_count": 54,
   "id": "da9b466d",
   "metadata": {},
   "outputs": [],
   "source": [
    "class MDict:\n",
    "    \n",
    "    def __init__(self):\n",
    "        \n",
    "        self.life = {'animals':{'cats':['Henri','Grumpy','Lucy'],'octopi':{},'emus':{}},\n",
    "                    'plants':{},\n",
    "                    'other':{}}\n"
   ]
  },
  {
   "cell_type": "code",
   "execution_count": 55,
   "id": "89bc7e7a",
   "metadata": {},
   "outputs": [
    {
     "data": {
      "text/plain": [
       "dict_keys(['cats', 'octopi', 'emus'])"
      ]
     },
     "execution_count": 55,
     "metadata": {},
     "output_type": "execute_result"
    }
   ],
   "source": [
    "obj = MDict()\n",
    "obj.life['animals'].keys()"
   ]
  },
  {
   "cell_type": "code",
   "execution_count": null,
   "id": "f2dadf72",
   "metadata": {},
   "outputs": [],
   "source": []
  },
  {
   "cell_type": "markdown",
   "id": "37f89901",
   "metadata": {},
   "source": [
    "# 16. Print the values for life['animals']['cats']\n"
   ]
  },
  {
   "cell_type": "code",
   "execution_count": 56,
   "id": "8bf00afb",
   "metadata": {},
   "outputs": [],
   "source": [
    "class MDict:\n",
    "    \n",
    "    def __init__(self):\n",
    "        \n",
    "        self.life = {'animals':{'cats':['Henri','Grumpy','Lucy'],'octopi':{},'emus':{}},\n",
    "                    'plants':{},\n",
    "                    'other':{}}\n"
   ]
  },
  {
   "cell_type": "code",
   "execution_count": 57,
   "id": "0e9812a8",
   "metadata": {},
   "outputs": [
    {
     "data": {
      "text/plain": [
       "['Henri', 'Grumpy', 'Lucy']"
      ]
     },
     "execution_count": 57,
     "metadata": {},
     "output_type": "execute_result"
    }
   ],
   "source": [
    "obj = MDict()\n",
    "obj.life['animals']['cats']"
   ]
  },
  {
   "cell_type": "code",
   "execution_count": null,
   "id": "7313156a",
   "metadata": {},
   "outputs": [],
   "source": []
  }
 ],
 "metadata": {
  "kernelspec": {
   "display_name": "iNeuronFSDSPythonModule",
   "language": "python",
   "name": "ineuronfsdspythonmodule"
  },
  "language_info": {
   "codemirror_mode": {
    "name": "ipython",
    "version": 3
   },
   "file_extension": ".py",
   "mimetype": "text/x-python",
   "name": "python",
   "nbconvert_exporter": "python",
   "pygments_lexer": "ipython3",
   "version": "3.6.12"
  }
 },
 "nbformat": 4,
 "nbformat_minor": 5
}
