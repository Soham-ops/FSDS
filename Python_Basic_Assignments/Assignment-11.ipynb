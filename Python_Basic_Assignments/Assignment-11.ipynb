{
 "cells": [
  {
   "cell_type": "markdown",
   "id": "roman-motor",
   "metadata": {},
   "source": [
    "# 1. Create an assert statement that throws an AssertionError if the variable spam is a negative integer."
   ]
  },
  {
   "cell_type": "markdown",
   "id": "interesting-quebec",
   "metadata": {},
   "source": [
    "# Soln"
   ]
  },
  {
   "cell_type": "code",
   "execution_count": 2,
   "id": "macro-neighbor",
   "metadata": {},
   "outputs": [
    {
     "name": "stdout",
     "output_type": "stream",
     "text": [
      "Enter - -1\n"
     ]
    },
    {
     "ename": "AssertionError",
     "evalue": "spam has value < 0",
     "output_type": "error",
     "traceback": [
      "\u001b[1;31m---------------------------------------------------------------------------\u001b[0m",
      "\u001b[1;31mAssertionError\u001b[0m                            Traceback (most recent call last)",
      "\u001b[1;32m<ipython-input-2-195ebba7a0d7>\u001b[0m in \u001b[0;36m<module>\u001b[1;34m\u001b[0m\n\u001b[0;32m      1\u001b[0m \u001b[0mspam\u001b[0m \u001b[1;33m=\u001b[0m \u001b[0mint\u001b[0m\u001b[1;33m(\u001b[0m\u001b[0minput\u001b[0m\u001b[1;33m(\u001b[0m\u001b[1;34m'Enter - '\u001b[0m\u001b[1;33m)\u001b[0m\u001b[1;33m)\u001b[0m\u001b[1;33m\u001b[0m\u001b[1;33m\u001b[0m\u001b[0m\n\u001b[0;32m      2\u001b[0m \u001b[1;31m#Raises assertion error is given condition is false\u001b[0m\u001b[1;33m\u001b[0m\u001b[1;33m\u001b[0m\u001b[1;33m\u001b[0m\u001b[0m\n\u001b[1;32m----> 3\u001b[1;33m \u001b[1;32massert\u001b[0m \u001b[0mspam\u001b[0m \u001b[1;33m<\u001b[0m \u001b[1;33m-\u001b[0m\u001b[1;36m1\u001b[0m\u001b[1;33m,\u001b[0m  \u001b[1;34m'spam has value < 0'\u001b[0m\u001b[1;33m\u001b[0m\u001b[1;33m\u001b[0m\u001b[0m\n\u001b[0m\u001b[0;32m      4\u001b[0m \u001b[0mprint\u001b[0m\u001b[1;33m(\u001b[0m\u001b[0mspam\u001b[0m\u001b[1;33m)\u001b[0m\u001b[1;33m\u001b[0m\u001b[1;33m\u001b[0m\u001b[0m\n",
      "\u001b[1;31mAssertionError\u001b[0m: spam has value < 0"
     ]
    }
   ],
   "source": [
    "spam = int(input('Enter - '))\n",
    "#Raises assertion error is given condition is false\n",
    "assert spam < -1,  'spam has value < 0'\n",
    "print(spam)"
   ]
  },
  {
   "cell_type": "markdown",
   "id": "virtual-happening",
   "metadata": {},
   "source": [
    "# 2. Write an assert statement that triggers an AssertionError if the variables eggs and bacon contain strings that are the same as each other, even if their cases are different (that is, 'hello' and 'hello' are considered the same, and 'goodbye' and 'GOODbye' are also considered the same)."
   ]
  },
  {
   "cell_type": "markdown",
   "id": "naval-jungle",
   "metadata": {},
   "source": [
    "# Soln"
   ]
  },
  {
   "cell_type": "code",
   "execution_count": 3,
   "id": "religious-harris",
   "metadata": {},
   "outputs": [
    {
     "name": "stdout",
     "output_type": "stream",
     "text": [
      "Enter - goodbye\n",
      "Enter - GOODbye\n"
     ]
    },
    {
     "ename": "AssertionError",
     "evalue": "Both contain the same word",
     "output_type": "error",
     "traceback": [
      "\u001b[1;31m---------------------------------------------------------------------------\u001b[0m",
      "\u001b[1;31mAssertionError\u001b[0m                            Traceback (most recent call last)",
      "\u001b[1;32m<ipython-input-3-060f01ef7113>\u001b[0m in \u001b[0;36m<module>\u001b[1;34m\u001b[0m\n\u001b[0;32m      2\u001b[0m \u001b[0mbacon\u001b[0m \u001b[1;33m=\u001b[0m \u001b[0minput\u001b[0m\u001b[1;33m(\u001b[0m\u001b[1;34m'Enter - '\u001b[0m\u001b[1;33m)\u001b[0m\u001b[1;33m\u001b[0m\u001b[1;33m\u001b[0m\u001b[0m\n\u001b[0;32m      3\u001b[0m \u001b[1;33m\u001b[0m\u001b[0m\n\u001b[1;32m----> 4\u001b[1;33m \u001b[1;32massert\u001b[0m \u001b[0meggs\u001b[0m\u001b[1;33m.\u001b[0m\u001b[0mlower\u001b[0m\u001b[1;33m(\u001b[0m\u001b[1;33m)\u001b[0m \u001b[1;33m!=\u001b[0m \u001b[0mbacon\u001b[0m\u001b[1;33m.\u001b[0m\u001b[0mlower\u001b[0m\u001b[1;33m(\u001b[0m\u001b[1;33m)\u001b[0m\u001b[1;33m,\u001b[0m \u001b[1;34m'Both contain the same word'\u001b[0m\u001b[1;33m\u001b[0m\u001b[1;33m\u001b[0m\u001b[0m\n\u001b[0m\u001b[0;32m      5\u001b[0m \u001b[0mprint\u001b[0m\u001b[1;33m(\u001b[0m\u001b[1;34mf\"{eggs},{bacon}\"\u001b[0m\u001b[1;33m)\u001b[0m\u001b[1;33m\u001b[0m\u001b[1;33m\u001b[0m\u001b[0m\n",
      "\u001b[1;31mAssertionError\u001b[0m: Both contain the same word"
     ]
    }
   ],
   "source": [
    "eggs = input('Enter - ')\n",
    "bacon = input('Enter - ')\n",
    "\n",
    "assert eggs.lower() != bacon.lower(), 'Both contain the same word'\n",
    "print(f\"{eggs},{bacon}\")"
   ]
  },
  {
   "cell_type": "markdown",
   "id": "reduced-trance",
   "metadata": {},
   "source": [
    "# 3. Create an assert statement that throws an AssertionError every time."
   ]
  },
  {
   "cell_type": "markdown",
   "id": "future-turtle",
   "metadata": {},
   "source": [
    "# Soln"
   ]
  },
  {
   "cell_type": "code",
   "execution_count": 4,
   "id": "prerequisite-confidence",
   "metadata": {},
   "outputs": [
    {
     "ename": "AssertionError",
     "evalue": "This will always trigger Error",
     "output_type": "error",
     "traceback": [
      "\u001b[1;31m---------------------------------------------------------------------------\u001b[0m",
      "\u001b[1;31mAssertionError\u001b[0m                            Traceback (most recent call last)",
      "\u001b[1;32m<ipython-input-4-22b00be70211>\u001b[0m in \u001b[0;36m<module>\u001b[1;34m\u001b[0m\n\u001b[0;32m      1\u001b[0m \u001b[1;31m# 0 represents False boolean value\u001b[0m\u001b[1;33m\u001b[0m\u001b[1;33m\u001b[0m\u001b[1;33m\u001b[0m\u001b[0m\n\u001b[1;32m----> 2\u001b[1;33m \u001b[1;32massert\u001b[0m \u001b[1;36m0\u001b[0m\u001b[1;33m,\u001b[0m\u001b[1;34m'This will always trigger Error'\u001b[0m\u001b[1;33m\u001b[0m\u001b[1;33m\u001b[0m\u001b[0m\n\u001b[0m",
      "\u001b[1;31mAssertionError\u001b[0m: This will always trigger Error"
     ]
    }
   ],
   "source": [
    "# 0 represents False boolean value\n",
    "assert 0,'This will always trigger Error'"
   ]
  },
  {
   "cell_type": "code",
   "execution_count": null,
   "id": "d6dda703",
   "metadata": {},
   "outputs": [],
   "source": []
  },
  {
   "cell_type": "markdown",
   "id": "adult-nomination",
   "metadata": {},
   "source": [
    "# 4. What are the two lines that must be present in your software in order to call logging.debug()?"
   ]
  },
  {
   "cell_type": "markdown",
   "id": "pediatric-frost",
   "metadata": {},
   "source": [
    "# Soln"
   ]
  },
  {
   "cell_type": "code",
   "execution_count": 5,
   "id": "lasting-dollar",
   "metadata": {},
   "outputs": [],
   "source": [
    "import logging as lg\n",
    "lg.basicConfig(filename = 'a11.log',level  = lg.DEBUG)\n",
    "lg.debug('This is a sample message for debugging')\n",
    "lg.shutdown()"
   ]
  },
  {
   "cell_type": "code",
   "execution_count": null,
   "id": "f8782164",
   "metadata": {},
   "outputs": [],
   "source": []
  },
  {
   "cell_type": "markdown",
   "id": "liked-klein",
   "metadata": {},
   "source": [
    "# 5. What are the two lines that your program must have in order to have logging.debug() send a logging message to a file named programLog.txt?"
   ]
  },
  {
   "cell_type": "code",
   "execution_count": 6,
   "id": "binding-property",
   "metadata": {},
   "outputs": [],
   "source": [
    "import logging as lg\n",
    "lg.basicConfig(filename = 'programLog.txt',level  = lg.DEBUG)\n",
    "lg.debug('This is a sample message for debugging')\n",
    "lg.shutdown()"
   ]
  },
  {
   "cell_type": "markdown",
   "id": "devoted-crawford",
   "metadata": {},
   "source": [
    "# 6. What are the five levels of logging?"
   ]
  },
  {
   "cell_type": "markdown",
   "id": "sporting-bunch",
   "metadata": {},
   "source": [
    "# Soln"
   ]
  },
  {
   "cell_type": "markdown",
   "id": "norwegian-belfast",
   "metadata": {},
   "source": [
    "<p>Quoting from the Python Doc</p>\n",
    "<li>CRITICAL 50</li>\n",
    "<li>ERROR 40</li>\n",
    "<li>WARNING 30 </li>\n",
    "<li>INFO 20</li>\n",
    "<li>DEBUG 10</li>\n",
    "<p>The integer values reflect log severity with higher values indicating higher severity</p>"
   ]
  },
  {
   "cell_type": "markdown",
   "id": "loose-mediterranean",
   "metadata": {},
   "source": [
    "# 7. What line of code would you add to your software to disable all logging messages?"
   ]
  },
  {
   "cell_type": "code",
   "execution_count": 7,
   "id": "funky-parking",
   "metadata": {},
   "outputs": [],
   "source": [
    "import logging as lg\n",
    "lg.basicConfig(filename = 'a11_1.log',level = lg.DEBUG)\n",
    "lg.critical('Critical log')\n",
    "lg.error('Error log')\n",
    "lg.warning('Warning log')\n",
    "lg.info('Info log')\n",
    "lg.debug('Debug log')\n",
    "\n",
    "lg.disable(level = lg.WARNING )#This is the required LOC\n",
    "\n",
    "lg.critical('Critical log')\n",
    "lg.error('Error log')\n",
    "lg.warning('Warning log')\n",
    "lg.info('Info log')\n",
    "lg.debug('Debug log')"
   ]
  },
  {
   "cell_type": "markdown",
   "id": "scientific-mileage",
   "metadata": {},
   "source": [
    "# 8.Why is using logging messages better than using print() to display the same message?"
   ]
  },
  {
   "cell_type": "markdown",
   "id": "northern-faculty",
   "metadata": {},
   "source": [
    "# Soln"
   ]
  },
  {
   "cell_type": "markdown",
   "id": "white-dressing",
   "metadata": {},
   "source": [
    "<li>We generally store log messages in a file hence it is permanent in nature, which is not the case with print()</li>\n",
    "<li>As in its case message is shown on the terminal which is lost once the window is closed</li>\n",
    "<li>With log we can know a program's history, thus giving better insights into debugging if the need arises</li>\n",
    "<li>With print() we can't do such a thing</li>\n",
    "<li>Also as the log is stored is stored in a file, which can be shared thus widening the human resource base that can address the debugging of the program</li>\n",
    "<li>As with the help of a correct log the flow of a program can easily be deciphered</li>\n",
    "<li>print() limits the scope as only the original author knows the flow and in absence of a log file the program can't be readily debugged by someone else</li>"
   ]
  },
  {
   "cell_type": "markdown",
   "id": "floral-claim",
   "metadata": {},
   "source": [
    "# 9. What are the differences between the Step Over, Step In, and Step Out buttons in the debugger?"
   ]
  },
  {
   "cell_type": "markdown",
   "id": "theoretical-stake",
   "metadata": {},
   "source": [
    "# Soln"
   ]
  },
  {
   "cell_type": "markdown",
   "id": "general-commitment",
   "metadata": {},
   "source": [
    "<p>STEP In</p>\n",
    "<li>Will run the next LOC and if the there is a function call will take our debugger inside that function as well</li>\n",
    "<p>STEP Over</p>\n",
    "<li>Will run the next LOC and if there is function call will execute it and directly come to the next line after the function call</li>\n",
    "<p>STEP out</p>\n",
    "<li>If we use it inside a function then our debugger comes directly to the point where that function will  return"
   ]
  },
  {
   "cell_type": "markdown",
   "id": "muslim-perry",
   "metadata": {},
   "source": [
    "# 10.After you click Continue, when will the debugger stop ?"
   ]
  },
  {
   "cell_type": "markdown",
   "id": "opened-praise",
   "metadata": {},
   "source": [
    "# Soln"
   ]
  },
  {
   "cell_type": "markdown",
   "id": "lonely-polyester",
   "metadata": {},
   "source": [
    "<li>It will stop at the next breakpoint that we have set </li>"
   ]
  },
  {
   "cell_type": "markdown",
   "id": "mineral-yellow",
   "metadata": {},
   "source": [
    "# 11. What is the concept of a breakpoint?"
   ]
  },
  {
   "cell_type": "markdown",
   "id": "dependent-assembly",
   "metadata": {},
   "source": [
    "# Soln"
   ]
  },
  {
   "cell_type": "markdown",
   "id": "pressing-throw",
   "metadata": {},
   "source": [
    "<li>We use breakpoints to pause a program at the given point while debugging</li>"
   ]
  },
  {
   "cell_type": "code",
   "execution_count": null,
   "id": "increased-artwork",
   "metadata": {},
   "outputs": [],
   "source": []
  }
 ],
 "metadata": {
  "kernelspec": {
   "display_name": "iNeuronFSDSPythonModule",
   "language": "python",
   "name": "ineuronfsdspythonmodule"
  },
  "language_info": {
   "codemirror_mode": {
    "name": "ipython",
    "version": 3
   },
   "file_extension": ".py",
   "mimetype": "text/x-python",
   "name": "python",
   "nbconvert_exporter": "python",
   "pygments_lexer": "ipython3",
   "version": "3.6.12"
  }
 },
 "nbformat": 4,
 "nbformat_minor": 5
}
