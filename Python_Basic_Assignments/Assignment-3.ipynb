{
 "cells": [
  {
   "cell_type": "markdown",
   "id": "accessible-webcam",
   "metadata": {},
   "source": [
    "## 1. Why are functions advantageous to have in your programs?"
   ]
  },
  {
   "cell_type": "markdown",
   "id": "widespread-chemical",
   "metadata": {},
   "source": [
    "# Soln"
   ]
  },
  {
   "cell_type": "markdown",
   "id": "serious-permit",
   "metadata": {},
   "source": [
    "<li>Functions allow us to break the entire code into separate modules.</li>\n",
    "<li>This break up of into modules helps in code reusability</li>\n",
    "<li>The organization of code is better</li>\n",
    "<li>Debugging becomes easier</li>"
   ]
  },
  {
   "cell_type": "code",
   "execution_count": null,
   "id": "nonprofit-bracket",
   "metadata": {},
   "outputs": [],
   "source": []
  },
  {
   "cell_type": "markdown",
   "id": "analyzed-click",
   "metadata": {},
   "source": [
    "## 2. When does the code in a function run: when it's specified or when the function is called?"
   ]
  },
  {
   "cell_type": "markdown",
   "id": "ranging-narrative",
   "metadata": {},
   "source": [
    "# Soln"
   ]
  },
  {
   "cell_type": "markdown",
   "id": "constitutional-underwear",
   "metadata": {},
   "source": [
    "The code in the function executes when it is called"
   ]
  },
  {
   "cell_type": "code",
   "execution_count": null,
   "id": "productive-assets",
   "metadata": {},
   "outputs": [],
   "source": []
  },
  {
   "cell_type": "markdown",
   "id": "adolescent-overhead",
   "metadata": {},
   "source": [
    "## 3. What statement creates a function?"
   ]
  },
  {
   "cell_type": "markdown",
   "id": "subject-dialogue",
   "metadata": {},
   "source": [
    "# Soln"
   ]
  },
  {
   "cell_type": "markdown",
   "id": "radio-german",
   "metadata": {},
   "source": [
    "def statement"
   ]
  },
  {
   "cell_type": "code",
   "execution_count": 1,
   "id": "civic-glory",
   "metadata": {},
   "outputs": [],
   "source": [
    "#Eg\n",
    "def sum1(a,b):\n",
    "    return a+b"
   ]
  },
  {
   "cell_type": "code",
   "execution_count": null,
   "id": "promising-integral",
   "metadata": {},
   "outputs": [],
   "source": []
  },
  {
   "cell_type": "markdown",
   "id": "wicked-element",
   "metadata": {},
   "source": [
    "## 4. What is the difference between a function and a function call?"
   ]
  },
  {
   "cell_type": "markdown",
   "id": "comic-glory",
   "metadata": {},
   "source": [
    "# Soln"
   ]
  },
  {
   "cell_type": "markdown",
   "id": "suited-blowing",
   "metadata": {},
   "source": [
    "<li>Generally by a function we generally mean the function definition, here  we basically define what will the function do, what args will it take,what value will it return and we also give a name to our function</li>\n",
    "<li>Function call as the name suggests is the Line of Code where we call our function that we had just created for execution thus serving the purpose for which it was created.</li>\n",
    "<li>A function has to be defined before it is called, failing to do so generates error as shown below.This is because execution in python happens line by line</li>"
   ]
  },
  {
   "cell_type": "code",
   "execution_count": 3,
   "id": "intensive-hands",
   "metadata": {},
   "outputs": [
    {
     "ename": "NameError",
     "evalue": "name 'diff' is not defined",
     "output_type": "error",
     "traceback": [
      "\u001b[1;31m---------------------------------------------------------------------------\u001b[0m",
      "\u001b[1;31mNameError\u001b[0m                                 Traceback (most recent call last)",
      "\u001b[1;32m<ipython-input-3-c0c682300201>\u001b[0m in \u001b[0;36m<module>\u001b[1;34m()\u001b[0m\n\u001b[1;32m----> 1\u001b[1;33m \u001b[0mprint\u001b[0m\u001b[1;33m(\u001b[0m\u001b[0mdiff\u001b[0m\u001b[1;33m(\u001b[0m\u001b[1;36m1\u001b[0m\u001b[1;33m,\u001b[0m\u001b[1;36m2\u001b[0m\u001b[1;33m)\u001b[0m\u001b[1;33m)\u001b[0m\u001b[1;33m\u001b[0m\u001b[1;33m\u001b[0m\u001b[0m\n\u001b[0m\u001b[0;32m      2\u001b[0m \u001b[1;31m#Eg\u001b[0m\u001b[1;33m\u001b[0m\u001b[1;33m\u001b[0m\u001b[1;33m\u001b[0m\u001b[0m\n\u001b[0;32m      3\u001b[0m \u001b[1;32mdef\u001b[0m \u001b[0mdiff\u001b[0m\u001b[1;33m(\u001b[0m\u001b[0ma\u001b[0m\u001b[1;33m,\u001b[0m\u001b[0mb\u001b[0m\u001b[1;33m)\u001b[0m\u001b[1;33m:\u001b[0m\u001b[1;33m\u001b[0m\u001b[1;33m\u001b[0m\u001b[0m\n\u001b[0;32m      4\u001b[0m     \u001b[1;32mreturn\u001b[0m \u001b[0ma\u001b[0m\u001b[1;33m-\u001b[0m\u001b[0mb\u001b[0m\u001b[1;33m\u001b[0m\u001b[1;33m\u001b[0m\u001b[0m\n",
      "\u001b[1;31mNameError\u001b[0m: name 'diff' is not defined"
     ]
    }
   ],
   "source": [
    "print(diff(1,2))\n",
    "#Eg\n",
    "def diff(a,b):\n",
    "    return a-b"
   ]
  },
  {
   "cell_type": "code",
   "execution_count": null,
   "id": "sublime-heading",
   "metadata": {},
   "outputs": [],
   "source": []
  },
  {
   "cell_type": "markdown",
   "id": "surface-celebrity",
   "metadata": {},
   "source": [
    "## 5. How many global scopes are there in a Python program? How many local scopes?"
   ]
  },
  {
   "cell_type": "markdown",
   "id": "raised-princeton",
   "metadata": {},
   "source": [
    "# Soln"
   ]
  },
  {
   "cell_type": "markdown",
   "id": "threaded-connecticut",
   "metadata": {},
   "source": [
    "<li>Only one global scope is present</li>\n",
    "<li>Number of local scope depend on the respective program</li>"
   ]
  },
  {
   "cell_type": "code",
   "execution_count": 4,
   "id": "applied-rolling",
   "metadata": {},
   "outputs": [
    {
     "name": "stdout",
     "output_type": "stream",
     "text": [
      "global count is 1\n",
      "local count in fun1 3\n",
      "local count in fun2 4 \n",
      "global count is 1\n"
     ]
    }
   ],
   "source": [
    "#Ex\n",
    "count=1\n",
    "def fun1():\n",
    "    count=2\n",
    "    count=count+1\n",
    "    def fun2():\n",
    "        count=3\n",
    "        count=count+1\n",
    "        print(f\"local count in fun2 {count} \")\n",
    "    print(f\"local count in fun1 {count}\")\n",
    "    fun2()\n",
    "    \n",
    "\n",
    "print(f\"global count is {count}\")\n",
    "fun1()\n",
    "print(f\"global count is {count}\")\n"
   ]
  },
  {
   "cell_type": "markdown",
   "id": "favorite-motivation",
   "metadata": {},
   "source": [
    "<li>For the above example we have</li>\n",
    "<li>1 global scope in which count,fun1() print() are visible</li>\n",
    "<li>1 local scope for fun1() which includes its local variable count and definition of fun2()</li>\n",
    "<li>1 local scope for fun2() which includes its local variable count</li>"
   ]
  },
  {
   "cell_type": "code",
   "execution_count": null,
   "id": "infinite-authentication",
   "metadata": {},
   "outputs": [],
   "source": []
  },
  {
   "cell_type": "markdown",
   "id": "capable-leone",
   "metadata": {},
   "source": [
    "## 6. What happens to variables in a local scope when the function call returns?"
   ]
  },
  {
   "cell_type": "markdown",
   "id": "stylish-boston",
   "metadata": {},
   "source": [
    "# Soln"
   ]
  },
  {
   "cell_type": "markdown",
   "id": "balanced-adaptation",
   "metadata": {},
   "source": [
    "<li>The lifetime of a variable is dependent on scope. Once the function call return the scope ends thus the variable is removed from memory</li>\n",
    "<li>As demonstrated with the below example</li>"
   ]
  },
  {
   "cell_type": "code",
   "execution_count": 9,
   "id": "hispanic-radical",
   "metadata": {},
   "outputs": [
    {
     "name": "stdout",
     "output_type": "stream",
     "text": [
      "1\n"
     ]
    },
    {
     "ename": "NameError",
     "evalue": "name 'ocount' is not defined",
     "output_type": "error",
     "traceback": [
      "\u001b[1;31m---------------------------------------------------------------------------\u001b[0m",
      "\u001b[1;31mNameError\u001b[0m                                 Traceback (most recent call last)",
      "\u001b[1;32m<ipython-input-9-82ed395640e6>\u001b[0m in \u001b[0;36m<module>\u001b[1;34m()\u001b[0m\n\u001b[0;32m      4\u001b[0m     \u001b[0mprint\u001b[0m\u001b[1;33m(\u001b[0m\u001b[0mocount\u001b[0m\u001b[1;33m)\u001b[0m\u001b[1;33m\u001b[0m\u001b[1;33m\u001b[0m\u001b[0m\n\u001b[0;32m      5\u001b[0m \u001b[0mfun\u001b[0m\u001b[1;33m(\u001b[0m\u001b[1;33m)\u001b[0m\u001b[1;33m\u001b[0m\u001b[1;33m\u001b[0m\u001b[0m\n\u001b[1;32m----> 6\u001b[1;33m \u001b[0mprint\u001b[0m\u001b[1;33m(\u001b[0m\u001b[0mocount\u001b[0m\u001b[1;33m)\u001b[0m\u001b[1;33m\u001b[0m\u001b[1;33m\u001b[0m\u001b[0m\n\u001b[0m",
      "\u001b[1;31mNameError\u001b[0m: name 'ocount' is not defined"
     ]
    }
   ],
   "source": [
    "#Ex\n",
    "def fun():\n",
    "    ocount=1\n",
    "    print(ocount)\n",
    "fun()\n",
    "print(ocount)"
   ]
  },
  {
   "cell_type": "code",
   "execution_count": null,
   "id": "polar-oasis",
   "metadata": {},
   "outputs": [],
   "source": []
  },
  {
   "cell_type": "markdown",
   "id": "norman-jones",
   "metadata": {},
   "source": [
    "## 7. What is the concept of a return value? Is it possible to have a return value in an  expression?"
   ]
  },
  {
   "cell_type": "markdown",
   "id": "minor-march",
   "metadata": {},
   "source": [
    "# Soln"
   ]
  },
  {
   "cell_type": "markdown",
   "id": "incomplete-wilson",
   "metadata": {},
   "source": [
    "<li>As the name suggests return value means the value returned from a function post processing</li>\n",
    "<li>Yes,as evident from the example below</li>"
   ]
  },
  {
   "cell_type": "code",
   "execution_count": 12,
   "id": "rising-catalog",
   "metadata": {},
   "outputs": [
    {
     "name": "stdout",
     "output_type": "stream",
     "text": [
      "13\n"
     ]
    }
   ],
   "source": [
    "#Ex\n",
    "def sum1(a,b):\n",
    "    return a+b\n",
    "print(10+sum1(1,2))"
   ]
  },
  {
   "cell_type": "code",
   "execution_count": null,
   "id": "negative-doctor",
   "metadata": {},
   "outputs": [],
   "source": []
  },
  {
   "cell_type": "markdown",
   "id": "international-balloon",
   "metadata": {},
   "source": [
    "## 8. If a function does not have a return statement, what is the return value of a call to that function?"
   ]
  },
  {
   "cell_type": "markdown",
   "id": "infinite-space",
   "metadata": {},
   "source": [
    "# Soln"
   ]
  },
  {
   "cell_type": "markdown",
   "id": "forty-fortune",
   "metadata": {},
   "source": [
    "For such a case return value is None"
   ]
  },
  {
   "cell_type": "code",
   "execution_count": null,
   "id": "junior-sacramento",
   "metadata": {},
   "outputs": [],
   "source": []
  },
  {
   "cell_type": "markdown",
   "id": "blind-appreciation",
   "metadata": {},
   "source": [
    "## 9. How do you make a function variable refer to the global variable ?"
   ]
  },
  {
   "cell_type": "markdown",
   "id": "nuclear-manufacturer",
   "metadata": {},
   "source": [
    "# Soln"
   ]
  },
  {
   "cell_type": "code",
   "execution_count": 20,
   "id": "prostate-cabin",
   "metadata": {},
   "outputs": [
    {
     "name": "stdout",
     "output_type": "stream",
     "text": [
      "local count is 2\n",
      "global count is 5\n",
      "global count is 5\n"
     ]
    }
   ],
   "source": [
    "count=4\n",
    "def fun():\n",
    "    count = 1\n",
    "    count = count+1\n",
    "    print(f\"local count is {count}\")\n",
    "    x = globals()['count']\n",
    "    x = x+1\n",
    "    globals()['count'] = x\n",
    "    print(f\"global count is {x}\")\n",
    "fun()\n",
    "print(f\"global count is {count}\")"
   ]
  },
  {
   "cell_type": "markdown",
   "id": "impressive-stomach",
   "metadata": {},
   "source": [
    "### OR"
   ]
  },
  {
   "cell_type": "code",
   "execution_count": 21,
   "id": "statewide-satin",
   "metadata": {},
   "outputs": [
    {
     "name": "stdout",
     "output_type": "stream",
     "text": [
      "global count is 5\n",
      "global count is 5\n"
     ]
    }
   ],
   "source": [
    "count=4\n",
    "def fun():\n",
    "    global count\n",
    "    count = count+1\n",
    "    print(f\"global count is {count}\")\n",
    "fun()\n",
    "print(f\"global count is {count}\")"
   ]
  },
  {
   "cell_type": "code",
   "execution_count": null,
   "id": "promising-conclusion",
   "metadata": {},
   "outputs": [],
   "source": []
  },
  {
   "cell_type": "markdown",
   "id": "variable-surface",
   "metadata": {},
   "source": [
    "## 10. What is the data type of None?"
   ]
  },
  {
   "cell_type": "markdown",
   "id": "limited-natural",
   "metadata": {},
   "source": [
    "# Soln"
   ]
  },
  {
   "cell_type": "code",
   "execution_count": 6,
   "id": "treated-phrase",
   "metadata": {},
   "outputs": [
    {
     "data": {
      "text/plain": [
       "NoneType"
      ]
     },
     "execution_count": 6,
     "metadata": {},
     "output_type": "execute_result"
    }
   ],
   "source": [
    "type(None)"
   ]
  },
  {
   "cell_type": "code",
   "execution_count": null,
   "id": "collect-climate",
   "metadata": {},
   "outputs": [],
   "source": []
  },
  {
   "cell_type": "markdown",
   "id": "artistic-tackle",
   "metadata": {},
   "source": [
    "## 11. What does the sentence import areallyourpetsnamederic do?"
   ]
  },
  {
   "cell_type": "markdown",
   "id": "acute-geometry",
   "metadata": {},
   "source": [
    "# Soln"
   ]
  },
  {
   "cell_type": "markdown",
   "id": "referenced-ontario",
   "metadata": {},
   "source": [
    "<li>So if 'areallyourpetsnamederic' is the name of the module then this will be imported in our program</li>\n",
    "<li>After this we can use the functions available in this module as follows</li>\n",
    "<li>Like for eg areallyourpetsnamederic.func()</li>"
   ]
  },
  {
   "cell_type": "code",
   "execution_count": null,
   "id": "completed-crime",
   "metadata": {},
   "outputs": [],
   "source": []
  },
  {
   "cell_type": "markdown",
   "id": "based-headquarters",
   "metadata": {},
   "source": [
    "## 12. If you had a function named bacon() in a module named spam, how would you call it after importing spam?"
   ]
  },
  {
   "cell_type": "markdown",
   "id": "maritime-clarity",
   "metadata": {},
   "source": [
    "# Soln"
   ]
  },
  {
   "cell_type": "markdown",
   "id": "disturbed-wheel",
   "metadata": {},
   "source": [
    "#### import spam\n",
    "#### spam.bacon()"
   ]
  },
  {
   "cell_type": "code",
   "execution_count": null,
   "id": "breathing-macedonia",
   "metadata": {},
   "outputs": [],
   "source": []
  },
  {
   "cell_type": "markdown",
   "id": "finnish-generation",
   "metadata": {},
   "source": [
    "## 13. What can you do to save a programme from crashing if it encounters an error ?"
   ]
  },
  {
   "cell_type": "markdown",
   "id": "subsequent-liberal",
   "metadata": {},
   "source": [
    "# Soln"
   ]
  },
  {
   "cell_type": "markdown",
   "id": "normal-victory",
   "metadata": {},
   "source": [
    "Can be done with the help of exception handling."
   ]
  },
  {
   "cell_type": "code",
   "execution_count": null,
   "id": "sixth-craft",
   "metadata": {},
   "outputs": [],
   "source": []
  },
  {
   "cell_type": "markdown",
   "id": "about-cincinnati",
   "metadata": {},
   "source": [
    "## 14. What is the purpose of the try clause ? What is the purpose of the except clause ?"
   ]
  },
  {
   "cell_type": "markdown",
   "id": "waiting-authentication",
   "metadata": {},
   "source": [
    "# Soln"
   ]
  },
  {
   "cell_type": "markdown",
   "id": "rough-bracket",
   "metadata": {},
   "source": [
    "<li>In try clause we put the code block that is susceptible to generate error</li>\n",
    "<li>In except clause either</li>\n",
    "<li>a) We specify the error that the try clause may generate and accordingly handle it</li>\n",
    "<li>b) Or we do a \"one size fits all\" type of mechanism, in which any error the try block will generate will go the except block and will be accordingly handled</li>"
   ]
  },
  {
   "cell_type": "code",
   "execution_count": null,
   "id": "included-quarterly",
   "metadata": {},
   "outputs": [],
   "source": []
  }
 ],
 "metadata": {
  "kernelspec": {
   "display_name": "Python 3 (ipykernel)",
   "language": "python",
   "name": "python3"
  },
  "language_info": {
   "codemirror_mode": {
    "name": "ipython",
    "version": 3
   },
   "file_extension": ".py",
   "mimetype": "text/x-python",
   "name": "python",
   "nbconvert_exporter": "python",
   "pygments_lexer": "ipython3",
   "version": "3.8.12"
  }
 },
 "nbformat": 4,
 "nbformat_minor": 5
}
