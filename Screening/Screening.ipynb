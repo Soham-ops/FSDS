{
 "cells": [
  {
   "cell_type": "markdown",
   "id": "b18e9be2",
   "metadata": {},
   "source": [
    "# 1. Create a function in python to read the text file and replace specific content of the file."
   ]
  },
  {
   "cell_type": "code",
   "execution_count": 42,
   "id": "fa7cfda3",
   "metadata": {},
   "outputs": [],
   "source": [
    "import logging as lg\n",
    "import os\n",
    "\n",
    "class FileRead:\n",
    "    \n",
    "    def __init__(self,fname,content):\n",
    "        \n",
    "        try:\n",
    "            #if log file exists overwrite it\n",
    "            if os.path.exists('screening.log'):\n",
    "                f = open('screening.log','w')\n",
    "\n",
    "                f.write(\"xxxxxxxxxxxxxxxxxxxxxxxxxxxxxxxxxxxxxxxxxxxxxxxx\\n\")\n",
    "                f.write(\"xxxxxxxxxxxxxxxxxxxxxxxxxxxxxxxxxxxxxxxxxxxxxxxx\\n\")\n",
    "                f.write('------------NEW OBJECT CREATED------------------\\n')\n",
    "                f.write(\"xxxxxxxxxxxxxxxxxxxxxxxxxxxxxxxxxxxxxxxxxxxxxxxx\\n\")\n",
    "                f.write(\"xxxxxxxxxxxxxxxxxxxxxxxxxxxxxxxxxxxxxxxxxxxxxxxx\\n\")\n",
    "\n",
    "                f.close()\n",
    "\n",
    "            #init log file\n",
    "            lg.basicConfig(filename= 'screening.log',level = lg.DEBUG,format = \"%(asctime)s - %(message)s\",\n",
    "                               datefmt='%d/%m/%Y %I:%M:%S %p')\n",
    "\n",
    "            print('Log file Created Successfully')\n",
    "            \n",
    "            #store name and content of the file on which we have to work upon\n",
    "            self.fname = fname\n",
    "            self.content = content\n",
    "\n",
    "        except Exception as e:\n",
    "            \n",
    "            print(f\"Something went wrong -> {e}\")\n",
    "            lg.exception(str(e))\n",
    "        \n",
    "    \n",
    "    def write(self):\n",
    "        try:\n",
    "            with open(self.fname,'w') as f:\n",
    "                f.write(self.content)\n",
    "                lg.info(\"Content written to file successfully\")\n",
    "                \n",
    "        except Exception as e:\n",
    "            print(f\"Something went wrong -> {e}\")\n",
    "            lg.exception(str(e))\n",
    "            \n",
    "    \n",
    "    def update(self):\n",
    "        \n",
    "        try:\n",
    "            with open(self.fname,'r+') as f:\n",
    "                content = f.read()\n",
    "                lg.info('File Read Success')\n",
    "                content = content.replace('placement','screening')\n",
    "                f.seek(0)\n",
    "                f.write(content)\n",
    "                lg.info(\"File Update Success\")\n",
    "        \n",
    "        except Exception as e:\n",
    "            print(f\"Something went wrong -> {e}\")\n",
    "            lg.exception(str(e))"
   ]
  },
  {
   "cell_type": "code",
   "execution_count": 43,
   "id": "94ce4778",
   "metadata": {},
   "outputs": [
    {
     "name": "stdout",
     "output_type": "stream",
     "text": [
      "Log file Created Successfully\n"
     ]
    }
   ],
   "source": [
    "obj = FileRead(\"example.txt\",\"This is a placement assignment\")"
   ]
  },
  {
   "cell_type": "code",
   "execution_count": 44,
   "id": "9fca3046",
   "metadata": {},
   "outputs": [],
   "source": [
    "obj.write()"
   ]
  },
  {
   "cell_type": "code",
   "execution_count": 45,
   "id": "17965f56",
   "metadata": {},
   "outputs": [],
   "source": [
    "obj.update()"
   ]
  },
  {
   "cell_type": "markdown",
   "id": "59a1eecf",
   "metadata": {},
   "source": [
    "# 2. Demonstrate use of abstract class, multiple inheritance and decorator in python using examples."
   ]
  },
  {
   "cell_type": "markdown",
   "id": "6a197a1d",
   "metadata": {},
   "source": [
    "# Abstract Class Example"
   ]
  },
  {
   "cell_type": "code",
   "execution_count": 46,
   "id": "d0d89d28",
   "metadata": {},
   "outputs": [],
   "source": [
    "from abc import ABC, abstractmethod\n",
    "class Car(ABC):\n",
    "    def __init__(self,regno):\n",
    "        self.regno = regno\n",
    "        print('Car with regno {} has been created'.format(self.regno))\n",
    "        \n",
    "    def openTank(self):\n",
    "        print('Fill the  fuel into the tank')\n",
    "        print('for the car with regno {}'.format(self.regno))\n",
    "        \n",
    "    @abstractmethod\n",
    "    def steering(self):\n",
    "        pass\n",
    "    \n",
    "    @abstractmethod\n",
    "    def braking(self):\n",
    "        pass\n",
    "\n",
    "class Maruti(Car):\n",
    "    \n",
    "    def steering(self):\n",
    "        print('Maruti uses manual steering')\n",
    "        print('Drive the car')\n",
    "        \n",
    "        \n",
    "    def braking(self):\n",
    "        print('Maruti uses hydraulic brakes')\n",
    "        print('Apply brakes and stop it')\n",
    "        \n",
    "class Santro(Car):\n",
    "    \n",
    "    def steering(self):\n",
    "        print('Santro uses power steering')\n",
    "        print('Drive the car')\n",
    "        \n",
    "    def braking(self):\n",
    "        print('Santro uses gas brakes')\n",
    "        print('Apply brakes and stop it')"
   ]
  },
  {
   "cell_type": "code",
   "execution_count": 47,
   "id": "4cea094a",
   "metadata": {},
   "outputs": [
    {
     "name": "stdout",
     "output_type": "stream",
     "text": [
      "Car with regno 1001 has been created\n"
     ]
    }
   ],
   "source": [
    "m = Maruti(1001)"
   ]
  },
  {
   "cell_type": "code",
   "execution_count": 48,
   "id": "3dba8901",
   "metadata": {},
   "outputs": [
    {
     "name": "stdout",
     "output_type": "stream",
     "text": [
      "Fill the  fuel into the tank\n",
      "for the car with regno 1001\n"
     ]
    }
   ],
   "source": [
    "m.openTank()"
   ]
  },
  {
   "cell_type": "code",
   "execution_count": 49,
   "id": "5562bd8a",
   "metadata": {},
   "outputs": [
    {
     "name": "stdout",
     "output_type": "stream",
     "text": [
      "Maruti uses manual steering\n",
      "Drive the car\n"
     ]
    }
   ],
   "source": [
    "m.steering()"
   ]
  },
  {
   "cell_type": "code",
   "execution_count": 50,
   "id": "ea015941",
   "metadata": {},
   "outputs": [
    {
     "name": "stdout",
     "output_type": "stream",
     "text": [
      "Maruti uses hydraulic brakes\n",
      "Apply brakes and stop it\n"
     ]
    }
   ],
   "source": [
    "m.braking()"
   ]
  },
  {
   "cell_type": "code",
   "execution_count": 51,
   "id": "cc1ac4be",
   "metadata": {},
   "outputs": [
    {
     "name": "stdout",
     "output_type": "stream",
     "text": [
      "Car with regno 7878 has been created\n"
     ]
    }
   ],
   "source": [
    "s = Santro(7878)"
   ]
  },
  {
   "cell_type": "code",
   "execution_count": 52,
   "id": "13ce0a78",
   "metadata": {},
   "outputs": [
    {
     "name": "stdout",
     "output_type": "stream",
     "text": [
      "Fill the  fuel into the tank\n",
      "for the car with regno 7878\n"
     ]
    }
   ],
   "source": [
    "s.openTank()"
   ]
  },
  {
   "cell_type": "code",
   "execution_count": 53,
   "id": "ed8fc5a5",
   "metadata": {},
   "outputs": [
    {
     "name": "stdout",
     "output_type": "stream",
     "text": [
      "Santro uses power steering\n",
      "Drive the car\n"
     ]
    }
   ],
   "source": [
    "s.steering()"
   ]
  },
  {
   "cell_type": "code",
   "execution_count": 54,
   "id": "2c4dfb15",
   "metadata": {},
   "outputs": [
    {
     "name": "stdout",
     "output_type": "stream",
     "text": [
      "Santro uses gas brakes\n",
      "Apply brakes and stop it\n"
     ]
    }
   ],
   "source": [
    "s.braking()"
   ]
  },
  {
   "cell_type": "markdown",
   "id": "acc4956f",
   "metadata": {},
   "source": [
    "# Multiple Inheritance Example"
   ]
  },
  {
   "cell_type": "code",
   "execution_count": 55,
   "id": "bd3c409b",
   "metadata": {},
   "outputs": [],
   "source": [
    "class Father:\n",
    "    def height(self):\n",
    "        print(\"Height is 6.0 foot\")\n",
    "        \n",
    "class Mother:\n",
    "    def color(self):\n",
    "        print('Color is brown')\n",
    "        \n",
    "class Child(Father,Mother):\n",
    "    pass"
   ]
  },
  {
   "cell_type": "code",
   "execution_count": 56,
   "id": "ed68cbb2",
   "metadata": {},
   "outputs": [],
   "source": [
    "c = Child()"
   ]
  },
  {
   "cell_type": "code",
   "execution_count": 57,
   "id": "6a453a26",
   "metadata": {},
   "outputs": [
    {
     "name": "stdout",
     "output_type": "stream",
     "text": [
      "Height is 6.0 foot\n"
     ]
    }
   ],
   "source": [
    "c.height()"
   ]
  },
  {
   "cell_type": "code",
   "execution_count": 58,
   "id": "11ce4cf8",
   "metadata": {},
   "outputs": [
    {
     "name": "stdout",
     "output_type": "stream",
     "text": [
      "Color is brown\n"
     ]
    }
   ],
   "source": [
    "c.color()"
   ]
  },
  {
   "cell_type": "markdown",
   "id": "7d2def89",
   "metadata": {},
   "source": [
    "# Decorator Example"
   ]
  },
  {
   "cell_type": "code",
   "execution_count": 59,
   "id": "d331f609",
   "metadata": {},
   "outputs": [],
   "source": [
    "def decor(fun):\n",
    "    def inner():\n",
    "        value = fun()\n",
    "        return value +2\n",
    "    return inner # returns inner object"
   ]
  },
  {
   "cell_type": "code",
   "execution_count": 60,
   "id": "23ea7ee5",
   "metadata": {},
   "outputs": [],
   "source": [
    "@decor\n",
    "def num():\n",
    "    return 10"
   ]
  },
  {
   "cell_type": "code",
   "execution_count": 61,
   "id": "4b32d7c3",
   "metadata": {},
   "outputs": [
    {
     "name": "stdout",
     "output_type": "stream",
     "text": [
      "12\n"
     ]
    }
   ],
   "source": [
    "print(num())"
   ]
  },
  {
   "cell_type": "code",
   "execution_count": null,
   "id": "717f3a4c",
   "metadata": {},
   "outputs": [],
   "source": []
  }
 ],
 "metadata": {
  "kernelspec": {
   "display_name": "Python 3 (ipykernel)",
   "language": "python",
   "name": "python3"
  },
  "language_info": {
   "codemirror_mode": {
    "name": "ipython",
    "version": 3
   },
   "file_extension": ".py",
   "mimetype": "text/x-python",
   "name": "python",
   "nbconvert_exporter": "python",
   "pygments_lexer": "ipython3",
   "version": "3.8.12"
  }
 },
 "nbformat": 4,
 "nbformat_minor": 5
}
