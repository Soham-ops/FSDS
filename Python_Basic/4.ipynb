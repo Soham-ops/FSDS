{
 "cells": [
  {
   "cell_type": "markdown",
   "id": "ahead-monkey",
   "metadata": {},
   "source": [
    "## 1. What exactly is []?"
   ]
  },
  {
   "cell_type": "markdown",
   "id": "spoken-lunch",
   "metadata": {},
   "source": [
    "# Soln"
   ]
  },
  {
   "cell_type": "markdown",
   "id": "above-jones",
   "metadata": {},
   "source": [
    "<li>if we do ls= [] then an empty list will be created having the name ls</li>"
   ]
  },
  {
   "cell_type": "code",
   "execution_count": 1,
   "id": "satisfied-mongolia",
   "metadata": {},
   "outputs": [
    {
     "data": {
      "text/plain": [
       "list"
      ]
     },
     "execution_count": 1,
     "metadata": {},
     "output_type": "execute_result"
    }
   ],
   "source": [
    "#Ex\n",
    "ls=[]\n",
    "type(ls)"
   ]
  },
  {
   "cell_type": "code",
   "execution_count": null,
   "id": "hired-hampshire",
   "metadata": {},
   "outputs": [],
   "source": []
  },
  {
   "cell_type": "markdown",
   "id": "through-canvas",
   "metadata": {},
   "source": [
    "## 2. In a list of values stored in a variable called spam, how would you assign the value 'hello' as the third value? (Assume [2, 4, 6, 8, 10] are in spam.)\n"
   ]
  },
  {
   "cell_type": "markdown",
   "id": "killing-carry",
   "metadata": {},
   "source": [
    "# Soln "
   ]
  },
  {
   "cell_type": "code",
   "execution_count": 5,
   "id": "informal-sculpture",
   "metadata": {},
   "outputs": [],
   "source": [
    "spam = [2,4,6,8,10]"
   ]
  },
  {
   "cell_type": "code",
   "execution_count": 6,
   "id": "hairy-interview",
   "metadata": {},
   "outputs": [
    {
     "data": {
      "text/plain": [
       "[2, 4, 'hello', 6, 8, 10]"
      ]
     },
     "execution_count": 6,
     "metadata": {},
     "output_type": "execute_result"
    }
   ],
   "source": [
    "key = \"hello\"\n",
    "n = len(spam)\n",
    "i=n-1\n",
    "spam.append(0)\n",
    "while i > 1:\n",
    "    spam[i+1]=spam[i]\n",
    "    i-=1\n",
    "spam[i+1]=key\n",
    "spam"
   ]
  },
  {
   "cell_type": "markdown",
   "id": "cleared-leather",
   "metadata": {},
   "source": [
    "### or"
   ]
  },
  {
   "cell_type": "code",
   "execution_count": 7,
   "id": "complicated-peoples",
   "metadata": {},
   "outputs": [
    {
     "data": {
      "text/plain": [
       "[2, 4, 'hello', 6, 8, 10]"
      ]
     },
     "execution_count": 7,
     "metadata": {},
     "output_type": "execute_result"
    }
   ],
   "source": [
    "spam = [2,4,6,8,10]\n",
    "spam.insert(2,'hello')\n",
    "spam"
   ]
  },
  {
   "cell_type": "markdown",
   "id": "theoretical-corruption",
   "metadata": {},
   "source": [
    "## Let's pretend the spam includes the list ['a', 'b', 'c', 'd'] for the next three queries.\n"
   ]
  },
  {
   "cell_type": "markdown",
   "id": "sophisticated-assets",
   "metadata": {},
   "source": [
    "## 3. What is the value of spam[int(int('3' * 2) / 11)]?\n",
    "\n",
    "## 4. What is the value of spam[-1]?\n",
    "\n",
    "\n",
    "## 5. What is the value of spam[:2]?\n"
   ]
  },
  {
   "cell_type": "markdown",
   "id": "narrative-promise",
   "metadata": {},
   "source": [
    "# Soln-3"
   ]
  },
  {
   "cell_type": "markdown",
   "id": "contemporary-circular",
   "metadata": {},
   "source": [
    "<li>spam[int(int('3' * 2) // 11)]</li>\n",
    "<li>int('3' * 2) becomes int('33') which gives 33, thus we have spam[int(33//11)] </li>\n",
    "<li>int(33//11) becomes 3, thus we have spam[3]</li>\n",
    "<li>spam[3] become 'd'</li>"
   ]
  },
  {
   "cell_type": "markdown",
   "id": "aboriginal-funeral",
   "metadata": {},
   "source": [
    "# Soln-4"
   ]
  },
  {
   "cell_type": "markdown",
   "id": "rolled-romance",
   "metadata": {},
   "source": [
    "<li>'d'</li>"
   ]
  },
  {
   "cell_type": "markdown",
   "id": "authentic-aberdeen",
   "metadata": {},
   "source": [
    "# Soln-5"
   ]
  },
  {
   "cell_type": "markdown",
   "id": "early-professional",
   "metadata": {},
   "source": [
    "<li>'a', 'b'</li>"
   ]
  },
  {
   "cell_type": "code",
   "execution_count": null,
   "id": "documented-supplier",
   "metadata": {},
   "outputs": [],
   "source": []
  },
  {
   "cell_type": "markdown",
   "id": "empty-attention",
   "metadata": {},
   "source": [
    "## Let's pretend bacon has the list [3.14, 'cat,' 11, 'cat,' True] for the next three questions.\n",
    "\n",
    "\n",
    "## 6. What is the value of bacon.index('cat')?\n",
    "\n",
    "\n",
    "## 7. How does bacon.append(99) change the look of the list value in bacon?\n",
    "\n",
    "\n",
    "## 8. How does bacon.remove('cat') change the look of the list in bacon?\n"
   ]
  },
  {
   "cell_type": "markdown",
   "id": "varied-container",
   "metadata": {},
   "source": [
    "# Soln-6"
   ]
  },
  {
   "cell_type": "markdown",
   "id": "announced-medicare",
   "metadata": {},
   "source": [
    "<li>bacon.index('cat') will give the index of the first occurence of 'cat' i.e 1</li>"
   ]
  },
  {
   "cell_type": "markdown",
   "id": "sealed-number",
   "metadata": {},
   "source": [
    "# Soln-7 "
   ]
  },
  {
   "cell_type": "markdown",
   "id": "mineral-biotechnology",
   "metadata": {},
   "source": [
    "<li> [3.14, 'cat', 11, 'cat', True,99]</li>"
   ]
  },
  {
   "cell_type": "markdown",
   "id": "executive-secretariat",
   "metadata": {},
   "source": [
    "# Soln-8"
   ]
  },
  {
   "cell_type": "markdown",
   "id": "clear-suspect",
   "metadata": {},
   "source": [
    "<li>It will remove the first occurence of 'cat' from the list, thus the list looks like</li>\n",
    "<li>[3.14, 11, 'cat', True, 99]</li>"
   ]
  },
  {
   "cell_type": "code",
   "execution_count": null,
   "id": "serial-museum",
   "metadata": {},
   "outputs": [],
   "source": []
  },
  {
   "cell_type": "markdown",
   "id": "turkish-canada",
   "metadata": {},
   "source": [
    "## 9. What are the list concatenation and list replication operators?"
   ]
  },
  {
   "cell_type": "markdown",
   "id": "advised-daughter",
   "metadata": {},
   "source": [
    "# Soln"
   ]
  },
  {
   "cell_type": "code",
   "execution_count": 63,
   "id": "regular-fountain",
   "metadata": {},
   "outputs": [
    {
     "data": {
      "text/plain": [
       "[1, 2, 3, 4, 5, 6]"
      ]
     },
     "execution_count": 63,
     "metadata": {},
     "output_type": "execute_result"
    }
   ],
   "source": [
    "#+ for concatenation\n",
    "l1= [1,2,3]\n",
    "l2= [4,5,6]\n",
    "l1+l2"
   ]
  },
  {
   "cell_type": "code",
   "execution_count": 64,
   "id": "alternative-ukraine",
   "metadata": {},
   "outputs": [
    {
     "data": {
      "text/plain": [
       "[1, 2, 3, 1, 2, 3, 1, 2, 3]"
      ]
     },
     "execution_count": 64,
     "metadata": {},
     "output_type": "execute_result"
    }
   ],
   "source": [
    "#* for replication\n",
    "l1= [1,2,3]\n",
    "l1*3"
   ]
  },
  {
   "cell_type": "code",
   "execution_count": null,
   "id": "introductory-given",
   "metadata": {},
   "outputs": [],
   "source": []
  },
  {
   "cell_type": "markdown",
   "id": "neutral-commerce",
   "metadata": {},
   "source": [
    "## 10.  What is difference between the list methods append() and insert()?\n"
   ]
  },
  {
   "cell_type": "markdown",
   "id": "polish-democrat",
   "metadata": {},
   "source": [
    "# Soln"
   ]
  },
  {
   "cell_type": "markdown",
   "id": "stylish-jersey",
   "metadata": {},
   "source": [
    "<li>append will insert element at the end of the list thus taking Θ(1) time</li>\n",
    "<li>insert will insert element at any given index and in worst case will take Θ(n) time</li>"
   ]
  },
  {
   "cell_type": "code",
   "execution_count": null,
   "id": "circular-signature",
   "metadata": {},
   "outputs": [],
   "source": []
  },
  {
   "cell_type": "markdown",
   "id": "convenient-earth",
   "metadata": {},
   "source": [
    "## 11. What are the two methods for removing items from a list?\n"
   ]
  },
  {
   "cell_type": "markdown",
   "id": "furnished-quick",
   "metadata": {},
   "source": [
    "# Soln"
   ]
  },
  {
   "cell_type": "code",
   "execution_count": 74,
   "id": "physical-muslim",
   "metadata": {},
   "outputs": [],
   "source": [
    "l1 = ['a','b','c','a']"
   ]
  },
  {
   "cell_type": "code",
   "execution_count": 75,
   "id": "dependent-entity",
   "metadata": {},
   "outputs": [],
   "source": [
    "del l1[0:2]"
   ]
  },
  {
   "cell_type": "code",
   "execution_count": 76,
   "id": "economic-calgary",
   "metadata": {},
   "outputs": [
    {
     "data": {
      "text/plain": [
       "['c', 'a']"
      ]
     },
     "execution_count": 76,
     "metadata": {},
     "output_type": "execute_result"
    }
   ],
   "source": [
    "l1"
   ]
  },
  {
   "cell_type": "code",
   "execution_count": 77,
   "id": "bulgarian-jenny",
   "metadata": {},
   "outputs": [
    {
     "data": {
      "text/plain": [
       "['a']"
      ]
     },
     "execution_count": 77,
     "metadata": {},
     "output_type": "execute_result"
    }
   ],
   "source": [
    "l1.pop(0)\n",
    "l1"
   ]
  },
  {
   "cell_type": "code",
   "execution_count": null,
   "id": "medieval-theta",
   "metadata": {},
   "outputs": [],
   "source": []
  },
  {
   "cell_type": "markdown",
   "id": "comfortable-firmware",
   "metadata": {},
   "source": [
    "## 12. Describe how list values and string values are identical.\n"
   ]
  },
  {
   "cell_type": "markdown",
   "id": "found-newfoundland",
   "metadata": {},
   "source": [
    "# Soln"
   ]
  },
  {
   "cell_type": "markdown",
   "id": "equipped-fence",
   "metadata": {},
   "source": [
    "### Similarity -1"
   ]
  },
  {
   "cell_type": "code",
   "execution_count": 3,
   "id": "twenty-excerpt",
   "metadata": {},
   "outputs": [
    {
     "name": "stdout",
     "output_type": "stream",
     "text": [
      "Soham"
     ]
    }
   ],
   "source": [
    "#string\n",
    "s = 'Soham'\n",
    "for i in range(len(s)):\n",
    "    print(s[i],end=\"\")"
   ]
  },
  {
   "cell_type": "markdown",
   "id": "opposed-julian",
   "metadata": {},
   "source": [
    "<li>The above shows that values in a string can be accessed through a for loop</li>\n",
    "<li>Thus proving the fact that string values can be accessed thorugh indexes </li>"
   ]
  },
  {
   "cell_type": "code",
   "execution_count": 5,
   "id": "incorporate-interaction",
   "metadata": {},
   "outputs": [
    {
     "name": "stdout",
     "output_type": "stream",
     "text": [
      "Soham"
     ]
    }
   ],
   "source": [
    "#list\n",
    "s = ['S','o','h','a','m']\n",
    "for i in range(len(s)):\n",
    "    print(s[i],end=\"\")"
   ]
  },
  {
   "cell_type": "markdown",
   "id": "consolidated-upgrade",
   "metadata": {},
   "source": [
    "<li>Same is the case with list values as well</li>"
   ]
  },
  {
   "cell_type": "markdown",
   "id": "exotic-making",
   "metadata": {},
   "source": [
    "### Similarity-2"
   ]
  },
  {
   "cell_type": "markdown",
   "id": "federal-religion",
   "metadata": {},
   "source": [
    "<li>Since both string and lists provide indexing,thus it gives us the power to randomly access any element in them in O(1) time</li>\n",
    "<li>And this is possible because both of them are basically arrays.</li>\n",
    "<li>Thus the concept of base address + i*size_of_indiv_element kicks in while trying to access arr[i] element</li>\n",
    "<li>Due to which random access in O(1) becomes possible</li>"
   ]
  },
  {
   "cell_type": "markdown",
   "id": "adaptive-fraud",
   "metadata": {},
   "source": [
    "### Similarity-3 "
   ]
  },
  {
   "cell_type": "code",
   "execution_count": 9,
   "id": "specialized-manor",
   "metadata": {},
   "outputs": [
    {
     "name": "stdout",
     "output_type": "stream",
     "text": [
      "mahoS"
     ]
    }
   ],
   "source": [
    "#string\n",
    "s = 'Soham'\n",
    "for i in range(1,len(s)+1):\n",
    "    print(s[-i],end=\"\")"
   ]
  },
  {
   "cell_type": "code",
   "execution_count": 10,
   "id": "sized-morrison",
   "metadata": {},
   "outputs": [
    {
     "name": "stdout",
     "output_type": "stream",
     "text": [
      "mahoS"
     ]
    }
   ],
   "source": [
    "#list\n",
    "s = ['S','o','h','a','m']\n",
    "for i in range(1,len(s)+1):\n",
    "    print(s[-i],end=\"\")"
   ]
  },
  {
   "cell_type": "markdown",
   "id": "relative-memorabilia",
   "metadata": {},
   "source": [
    "<li>Values inside both list and string can be indexed by negative indexing as evident from the above example</li>"
   ]
  },
  {
   "cell_type": "code",
   "execution_count": null,
   "id": "associate-record",
   "metadata": {},
   "outputs": [],
   "source": []
  },
  {
   "cell_type": "markdown",
   "id": "colonial-inquiry",
   "metadata": {},
   "source": [
    "## 13. What's the difference between tuples and lists?"
   ]
  },
  {
   "cell_type": "markdown",
   "id": "assigned-regard",
   "metadata": {},
   "source": [
    "# Soln"
   ]
  },
  {
   "cell_type": "markdown",
   "id": "conceptual-experience",
   "metadata": {},
   "source": [
    "<li>Tuples are immutable,whereas lists are not</li>"
   ]
  },
  {
   "cell_type": "code",
   "execution_count": 12,
   "id": "crazy-mixer",
   "metadata": {},
   "outputs": [
    {
     "name": "stdout",
     "output_type": "stream",
     "text": [
      "<class 'tuple'>\n"
     ]
    },
    {
     "ename": "TypeError",
     "evalue": "'tuple' object does not support item assignment",
     "output_type": "error",
     "traceback": [
      "\u001b[1;31m---------------------------------------------------------------------------\u001b[0m",
      "\u001b[1;31mTypeError\u001b[0m                                 Traceback (most recent call last)",
      "\u001b[1;32m<ipython-input-12-ea70d4dfb26d>\u001b[0m in \u001b[0;36m<module>\u001b[1;34m()\u001b[0m\n\u001b[0;32m      2\u001b[0m \u001b[0ms\u001b[0m \u001b[1;33m=\u001b[0m \u001b[1;33m(\u001b[0m\u001b[1;36m1\u001b[0m\u001b[1;33m,\u001b[0m\u001b[1;36m2\u001b[0m\u001b[1;33m,\u001b[0m\u001b[1;36m3\u001b[0m\u001b[1;33m)\u001b[0m\u001b[1;33m\u001b[0m\u001b[1;33m\u001b[0m\u001b[0m\n\u001b[0;32m      3\u001b[0m \u001b[0mprint\u001b[0m\u001b[1;33m(\u001b[0m\u001b[0mtype\u001b[0m\u001b[1;33m(\u001b[0m\u001b[0ms\u001b[0m\u001b[1;33m)\u001b[0m\u001b[1;33m)\u001b[0m\u001b[1;33m\u001b[0m\u001b[1;33m\u001b[0m\u001b[0m\n\u001b[1;32m----> 4\u001b[1;33m \u001b[0ms\u001b[0m\u001b[1;33m[\u001b[0m\u001b[1;36m0\u001b[0m\u001b[1;33m]\u001b[0m\u001b[1;33m=\u001b[0m\u001b[1;36m1\u001b[0m\u001b[1;33m\u001b[0m\u001b[1;33m\u001b[0m\u001b[0m\n\u001b[0m",
      "\u001b[1;31mTypeError\u001b[0m: 'tuple' object does not support item assignment"
     ]
    }
   ],
   "source": [
    "#tuple\n",
    "s = (1,2,3)\n",
    "print(type(s))\n",
    "s[0]=1"
   ]
  },
  {
   "cell_type": "code",
   "execution_count": 14,
   "id": "intended-expert",
   "metadata": {},
   "outputs": [
    {
     "name": "stdout",
     "output_type": "stream",
     "text": [
      "<class 'list'>\n",
      "[4, 2, 3]\n"
     ]
    }
   ],
   "source": [
    "#list\n",
    "s = [1,2,3]\n",
    "print(type(s))\n",
    "s[0]=4\n",
    "print(s)"
   ]
  },
  {
   "cell_type": "code",
   "execution_count": null,
   "id": "fifth-aberdeen",
   "metadata": {},
   "outputs": [],
   "source": []
  },
  {
   "cell_type": "markdown",
   "id": "confused-rotation",
   "metadata": {},
   "source": [
    "## 14. How do you type a tuple value that only contains the integer 42?\n"
   ]
  },
  {
   "cell_type": "markdown",
   "id": "serial-reception",
   "metadata": {},
   "source": [
    "# Soln"
   ]
  },
  {
   "cell_type": "code",
   "execution_count": 17,
   "id": "colored-abuse",
   "metadata": {},
   "outputs": [
    {
     "name": "stdout",
     "output_type": "stream",
     "text": [
      "<class 'tuple'>\n",
      "(42,)\n"
     ]
    }
   ],
   "source": [
    "#Ex\n",
    "s = (42,)\n",
    "print(type(s))\n",
    "print(s)"
   ]
  },
  {
   "cell_type": "markdown",
   "id": "french-mailman",
   "metadata": {},
   "source": [
    "## 15. How do you get a list value's tuple form? How do you get a tuple value's list form?\n"
   ]
  },
  {
   "cell_type": "markdown",
   "id": "impossible-reply",
   "metadata": {},
   "source": [
    "# Soln-a"
   ]
  },
  {
   "cell_type": "code",
   "execution_count": 21,
   "id": "associate-universe",
   "metadata": {},
   "outputs": [
    {
     "name": "stdout",
     "output_type": "stream",
     "text": [
      "<class 'list'>\n",
      "[1]\n",
      "<class 'tuple'>\n",
      "(1,)\n"
     ]
    }
   ],
   "source": [
    "l = [1]\n",
    "print(type(t))\n",
    "print(t)\n",
    "t = tuple(t)\n",
    "print(type(t))\n",
    "print(t)"
   ]
  },
  {
   "cell_type": "markdown",
   "id": "accepted-lawsuit",
   "metadata": {},
   "source": [
    "# Soln-b"
   ]
  },
  {
   "cell_type": "code",
   "execution_count": 20,
   "id": "surprising-techno",
   "metadata": {},
   "outputs": [
    {
     "name": "stdout",
     "output_type": "stream",
     "text": [
      "<class 'tuple'>\n",
      "(1,)\n",
      "<class 'list'>\n",
      "[1]\n"
     ]
    }
   ],
   "source": [
    "t = (1,)\n",
    "print(type(t))\n",
    "print(t)\n",
    "t = list(t)\n",
    "print(type(t))\n",
    "print(t)"
   ]
  },
  {
   "cell_type": "code",
   "execution_count": null,
   "id": "centered-advertiser",
   "metadata": {},
   "outputs": [],
   "source": []
  },
  {
   "cell_type": "markdown",
   "id": "damaged-intermediate",
   "metadata": {},
   "source": [
    "## 16. Variables that \"contain\" list values are not necessarily lists themselves. Instead, what do they contain?\n"
   ]
  },
  {
   "cell_type": "markdown",
   "id": "solid-calendar",
   "metadata": {},
   "source": [
    "# Soln"
   ]
  },
  {
   "cell_type": "markdown",
   "id": "temporal-interval",
   "metadata": {},
   "source": [
    "<li>Since list uses array as an underlying data structure, hence when we do as follow</li>"
   ]
  },
  {
   "cell_type": "code",
   "execution_count": 22,
   "id": "fallen-substitute",
   "metadata": {},
   "outputs": [],
   "source": [
    "#Ex\n",
    "ls = [1,2,3]"
   ]
  },
  {
   "cell_type": "markdown",
   "id": "orange-underground",
   "metadata": {},
   "source": [
    "<li>Varible ls will refer to the memory location where list(dynamic array) is created</li>\n",
    "<li>That array will basically store references to elements 1,2,3 in contiguous fashion</li>\n",
    "<li>While element 1,2,3 will be stored in different memory locations, which might not be contiguous.</li>"
   ]
  },
  {
   "cell_type": "code",
   "execution_count": null,
   "id": "peaceful-africa",
   "metadata": {},
   "outputs": [],
   "source": []
  },
  {
   "cell_type": "markdown",
   "id": "enormous-forward",
   "metadata": {},
   "source": [
    "## 17. How do you distinguish between copy.copy() and copy.deepcopy()?\n"
   ]
  },
  {
   "cell_type": "markdown",
   "id": "impaired-roller",
   "metadata": {},
   "source": [
    "# Soln"
   ]
  },
  {
   "cell_type": "markdown",
   "id": "terminal-farmer",
   "metadata": {},
   "source": [
    "<li>copy.copy() is for doing shallow copy in which REFERENCES to the values of the list are copied</li>\n",
    "<li>copy.deepcopy() is for doing deep copy in which COPY OF THE VALUES are copied </li>"
   ]
  },
  {
   "cell_type": "code",
   "execution_count": 12,
   "id": "contained-composition",
   "metadata": {},
   "outputs": [
    {
     "name": "stdout",
     "output_type": "stream",
     "text": [
      "Pre Modification\n",
      "x is [1, [2, 3], 4]\n",
      "y is [1, [2, 3], 4]\n",
      "Post Modification\n",
      "x is [1, ['Soham', 3], 4]\n",
      "y is [1, ['Soham', 3], 4]\n"
     ]
    }
   ],
   "source": [
    "#Shallow Copy\n",
    "import copy\n",
    "\n",
    "x=[1,[2,3],4]\n",
    "y = copy.copy(x)\n",
    "print(\"Pre Modification\")\n",
    "print(f\"x is {x}\")\n",
    "print(f\"y is {y}\")\n",
    "\n",
    "x[1][0]=\"Soham\"\n",
    "print(\"Post Modification\")\n",
    "print(f\"x is {x}\")\n",
    "print(f\"y is {y}\")"
   ]
  },
  {
   "cell_type": "code",
   "execution_count": 13,
   "id": "serial-horizon",
   "metadata": {},
   "outputs": [
    {
     "name": "stdout",
     "output_type": "stream",
     "text": [
      "Pre Modification\n",
      "x is [1, [2, 3], 4]\n",
      "y is [1, [2, 3], 4]\n",
      "Post Modification\n",
      "x is [1, ['Soham', 3], 4]\n",
      "y is [1, [2, 3], 4]\n"
     ]
    }
   ],
   "source": [
    "#Deep copy\n",
    "x=[1,[2,3],4]\n",
    "y=copy.deepcopy(x)\n",
    "print(\"Pre Modification\")\n",
    "print(f\"x is {x}\")\n",
    "print(f\"y is {y}\")\n",
    "\n",
    "x[1][0]=\"Soham\"\n",
    "print(\"Post Modification\")\n",
    "print(f\"x is {x}\")\n",
    "print(f\"y is {y}\")"
   ]
  },
  {
   "cell_type": "markdown",
   "id": "hourly-caribbean",
   "metadata": {},
   "source": [
    "### The difference between deep and shallow copy can be observed ONLY in case of compound objects aka (objects that contain other objects like lists or class instances)"
   ]
  },
  {
   "cell_type": "markdown",
   "id": "earned-papua",
   "metadata": {},
   "source": [
    "<li>As evident from the below example</li>"
   ]
  },
  {
   "cell_type": "code",
   "execution_count": 14,
   "id": "hazardous-indian",
   "metadata": {},
   "outputs": [
    {
     "name": "stdout",
     "output_type": "stream",
     "text": [
      "Pre Modification\n",
      "x is [1, 2, 4]\n",
      "y is [1, 2, 4]\n",
      "Post Modification\n",
      "x is [1, 'Soham', 4]\n",
      "y is [1, 2, 4]\n"
     ]
    }
   ],
   "source": [
    "#Shallow Copy\n",
    "x=[1,2,4]\n",
    "y = copy.copy(x)\n",
    "print(\"Pre Modification\")\n",
    "print(f\"x is {x}\")\n",
    "print(f\"y is {y}\")\n",
    "\n",
    "x[1]=\"Soham\"\n",
    "print(\"Post Modification\")\n",
    "print(f\"x is {x}\")\n",
    "print(f\"y is {y}\")"
   ]
  },
  {
   "cell_type": "code",
   "execution_count": 15,
   "id": "qualified-cable",
   "metadata": {},
   "outputs": [
    {
     "name": "stdout",
     "output_type": "stream",
     "text": [
      "Pre Modification\n",
      "x is [1, 2, 4]\n",
      "y is [1, 2, 4]\n",
      "Post Modification\n",
      "x is [1, 'Soham', 4]\n",
      "y is [1, 2, 4]\n"
     ]
    }
   ],
   "source": [
    "#Deep Copy\n",
    "x=[1,2,4]\n",
    "y = copy.deepcopy(x)\n",
    "print(\"Pre Modification\")\n",
    "print(f\"x is {x}\")\n",
    "print(f\"y is {y}\")\n",
    "\n",
    "x[1]=\"Soham\"\n",
    "print(\"Post Modification\")\n",
    "print(f\"x is {x}\")\n",
    "print(f\"y is {y}\")"
   ]
  },
  {
   "cell_type": "code",
   "execution_count": null,
   "id": "handled-vehicle",
   "metadata": {},
   "outputs": [],
   "source": []
  }
 ],
 "metadata": {
  "kernelspec": {
   "display_name": "iNeuronFSDSPythonModule",
   "language": "python",
   "name": "ineuronfsdspythonmodule"
  },
  "language_info": {
   "codemirror_mode": {
    "name": "ipython",
    "version": 3
   },
   "file_extension": ".py",
   "mimetype": "text/x-python",
   "name": "python",
   "nbconvert_exporter": "python",
   "pygments_lexer": "ipython3",
   "version": "3.6.12"
  }
 },
 "nbformat": 4,
 "nbformat_minor": 5
}
