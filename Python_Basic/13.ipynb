{
 "cells": [
  {
   "cell_type": "markdown",
   "id": "d4793449",
   "metadata": {},
   "source": [
    "# 1. What advantages do Excel spreadsheets have over CSV spreadsheets?\n"
   ]
  },
  {
   "cell_type": "markdown",
   "id": "bc7a2369",
   "metadata": {},
   "source": [
    "<li>An Excel spreadsheet not only stores data but can also do operations on the data</li>\n",
    "<li>A CSV file is just a text file, it stores data but does not contain formatting, formulas, macros, etc. It is also known as flat files</li>"
   ]
  },
  {
   "cell_type": "code",
   "execution_count": null,
   "id": "cb4927fa",
   "metadata": {},
   "outputs": [],
   "source": []
  },
  {
   "cell_type": "markdown",
   "id": "07686b6c",
   "metadata": {},
   "source": [
    "# 2.What do you pass to csv.reader() and csv.writer() to create reader and writer objects?\n"
   ]
  },
  {
   "cell_type": "code",
   "execution_count": 3,
   "id": "76f40c8a",
   "metadata": {},
   "outputs": [
    {
     "name": "stdout",
     "output_type": "stream",
     "text": [
      "File Successfully Created\n",
      "Total number of rows 8\n"
     ]
    }
   ],
   "source": [
    "import csv\n",
    "\n",
    "#Writing to a new csv file\n",
    "Headings = ['Name','Age']\n",
    "\n",
    "rows = [['Soham','25'],['Ram','27'],['Shyam','19']]\n",
    "\n",
    "op_filename = 'school.csv'\n",
    "\n",
    "with open(op_filename,'w') as csv_file:\n",
    "    csv_writer = csv.writer(csv_file)\n",
    "    \n",
    "    \n",
    "    csv_writer.writerow(Headings)\n",
    "    \n",
    "    csv_writer.writerows(rows)\n",
    "\n",
    "print('File Successfully Created')\n",
    "\n",
    "#Reading\n",
    "file = 'school.csv'\n",
    "rows = []\n",
    "\n",
    "with open(file) as csv_file:\n",
    "    read_csv = csv.reader(csv_file)\n",
    "    \n",
    "    for row in read_csv:\n",
    "        rows.append(row)\n",
    "        \n",
    "print(f\"Total number of rows {len(rows)}\")"
   ]
  },
  {
   "cell_type": "markdown",
   "id": "34e5d6a5",
   "metadata": {},
   "source": [
    "#### <li>So we pass a csv file as a file object to csv.reader() as well as to csv.writer()</li>"
   ]
  },
  {
   "cell_type": "code",
   "execution_count": null,
   "id": "ebf76e22",
   "metadata": {},
   "outputs": [],
   "source": []
  },
  {
   "cell_type": "markdown",
   "id": "6a224fa7",
   "metadata": {},
   "source": [
    "# 3. What modes do File objects for reader and writer objects need to be opened in?\n"
   ]
  },
  {
   "cell_type": "markdown",
   "id": "ffb1299e",
   "metadata": {},
   "source": [
    "<li>For reader open file objects in read mode</li>\n",
    "<li>For writer open file objects in write/append mode</li>"
   ]
  },
  {
   "cell_type": "code",
   "execution_count": null,
   "id": "73b5296a",
   "metadata": {},
   "outputs": [],
   "source": []
  },
  {
   "cell_type": "markdown",
   "id": "5aa25bc3",
   "metadata": {},
   "source": [
    "# 4. What method takes a list argument and writes it to a CSV file?\n"
   ]
  },
  {
   "cell_type": "markdown",
   "id": "fdbb607e",
   "metadata": {},
   "source": [
    "<li>writerows as well as writerows both take list arguments and writes it to csv file as shown above</li>"
   ]
  },
  {
   "cell_type": "code",
   "execution_count": null,
   "id": "d04c5038",
   "metadata": {},
   "outputs": [],
   "source": []
  },
  {
   "cell_type": "markdown",
   "id": "2a68be15",
   "metadata": {},
   "source": [
    "# 5. What do the keyword arguments delimiter and line terminator do?\n"
   ]
  },
  {
   "cell_type": "markdown",
   "id": "9b6f5642",
   "metadata": {},
   "source": [
    "Name;;Nationality;;Age\n",
    "\n",
    "Soham;;Indian;;25\n",
    "\n",
    "Ayushman;;Indian;;14\n",
    "\n",
    "Rafael;;French;;20"
   ]
  },
  {
   "cell_type": "markdown",
   "id": "345ef83c",
   "metadata": {},
   "source": [
    "<li>Suppose we have to read csv of the above structure, where each row separated by two \\n and is stored in a file name sample.csv</li>"
   ]
  },
  {
   "cell_type": "code",
   "execution_count": 7,
   "id": "c7ef0603",
   "metadata": {},
   "outputs": [
    {
     "name": "stdout",
     "output_type": "stream",
     "text": [
      "Total number of rows 7\n"
     ]
    }
   ],
   "source": [
    "file = 'sample.csv'\n",
    "rows = []\n",
    "\n",
    "with open(file) as csv_file:\n",
    "    read_csv = csv.reader(csv_file,delimiter=';',lineterminator='\\n\\n')\n",
    "    \n",
    "    for row in read_csv:\n",
    "        rows.append(row)\n",
    "        \n",
    "print(f\"Total number of rows {len(rows)}\")"
   ]
  },
  {
   "cell_type": "markdown",
   "id": "e7bca7de",
   "metadata": {},
   "source": [
    "<li>So since csv having default value of delimeter as ',' we shall replace with ';' and since  each row separated by two \\n we give line terminator ='\\n\\n'</li>"
   ]
  },
  {
   "cell_type": "code",
   "execution_count": null,
   "id": "4a62a59f",
   "metadata": {},
   "outputs": [],
   "source": []
  },
  {
   "cell_type": "markdown",
   "id": "793060ff",
   "metadata": {},
   "source": [
    "# 6. What function takes a string of JSON data and returns a Python data structure?\n"
   ]
  },
  {
   "cell_type": "code",
   "execution_count": 29,
   "id": "8b9c174b",
   "metadata": {},
   "outputs": [],
   "source": [
    "import json\n",
    "\n",
    "json_string = '''[\n",
    "  {\n",
    "    \"id\": 1,\n",
    "    \"name\": \"Leanne Graham\",\n",
    "    \"username\": \"Bret\",\n",
    "    \"email\": \"Sincere@april.biz\",\n",
    "    \"phone\": \"1-770-736-8031 x56442\",\n",
    "    \"website\": \"hildegard.org\"\n",
    "},\n",
    "  {\n",
    "    \"id\": 2,\n",
    "    \"name\": \"Ervin Howell\",\n",
    "    \"username\": \"Antonette\",\n",
    "    \"email\": \"Shanna@melissa.tv\",\n",
    "    \"phone\": \"010-692-6593 x09125\",\n",
    "    \"website\": \"anastasia.net\"\n",
    "    \n",
    "  },\n",
    "  {\n",
    "    \"id\": 3,\n",
    "    \"name\": \"Clementine Bauch\",\n",
    "    \"username\": \"Samantha\",\n",
    "    \"email\": \"Nathan@yesenia.net\",\n",
    "    \"phone\": \"1-463-123-4447\",\n",
    "    \"website\": \"ramiro.info\"\n",
    "    \n",
    "  },\n",
    "  {\n",
    "    \"id\": 4,\n",
    "    \"name\": \"Patricia Lebsack\",\n",
    "    \"username\": \"Karianne\",\n",
    "    \"email\": \"Julianne.OConner@kory.org\",\n",
    "    \"phone\": \"493-170-9623 x156\",\n",
    "    \"website\": \"kale.biz\"\n",
    "    \n",
    "  },\n",
    "  {\n",
    "    \"id\": 5,\n",
    "    \"name\": \"Chelsey Dietrich\",\n",
    "    \"username\": \"Kamren\",\n",
    "    \"email\": \"Lucio_Hettinger@annie.ca\",\n",
    "    \"phone\": \"(254)954-1289\",\n",
    "    \"website\": \"demarco.info\"\n",
    "    \n",
    "  }\n",
    "]'''"
   ]
  },
  {
   "cell_type": "code",
   "execution_count": 30,
   "id": "3eee86cb",
   "metadata": {},
   "outputs": [],
   "source": [
    "j_dict = json.loads(json_string)"
   ]
  },
  {
   "cell_type": "code",
   "execution_count": 31,
   "id": "22307f63",
   "metadata": {},
   "outputs": [
    {
     "name": "stdout",
     "output_type": "stream",
     "text": [
      "{'id': 1, 'name': 'Leanne Graham', 'username': 'Bret', 'email': 'Sincere@april.biz', 'phone': '1-770-736-8031 x56442', 'website': 'hildegard.org'}\n",
      "{'id': 2, 'name': 'Ervin Howell', 'username': 'Antonette', 'email': 'Shanna@melissa.tv', 'phone': '010-692-6593 x09125', 'website': 'anastasia.net'}\n",
      "{'id': 3, 'name': 'Clementine Bauch', 'username': 'Samantha', 'email': 'Nathan@yesenia.net', 'phone': '1-463-123-4447', 'website': 'ramiro.info'}\n",
      "{'id': 4, 'name': 'Patricia Lebsack', 'username': 'Karianne', 'email': 'Julianne.OConner@kory.org', 'phone': '493-170-9623 x156', 'website': 'kale.biz'}\n",
      "{'id': 5, 'name': 'Chelsey Dietrich', 'username': 'Kamren', 'email': 'Lucio_Hettinger@annie.ca', 'phone': '(254)954-1289', 'website': 'demarco.info'}\n"
     ]
    }
   ],
   "source": [
    "for i in j_dict:\n",
    "    print(i)"
   ]
  },
  {
   "cell_type": "markdown",
   "id": "64373bcb",
   "metadata": {},
   "source": [
    "#### <li>loads() is the one that takes a json string and returns dictionary python data structure</li>"
   ]
  },
  {
   "cell_type": "code",
   "execution_count": null,
   "id": "67651b3e",
   "metadata": {},
   "outputs": [],
   "source": []
  },
  {
   "cell_type": "markdown",
   "id": "93e007a8",
   "metadata": {},
   "source": [
    "# 7. What function takes a Python data structure and returns a string of JSON data?\n"
   ]
  },
  {
   "cell_type": "code",
   "execution_count": 32,
   "id": "2f2b49b3",
   "metadata": {},
   "outputs": [],
   "source": [
    "py_dict = [\n",
    "  {\n",
    "    \"id\": 1,\n",
    "    \"name\": \"Leanne Graham\",\n",
    "    \"username\": \"Bret\",\n",
    "    \"email\": \"Sincere@april.biz\",\n",
    "    \"phone\": \"1-770-736-8031 x56442\",\n",
    "    \"website\": \"hildegard.org\"\n",
    "},\n",
    "  {\n",
    "    \"id\": 2,\n",
    "    \"name\": \"Ervin Howell\",\n",
    "    \"username\": \"Antonette\",\n",
    "    \"email\": \"Shanna@melissa.tv\",\n",
    "    \"phone\": \"010-692-6593 x09125\",\n",
    "    \"website\": \"anastasia.net\"\n",
    "    \n",
    "  },\n",
    "  {\n",
    "    \"id\": 3,\n",
    "    \"name\": \"Clementine Bauch\",\n",
    "    \"username\": \"Samantha\",\n",
    "    \"email\": \"Nathan@yesenia.net\",\n",
    "    \"phone\": \"1-463-123-4447\",\n",
    "    \"website\": \"ramiro.info\"\n",
    "    \n",
    "  },\n",
    "  {\n",
    "    \"id\": 4,\n",
    "    \"name\": \"Patricia Lebsack\",\n",
    "    \"username\": \"Karianne\",\n",
    "    \"email\": \"Julianne.OConner@kory.org\",\n",
    "    \"phone\": \"493-170-9623 x156\",\n",
    "    \"website\": \"kale.biz\"\n",
    "    \n",
    "  },\n",
    "  {\n",
    "    \"id\": 5,\n",
    "    \"name\": \"Chelsey Dietrich\",\n",
    "    \"username\": \"Kamren\",\n",
    "    \"email\": \"Lucio_Hettinger@annie.ca\",\n",
    "    \"phone\": \"(254)954-1289\",\n",
    "    \"website\": \"demarco.info\"\n",
    "    \n",
    "  }\n",
    "]"
   ]
  },
  {
   "cell_type": "code",
   "execution_count": 33,
   "id": "29330d79",
   "metadata": {},
   "outputs": [],
   "source": [
    "json_string = json.dumps(py_dict)"
   ]
  },
  {
   "cell_type": "code",
   "execution_count": 34,
   "id": "33002eee",
   "metadata": {},
   "outputs": [
    {
     "name": "stdout",
     "output_type": "stream",
     "text": [
      "[{\"id\": 1, \"name\": \"Leanne Graham\", \"username\": \"Bret\", \"email\": \"Sincere@april.biz\", \"phone\": \"1-770-736-8031 x56442\", \"website\": \"hildegard.org\"}, {\"id\": 2, \"name\": \"Ervin Howell\", \"username\": \"Antonette\", \"email\": \"Shanna@melissa.tv\", \"phone\": \"010-692-6593 x09125\", \"website\": \"anastasia.net\"}, {\"id\": 3, \"name\": \"Clementine Bauch\", \"username\": \"Samantha\", \"email\": \"Nathan@yesenia.net\", \"phone\": \"1-463-123-4447\", \"website\": \"ramiro.info\"}, {\"id\": 4, \"name\": \"Patricia Lebsack\", \"username\": \"Karianne\", \"email\": \"Julianne.OConner@kory.org\", \"phone\": \"493-170-9623 x156\", \"website\": \"kale.biz\"}, {\"id\": 5, \"name\": \"Chelsey Dietrich\", \"username\": \"Kamren\", \"email\": \"Lucio_Hettinger@annie.ca\", \"phone\": \"(254)954-1289\", \"website\": \"demarco.info\"}]\n"
     ]
    }
   ],
   "source": [
    "print(json_string)\n"
   ]
  },
  {
   "cell_type": "code",
   "execution_count": 35,
   "id": "97b2f54b",
   "metadata": {},
   "outputs": [
    {
     "name": "stdout",
     "output_type": "stream",
     "text": [
      "<class 'str'>\n"
     ]
    }
   ],
   "source": [
    "print(type(json_string))"
   ]
  },
  {
   "cell_type": "markdown",
   "id": "34db3d16",
   "metadata": {},
   "source": [
    "#### <li>dumps() is the asked function</li>"
   ]
  },
  {
   "cell_type": "code",
   "execution_count": null,
   "id": "896a99e1",
   "metadata": {},
   "outputs": [],
   "source": []
  }
 ],
 "metadata": {
  "kernelspec": {
   "display_name": "iNeuronFSDSPythonModule",
   "language": "python",
   "name": "ineuronfsdspythonmodule"
  },
  "language_info": {
   "codemirror_mode": {
    "name": "ipython",
    "version": 3
   },
   "file_extension": ".py",
   "mimetype": "text/x-python",
   "name": "python",
   "nbconvert_exporter": "python",
   "pygments_lexer": "ipython3",
   "version": "3.6.12"
  }
 },
 "nbformat": 4,
 "nbformat_minor": 5
}
