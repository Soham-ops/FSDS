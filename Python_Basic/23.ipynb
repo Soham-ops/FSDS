{
 "cells": [
  {
   "cell_type": "markdown",
   "id": "cd28cb45",
   "metadata": {},
   "source": [
    "# 1. What is the result of the code, and why?\n",
    "<li>def func(a, b=6, c=8):</li>\n",
    "<li>print(a, b, c)</li>\n",
    "<li>func(1, 2)</li>\n"
   ]
  },
  {
   "cell_type": "code",
   "execution_count": 2,
   "id": "691a526e",
   "metadata": {},
   "outputs": [
    {
     "name": "stdout",
     "output_type": "stream",
     "text": [
      "1 2 8\n"
     ]
    }
   ],
   "source": [
    "def func(a, b=6, c=8):#b is having default value of 6,however 2 is passed to b. So b will have 2.\n",
    "    print(a, b, c)    #Rest a=1,c=8 will remain as it is\n",
    "func(1, 2)#Thus a=1,b=2,c=8 will be printed accordingly"
   ]
  },
  {
   "cell_type": "code",
   "execution_count": null,
   "id": "659514fc",
   "metadata": {},
   "outputs": [],
   "source": []
  },
  {
   "cell_type": "markdown",
   "id": "27eaabc7",
   "metadata": {},
   "source": [
    "# 2. What is the result of this code, and why?\n",
    "<li>def func(a, b, c=5):</li>\n",
    "<li>print(a, b, c)</li>\n",
    "<li>func(1, c=3, b=2)</li>\n"
   ]
  },
  {
   "cell_type": "code",
   "execution_count": 3,
   "id": "d0d22301",
   "metadata": {},
   "outputs": [
    {
     "name": "stdout",
     "output_type": "stream",
     "text": [
      "1 2 3\n"
     ]
    }
   ],
   "source": [
    "def func(a, b, c=5):\n",
    "    print(a, b, c)\n",
    "func(1, c=3, b=2)#c is having default value as 5 however 3 is passed.Thus a=1,c=3,b=2\n"
   ]
  },
  {
   "cell_type": "code",
   "execution_count": null,
   "id": "3974fcb4",
   "metadata": {},
   "outputs": [],
   "source": []
  },
  {
   "cell_type": "markdown",
   "id": "1e15ba26",
   "metadata": {},
   "source": [
    "# 3. How about this code: what is its result, and why?\n",
    "<li>def func(a, *pargs):</li>\n",
    "<li>print(a, pargs)</li>\n",
    "<li>func(1, 2, 3)</li>\n"
   ]
  },
  {
   "cell_type": "code",
   "execution_count": 6,
   "id": "7d900133",
   "metadata": {},
   "outputs": [
    {
     "name": "stdout",
     "output_type": "stream",
     "text": [
      "1 (2, 3)\n"
     ]
    }
   ],
   "source": [
    "def func(a, *pargs):# a = 1 and *pargs will hold any variable number of arguments we provide to it\n",
    "    print(a, pargs)\n",
    "func(1, 2, 3)# So in func(), a=1 and *pargs will hold everything other than a i.e 2,3\n"
   ]
  },
  {
   "cell_type": "code",
   "execution_count": null,
   "id": "ba7cd0f8",
   "metadata": {},
   "outputs": [],
   "source": []
  },
  {
   "cell_type": "markdown",
   "id": "0b180126",
   "metadata": {},
   "source": [
    "# 4. What does this code print, and why?\n",
    "<li>def func(a, **kargs):</li>\n",
    "<li>print(a, kargs)</li>\n",
    "<li>func(a=1, c=3, b=2)</li>\n"
   ]
  },
  {
   "cell_type": "code",
   "execution_count": 7,
   "id": "11cf1c47",
   "metadata": {},
   "outputs": [
    {
     "name": "stdout",
     "output_type": "stream",
     "text": [
      "1 {'c': 3, 'b': 2}\n"
     ]
    }
   ],
   "source": [
    "def func(a, **kargs):#a=1 and **kargs will hold variable number of key word arguments passed to it\n",
    "    print(a, kargs)\n",
    "func(a=1, c=3, b=2)# So in func(),a=1 and **kargs will have c=3 and b=2\n"
   ]
  },
  {
   "cell_type": "code",
   "execution_count": null,
   "id": "679904e3",
   "metadata": {},
   "outputs": [],
   "source": []
  },
  {
   "cell_type": "markdown",
   "id": "5062a49b",
   "metadata": {},
   "source": [
    "# 5. What gets printed by this, and explain?\n",
    "<li>def func(a, b, c=8, d=5): </li>\n",
    "<li>print(a, b, c, d)</li>\n",
    "<li>func(1, *(5, 6))</li>\n"
   ]
  },
  {
   "cell_type": "code",
   "execution_count": 9,
   "id": "3b1b0f66",
   "metadata": {},
   "outputs": [
    {
     "name": "stdout",
     "output_type": "stream",
     "text": [
      "1 5 6 8\n"
     ]
    }
   ],
   "source": [
    "def func(a, b, c=8, d=5): \n",
    "    print(a, b, c, d)\n",
    "func(1, *(5, 6))# So in func(),a=1 and b=5 and c=6 becuase using *(5,6) we are unpakcing the tuple(5,6) into b=5 and c=6\n",
    "                #Rest d=5 will remain as it is\n"
   ]
  },
  {
   "cell_type": "code",
   "execution_count": null,
   "id": "74efb82e",
   "metadata": {},
   "outputs": [],
   "source": []
  },
  {
   "cell_type": "markdown",
   "id": "cec18aea",
   "metadata": {},
   "source": [
    "# 6. what is the result of this, and explain?\n",
    "<li>def func(a, b, c):</li>\n",
    "<li>a = 2; b[0] = 'x'; c['a'] = 'y'</li>\n",
    "<li>l=1; m=[1]; n={'a':0}</li>\n",
    "<li>func(l, m, n)</li>\n"
   ]
  },
  {
   "cell_type": "code",
   "execution_count": 11,
   "id": "baa15dd7",
   "metadata": {},
   "outputs": [],
   "source": [
    "def func(a, b, c): \n",
    "    a = 2 # a is local var,hence changes will not be reflect outside the function\n",
    "    b[0] = 'x'#b is pointing to the same list as m,hence changes made will reflect outside the function\n",
    "    c['a'] = 'y'#c is pointing to the same dict as n,hence chanes made will reflect outside the function\n",
    "\n",
    "l=1 \n",
    "m=[1]# m is a label for a  list,such that m=[1] \n",
    "n={'a':0}#n is a label for a list,such that  n={'a':0}\n",
    "func(l, m, n)"
   ]
  },
  {
   "cell_type": "code",
   "execution_count": null,
   "id": "a012daa3",
   "metadata": {},
   "outputs": [],
   "source": []
  }
 ],
 "metadata": {
  "kernelspec": {
   "display_name": "iNeuronFSDSPythonModule",
   "language": "python",
   "name": "ineuronfsdspythonmodule"
  },
  "language_info": {
   "codemirror_mode": {
    "name": "ipython",
    "version": 3
   },
   "file_extension": ".py",
   "mimetype": "text/x-python",
   "name": "python",
   "nbconvert_exporter": "python",
   "pygments_lexer": "ipython3",
   "version": "3.6.12"
  }
 },
 "nbformat": 4,
 "nbformat_minor": 5
}
