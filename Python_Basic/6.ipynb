{
 "cells": [
  {
   "cell_type": "markdown",
   "id": "russian-hungary",
   "metadata": {},
   "source": [
    "## 1.What are escape characters, and how do you use them?"
   ]
  },
  {
   "cell_type": "markdown",
   "id": "systematic-telling",
   "metadata": {},
   "source": [
    "# Soln"
   ]
  },
  {
   "cell_type": "markdown",
   "id": "smaller-firmware",
   "metadata": {},
   "source": [
    "<li>Escape characters are a set of few character prefixed with '\\'</li>\n",
    "<li>When we prefix '\\' with a character from the set special functionality is induced to our line of code</li>"
   ]
  },
  {
   "cell_type": "code",
   "execution_count": 1,
   "id": "decreased-amino",
   "metadata": {},
   "outputs": [
    {
     "name": "stdout",
     "output_type": "stream",
     "text": [
      "Soham\n",
      "Kundu\n"
     ]
    }
   ],
   "source": [
    "#Example\n",
    "print('Soham\\nKundu')"
   ]
  },
  {
   "cell_type": "code",
   "execution_count": null,
   "id": "c5608082",
   "metadata": {},
   "outputs": [],
   "source": []
  },
  {
   "cell_type": "markdown",
   "id": "separated-classification",
   "metadata": {},
   "source": [
    "## 2.What do the escape characters n and t stand for?\n"
   ]
  },
  {
   "cell_type": "markdown",
   "id": "textile-lecture",
   "metadata": {},
   "source": [
    "# Soln"
   ]
  },
  {
   "cell_type": "markdown",
   "id": "under-catholic",
   "metadata": {},
   "source": [
    "<li>\\n denotes newline aka our encoutering this escape character our cursor comes to a new line</li>\n",
    "<li>\\t represents tab which generally induces a gap 4 spaces</li>"
   ]
  },
  {
   "cell_type": "code",
   "execution_count": null,
   "id": "66062cf1",
   "metadata": {},
   "outputs": [],
   "source": []
  },
  {
   "cell_type": "markdown",
   "id": "requested-canvas",
   "metadata": {},
   "source": [
    "## 3. What is the way to include backslash characters in a string?\n"
   ]
  },
  {
   "cell_type": "markdown",
   "id": "fewer-mayor",
   "metadata": {},
   "source": [
    "# Soln"
   ]
  },
  {
   "cell_type": "code",
   "execution_count": 2,
   "id": "attended-christmas",
   "metadata": {},
   "outputs": [
    {
     "name": "stdout",
     "output_type": "stream",
     "text": [
      "Demo\\s\n"
     ]
    }
   ],
   "source": [
    "#Example\n",
    "s = 'Demo\\\\s'\n",
    "print(s)"
   ]
  },
  {
   "cell_type": "code",
   "execution_count": null,
   "id": "9ec194b7",
   "metadata": {},
   "outputs": [],
   "source": []
  },
  {
   "cell_type": "markdown",
   "id": "failing-salmon",
   "metadata": {},
   "source": [
    "## 4.  The string \"Howl's Moving Castle\" is a correct value. Why isn't the single quote character in the word Howl's not escaped a problem?\n"
   ]
  },
  {
   "cell_type": "markdown",
   "id": "reported-victor",
   "metadata": {},
   "source": [
    "# Soln"
   ]
  },
  {
   "cell_type": "markdown",
   "id": "realistic-strip",
   "metadata": {},
   "source": [
    "<li>The single quote character isn't escaped because we enclosed entire string in double quotes</li>"
   ]
  },
  {
   "cell_type": "code",
   "execution_count": null,
   "id": "b0c623dd",
   "metadata": {},
   "outputs": [],
   "source": []
  },
  {
   "cell_type": "markdown",
   "id": "about-superior",
   "metadata": {},
   "source": [
    "## 5. How do you write a string of newlines if you don't want to use the n character?\n"
   ]
  },
  {
   "cell_type": "markdown",
   "id": "sacred-treasury",
   "metadata": {},
   "source": [
    "# Soln"
   ]
  },
  {
   "cell_type": "code",
   "execution_count": 1,
   "id": "upper-peninsula",
   "metadata": {},
   "outputs": [
    {
     "name": "stdout",
     "output_type": "stream",
     "text": [
      "Enter num of string 2\n",
      "Input>>soham\n",
      "soham\n",
      "Input>>kundu\n",
      "kundu\n"
     ]
    }
   ],
   "source": [
    "#Example\n",
    "s = int(input('Enter num of string '))\n",
    "i=0\n",
    "while i<s:\n",
    "    inp = input('Input>>')\n",
    "    print(inp)\n",
    "    i+=1"
   ]
  },
  {
   "cell_type": "code",
   "execution_count": null,
   "id": "0f9b142a",
   "metadata": {},
   "outputs": [],
   "source": []
  },
  {
   "cell_type": "markdown",
   "id": "devoted-chemical",
   "metadata": {},
   "source": [
    "## 6. What are the values of the given expressions?\n",
    "\n",
    "\n",
    "<li>'Hello, world!'[1]</li>\n",
    "<li>'Hello, world!'[0:5]</li>\n",
    "<li>'Hello, world!'[:5]</li>\n",
    "<li>'Hello, world!'[3:]</li>\n"
   ]
  },
  {
   "cell_type": "markdown",
   "id": "handmade-memory",
   "metadata": {},
   "source": [
    "# Soln"
   ]
  },
  {
   "cell_type": "markdown",
   "id": "attempted-bride",
   "metadata": {},
   "source": [
    "<li>'Hello, world!'[1] -> gives the character present at index 1 which is e</li>"
   ]
  },
  {
   "cell_type": "markdown",
   "id": "mighty-lincoln",
   "metadata": {},
   "source": [
    "<li>'Hello, world!'[0:5] -> gives all characters from 0 to 4 indices</li>"
   ]
  },
  {
   "cell_type": "markdown",
   "id": "sustainable-acoustic",
   "metadata": {},
   "source": [
    "<li>'Hello, world!'[:5]-> gives all characters starting from 0 to 4 indices</li>"
   ]
  },
  {
   "cell_type": "markdown",
   "id": "agreed-vision",
   "metadata": {},
   "source": [
    "<li>'Hello, world!'[3:] -> gives all characters starting from index 3 till the end of the string </li>"
   ]
  },
  {
   "cell_type": "code",
   "execution_count": null,
   "id": "143f6462",
   "metadata": {},
   "outputs": [],
   "source": []
  },
  {
   "cell_type": "markdown",
   "id": "alpha-mumbai",
   "metadata": {},
   "source": [
    "## 7. What are the values of the given expressions?\n",
    "\n",
    "\n",
    "<li>'Hello'.upper()</li>\n",
    "<li>'Hello'.upper().isupper()</li>\n",
    "<li>'Hello'.upper().lower()</li>\n"
   ]
  },
  {
   "cell_type": "markdown",
   "id": "attached-chicken",
   "metadata": {},
   "source": [
    "# Soln"
   ]
  },
  {
   "cell_type": "markdown",
   "id": "productive-professor",
   "metadata": {},
   "source": [
    "<li>'Hello'.upper() -> 'HELLO'</li>"
   ]
  },
  {
   "cell_type": "markdown",
   "id": "saving-cornwall",
   "metadata": {},
   "source": [
    "<li>'Hello'.upper().isupper() -> True, as 'Hello'.upper() = 'HELLO'.isupper() = True</li>"
   ]
  },
  {
   "cell_type": "markdown",
   "id": "precise-illness",
   "metadata": {},
   "source": [
    "<li>'Hello'.upper().lower() -> 'hello'</li>"
   ]
  },
  {
   "cell_type": "code",
   "execution_count": null,
   "id": "bc10ad97",
   "metadata": {},
   "outputs": [],
   "source": []
  },
  {
   "cell_type": "markdown",
   "id": "suburban-stack",
   "metadata": {},
   "source": [
    "## 8. What are the values of the given expressions?\n",
    "\n",
    "\n",
    "<li>a) 'Remember, remember, the fifth of November.'.split()</li>\n",
    "<li> b) '-'.join('There can be only one.'.split())</li>\n"
   ]
  },
  {
   "cell_type": "markdown",
   "id": "charitable-windows",
   "metadata": {},
   "source": [
    "# Soln(a)"
   ]
  },
  {
   "cell_type": "markdown",
   "id": "viral-trainer",
   "metadata": {},
   "source": [
    "<li>'Remember, remember, the fifth of November.'.split() -> will split string based on whitespace</li>"
   ]
  },
  {
   "cell_type": "code",
   "execution_count": 4,
   "id": "premier-replacement",
   "metadata": {},
   "outputs": [
    {
     "data": {
      "text/plain": [
       "['Remember,', 'remember,', 'the', 'fifth', 'of', 'November.']"
      ]
     },
     "execution_count": 4,
     "metadata": {},
     "output_type": "execute_result"
    }
   ],
   "source": [
    "'Remember, remember, the fifth of November.'.split()"
   ]
  },
  {
   "cell_type": "markdown",
   "id": "sunrise-brand",
   "metadata": {},
   "source": [
    "<li>'-'.join('There can be only one.'.split())</li>\n",
    "<li>'There can be only one.'.split() is split into a list of strings based on whitespace</li>\n",
    "<li> The above list is then joined with '-' as delimeter into a single string</li>"
   ]
  },
  {
   "cell_type": "markdown",
   "id": "b9331c17",
   "metadata": {},
   "source": [
    "# Soln(b)"
   ]
  },
  {
   "cell_type": "code",
   "execution_count": 5,
   "id": "physical-payment",
   "metadata": {},
   "outputs": [
    {
     "data": {
      "text/plain": [
       "'There-can-be-only-one.'"
      ]
     },
     "execution_count": 5,
     "metadata": {},
     "output_type": "execute_result"
    }
   ],
   "source": [
    "'-'.join('There can be only one.'.split())"
   ]
  },
  {
   "cell_type": "code",
   "execution_count": null,
   "id": "06b1e8b3",
   "metadata": {},
   "outputs": [],
   "source": []
  },
  {
   "cell_type": "markdown",
   "id": "trying-injury",
   "metadata": {},
   "source": [
    "## 9. What are the methods for right-justifying, left-justifying, and centering a string?\n"
   ]
  },
  {
   "cell_type": "markdown",
   "id": "intelligent-expression",
   "metadata": {},
   "source": [
    "# Soln"
   ]
  },
  {
   "cell_type": "code",
   "execution_count": 11,
   "id": "solar-blind",
   "metadata": {},
   "outputs": [
    {
     "data": {
      "text/plain": [
       "'  a  '"
      ]
     },
     "execution_count": 11,
     "metadata": {},
     "output_type": "execute_result"
    }
   ],
   "source": [
    "s= 'a'\n",
    "s.center(5)"
   ]
  },
  {
   "cell_type": "code",
   "execution_count": 12,
   "id": "prescription-smoke",
   "metadata": {},
   "outputs": [
    {
     "data": {
      "text/plain": [
       "'a    '"
      ]
     },
     "execution_count": 12,
     "metadata": {},
     "output_type": "execute_result"
    }
   ],
   "source": [
    "s='a'\n",
    "s.ljust(5)"
   ]
  },
  {
   "cell_type": "code",
   "execution_count": 13,
   "id": "inner-stress",
   "metadata": {},
   "outputs": [
    {
     "data": {
      "text/plain": [
       "'    a'"
      ]
     },
     "execution_count": 13,
     "metadata": {},
     "output_type": "execute_result"
    }
   ],
   "source": [
    "s='a'\n",
    "s.rjust(5)"
   ]
  },
  {
   "cell_type": "code",
   "execution_count": null,
   "id": "8195e007",
   "metadata": {},
   "outputs": [],
   "source": []
  },
  {
   "cell_type": "markdown",
   "id": "molecular-strip",
   "metadata": {},
   "source": [
    "## 10. What is the best way to remove whitespace characters from the start or end?\n"
   ]
  },
  {
   "cell_type": "markdown",
   "id": "remarkable-convert",
   "metadata": {},
   "source": [
    "# Soln"
   ]
  },
  {
   "cell_type": "code",
   "execution_count": 16,
   "id": "plastic-links",
   "metadata": {},
   "outputs": [],
   "source": [
    "s1= '    aaaa'\n",
    "s2= 'aaaa    '"
   ]
  },
  {
   "cell_type": "code",
   "execution_count": 17,
   "id": "durable-democrat",
   "metadata": {},
   "outputs": [
    {
     "name": "stdout",
     "output_type": "stream",
     "text": [
      "    aaaa\n"
     ]
    },
    {
     "data": {
      "text/plain": [
       "'aaaa'"
      ]
     },
     "execution_count": 17,
     "metadata": {},
     "output_type": "execute_result"
    }
   ],
   "source": [
    "print(s1)\n",
    "s1.lstrip()"
   ]
  },
  {
   "cell_type": "code",
   "execution_count": 18,
   "id": "demonstrated-christopher",
   "metadata": {},
   "outputs": [
    {
     "name": "stdout",
     "output_type": "stream",
     "text": [
      "aaaa    \n"
     ]
    },
    {
     "data": {
      "text/plain": [
       "'aaaa'"
      ]
     },
     "execution_count": 18,
     "metadata": {},
     "output_type": "execute_result"
    }
   ],
   "source": [
    "print(s2)\n",
    "s2.rstrip()"
   ]
  }
 ],
 "metadata": {
  "kernelspec": {
   "display_name": "iNeuronFSDSPythonModule",
   "language": "python",
   "name": "ineuronfsdspythonmodule"
  },
  "language_info": {
   "codemirror_mode": {
    "name": "ipython",
    "version": 3
   },
   "file_extension": ".py",
   "mimetype": "text/x-python",
   "name": "python",
   "nbconvert_exporter": "python",
   "pygments_lexer": "ipython3",
   "version": "3.6.12"
  }
 },
 "nbformat": 4,
 "nbformat_minor": 5
}
