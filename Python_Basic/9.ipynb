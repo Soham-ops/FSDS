{
 "cells": [
  {
   "cell_type": "markdown",
   "id": "european-benchmark",
   "metadata": {},
   "source": [
    "# 1. To what does a relative path refer?"
   ]
  },
  {
   "cell_type": "markdown",
   "id": "rubber-metallic",
   "metadata": {},
   "source": [
    "# Soln"
   ]
  },
  {
   "cell_type": "markdown",
   "id": "executed-delight",
   "metadata": {},
   "source": [
    "<li>Relative path is relative to the current working directory </li>"
   ]
  },
  {
   "cell_type": "markdown",
   "id": "breeding-appendix",
   "metadata": {},
   "source": [
    "# 2. What does an absolute path start with your operating system?"
   ]
  },
  {
   "cell_type": "markdown",
   "id": "infrared-profession",
   "metadata": {},
   "source": [
    "# Soln "
   ]
  },
  {
   "cell_type": "markdown",
   "id": "increasing-sweden",
   "metadata": {},
   "source": [
    "<li>With the name of the drive</li>\n",
    "<li>Eg->E:\\iNeuron\\Full Stack DS\\Python Assignments\\Python_Basics</li>"
   ]
  },
  {
   "cell_type": "markdown",
   "id": "criminal-radar",
   "metadata": {},
   "source": [
    "# 3. What do the functions os.getcwd() and os.chdir() do? "
   ]
  },
  {
   "cell_type": "markdown",
   "id": "alone-median",
   "metadata": {},
   "source": [
    "# Soln"
   ]
  },
  {
   "cell_type": "code",
   "execution_count": 1,
   "id": "f1b18aad",
   "metadata": {},
   "outputs": [
    {
     "data": {
      "text/plain": [
       "'E:\\\\iNeuron\\\\FSDS November\\\\Python Basic Assignments Answer'"
      ]
     },
     "execution_count": 1,
     "metadata": {},
     "output_type": "execute_result"
    }
   ],
   "source": [
    "#Tells the current working directory\n",
    "import os\n",
    "os.getcwd()"
   ]
  },
  {
   "cell_type": "code",
   "execution_count": 2,
   "id": "73c4ebdd",
   "metadata": {},
   "outputs": [
    {
     "name": "stdout",
     "output_type": "stream",
     "text": [
      "E:\\iNeuron\\FSDS November\n"
     ]
    }
   ],
   "source": [
    "#Changes the current working directory\n",
    "os.chdir(\"E:\\\\iNeuron\\\\FSDS November\")\n",
    "print(os.getcwd())"
   ]
  },
  {
   "cell_type": "markdown",
   "id": "b61def45",
   "metadata": {},
   "source": [
    "<li>os.getcwd() will give the current directory we are present</li>\n",
    "<li>os.chdir() will change the directory to the one specified as a parameter</li>"
   ]
  },
  {
   "cell_type": "code",
   "execution_count": null,
   "id": "b5677d7f",
   "metadata": {},
   "outputs": [],
   "source": []
  },
  {
   "cell_type": "markdown",
   "id": "exempt-glass",
   "metadata": {},
   "source": [
    "# 4. What are the . and .. folders?"
   ]
  },
  {
   "cell_type": "markdown",
   "id": "sustained-flash",
   "metadata": {},
   "source": [
    "# Soln"
   ]
  },
  {
   "cell_type": "markdown",
   "id": "atlantic-affect",
   "metadata": {},
   "source": [
    "<li>'.' represents the current folder and '..' represents the parent folder to the current one</li>"
   ]
  },
  {
   "cell_type": "code",
   "execution_count": null,
   "id": "ee13c076",
   "metadata": {},
   "outputs": [],
   "source": []
  },
  {
   "cell_type": "markdown",
   "id": "communist-indication",
   "metadata": {},
   "source": [
    "# 5. In C:\\bacon\\eggs\\spam.txt, which part is the dir name, and which part is the base name?"
   ]
  },
  {
   "cell_type": "markdown",
   "id": "answering-craft",
   "metadata": {},
   "source": [
    "# Soln"
   ]
  },
  {
   "cell_type": "markdown",
   "id": "annual-activation",
   "metadata": {},
   "source": [
    "<li>dir name -> 'C:\\\\bacon\\\\eggs' and base name -> spam.txt</li>"
   ]
  },
  {
   "cell_type": "code",
   "execution_count": null,
   "id": "799f5808",
   "metadata": {},
   "outputs": [],
   "source": []
  },
  {
   "cell_type": "markdown",
   "id": "alpine-arabic",
   "metadata": {},
   "source": [
    "# 6. What are the three “mode” arguments that can be passed to the open() function?\n"
   ]
  },
  {
   "cell_type": "markdown",
   "id": "checked-jacksonville",
   "metadata": {},
   "source": [
    "# Soln"
   ]
  },
  {
   "cell_type": "markdown",
   "id": "strong-munich",
   "metadata": {},
   "source": [
    "<li>'r' for read mode</li>\n",
    "\n",
    "<li> 'w' for write mode,which if the file already exists, will delete content and then write</li> \n",
    "\n",
    "<li>'a' for append mode, which will start writing at the end of the file</li>"
   ]
  },
  {
   "cell_type": "markdown",
   "id": "sealed-handling",
   "metadata": {},
   "source": [
    "# 7. What happens if an existing file is opened in write mode?"
   ]
  },
  {
   "cell_type": "markdown",
   "id": "approximate-while",
   "metadata": {},
   "source": [
    "# Soln"
   ]
  },
  {
   "cell_type": "markdown",
   "id": "clean-actress",
   "metadata": {},
   "source": [
    "<li>if the file already exists, it will delete content and then write</li>"
   ]
  },
  {
   "cell_type": "code",
   "execution_count": null,
   "id": "4c770bc5",
   "metadata": {},
   "outputs": [],
   "source": []
  },
  {
   "cell_type": "markdown",
   "id": "thick-hampton",
   "metadata": {},
   "source": [
    "# 8. How do you tell the difference between read() and readlines()?"
   ]
  },
  {
   "cell_type": "markdown",
   "id": "tight-civilian",
   "metadata": {},
   "source": [
    "# Soln"
   ]
  },
  {
   "cell_type": "code",
   "execution_count": 70,
   "id": "5f9a473d",
   "metadata": {},
   "outputs": [],
   "source": [
    "os.chdir('E:\\\\iNeuron\\\\FSDS November\\\\Python Basic Assignments Answer')"
   ]
  },
  {
   "cell_type": "code",
   "execution_count": 71,
   "id": "spare-garlic",
   "metadata": {},
   "outputs": [],
   "source": [
    "f = open('work.txt','w')"
   ]
  },
  {
   "cell_type": "code",
   "execution_count": 72,
   "id": "deadly-discharge",
   "metadata": {},
   "outputs": [],
   "source": [
    "ls = ['This is Ram \\n','This is Vishnu \\n','This is Murli \\n']"
   ]
  },
  {
   "cell_type": "code",
   "execution_count": 73,
   "id": "armed-addiction",
   "metadata": {},
   "outputs": [
    {
     "data": {
      "text/plain": [
       "7"
      ]
     },
     "execution_count": 73,
     "metadata": {},
     "output_type": "execute_result"
    }
   ],
   "source": [
    "f.write('Hello \\n')"
   ]
  },
  {
   "cell_type": "code",
   "execution_count": 74,
   "id": "several-authority",
   "metadata": {},
   "outputs": [],
   "source": [
    "f.writelines(ls)"
   ]
  },
  {
   "cell_type": "code",
   "execution_count": 75,
   "id": "alien-glory",
   "metadata": {},
   "outputs": [],
   "source": [
    "f.close()"
   ]
  },
  {
   "cell_type": "code",
   "execution_count": 76,
   "id": "acute-basis",
   "metadata": {},
   "outputs": [],
   "source": [
    "f = open('work.txt')"
   ]
  },
  {
   "cell_type": "code",
   "execution_count": 77,
   "id": "executed-worker",
   "metadata": {},
   "outputs": [
    {
     "data": {
      "text/plain": [
       "'Hello \\nThis is Ram \\nThis is Vishnu \\nThis is Murli \\n'"
      ]
     },
     "execution_count": 77,
     "metadata": {},
     "output_type": "execute_result"
    }
   ],
   "source": [
    "f.read()"
   ]
  },
  {
   "cell_type": "code",
   "execution_count": 78,
   "id": "egyptian-surge",
   "metadata": {},
   "outputs": [
    {
     "data": {
      "text/plain": [
       "0"
      ]
     },
     "execution_count": 78,
     "metadata": {},
     "output_type": "execute_result"
    }
   ],
   "source": [
    "f.seek(0)"
   ]
  },
  {
   "cell_type": "code",
   "execution_count": 79,
   "id": "accomplished-brunei",
   "metadata": {},
   "outputs": [
    {
     "data": {
      "text/plain": [
       "'Hello \\nT'"
      ]
     },
     "execution_count": 79,
     "metadata": {},
     "output_type": "execute_result"
    }
   ],
   "source": [
    "#read is reading 8 bytes\n",
    "f.read(8)"
   ]
  },
  {
   "cell_type": "code",
   "execution_count": 80,
   "id": "false-czech",
   "metadata": {},
   "outputs": [
    {
     "data": {
      "text/plain": [
       "0"
      ]
     },
     "execution_count": 80,
     "metadata": {},
     "output_type": "execute_result"
    }
   ],
   "source": [
    "f.seek(0)"
   ]
  },
  {
   "cell_type": "code",
   "execution_count": 81,
   "id": "classified-orleans",
   "metadata": {},
   "outputs": [
    {
     "data": {
      "text/plain": [
       "'Hello \\n'"
      ]
     },
     "execution_count": 81,
     "metadata": {},
     "output_type": "execute_result"
    }
   ],
   "source": [
    "#\\n spl character so it is 2 bytes\n",
    "f.read(7)"
   ]
  },
  {
   "cell_type": "code",
   "execution_count": 82,
   "id": "popular-louisiana",
   "metadata": {},
   "outputs": [
    {
     "data": {
      "text/plain": [
       "0"
      ]
     },
     "execution_count": 82,
     "metadata": {},
     "output_type": "execute_result"
    }
   ],
   "source": [
    "f.seek(0)"
   ]
  },
  {
   "cell_type": "code",
   "execution_count": 83,
   "id": "abroad-retrieval",
   "metadata": {},
   "outputs": [
    {
     "data": {
      "text/plain": [
       "'Hello '"
      ]
     },
     "execution_count": 83,
     "metadata": {},
     "output_type": "execute_result"
    }
   ],
   "source": [
    "#read is reading 6 bytes\n",
    "f.read(6)"
   ]
  },
  {
   "cell_type": "code",
   "execution_count": 84,
   "id": "creative-stage",
   "metadata": {},
   "outputs": [
    {
     "data": {
      "text/plain": [
       "0"
      ]
     },
     "execution_count": 84,
     "metadata": {},
     "output_type": "execute_result"
    }
   ],
   "source": [
    "f.seek(0)"
   ]
  },
  {
   "cell_type": "code",
   "execution_count": 85,
   "id": "latin-investment",
   "metadata": {},
   "outputs": [
    {
     "data": {
      "text/plain": [
       "['Hello \\n', 'This is Ram \\n', 'This is Vishnu \\n', 'This is Murli \\n']"
      ]
     },
     "execution_count": 85,
     "metadata": {},
     "output_type": "execute_result"
    }
   ],
   "source": [
    "f.readlines()"
   ]
  },
  {
   "cell_type": "code",
   "execution_count": 86,
   "id": "subjective-imagination",
   "metadata": {},
   "outputs": [
    {
     "data": {
      "text/plain": [
       "0"
      ]
     },
     "execution_count": 86,
     "metadata": {},
     "output_type": "execute_result"
    }
   ],
   "source": [
    "f.seek(0)"
   ]
  },
  {
   "cell_type": "code",
   "execution_count": 87,
   "id": "final-estimate",
   "metadata": {},
   "outputs": [
    {
     "data": {
      "text/plain": [
       "['Hello \\n']"
      ]
     },
     "execution_count": 87,
     "metadata": {},
     "output_type": "execute_result"
    }
   ],
   "source": [
    "f.readlines(2)"
   ]
  },
  {
   "cell_type": "code",
   "execution_count": 88,
   "id": "4d6c4545",
   "metadata": {},
   "outputs": [
    {
     "data": {
      "text/plain": [
       "0"
      ]
     },
     "execution_count": 88,
     "metadata": {},
     "output_type": "execute_result"
    }
   ],
   "source": [
    "f.seek(0)"
   ]
  },
  {
   "cell_type": "markdown",
   "id": "pregnant-longer",
   "metadata": {},
   "source": [
    "<li>So it is pretty evident that read() WILL READ N BYTES</li> \n",
    "<li>such that each char takes 1 bytes and special chracter like \\n is taking 2  bytes</li>\n",
    "<li>readlines() WILL READ LINE BY LINE</li>\n",
    "<li>such that for f.readlines(2)</li>\n",
    "<li>initially total \"SIZE\" of lines read so far =0 which is less than 2 so read 1 line </li>\n",
    "<li>now total \"SIZE\" ... exceeds 2 so stop reading</li>"
   ]
  },
  {
   "cell_type": "markdown",
   "id": "color-niagara",
   "metadata": {},
   "source": [
    "# 9. What data structure does a shelf value resemble?"
   ]
  },
  {
   "cell_type": "markdown",
   "id": "desirable-aircraft",
   "metadata": {},
   "source": [
    "# Soln"
   ]
  },
  {
   "cell_type": "markdown",
   "id": "square-inside",
   "metadata": {},
   "source": [
    "<li>Dictionary</li>"
   ]
  },
  {
   "cell_type": "code",
   "execution_count": null,
   "id": "athletic-romance",
   "metadata": {},
   "outputs": [],
   "source": []
  }
 ],
 "metadata": {
  "kernelspec": {
   "display_name": "iNeuronFSDSPythonModule",
   "language": "python",
   "name": "ineuronfsdspythonmodule"
  },
  "language_info": {
   "codemirror_mode": {
    "name": "ipython",
    "version": 3
   },
   "file_extension": ".py",
   "mimetype": "text/x-python",
   "name": "python",
   "nbconvert_exporter": "python",
   "pygments_lexer": "ipython3",
   "version": "3.6.12"
  }
 },
 "nbformat": 4,
 "nbformat_minor": 5
}
