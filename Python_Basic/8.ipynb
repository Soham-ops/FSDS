{
 "cells": [
  {
   "cell_type": "code",
   "execution_count": 1,
   "id": "e04e5740",
   "metadata": {},
   "outputs": [],
   "source": [
    "import pyinputplus as pyip"
   ]
  },
  {
   "cell_type": "markdown",
   "id": "5e64366f",
   "metadata": {},
   "source": [
    "# 1. Is the Python Standard Library included with PyInputPlus?\n"
   ]
  },
  {
   "cell_type": "markdown",
   "id": "7f009f3b",
   "metadata": {},
   "source": [
    "<li>No, PyInputPlus does not come with the python standard library</li>\n",
    "<li>We have to install it by giving this command </li>\n",
    "<li>pip install PyInputPlus</li>"
   ]
  },
  {
   "cell_type": "code",
   "execution_count": null,
   "id": "da01ca79",
   "metadata": {},
   "outputs": [],
   "source": []
  },
  {
   "cell_type": "markdown",
   "id": "50ce0b20",
   "metadata": {},
   "source": [
    "# 2. Why is PyInputPlus commonly imported with import pyinputplus as pypi?\n"
   ]
  },
  {
   "cell_type": "markdown",
   "id": "00dda0cf",
   "metadata": {},
   "source": [
    "<li>Because of its long name(pyinputplus) and have to use that long name again anad again we give an alias(pypi) while importing and hence  we do import pyinputplus as pypi</li>"
   ]
  },
  {
   "cell_type": "code",
   "execution_count": null,
   "id": "321d8b1a",
   "metadata": {},
   "outputs": [],
   "source": []
  },
  {
   "cell_type": "markdown",
   "id": "6830114f",
   "metadata": {},
   "source": [
    "# 3. How do you distinguish between inputInt() and inputFloat()?\n"
   ]
  },
  {
   "cell_type": "code",
   "execution_count": 2,
   "id": "f6ff8860",
   "metadata": {},
   "outputs": [
    {
     "name": "stdout",
     "output_type": "stream",
     "text": [
      "Enter an integer 4.4\n",
      "'4.4' is not an integer.\n",
      "Enter an integer 12.2\n",
      "'12.2' is not an integer.\n",
      "Enter an integer 13.2\n",
      "'13.2' is not an integer.\n"
     ]
    }
   ],
   "source": [
    "\n",
    "inp = pyip.inputInt(prompt=\"Enter an integer \",default=0,limit=3)"
   ]
  },
  {
   "cell_type": "code",
   "execution_count": 4,
   "id": "03fee229",
   "metadata": {},
   "outputs": [
    {
     "data": {
      "text/plain": [
       "0"
      ]
     },
     "execution_count": 4,
     "metadata": {},
     "output_type": "execute_result"
    }
   ],
   "source": [
    "inp"
   ]
  },
  {
   "cell_type": "code",
   "execution_count": 5,
   "id": "00db6b88",
   "metadata": {},
   "outputs": [
    {
     "name": "stdout",
     "output_type": "stream",
     "text": [
      "Enter an integer 4.4\n",
      "'4.4' is not an integer.\n",
      "Enter an integer 12.2\n",
      "'12.2' is not an integer.\n",
      "Enter an integer 2\n"
     ]
    }
   ],
   "source": [
    "inp = pyip.inputInt(prompt=\"Enter an integer \",default=0,limit=3)"
   ]
  },
  {
   "cell_type": "code",
   "execution_count": 6,
   "id": "98aa1850",
   "metadata": {},
   "outputs": [
    {
     "data": {
      "text/plain": [
       "2"
      ]
     },
     "execution_count": 6,
     "metadata": {},
     "output_type": "execute_result"
    }
   ],
   "source": [
    "inp"
   ]
  },
  {
   "cell_type": "markdown",
   "id": "f47eb4fe",
   "metadata": {},
   "source": [
    "<ul>inputInt\n",
    "    <li>takes integer inputs only and not floating point numbers</li>\n",
    "    <li>If non-integer input is passed, the function retries until a valid input is given, time runs out or maximum number of tries exceed</li>\n",
    "    <li> default parameter is used to set the default value if time runs out or the number of tries exceeds</li>\n",
    "    \n",
    "</ul>"
   ]
  },
  {
   "cell_type": "code",
   "execution_count": 7,
   "id": "c8ccc8a9",
   "metadata": {},
   "outputs": [
    {
     "name": "stdout",
     "output_type": "stream",
     "text": [
      "Enter a float 22.4\n"
     ]
    }
   ],
   "source": [
    "inp = pyip.inputFloat(prompt=\"Enter a float \",default=0.0,limit=3)"
   ]
  },
  {
   "cell_type": "code",
   "execution_count": 8,
   "id": "493bfead",
   "metadata": {},
   "outputs": [
    {
     "data": {
      "text/plain": [
       "22.4"
      ]
     },
     "execution_count": 8,
     "metadata": {},
     "output_type": "execute_result"
    }
   ],
   "source": [
    "inp"
   ]
  },
  {
   "cell_type": "markdown",
   "id": "fa6588d1",
   "metadata": {},
   "source": [
    "<li>Takes float,integer values</li>\n",
    "<li>Tells user to enter a floating point number value and returns the number as a float.</li>\n",
    "<li>If we give integer then that integer is return as  floating point number</li>"
   ]
  },
  {
   "cell_type": "code",
   "execution_count": null,
   "id": "875ca38b",
   "metadata": {},
   "outputs": [],
   "source": []
  },
  {
   "cell_type": "markdown",
   "id": "27763871",
   "metadata": {},
   "source": [
    "# 4. Using PyInputPlus, how do you ensure that the user enters a whole number between 0 and 99?\n"
   ]
  },
  {
   "cell_type": "code",
   "execution_count": 9,
   "id": "767a0433",
   "metadata": {},
   "outputs": [
    {
     "name": "stdout",
     "output_type": "stream",
     "text": [
      "Enter a number between 0 - 99 100\n",
      "Number must be at maximum 99.\n",
      "Enter a number between 0 - 99 -101\n",
      "Number must be at minimum 0.\n",
      "Enter a number between 0 - 99 99\n"
     ]
    },
    {
     "data": {
      "text/plain": [
       "99"
      ]
     },
     "execution_count": 9,
     "metadata": {},
     "output_type": "execute_result"
    }
   ],
   "source": [
    "inp = pyip.inputInt(\"Enter a number between 0 - 99 \",min=0,max=99,default=0,limit=3)\n",
    "inp"
   ]
  },
  {
   "cell_type": "code",
   "execution_count": null,
   "id": "e33c4006",
   "metadata": {},
   "outputs": [],
   "source": []
  },
  {
   "cell_type": "markdown",
   "id": "707d9ab9",
   "metadata": {},
   "source": [
    "# 5. What is transferred to the keyword arguments allowRegexes and blockRegexes?\n"
   ]
  },
  {
   "cell_type": "code",
   "execution_count": 10,
   "id": "60cbd78a",
   "metadata": {},
   "outputs": [
    {
     "name": "stdout",
     "output_type": "stream",
     "text": [
      "Enter a string soham101\n",
      "This response is invalid.\n",
      "Enter a string soham\n"
     ]
    },
    {
     "data": {
      "text/plain": [
       "'soham'"
      ]
     },
     "execution_count": 10,
     "metadata": {},
     "output_type": "execute_result"
    }
   ],
   "source": [
    "#The string pattern or the string that we want to block is send to blockRegexes params\n",
    "inp = pyip.inputStr(prompt=\"Enter a string \",blockRegexes=r'12345')\n",
    "inp"
   ]
  },
  {
   "cell_type": "code",
   "execution_count": 11,
   "id": "01c56a71",
   "metadata": {},
   "outputs": [
    {
     "name": "stdout",
     "output_type": "stream",
     "text": [
      "Enter a string soham\n"
     ]
    },
    {
     "data": {
      "text/plain": [
       "'soham'"
      ]
     },
     "execution_count": 11,
     "metadata": {},
     "output_type": "execute_result"
    }
   ],
   "source": [
    "#allowRegex will have value that is favoured as input \n",
    "#however if any value other than that is is provided it will not block the input unlike blockRegex\n",
    "inp = pyip.inputStr(prompt=\"Enter a string \",allowRegexes=r'12345')\n",
    "inp"
   ]
  },
  {
   "cell_type": "code",
   "execution_count": null,
   "id": "ea550d9b",
   "metadata": {},
   "outputs": [],
   "source": []
  },
  {
   "cell_type": "markdown",
   "id": "faf719df",
   "metadata": {},
   "source": [
    "# 6. If a blank input is entered three times, what does inputStr(limit=3) do?\n"
   ]
  },
  {
   "cell_type": "code",
   "execution_count": 13,
   "id": "bb3669a7",
   "metadata": {},
   "outputs": [
    {
     "name": "stdout",
     "output_type": "stream",
     "text": [
      "Enter a string \n",
      "Blank values are not allowed.\n",
      "Enter a string \n",
      "Blank values are not allowed.\n",
      "Enter a string \n",
      "Blank values are not allowed.\n",
      "\n",
      "Since got blank input as value 3 times, am throwing RetryLimitException\n"
     ]
    }
   ],
   "source": [
    "try:\n",
    "    inp = pyip.inputStr(prompt=\"Enter a string \",limit=3)\n",
    "    inp\n",
    "except:\n",
    "    print('\\nSince got blank input as value 3 times, am throwing RetryLimitException')"
   ]
  },
  {
   "cell_type": "code",
   "execution_count": null,
   "id": "c8c2912c",
   "metadata": {},
   "outputs": [],
   "source": []
  },
  {
   "cell_type": "markdown",
   "id": "729f8d89",
   "metadata": {},
   "source": [
    "# 7. If blank input is entered three times, what does inputStr(limit=3, default='hello') do?\n"
   ]
  },
  {
   "cell_type": "markdown",
   "id": "3c405ccf",
   "metadata": {},
   "source": [
    "<li>If blank input is entered three times,instead of throwing exception it will set 'hello' as default value</li>"
   ]
  },
  {
   "cell_type": "code",
   "execution_count": 14,
   "id": "eb9158fa",
   "metadata": {},
   "outputs": [
    {
     "name": "stdout",
     "output_type": "stream",
     "text": [
      "Enter \n",
      "Blank values are not allowed.\n",
      "Enter \n",
      "Blank values are not allowed.\n",
      "Enter \n",
      "Blank values are not allowed.\n"
     ]
    },
    {
     "data": {
      "text/plain": [
       "'hello'"
      ]
     },
     "execution_count": 14,
     "metadata": {},
     "output_type": "execute_result"
    }
   ],
   "source": [
    "inp = pyip.inputStr(\"Enter \",limit=3,default=\"hello\")\n",
    "inp"
   ]
  },
  {
   "cell_type": "code",
   "execution_count": null,
   "id": "4915266c",
   "metadata": {},
   "outputs": [],
   "source": []
  }
 ],
 "metadata": {
  "kernelspec": {
   "display_name": "iNeuronFSDSPythonModule",
   "language": "python",
   "name": "ineuronfsdspythonmodule"
  },
  "language_info": {
   "codemirror_mode": {
    "name": "ipython",
    "version": 3
   },
   "file_extension": ".py",
   "mimetype": "text/x-python",
   "name": "python",
   "nbconvert_exporter": "python",
   "pygments_lexer": "ipython3",
   "version": "3.6.12"
  }
 },
 "nbformat": 4,
 "nbformat_minor": 5
}
