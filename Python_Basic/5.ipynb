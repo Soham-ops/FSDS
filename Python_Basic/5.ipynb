{
 "cells": [
  {
   "cell_type": "markdown",
   "id": "applied-kuwait",
   "metadata": {},
   "source": [
    "## 1. What does an empty dictionary's code look like ?"
   ]
  },
  {
   "cell_type": "markdown",
   "id": "monthly-grass",
   "metadata": {},
   "source": [
    "# Soln"
   ]
  },
  {
   "cell_type": "code",
   "execution_count": 1,
   "id": "committed-bracket",
   "metadata": {},
   "outputs": [],
   "source": [
    "d = {}"
   ]
  },
  {
   "cell_type": "code",
   "execution_count": 2,
   "id": "rotary-commons",
   "metadata": {},
   "outputs": [
    {
     "data": {
      "text/plain": [
       "dict"
      ]
     },
     "execution_count": 2,
     "metadata": {},
     "output_type": "execute_result"
    }
   ],
   "source": [
    "type(d)"
   ]
  },
  {
   "cell_type": "code",
   "execution_count": null,
   "id": "bda3f9c5",
   "metadata": {},
   "outputs": [],
   "source": []
  },
  {
   "cell_type": "markdown",
   "id": "latest-firewall",
   "metadata": {},
   "source": [
    "## 2 . What is the value of a dictionary value with the key 'foo' and the value 42?\n"
   ]
  },
  {
   "cell_type": "markdown",
   "id": "electronic-contribution",
   "metadata": {},
   "source": [
    "# Soln "
   ]
  },
  {
   "cell_type": "code",
   "execution_count": 3,
   "id": "sporting-repository",
   "metadata": {},
   "outputs": [],
   "source": [
    "d = {'foo':42}"
   ]
  },
  {
   "cell_type": "code",
   "execution_count": 4,
   "id": "organic-vocabulary",
   "metadata": {},
   "outputs": [
    {
     "data": {
      "text/plain": [
       "{'foo': 42}"
      ]
     },
     "execution_count": 4,
     "metadata": {},
     "output_type": "execute_result"
    }
   ],
   "source": [
    "d"
   ]
  },
  {
   "cell_type": "code",
   "execution_count": null,
   "id": "cbad4af4",
   "metadata": {},
   "outputs": [],
   "source": []
  },
  {
   "cell_type": "markdown",
   "id": "martial-compression",
   "metadata": {},
   "source": [
    "## 3.  What is the most significant distinction between a dictionary and a list?"
   ]
  },
  {
   "cell_type": "markdown",
   "id": "universal-purse",
   "metadata": {},
   "source": [
    "# Soln"
   ]
  },
  {
   "cell_type": "markdown",
   "id": "square-memory",
   "metadata": {},
   "source": [
    "<li><b>List</b></li>\n",
    "<li>Indexing of the items start from 0</li>\n",
    "<li><b>Dict</b></li>\n",
    "<li>Keys of a dictionary can be any IMMUTABLE data type</li>"
   ]
  },
  {
   "cell_type": "code",
   "execution_count": null,
   "id": "opponent-disclosure",
   "metadata": {},
   "outputs": [],
   "source": []
  },
  {
   "cell_type": "markdown",
   "id": "former-failing",
   "metadata": {},
   "source": [
    "## 4.  What happens if you try to access spam['foo'] if spam is {'bar': 100}?"
   ]
  },
  {
   "cell_type": "markdown",
   "id": "robust-mileage",
   "metadata": {},
   "source": [
    "# Soln"
   ]
  },
  {
   "cell_type": "code",
   "execution_count": 5,
   "id": "russian-penguin",
   "metadata": {},
   "outputs": [],
   "source": [
    "spam = {'bar':100}"
   ]
  },
  {
   "cell_type": "code",
   "execution_count": 6,
   "id": "indirect-compact",
   "metadata": {},
   "outputs": [
    {
     "ename": "KeyError",
     "evalue": "'foo'",
     "output_type": "error",
     "traceback": [
      "\u001b[1;31m---------------------------------------------------------------------------\u001b[0m",
      "\u001b[1;31mKeyError\u001b[0m                                  Traceback (most recent call last)",
      "\u001b[1;32m<ipython-input-6-9b5a94d1de8d>\u001b[0m in \u001b[0;36m<module>\u001b[1;34m\u001b[0m\n\u001b[1;32m----> 1\u001b[1;33m \u001b[0mspam\u001b[0m\u001b[1;33m[\u001b[0m\u001b[1;34m'foo'\u001b[0m\u001b[1;33m]\u001b[0m\u001b[1;33m\u001b[0m\u001b[1;33m\u001b[0m\u001b[0m\n\u001b[0m",
      "\u001b[1;31mKeyError\u001b[0m: 'foo'"
     ]
    }
   ],
   "source": [
    "spam['foo']"
   ]
  },
  {
   "cell_type": "markdown",
   "id": "passive-belle",
   "metadata": {},
   "source": [
    "<li>As can be seen the system throws KeyError</li>"
   ]
  },
  {
   "cell_type": "code",
   "execution_count": null,
   "id": "composite-craps",
   "metadata": {},
   "outputs": [],
   "source": []
  },
  {
   "cell_type": "markdown",
   "id": "floral-chicago",
   "metadata": {},
   "source": [
    "## 5.  If a dictionary is stored in spam, what is the difference between the expressions 'cat' in spam and 'cat' in spam.keys()?\n"
   ]
  },
  {
   "cell_type": "markdown",
   "id": "instructional-merit",
   "metadata": {},
   "source": [
    "# Soln"
   ]
  },
  {
   "cell_type": "code",
   "execution_count": 6,
   "id": "daily-technical",
   "metadata": {},
   "outputs": [],
   "source": [
    "spam = {'bar':100,\n",
    "       'cat':100}"
   ]
  },
  {
   "cell_type": "markdown",
   "id": "dated-nightlife",
   "metadata": {},
   "source": [
    "<li><b>No difference</b></li>\n",
    "<li>'cat' in spam means 'cat' key will be checked in spam.keys() by default</li>\n",
    "<li>Whereas 'cat' in spam.keys() is just that we are explicitly mentioning it.Eg - print(\"\") and print(\"\",end=\"\\n\")</li>"
   ]
  },
  {
   "cell_type": "code",
   "execution_count": null,
   "id": "internal-candidate",
   "metadata": {},
   "outputs": [],
   "source": []
  },
  {
   "cell_type": "markdown",
   "id": "supreme-ranking",
   "metadata": {},
   "source": [
    "## 6. If a dictionary is stored in spam, what is the difference between the expressions 'cat' in spam and 'cat' in spam.values()?\n"
   ]
  },
  {
   "cell_type": "markdown",
   "id": "fluid-progressive",
   "metadata": {},
   "source": [
    "# Soln"
   ]
  },
  {
   "cell_type": "markdown",
   "id": "sixth-globe",
   "metadata": {},
   "source": [
    "<li><b>Here there  lies a difference</b></li>\n",
    "<li>For 'cat' in spam  we check whether 'cat' is present spam.keys()</li>\n",
    "<li>Wheres 'cat' in spam.values() is self explanatory demonstrating the high level ness of the python language</li>"
   ]
  },
  {
   "cell_type": "code",
   "execution_count": null,
   "id": "northern-trailer",
   "metadata": {},
   "outputs": [],
   "source": []
  },
  {
   "cell_type": "markdown",
   "id": "divided-capitol",
   "metadata": {},
   "source": [
    "## 7. What is a shortcut for the following code?\n",
    "\n",
    "#### if 'color' not in spam:\n",
    "      spam['color'] = 'black'\n"
   ]
  },
  {
   "cell_type": "markdown",
   "id": "impressive-maldives",
   "metadata": {},
   "source": [
    "# Soln"
   ]
  },
  {
   "cell_type": "code",
   "execution_count": 7,
   "id": "equipped-idaho",
   "metadata": {},
   "outputs": [
    {
     "name": "stdout",
     "output_type": "stream",
     "text": [
      "{'color': 'black'}\n"
     ]
    }
   ],
   "source": [
    "spam = {}\n",
    "spam.setdefault('color','black')\n",
    "print(spam)"
   ]
  },
  {
   "cell_type": "code",
   "execution_count": null,
   "id": "sudden-illustration",
   "metadata": {},
   "outputs": [],
   "source": []
  },
  {
   "cell_type": "markdown",
   "id": "thermal-climb",
   "metadata": {},
   "source": [
    "## 8. How do you \"pretty print\" dictionary values using which module and function?\n"
   ]
  },
  {
   "cell_type": "markdown",
   "id": "round-fishing",
   "metadata": {},
   "source": [
    "# Soln"
   ]
  },
  {
   "cell_type": "code",
   "execution_count": 8,
   "id": "configured-driving",
   "metadata": {},
   "outputs": [],
   "source": [
    "from pprint import pprint\n",
    "data = {\n",
    "    \"glossary\": {\n",
    "        \"title\": \"example glossary\",\n",
    "\t\t\"GlossDiv\": {\n",
    "            \"title\": \"S\",\n",
    "\t\t\t\"GlossList\": {\n",
    "                \"GlossEntry\": {\n",
    "                    \"ID\": \"SGML\",\n",
    "\t\t\t\t\t\"SortAs\": \"SGML\",\n",
    "\t\t\t\t\t\"GlossTerm\": \"Standard Generalized Markup Language\",\n",
    "\t\t\t\t\t\"Acronym\": \"SGML\",\n",
    "\t\t\t\t\t\"Abbrev\": \"ISO 8879:1986\",\n",
    "\t\t\t\t\t\"GlossDef\": {\n",
    "                        \"para\": \"A meta-markup language, used to create markup languages such as DocBook.\",\n",
    "\t\t\t\t\t\t\"GlossSeeAlso\": [\"GML\", \"XML\"]\n",
    "                    },\n",
    "\t\t\t\t\t\"GlossSee\": \"markup\"\n",
    "                }\n",
    "            }\n",
    "        }\n",
    "    }\n",
    "}"
   ]
  },
  {
   "cell_type": "code",
   "execution_count": 10,
   "id": "14596c82",
   "metadata": {},
   "outputs": [
    {
     "name": "stdout",
     "output_type": "stream",
     "text": [
      "{'glossary': {'title': 'example glossary', 'GlossDiv': {'title': 'S', 'GlossList': {'GlossEntry': {'ID': 'SGML', 'SortAs': 'SGML', 'GlossTerm': 'Standard Generalized Markup Language', 'Acronym': 'SGML', 'Abbrev': 'ISO 8879:1986', 'GlossDef': {'para': 'A meta-markup language, used to create markup languages such as DocBook.', 'GlossSeeAlso': ['GML', 'XML']}, 'GlossSee': 'markup'}}}}}\n"
     ]
    }
   ],
   "source": [
    "#without using pprint\n",
    "print(data)"
   ]
  },
  {
   "cell_type": "code",
   "execution_count": 11,
   "id": "e92c8847",
   "metadata": {},
   "outputs": [
    {
     "name": "stdout",
     "output_type": "stream",
     "text": [
      "{'glossary': {'GlossDiv': {'GlossList': {'GlossEntry': {'Abbrev': 'ISO '\n",
      "                                                                  '8879:1986',\n",
      "                                                        'Acronym': 'SGML',\n",
      "                                                        'GlossDef': {'GlossSeeAlso': ['GML',\n",
      "                                                                                      'XML'],\n",
      "                                                                     'para': 'A '\n",
      "                                                                             'meta-markup '\n",
      "                                                                             'language, '\n",
      "                                                                             'used '\n",
      "                                                                             'to '\n",
      "                                                                             'create '\n",
      "                                                                             'markup '\n",
      "                                                                             'languages '\n",
      "                                                                             'such '\n",
      "                                                                             'as '\n",
      "                                                                             'DocBook.'},\n",
      "                                                        'GlossSee': 'markup',\n",
      "                                                        'GlossTerm': 'Standard '\n",
      "                                                                     'Generalized '\n",
      "                                                                     'Markup '\n",
      "                                                                     'Language',\n",
      "                                                        'ID': 'SGML',\n",
      "                                                        'SortAs': 'SGML'}},\n",
      "                           'title': 'S'},\n",
      "              'title': 'example glossary'}}\n"
     ]
    }
   ],
   "source": [
    "#with using pprint\n",
    "pprint(data)"
   ]
  },
  {
   "cell_type": "code",
   "execution_count": null,
   "id": "d28577b0",
   "metadata": {},
   "outputs": [],
   "source": []
  }
 ],
 "metadata": {
  "kernelspec": {
   "display_name": "iNeuronFSDSPythonModule",
   "language": "python",
   "name": "ineuronfsdspythonmodule"
  },
  "language_info": {
   "codemirror_mode": {
    "name": "ipython",
    "version": 3
   },
   "file_extension": ".py",
   "mimetype": "text/x-python",
   "name": "python",
   "nbconvert_exporter": "python",
   "pygments_lexer": "ipython3",
   "version": "3.6.12"
  }
 },
 "nbformat": 4,
 "nbformat_minor": 5
}
