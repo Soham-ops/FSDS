{
 "cells": [
  {
   "cell_type": "markdown",
   "id": "fc1144f5",
   "metadata": {},
   "source": [
    "# 1. What is the name of the feature responsible for generating Regex objects?\n"
   ]
  },
  {
   "cell_type": "markdown",
   "id": "79cbac9b",
   "metadata": {},
   "source": [
    "<li>re is the module through which regular object expressions can be created in python</li>"
   ]
  },
  {
   "cell_type": "code",
   "execution_count": 1,
   "id": "cf680eeb",
   "metadata": {},
   "outputs": [],
   "source": [
    "import re"
   ]
  },
  {
   "cell_type": "code",
   "execution_count": 2,
   "id": "da519783",
   "metadata": {},
   "outputs": [
    {
     "data": {
      "text/plain": [
       "<_sre.SRE_Match object; span=(4, 5), match='1'>"
      ]
     },
     "execution_count": 2,
     "metadata": {},
     "output_type": "execute_result"
    }
   ],
   "source": [
    "re.search('[0-9]','dfdf12')"
   ]
  },
  {
   "cell_type": "code",
   "execution_count": null,
   "id": "26320443",
   "metadata": {},
   "outputs": [],
   "source": []
  },
  {
   "cell_type": "markdown",
   "id": "28556e7c",
   "metadata": {},
   "source": [
    "# 2. Why do raw strings often appear in Regex objects?\n"
   ]
  },
  {
   "cell_type": "markdown",
   "id": "8e8590e3",
   "metadata": {},
   "source": [
    "<li>To specify a regex which contains a escape sequence, please observe the below example</li>"
   ]
  },
  {
   "cell_type": "code",
   "execution_count": 3,
   "id": "6b9f88bc",
   "metadata": {},
   "outputs": [
    {
     "ename": "error",
     "evalue": "bad escape (end of pattern) at position 0",
     "output_type": "error",
     "traceback": [
      "\u001b[1;31m---------------------------------------------------------------------------\u001b[0m",
      "\u001b[1;31merror\u001b[0m                                     Traceback (most recent call last)",
      "\u001b[1;32m<ipython-input-3-0c837a4d0d3b>\u001b[0m in \u001b[0;36m<module>\u001b[1;34m\u001b[0m\n\u001b[0;32m      1\u001b[0m \u001b[1;31m#Using raw string to overcome \\b special functionality\u001b[0m\u001b[1;33m\u001b[0m\u001b[1;33m\u001b[0m\u001b[1;33m\u001b[0m\u001b[0m\n\u001b[0;32m      2\u001b[0m \u001b[0ms\u001b[0m \u001b[1;33m=\u001b[0m \u001b[1;34mr'foo\\bar'\u001b[0m\u001b[1;33m\u001b[0m\u001b[1;33m\u001b[0m\u001b[0m\n\u001b[1;32m----> 3\u001b[1;33m \u001b[0mre\u001b[0m\u001b[1;33m.\u001b[0m\u001b[0msearch\u001b[0m\u001b[1;33m(\u001b[0m\u001b[1;34m'\\\\'\u001b[0m\u001b[1;33m,\u001b[0m\u001b[0ms\u001b[0m\u001b[1;33m)\u001b[0m\u001b[1;33m\u001b[0m\u001b[1;33m\u001b[0m\u001b[0m\n\u001b[0m",
      "\u001b[1;32m~\\anaconda3\\envs\\iNeuronFSDSPythonModule\\lib\\re.py\u001b[0m in \u001b[0;36msearch\u001b[1;34m(pattern, string, flags)\u001b[0m\n\u001b[0;32m    180\u001b[0m     \"\"\"Scan through string looking for a match to the pattern, returning\n\u001b[0;32m    181\u001b[0m     a match object, or None if no match was found.\"\"\"\n\u001b[1;32m--> 182\u001b[1;33m     \u001b[1;32mreturn\u001b[0m \u001b[0m_compile\u001b[0m\u001b[1;33m(\u001b[0m\u001b[0mpattern\u001b[0m\u001b[1;33m,\u001b[0m \u001b[0mflags\u001b[0m\u001b[1;33m)\u001b[0m\u001b[1;33m.\u001b[0m\u001b[0msearch\u001b[0m\u001b[1;33m(\u001b[0m\u001b[0mstring\u001b[0m\u001b[1;33m)\u001b[0m\u001b[1;33m\u001b[0m\u001b[1;33m\u001b[0m\u001b[0m\n\u001b[0m\u001b[0;32m    183\u001b[0m \u001b[1;33m\u001b[0m\u001b[0m\n\u001b[0;32m    184\u001b[0m \u001b[1;32mdef\u001b[0m \u001b[0msub\u001b[0m\u001b[1;33m(\u001b[0m\u001b[0mpattern\u001b[0m\u001b[1;33m,\u001b[0m \u001b[0mrepl\u001b[0m\u001b[1;33m,\u001b[0m \u001b[0mstring\u001b[0m\u001b[1;33m,\u001b[0m \u001b[0mcount\u001b[0m\u001b[1;33m=\u001b[0m\u001b[1;36m0\u001b[0m\u001b[1;33m,\u001b[0m \u001b[0mflags\u001b[0m\u001b[1;33m=\u001b[0m\u001b[1;36m0\u001b[0m\u001b[1;33m)\u001b[0m\u001b[1;33m:\u001b[0m\u001b[1;33m\u001b[0m\u001b[1;33m\u001b[0m\u001b[0m\n",
      "\u001b[1;32m~\\anaconda3\\envs\\iNeuronFSDSPythonModule\\lib\\re.py\u001b[0m in \u001b[0;36m_compile\u001b[1;34m(pattern, flags)\u001b[0m\n\u001b[0;32m    299\u001b[0m     \u001b[1;32mif\u001b[0m \u001b[1;32mnot\u001b[0m \u001b[0msre_compile\u001b[0m\u001b[1;33m.\u001b[0m\u001b[0misstring\u001b[0m\u001b[1;33m(\u001b[0m\u001b[0mpattern\u001b[0m\u001b[1;33m)\u001b[0m\u001b[1;33m:\u001b[0m\u001b[1;33m\u001b[0m\u001b[1;33m\u001b[0m\u001b[0m\n\u001b[0;32m    300\u001b[0m         \u001b[1;32mraise\u001b[0m \u001b[0mTypeError\u001b[0m\u001b[1;33m(\u001b[0m\u001b[1;34m\"first argument must be string or compiled pattern\"\u001b[0m\u001b[1;33m)\u001b[0m\u001b[1;33m\u001b[0m\u001b[1;33m\u001b[0m\u001b[0m\n\u001b[1;32m--> 301\u001b[1;33m     \u001b[0mp\u001b[0m \u001b[1;33m=\u001b[0m \u001b[0msre_compile\u001b[0m\u001b[1;33m.\u001b[0m\u001b[0mcompile\u001b[0m\u001b[1;33m(\u001b[0m\u001b[0mpattern\u001b[0m\u001b[1;33m,\u001b[0m \u001b[0mflags\u001b[0m\u001b[1;33m)\u001b[0m\u001b[1;33m\u001b[0m\u001b[1;33m\u001b[0m\u001b[0m\n\u001b[0m\u001b[0;32m    302\u001b[0m     \u001b[1;32mif\u001b[0m \u001b[1;32mnot\u001b[0m \u001b[1;33m(\u001b[0m\u001b[0mflags\u001b[0m \u001b[1;33m&\u001b[0m \u001b[0mDEBUG\u001b[0m\u001b[1;33m)\u001b[0m\u001b[1;33m:\u001b[0m\u001b[1;33m\u001b[0m\u001b[1;33m\u001b[0m\u001b[0m\n\u001b[0;32m    303\u001b[0m         \u001b[1;32mif\u001b[0m \u001b[0mlen\u001b[0m\u001b[1;33m(\u001b[0m\u001b[0m_cache\u001b[0m\u001b[1;33m)\u001b[0m \u001b[1;33m>=\u001b[0m \u001b[0m_MAXCACHE\u001b[0m\u001b[1;33m:\u001b[0m\u001b[1;33m\u001b[0m\u001b[1;33m\u001b[0m\u001b[0m\n",
      "\u001b[1;32m~\\anaconda3\\envs\\iNeuronFSDSPythonModule\\lib\\sre_compile.py\u001b[0m in \u001b[0;36mcompile\u001b[1;34m(p, flags)\u001b[0m\n\u001b[0;32m    560\u001b[0m     \u001b[1;32mif\u001b[0m \u001b[0misstring\u001b[0m\u001b[1;33m(\u001b[0m\u001b[0mp\u001b[0m\u001b[1;33m)\u001b[0m\u001b[1;33m:\u001b[0m\u001b[1;33m\u001b[0m\u001b[1;33m\u001b[0m\u001b[0m\n\u001b[0;32m    561\u001b[0m         \u001b[0mpattern\u001b[0m \u001b[1;33m=\u001b[0m \u001b[0mp\u001b[0m\u001b[1;33m\u001b[0m\u001b[1;33m\u001b[0m\u001b[0m\n\u001b[1;32m--> 562\u001b[1;33m         \u001b[0mp\u001b[0m \u001b[1;33m=\u001b[0m \u001b[0msre_parse\u001b[0m\u001b[1;33m.\u001b[0m\u001b[0mparse\u001b[0m\u001b[1;33m(\u001b[0m\u001b[0mp\u001b[0m\u001b[1;33m,\u001b[0m \u001b[0mflags\u001b[0m\u001b[1;33m)\u001b[0m\u001b[1;33m\u001b[0m\u001b[1;33m\u001b[0m\u001b[0m\n\u001b[0m\u001b[0;32m    563\u001b[0m     \u001b[1;32melse\u001b[0m\u001b[1;33m:\u001b[0m\u001b[1;33m\u001b[0m\u001b[1;33m\u001b[0m\u001b[0m\n\u001b[0;32m    564\u001b[0m         \u001b[0mpattern\u001b[0m \u001b[1;33m=\u001b[0m \u001b[1;32mNone\u001b[0m\u001b[1;33m\u001b[0m\u001b[1;33m\u001b[0m\u001b[0m\n",
      "\u001b[1;32m~\\anaconda3\\envs\\iNeuronFSDSPythonModule\\lib\\sre_parse.py\u001b[0m in \u001b[0;36mparse\u001b[1;34m(str, flags, pattern)\u001b[0m\n\u001b[0;32m    845\u001b[0m     \u001b[1;31m# parse 're' pattern into list of (opcode, argument) tuples\u001b[0m\u001b[1;33m\u001b[0m\u001b[1;33m\u001b[0m\u001b[1;33m\u001b[0m\u001b[0m\n\u001b[0;32m    846\u001b[0m \u001b[1;33m\u001b[0m\u001b[0m\n\u001b[1;32m--> 847\u001b[1;33m     \u001b[0msource\u001b[0m \u001b[1;33m=\u001b[0m \u001b[0mTokenizer\u001b[0m\u001b[1;33m(\u001b[0m\u001b[0mstr\u001b[0m\u001b[1;33m)\u001b[0m\u001b[1;33m\u001b[0m\u001b[1;33m\u001b[0m\u001b[0m\n\u001b[0m\u001b[0;32m    848\u001b[0m \u001b[1;33m\u001b[0m\u001b[0m\n\u001b[0;32m    849\u001b[0m     \u001b[1;32mif\u001b[0m \u001b[0mpattern\u001b[0m \u001b[1;32mis\u001b[0m \u001b[1;32mNone\u001b[0m\u001b[1;33m:\u001b[0m\u001b[1;33m\u001b[0m\u001b[1;33m\u001b[0m\u001b[0m\n",
      "\u001b[1;32m~\\anaconda3\\envs\\iNeuronFSDSPythonModule\\lib\\sre_parse.py\u001b[0m in \u001b[0;36m__init__\u001b[1;34m(self, string)\u001b[0m\n\u001b[0;32m    229\u001b[0m         \u001b[0mself\u001b[0m\u001b[1;33m.\u001b[0m\u001b[0mindex\u001b[0m \u001b[1;33m=\u001b[0m \u001b[1;36m0\u001b[0m\u001b[1;33m\u001b[0m\u001b[1;33m\u001b[0m\u001b[0m\n\u001b[0;32m    230\u001b[0m         \u001b[0mself\u001b[0m\u001b[1;33m.\u001b[0m\u001b[0mnext\u001b[0m \u001b[1;33m=\u001b[0m \u001b[1;32mNone\u001b[0m\u001b[1;33m\u001b[0m\u001b[1;33m\u001b[0m\u001b[0m\n\u001b[1;32m--> 231\u001b[1;33m         \u001b[0mself\u001b[0m\u001b[1;33m.\u001b[0m\u001b[0m__next\u001b[0m\u001b[1;33m(\u001b[0m\u001b[1;33m)\u001b[0m\u001b[1;33m\u001b[0m\u001b[1;33m\u001b[0m\u001b[0m\n\u001b[0m\u001b[0;32m    232\u001b[0m     \u001b[1;32mdef\u001b[0m \u001b[0m__next\u001b[0m\u001b[1;33m(\u001b[0m\u001b[0mself\u001b[0m\u001b[1;33m)\u001b[0m\u001b[1;33m:\u001b[0m\u001b[1;33m\u001b[0m\u001b[1;33m\u001b[0m\u001b[0m\n\u001b[0;32m    233\u001b[0m         \u001b[0mindex\u001b[0m \u001b[1;33m=\u001b[0m \u001b[0mself\u001b[0m\u001b[1;33m.\u001b[0m\u001b[0mindex\u001b[0m\u001b[1;33m\u001b[0m\u001b[1;33m\u001b[0m\u001b[0m\n",
      "\u001b[1;32m~\\anaconda3\\envs\\iNeuronFSDSPythonModule\\lib\\sre_parse.py\u001b[0m in \u001b[0;36m__next\u001b[1;34m(self)\u001b[0m\n\u001b[0;32m    243\u001b[0m             \u001b[1;32mexcept\u001b[0m \u001b[0mIndexError\u001b[0m\u001b[1;33m:\u001b[0m\u001b[1;33m\u001b[0m\u001b[1;33m\u001b[0m\u001b[0m\n\u001b[0;32m    244\u001b[0m                 raise error(\"bad escape (end of pattern)\",\n\u001b[1;32m--> 245\u001b[1;33m                             self.string, len(self.string) - 1) from None\n\u001b[0m\u001b[0;32m    246\u001b[0m         \u001b[0mself\u001b[0m\u001b[1;33m.\u001b[0m\u001b[0mindex\u001b[0m \u001b[1;33m=\u001b[0m \u001b[0mindex\u001b[0m \u001b[1;33m+\u001b[0m \u001b[1;36m1\u001b[0m\u001b[1;33m\u001b[0m\u001b[1;33m\u001b[0m\u001b[0m\n\u001b[0;32m    247\u001b[0m         \u001b[0mself\u001b[0m\u001b[1;33m.\u001b[0m\u001b[0mnext\u001b[0m \u001b[1;33m=\u001b[0m \u001b[0mchar\u001b[0m\u001b[1;33m\u001b[0m\u001b[1;33m\u001b[0m\u001b[0m\n",
      "\u001b[1;31merror\u001b[0m: bad escape (end of pattern) at position 0"
     ]
    }
   ],
   "source": [
    "#Using raw string to overcome \\b special functionality \n",
    "s = r'foo\\bar'\n",
    "re.search('\\\\',s)"
   ]
  },
  {
   "cell_type": "markdown",
   "id": "f5d64add",
   "metadata": {},
   "source": [
    "<li>it happens because the first backslash is consumed once the python parser </li>\n",
    "<li>Thus post python parsing this is what the statement looks like re.search('\\',s), which is not meaningful</li>\n",
    "<li>Thus to avoid to if we pass raw string as such the problem will get resolved </li>"
   ]
  },
  {
   "cell_type": "code",
   "execution_count": 4,
   "id": "7b8f9ffc",
   "metadata": {},
   "outputs": [
    {
     "data": {
      "text/plain": [
       "<_sre.SRE_Match object; span=(3, 4), match='\\\\'>"
      ]
     },
     "execution_count": 4,
     "metadata": {},
     "output_type": "execute_result"
    }
   ],
   "source": [
    "re.search(r'\\\\',s)"
   ]
  },
  {
   "cell_type": "code",
   "execution_count": null,
   "id": "811f469e",
   "metadata": {},
   "outputs": [],
   "source": []
  },
  {
   "cell_type": "markdown",
   "id": "e6fa47a7",
   "metadata": {},
   "source": [
    "# 3. What is the return value of the search() method?\n"
   ]
  },
  {
   "cell_type": "markdown",
   "id": "0bd883a0",
   "metadata": {},
   "source": [
    "<li>It returns a boolean value </li>"
   ]
  },
  {
   "cell_type": "code",
   "execution_count": 5,
   "id": "735e3eb0",
   "metadata": {},
   "outputs": [
    {
     "name": "stdout",
     "output_type": "stream",
     "text": [
      "found match\n"
     ]
    }
   ],
   "source": [
    "s= 'foo123'\n",
    "if re.search('123',s):\n",
    "    print('found match')\n",
    "else:\n",
    "    print('no')"
   ]
  },
  {
   "cell_type": "code",
   "execution_count": null,
   "id": "57f76507",
   "metadata": {},
   "outputs": [],
   "source": []
  },
  {
   "cell_type": "markdown",
   "id": "6246ff93",
   "metadata": {},
   "source": [
    "# 4. From a Match item, how do you get the actual strings that match the pattern?\n"
   ]
  },
  {
   "cell_type": "code",
   "execution_count": 6,
   "id": "5a706976",
   "metadata": {},
   "outputs": [
    {
     "data": {
      "text/plain": [
       "<_sre.SRE_Match object; span=(6, 9), match='123'>"
      ]
     },
     "execution_count": 6,
     "metadata": {},
     "output_type": "execute_result"
    }
   ],
   "source": [
    "re.search('[0-9][0-9][0-9]','foobar123')"
   ]
  },
  {
   "cell_type": "code",
   "execution_count": 7,
   "id": "6ae313ae",
   "metadata": {},
   "outputs": [
    {
     "data": {
      "text/plain": [
       "'123'"
      ]
     },
     "execution_count": 7,
     "metadata": {},
     "output_type": "execute_result"
    }
   ],
   "source": [
    "re.search('[0-9][0-9][0-9]','foobar123')[0]"
   ]
  },
  {
   "cell_type": "code",
   "execution_count": null,
   "id": "d9719472",
   "metadata": {},
   "outputs": [],
   "source": []
  },
  {
   "cell_type": "markdown",
   "id": "5664fc77",
   "metadata": {},
   "source": [
    "# 5. In the regex which created from the r'(\\d\\d\\d)-(\\d\\d\\d-\\d\\d\\d\\d)', what does group zero cover? Group 2? Group 1?\n"
   ]
  },
  {
   "cell_type": "code",
   "execution_count": 8,
   "id": "9c4bb83a",
   "metadata": {},
   "outputs": [
    {
     "data": {
      "text/plain": [
       "'313-123-1234'"
      ]
     },
     "execution_count": 8,
     "metadata": {},
     "output_type": "execute_result"
    }
   ],
   "source": [
    "re.search(r'(\\d\\d\\d)-(\\d\\d\\d-\\d\\d\\d\\d)','313-123-1234').group(0)"
   ]
  },
  {
   "cell_type": "code",
   "execution_count": 9,
   "id": "3b52fb9f",
   "metadata": {},
   "outputs": [
    {
     "data": {
      "text/plain": [
       "'313'"
      ]
     },
     "execution_count": 9,
     "metadata": {},
     "output_type": "execute_result"
    }
   ],
   "source": [
    "re.search(r'(\\d\\d\\d)-(\\d\\d\\d-\\d\\d\\d\\d)','313-123-1234').group(1)"
   ]
  },
  {
   "cell_type": "code",
   "execution_count": 10,
   "id": "e5bcdeb9",
   "metadata": {},
   "outputs": [
    {
     "data": {
      "text/plain": [
       "'123-1234'"
      ]
     },
     "execution_count": 10,
     "metadata": {},
     "output_type": "execute_result"
    }
   ],
   "source": [
    "re.search(r'(\\d\\d\\d)-(\\d\\d\\d-\\d\\d\\d\\d)','313-123-1234').group(2)"
   ]
  },
  {
   "cell_type": "code",
   "execution_count": null,
   "id": "9f4ecf40",
   "metadata": {},
   "outputs": [],
   "source": []
  },
  {
   "cell_type": "markdown",
   "id": "b1ec4b44",
   "metadata": {},
   "source": [
    "# 6. In standard expression syntax, parentheses and intervals have distinct meanings. How can you tell a regex that you want it to fit real parentheses and periods?\n"
   ]
  },
  {
   "cell_type": "markdown",
   "id": "bcf7eafe",
   "metadata": {},
   "source": [
    "<li>Parentheses</li>"
   ]
  },
  {
   "cell_type": "code",
   "execution_count": 11,
   "id": "39082988",
   "metadata": {},
   "outputs": [
    {
     "data": {
      "text/plain": [
       "<_sre.SRE_Match object; span=(2, 3), match='('>"
      ]
     },
     "execution_count": 11,
     "metadata": {},
     "output_type": "execute_result"
    }
   ],
   "source": [
    "re.search('[(){}]','99(0')"
   ]
  },
  {
   "cell_type": "code",
   "execution_count": 12,
   "id": "75e3ba45",
   "metadata": {},
   "outputs": [
    {
     "data": {
      "text/plain": [
       "<_sre.SRE_Match object; span=(2, 3), match='{'>"
      ]
     },
     "execution_count": 12,
     "metadata": {},
     "output_type": "execute_result"
    }
   ],
   "source": [
    "re.search('[(){}]','99{0')"
   ]
  },
  {
   "cell_type": "code",
   "execution_count": 13,
   "id": "04ae7063",
   "metadata": {},
   "outputs": [
    {
     "data": {
      "text/plain": [
       "<_sre.SRE_Match object; span=(2, 3), match='}'>"
      ]
     },
     "execution_count": 13,
     "metadata": {},
     "output_type": "execute_result"
    }
   ],
   "source": [
    "re.search('[(){}]','99}0')"
   ]
  },
  {
   "cell_type": "code",
   "execution_count": 14,
   "id": "ead7393d",
   "metadata": {},
   "outputs": [
    {
     "data": {
      "text/plain": [
       "<_sre.SRE_Match object; span=(1, 2), match=']'>"
      ]
     },
     "execution_count": 14,
     "metadata": {},
     "output_type": "execute_result"
    }
   ],
   "source": [
    "re.search('[\\[\\]]',\"9]90\")"
   ]
  },
  {
   "cell_type": "code",
   "execution_count": 15,
   "id": "0ace6aa8",
   "metadata": {},
   "outputs": [
    {
     "data": {
      "text/plain": [
       "<_sre.SRE_Match object; span=(1, 2), match='['>"
      ]
     },
     "execution_count": 15,
     "metadata": {},
     "output_type": "execute_result"
    }
   ],
   "source": [
    "re.search('[\\[\\]]',\"9[90\")"
   ]
  },
  {
   "cell_type": "markdown",
   "id": "e65f1a07",
   "metadata": {},
   "source": [
    "<li>Period</li>"
   ]
  },
  {
   "cell_type": "code",
   "execution_count": 16,
   "id": "265193f5",
   "metadata": {},
   "outputs": [
    {
     "data": {
      "text/plain": [
       "<_sre.SRE_Match object; span=(3, 4), match='.'>"
      ]
     },
     "execution_count": 16,
     "metadata": {},
     "output_type": "execute_result"
    }
   ],
   "source": [
    "re.search(r\"\\.\",'Soh.am')"
   ]
  },
  {
   "cell_type": "code",
   "execution_count": null,
   "id": "8b9c76b3",
   "metadata": {},
   "outputs": [],
   "source": []
  },
  {
   "cell_type": "markdown",
   "id": "cb9bf485",
   "metadata": {},
   "source": [
    "# 7. The findall() method returns a string list or a list of string tuples. What causes it to return one of the two options?\n"
   ]
  },
  {
   "cell_type": "markdown",
   "id": "b092e4e1",
   "metadata": {},
   "source": [
    "<li>It depends on the the number of capturing groups in the string pattern.</li>\n",
    "<li>If there are no groups or exactly one group then string list/list of strings would be returned</li>\n",
    "<li>If multiple groups are present then list of string tuples/ list of tuples of string would be returned</li>"
   ]
  },
  {
   "cell_type": "code",
   "execution_count": null,
   "id": "2bcd69bd",
   "metadata": {},
   "outputs": [],
   "source": []
  },
  {
   "cell_type": "markdown",
   "id": "e5efcc42",
   "metadata": {},
   "source": [
    "# 8. In standard expressions, what does the | character mean?\n"
   ]
  },
  {
   "cell_type": "markdown",
   "id": "b99b4c19",
   "metadata": {},
   "source": [
    "<li>| is used to perform bitwise OR between two numbers</li>"
   ]
  },
  {
   "cell_type": "code",
   "execution_count": 17,
   "id": "a4d621b2",
   "metadata": {},
   "outputs": [
    {
     "data": {
      "text/plain": [
       "14"
      ]
     },
     "execution_count": 17,
     "metadata": {},
     "output_type": "execute_result"
    }
   ],
   "source": [
    "#\n",
    "a=12\n",
    "b=2\n",
    "a|b"
   ]
  },
  {
   "cell_type": "code",
   "execution_count": null,
   "id": "f60f8d7c",
   "metadata": {},
   "outputs": [],
   "source": []
  },
  {
   "cell_type": "markdown",
   "id": "8e7fc873",
   "metadata": {},
   "source": [
    "# 9. In regular expressions, what does the ? character stand for?\n"
   ]
  },
  {
   "cell_type": "code",
   "execution_count": 18,
   "id": "d3bd1a5c",
   "metadata": {},
   "outputs": [
    {
     "data": {
      "text/plain": [
       "<_sre.SRE_Match object; span=(0, 6), match='abcdef'>"
      ]
     },
     "execution_count": 18,
     "metadata": {},
     "output_type": "execute_result"
    }
   ],
   "source": [
    "re.search('abc-?def','abcdef')"
   ]
  },
  {
   "cell_type": "code",
   "execution_count": 19,
   "id": "50d09e9b",
   "metadata": {},
   "outputs": [
    {
     "data": {
      "text/plain": [
       "<_sre.SRE_Match object; span=(0, 7), match='abc-def'>"
      ]
     },
     "execution_count": 19,
     "metadata": {},
     "output_type": "execute_result"
    }
   ],
   "source": [
    "re.search('abc-?def','abc-def')"
   ]
  },
  {
   "cell_type": "code",
   "execution_count": 20,
   "id": "76afc3c5",
   "metadata": {},
   "outputs": [
    {
     "name": "stdout",
     "output_type": "stream",
     "text": [
      "None\n"
     ]
    }
   ],
   "source": [
    "print(re.search('abc-?def','abc--def'))"
   ]
  },
  {
   "cell_type": "code",
   "execution_count": null,
   "id": "b2f7e00d",
   "metadata": {},
   "outputs": [],
   "source": []
  },
  {
   "cell_type": "markdown",
   "id": "dbe92602",
   "metadata": {},
   "source": [
    "# 10. In regular expressions, what is the difference between the + and * characters?\n"
   ]
  },
  {
   "cell_type": "code",
   "execution_count": 21,
   "id": "24d1c04f",
   "metadata": {},
   "outputs": [
    {
     "name": "stdout",
     "output_type": "stream",
     "text": [
      "<_sre.SRE_Match object; span=(0, 6), match='foobar'>\n",
      "<_sre.SRE_Match object; span=(0, 7), match='foo-bar'>\n",
      "<_sre.SRE_Match object; span=(0, 10), match='foo----bar'>\n"
     ]
    }
   ],
   "source": [
    "# '*' for >=0 repetition of chars\n",
    "print(re.search(r'foo-*bar','foobar'))\n",
    "print(re.search(r'foo-*bar','foo-bar'))\n",
    "print(re.search(r'foo-*bar','foo----bar'))"
   ]
  },
  {
   "cell_type": "code",
   "execution_count": 22,
   "id": "fec6c32d",
   "metadata": {},
   "outputs": [
    {
     "name": "stdout",
     "output_type": "stream",
     "text": [
      "None\n",
      "<_sre.SRE_Match object; span=(0, 7), match='foo-bar'>\n"
     ]
    }
   ],
   "source": [
    "# '+' for >0 repetition of chars\n",
    "print(re.search('foo-+bar','foobar'))\n",
    "print(re.search('foo-+bar','foo-bar'))"
   ]
  },
  {
   "cell_type": "code",
   "execution_count": null,
   "id": "96dcb345",
   "metadata": {},
   "outputs": [],
   "source": []
  },
  {
   "cell_type": "markdown",
   "id": "9a9c7148",
   "metadata": {},
   "source": [
    "# 11. What is the difference between {4} and {4,5} in regular expression?\n"
   ]
  },
  {
   "cell_type": "markdown",
   "id": "5a36e767",
   "metadata": {},
   "source": [
    "<li>{4,5}</li>"
   ]
  },
  {
   "cell_type": "code",
   "execution_count": 23,
   "id": "98d76cd1",
   "metadata": {},
   "outputs": [
    {
     "name": "stdout",
     "output_type": "stream",
     "text": [
      "None\n"
     ]
    }
   ],
   "source": [
    "print(re.search('x-{4,5}x','x-x'))"
   ]
  },
  {
   "cell_type": "code",
   "execution_count": 24,
   "id": "3fc54ca6",
   "metadata": {},
   "outputs": [
    {
     "data": {
      "text/plain": [
       "<_sre.SRE_Match object; span=(0, 6), match='x----x'>"
      ]
     },
     "execution_count": 24,
     "metadata": {},
     "output_type": "execute_result"
    }
   ],
   "source": [
    "re.search('x-{4,5}x','x----x')"
   ]
  },
  {
   "cell_type": "code",
   "execution_count": 25,
   "id": "dc92aa83",
   "metadata": {},
   "outputs": [
    {
     "data": {
      "text/plain": [
       "<_sre.SRE_Match object; span=(0, 7), match='x-----x'>"
      ]
     },
     "execution_count": 25,
     "metadata": {},
     "output_type": "execute_result"
    }
   ],
   "source": [
    "re.search('x-{4,5}x','x-----x')"
   ]
  },
  {
   "cell_type": "markdown",
   "id": "7903d97a",
   "metadata": {},
   "source": [
    "<li>{4}</li>"
   ]
  },
  {
   "cell_type": "code",
   "execution_count": 26,
   "id": "6cd3834a",
   "metadata": {},
   "outputs": [
    {
     "name": "stdout",
     "output_type": "stream",
     "text": [
      "<_sre.SRE_Match object; span=(0, 6), match='x----x'>\n"
     ]
    }
   ],
   "source": [
    "print(re.search('x-{4}x','x----x'))"
   ]
  },
  {
   "cell_type": "code",
   "execution_count": 27,
   "id": "b946406b",
   "metadata": {},
   "outputs": [
    {
     "name": "stdout",
     "output_type": "stream",
     "text": [
      "None\n"
     ]
    }
   ],
   "source": [
    "print(re.search('x-{4}x','x-----x'))"
   ]
  },
  {
   "cell_type": "code",
   "execution_count": null,
   "id": "57330aaf",
   "metadata": {},
   "outputs": [],
   "source": []
  },
  {
   "cell_type": "markdown",
   "id": "778e6ee3",
   "metadata": {},
   "source": [
    "# 12. What do you mean by the \\d, \\w, and \\s shorthand character classes signify in regular expressions?\n"
   ]
  },
  {
   "cell_type": "code",
   "execution_count": 28,
   "id": "5afcc9b6",
   "metadata": {},
   "outputs": [
    {
     "data": {
      "text/plain": [
       "<_sre.SRE_Match object; span=(3, 4), match='4'>"
      ]
     },
     "execution_count": 28,
     "metadata": {},
     "output_type": "execute_result"
    }
   ],
   "source": [
    "#search the decimal number in the string\n",
    "re.search('\\d','aaa4d')"
   ]
  },
  {
   "cell_type": "code",
   "execution_count": 29,
   "id": "b68ea8af",
   "metadata": {},
   "outputs": [
    {
     "name": "stdout",
     "output_type": "stream",
     "text": [
      "<_sre.SRE_Match object; span=(2, 3), match='9'>\n",
      "<_sre.SRE_Match object; span=(2, 3), match='9'>\n"
     ]
    }
   ],
   "source": [
    "print(re.search('\\w','..9'))\n",
    "#is equivalent to\n",
    "print(re.search('[a-zA-Z0-9_]','..9'))"
   ]
  },
  {
   "cell_type": "code",
   "execution_count": 30,
   "id": "010dd0f2",
   "metadata": {},
   "outputs": [
    {
     "name": "stdout",
     "output_type": "stream",
     "text": [
      "<_sre.SRE_Match object; span=(6, 7), match='\\n'>\n",
      "<_sre.SRE_Match object; span=(5, 6), match=' '>\n"
     ]
    }
   ],
   "source": [
    "#search for whitespace and newline\n",
    "print(re.search('\\s','asdads\\nasdasd'))\n",
    "print(re.search('\\s','asdad sada'))"
   ]
  },
  {
   "cell_type": "code",
   "execution_count": null,
   "id": "6273f385",
   "metadata": {},
   "outputs": [],
   "source": []
  },
  {
   "cell_type": "markdown",
   "id": "d66b1a0c",
   "metadata": {},
   "source": [
    "# 13. What do means by \\D, \\W, and \\S shorthand character classes signify in regular expressions?\n"
   ]
  },
  {
   "cell_type": "code",
   "execution_count": 31,
   "id": "087193ec",
   "metadata": {},
   "outputs": [
    {
     "data": {
      "text/plain": [
       "<_sre.SRE_Match object; span=(4, 5), match='d'>"
      ]
     },
     "execution_count": 31,
     "metadata": {},
     "output_type": "execute_result"
    }
   ],
   "source": [
    "# equivalent to search for ^\\d\n",
    "re.search('\\D','1233d4')"
   ]
  },
  {
   "cell_type": "code",
   "execution_count": 32,
   "id": "1e02c1d7",
   "metadata": {},
   "outputs": [
    {
     "data": {
      "text/plain": [
       "<_sre.SRE_Match object; span=(0, 1), match='#'>"
      ]
     },
     "execution_count": 32,
     "metadata": {},
     "output_type": "execute_result"
    }
   ],
   "source": [
    "#equivalent to search for ^\\w\n",
    "re.search('\\W','#(.a$@&')"
   ]
  },
  {
   "cell_type": "code",
   "execution_count": 33,
   "id": "603426f7",
   "metadata": {},
   "outputs": [
    {
     "data": {
      "text/plain": [
       "<_sre.SRE_Match object; span=(5, 6), match='f'>"
      ]
     },
     "execution_count": 33,
     "metadata": {},
     "output_type": "execute_result"
    }
   ],
   "source": [
    "#equivalent to search for ^\\s\n",
    "re.search('\\S',' \\n \\n f \\n ')"
   ]
  },
  {
   "cell_type": "code",
   "execution_count": null,
   "id": "9ed6f5b7",
   "metadata": {},
   "outputs": [],
   "source": []
  },
  {
   "cell_type": "markdown",
   "id": "090a14fd",
   "metadata": {},
   "source": [
    "# 14. What is the difference between .*? and .*??\n"
   ]
  },
  {
   "cell_type": "code",
   "execution_count": 34,
   "id": "0dec9dc4",
   "metadata": {},
   "outputs": [
    {
     "data": {
      "text/plain": [
       "<_sre.SRE_Match object; span=(0, 2), match='ba'>"
      ]
     },
     "execution_count": 34,
     "metadata": {},
     "output_type": "execute_result"
    }
   ],
   "source": [
    "#greedy version  matches one occurence\n",
    "re.search('ba?','baaaa')"
   ]
  },
  {
   "cell_type": "code",
   "execution_count": 35,
   "id": "3575319e",
   "metadata": {},
   "outputs": [
    {
     "data": {
      "text/plain": [
       "<_sre.SRE_Match object; span=(0, 1), match='d'>"
      ]
     },
     "execution_count": 35,
     "metadata": {},
     "output_type": "execute_result"
    }
   ],
   "source": [
    "#non greedy version matches zero occurence\n",
    "re.search('db??','dbbbb')"
   ]
  },
  {
   "cell_type": "code",
   "execution_count": null,
   "id": "4259255f",
   "metadata": {},
   "outputs": [],
   "source": []
  },
  {
   "cell_type": "markdown",
   "id": "62c62b2d",
   "metadata": {},
   "source": [
    "# 15. What is the syntax for matching both numbers and lowercase letters with a character class?\n"
   ]
  },
  {
   "cell_type": "code",
   "execution_count": 36,
   "id": "8832bab8",
   "metadata": {},
   "outputs": [
    {
     "data": {
      "text/plain": [
       "<_sre.SRE_Match object; span=(1, 2), match='c'>"
      ]
     },
     "execution_count": 36,
     "metadata": {},
     "output_type": "execute_result"
    }
   ],
   "source": [
    "re.search('[0-9a-z]','#cc0')"
   ]
  },
  {
   "cell_type": "code",
   "execution_count": 37,
   "id": "06faaa5a",
   "metadata": {},
   "outputs": [
    {
     "data": {
      "text/plain": [
       "<_sre.SRE_Match object; span=(1, 2), match='c'>"
      ]
     },
     "execution_count": 37,
     "metadata": {},
     "output_type": "execute_result"
    }
   ],
   "source": [
    "re.search('[0-9a-z]','#cd')"
   ]
  },
  {
   "cell_type": "code",
   "execution_count": null,
   "id": "2af225a2",
   "metadata": {},
   "outputs": [],
   "source": []
  },
  {
   "cell_type": "markdown",
   "id": "1ab2259e",
   "metadata": {},
   "source": [
    "# 16. What is the procedure for making a normal expression in regax case insensitive?\n",
    "\n",
    "\n"
   ]
  },
  {
   "cell_type": "code",
   "execution_count": 38,
   "id": "2870ade1",
   "metadata": {},
   "outputs": [
    {
     "data": {
      "text/plain": [
       "<_sre.SRE_Match object; span=(0, 4), match='ccCC'>"
      ]
     },
     "execution_count": 38,
     "metadata": {},
     "output_type": "execute_result"
    }
   ],
   "source": [
    "re.search('c+','ccCC',re.I)"
   ]
  },
  {
   "cell_type": "code",
   "execution_count": null,
   "id": "f240dd5a",
   "metadata": {},
   "outputs": [],
   "source": []
  },
  {
   "cell_type": "markdown",
   "id": "8e029002",
   "metadata": {},
   "source": [
    "# 17. What does the . character normally match? What does it match if re.DOTALL is passed as 2nd argument in re.compile()?\n"
   ]
  },
  {
   "cell_type": "markdown",
   "id": "724b4f54",
   "metadata": {},
   "source": [
    "# Soln - a"
   ]
  },
  {
   "cell_type": "markdown",
   "id": "10621ce8",
   "metadata": {},
   "source": [
    "<li>matches any single character except newline</li>"
   ]
  },
  {
   "cell_type": "code",
   "execution_count": 39,
   "id": "f2c046ac",
   "metadata": {},
   "outputs": [
    {
     "data": {
      "text/plain": [
       "<_sre.SRE_Match object; span=(0, 7), match='fooabar'>"
      ]
     },
     "execution_count": 39,
     "metadata": {},
     "output_type": "execute_result"
    }
   ],
   "source": [
    "re.search(r'foo.bar','fooabar')"
   ]
  },
  {
   "cell_type": "code",
   "execution_count": 40,
   "id": "88f95f54",
   "metadata": {},
   "outputs": [
    {
     "data": {
      "text/plain": [
       "<_sre.SRE_Match object; span=(0, 7), match='fooxbar'>"
      ]
     },
     "execution_count": 40,
     "metadata": {},
     "output_type": "execute_result"
    }
   ],
   "source": [
    "re.search(r'foo.bar','fooxbar')"
   ]
  },
  {
   "cell_type": "code",
   "execution_count": 41,
   "id": "db46bfd5",
   "metadata": {},
   "outputs": [],
   "source": [
    "re.search(r'foo.bar','foo\\nbar')"
   ]
  },
  {
   "cell_type": "markdown",
   "id": "5af8428b",
   "metadata": {},
   "source": [
    "# Soln-b"
   ]
  },
  {
   "cell_type": "code",
   "execution_count": 42,
   "id": "0a2387b7",
   "metadata": {},
   "outputs": [
    {
     "data": {
      "text/plain": [
       "<_sre.SRE_Match object; span=(0, 7), match='foo\\nbar'>"
      ]
     },
     "execution_count": 42,
     "metadata": {},
     "output_type": "execute_result"
    }
   ],
   "source": [
    "# '.' metacharacter not understanding \\n is overcome with this\n",
    "re_obj = re.compile('foo.bar',flags=re.DOTALL)\n",
    "re.search(re_obj,'foo\\nbar')"
   ]
  },
  {
   "cell_type": "code",
   "execution_count": null,
   "id": "86d1f2b7",
   "metadata": {},
   "outputs": [],
   "source": []
  },
  {
   "cell_type": "markdown",
   "id": "621cb412",
   "metadata": {},
   "source": [
    "# 18. If numRegex = re.compile(r'\\d+'), what will numRegex.sub('X', '11 drummers, 10 pipers, five rings, 4 hen') return?\n"
   ]
  },
  {
   "cell_type": "code",
   "execution_count": 43,
   "id": "d27e10d0",
   "metadata": {},
   "outputs": [
    {
     "data": {
      "text/plain": [
       "'X drummers, X pipers, five rings, X hen'"
      ]
     },
     "execution_count": 43,
     "metadata": {},
     "output_type": "execute_result"
    }
   ],
   "source": [
    "numRegex = re.compile(r'\\d+')\n",
    "#substitures r'\\d+' in string with character 'X'\n",
    "numRegex.sub('X', '11 drummers, 10 pipers, five rings, 4 hen')"
   ]
  },
  {
   "cell_type": "code",
   "execution_count": null,
   "id": "ee516802",
   "metadata": {},
   "outputs": [],
   "source": []
  },
  {
   "cell_type": "markdown",
   "id": "30254fd6",
   "metadata": {},
   "source": [
    "# 19. What does passing re.VERBOSE as the 2nd argument to re.compile() allow to do?\n"
   ]
  },
  {
   "cell_type": "code",
   "execution_count": 44,
   "id": "203d1124",
   "metadata": {},
   "outputs": [],
   "source": [
    "regex = r'''               # Start of string\n",
    "            (\\d{3})?       # Optional area code\n",
    "            -              # Optional whitespace\n",
    "            (\\d){3}          # Three-digit prefix\n",
    "            -              # Separator character\n",
    "            (\\d){4}          # Four-digit line number\n",
    "            \n",
    "            '''"
   ]
  },
  {
   "cell_type": "code",
   "execution_count": 45,
   "id": "940ca323",
   "metadata": {},
   "outputs": [
    {
     "name": "stdout",
     "output_type": "stream",
     "text": [
      "None\n"
     ]
    }
   ],
   "source": [
    "print(re.search(regex,'123-423-1234'))"
   ]
  },
  {
   "cell_type": "code",
   "execution_count": 46,
   "id": "01f84024",
   "metadata": {},
   "outputs": [
    {
     "data": {
      "text/plain": [
       "<_sre.SRE_Match object; span=(0, 12), match='123-423-1234'>"
      ]
     },
     "execution_count": 46,
     "metadata": {},
     "output_type": "execute_result"
    }
   ],
   "source": [
    "#allows whitespace and comments to be written within the regex\n",
    "re.search(regex,'123-423-1234',re.VERBOSE)"
   ]
  },
  {
   "cell_type": "code",
   "execution_count": null,
   "id": "527b7240",
   "metadata": {},
   "outputs": [],
   "source": []
  },
  {
   "cell_type": "markdown",
   "id": "c83921c1",
   "metadata": {},
   "source": [
    "# 20. How would you write a regex that match a number with comma for every three digits? \n",
    "\n",
    "<ul>It must match the given following:\n",
    "<li>'42'</li>\n",
    "<li>'1,234'</li>\n",
    "<li>'6,368,745'</li>\n",
    "</ul>\n",
    "<ul>but not the following:\n",
    "    <li>'12,34,567' (which has only two digits between the commas)</li>\n",
    "    <li>'1234' (which lacks commas)</li>\n",
    "<ul>"
   ]
  },
  {
   "cell_type": "code",
   "execution_count": 58,
   "id": "94c78f27",
   "metadata": {},
   "outputs": [
    {
     "data": {
      "text/plain": [
       "<_sre.SRE_Match object; span=(0, 2), match='42'>"
      ]
     },
     "execution_count": 58,
     "metadata": {},
     "output_type": "execute_result"
    }
   ],
   "source": [
    "re.search(r'^(\\d){1,3}(,(\\d){3})*$','42')"
   ]
  },
  {
   "cell_type": "code",
   "execution_count": 59,
   "id": "d148bcc7",
   "metadata": {},
   "outputs": [
    {
     "data": {
      "text/plain": [
       "<_sre.SRE_Match object; span=(0, 5), match='1,234'>"
      ]
     },
     "execution_count": 59,
     "metadata": {},
     "output_type": "execute_result"
    }
   ],
   "source": [
    "re.search(r'^(\\d){1,3}(,(\\d){3})*$','1,234')"
   ]
  },
  {
   "cell_type": "code",
   "execution_count": 60,
   "id": "4df17447",
   "metadata": {},
   "outputs": [
    {
     "data": {
      "text/plain": [
       "<_sre.SRE_Match object; span=(0, 9), match='6,368,745'>"
      ]
     },
     "execution_count": 60,
     "metadata": {},
     "output_type": "execute_result"
    }
   ],
   "source": [
    "re.search(r'^(\\d){1,3}(,(\\d){3})*$','6,368,745')"
   ]
  },
  {
   "cell_type": "code",
   "execution_count": 61,
   "id": "f80981da",
   "metadata": {},
   "outputs": [],
   "source": [
    "re.search(r'^(\\d){1,3}(,(\\d){3})*$','12,34,567')"
   ]
  },
  {
   "cell_type": "code",
   "execution_count": 62,
   "id": "3ae99a16",
   "metadata": {},
   "outputs": [],
   "source": [
    "re.search(r'^(\\d){1,3}(,(\\d){3})*$','1234')"
   ]
  },
  {
   "cell_type": "markdown",
   "id": "1fa6d05a",
   "metadata": {},
   "source": [
    "# 21. How would you write a regex that matches the full name of someone whose last name is Watanabe? You can assume that the first name that comes before it will always be one word that begins with a capital letter. \n",
    "<ul>The regex must match the following:\n",
    "    <li>'Haruto Watanabe'</li>\n",
    "<li>'Alice Watanabe'</li>\n",
    "    <li>'RoboCop Watanabe'</li>\n",
    "</ul>\n",
    "<ul>but not the following:\n",
    "    <li>'haruto Watanabe' (where the first name is not capitalized)</li>\n",
    "<li>'Mr. Watanabe' (where the preceding word has a nonletter character)</li>\n",
    "<li>'Watanabe' (which has no first name)</li>\n",
    "<li>'Haruto watanabe' (where Watanabe is not capitalized)</li>\n",
    "</ul>"
   ]
  },
  {
   "cell_type": "code",
   "execution_count": 95,
   "id": "8b88735d",
   "metadata": {},
   "outputs": [
    {
     "data": {
      "text/plain": [
       "<_sre.SRE_Match object; span=(0, 15), match='Haruto Watanabe'>"
      ]
     },
     "execution_count": 95,
     "metadata": {},
     "output_type": "execute_result"
    }
   ],
   "source": [
    "re.search(r'[A-Z]\\w+ Watanabe','Haruto Watanabe')"
   ]
  },
  {
   "cell_type": "code",
   "execution_count": 96,
   "id": "efd486f6",
   "metadata": {},
   "outputs": [
    {
     "data": {
      "text/plain": [
       "<_sre.SRE_Match object; span=(0, 14), match='Alice Watanabe'>"
      ]
     },
     "execution_count": 96,
     "metadata": {},
     "output_type": "execute_result"
    }
   ],
   "source": [
    "re.search(r'[A-Z]\\w+ Watanabe','Alice Watanabe')"
   ]
  },
  {
   "cell_type": "code",
   "execution_count": 97,
   "id": "56a97faa",
   "metadata": {},
   "outputs": [
    {
     "data": {
      "text/plain": [
       "<_sre.SRE_Match object; span=(0, 16), match='RoboCop Watanabe'>"
      ]
     },
     "execution_count": 97,
     "metadata": {},
     "output_type": "execute_result"
    }
   ],
   "source": [
    "re.search(r'[A-Z]\\w+ Watanabe','RoboCop Watanabe')"
   ]
  },
  {
   "cell_type": "code",
   "execution_count": 101,
   "id": "c3ca9b2f",
   "metadata": {},
   "outputs": [],
   "source": [
    "re.search(r'[A-Z]\\w+ Watanabe','haruto Watanabe')"
   ]
  },
  {
   "cell_type": "code",
   "execution_count": 102,
   "id": "e4b46441",
   "metadata": {},
   "outputs": [],
   "source": [
    "re.search(r'[A-Z]\\w+ Watanabe','Mr. Watanabe')"
   ]
  },
  {
   "cell_type": "code",
   "execution_count": 103,
   "id": "1325e10d",
   "metadata": {},
   "outputs": [],
   "source": [
    "re.search(r'[A-Z]\\w+ Watanabe','Watanabe')"
   ]
  },
  {
   "cell_type": "code",
   "execution_count": 104,
   "id": "0a831eed",
   "metadata": {},
   "outputs": [],
   "source": [
    "re.search(r'[A-Z]\\w+ Watanabe','Haruto watanabe')"
   ]
  },
  {
   "cell_type": "markdown",
   "id": "64d372f6",
   "metadata": {},
   "source": [
    "# 22. How would you write a regex that matches a sentence where the first word is either Alice, Bob, or Carol; the second word is either eats, pets, or throws; the third word is apples, cats, or baseballs; and the sentence ends with a period? This regex should be case-insensitive. \n",
    "<ul>It must match the following:\n",
    "<li>'Alice eats apples.'</li>\n",
    "<li>'Bob pets cats.'</li>\n",
    "<li>'Carol throws baseballs.'</li>\n",
    "<li>'Alice throws Apples.'</li>\n",
    "<li>'BOB EATS CATS.'</li>\n",
    "</ul>\n",
    "<ul>but not the following:\n",
    "    <li>'RoboCop eats apples.'</li>\n",
    "<li>'ALICE THROWS FOOTBALLS.'</li>\n",
    "    <li>'Carol eats 7 cats.'</li>\n",
    "</ul>"
   ]
  },
  {
   "cell_type": "code",
   "execution_count": 112,
   "id": "910aaa01",
   "metadata": {},
   "outputs": [
    {
     "data": {
      "text/plain": [
       "<_sre.SRE_Match object; span=(0, 18), match='Alice eats apples.'>"
      ]
     },
     "execution_count": 112,
     "metadata": {},
     "output_type": "execute_result"
    }
   ],
   "source": [
    "re.search(r'(Alice|Bob|Carol)\\s(eats|pets|throws)\\s(apples|cats|baseballs).$','Alice eats apples.',re.I)"
   ]
  },
  {
   "cell_type": "code",
   "execution_count": 113,
   "id": "3ef6b43a",
   "metadata": {},
   "outputs": [
    {
     "data": {
      "text/plain": [
       "<_sre.SRE_Match object; span=(0, 14), match='Bob pets cats.'>"
      ]
     },
     "execution_count": 113,
     "metadata": {},
     "output_type": "execute_result"
    }
   ],
   "source": [
    "re.search(r'(Alice|Bob|Carol)\\s(eats|pets|throws)\\s(apples|cats|baseballs).$','Bob pets cats.',re.I)"
   ]
  },
  {
   "cell_type": "code",
   "execution_count": 114,
   "id": "4b15d112",
   "metadata": {},
   "outputs": [
    {
     "data": {
      "text/plain": [
       "<_sre.SRE_Match object; span=(0, 23), match='Carol throws baseballs.'>"
      ]
     },
     "execution_count": 114,
     "metadata": {},
     "output_type": "execute_result"
    }
   ],
   "source": [
    "re.search(r'(Alice|Bob|Carol)\\s(eats|pets|throws)\\s(apples|cats|baseballs).$','Carol throws baseballs.',re.I)"
   ]
  },
  {
   "cell_type": "code",
   "execution_count": 115,
   "id": "7bbb6e59",
   "metadata": {},
   "outputs": [
    {
     "data": {
      "text/plain": [
       "<_sre.SRE_Match object; span=(0, 20), match='Alice throws Apples.'>"
      ]
     },
     "execution_count": 115,
     "metadata": {},
     "output_type": "execute_result"
    }
   ],
   "source": [
    "re.search(r'(Alice|Bob|Carol)\\s(eats|pets|throws)\\s(apples|cats|baseballs).$','Alice throws Apples.',re.I)"
   ]
  },
  {
   "cell_type": "code",
   "execution_count": 116,
   "id": "ac1fdc6c",
   "metadata": {},
   "outputs": [
    {
     "data": {
      "text/plain": [
       "<_sre.SRE_Match object; span=(0, 14), match='BOB EATS CATS.'>"
      ]
     },
     "execution_count": 116,
     "metadata": {},
     "output_type": "execute_result"
    }
   ],
   "source": [
    "re.search(r'(Alice|Bob|Carol)\\s(eats|pets|throws)\\s(apples|cats|baseballs).$','BOB EATS CATS.',re.I)"
   ]
  },
  {
   "cell_type": "code",
   "execution_count": 117,
   "id": "07fb2ba1",
   "metadata": {},
   "outputs": [],
   "source": [
    "re.search(r'(Alice|Bob|Carol)\\s(eats|pets|throws)\\s(apples|cats|baseballs).$','RoboCop eats apples.',re.I)"
   ]
  },
  {
   "cell_type": "code",
   "execution_count": 119,
   "id": "5ca5d671",
   "metadata": {},
   "outputs": [],
   "source": [
    "re.search(r'(Alice|Bob|Carol)\\s(eats|pets|throws)\\s(apples|cats|baseballs).$','ALICE THROWS FOOTBALLS.',re.I)"
   ]
  },
  {
   "cell_type": "code",
   "execution_count": 120,
   "id": "619a5116",
   "metadata": {},
   "outputs": [],
   "source": [
    "re.search(r'(Alice|Bob|Carol)\\s(eats|pets|throws)\\s(apples|cats|baseballs).$','RoboCop eats apples.''Carol eats 7 cats.',re.I)"
   ]
  },
  {
   "cell_type": "code",
   "execution_count": null,
   "id": "f90f8fe2",
   "metadata": {},
   "outputs": [],
   "source": []
  }
 ],
 "metadata": {
  "kernelspec": {
   "display_name": "iNeuronFSDSPythonModule",
   "language": "python",
   "name": "ineuronfsdspythonmodule"
  },
  "language_info": {
   "codemirror_mode": {
    "name": "ipython",
    "version": 3
   },
   "file_extension": ".py",
   "mimetype": "text/x-python",
   "name": "python",
   "nbconvert_exporter": "python",
   "pygments_lexer": "ipython3",
   "version": "3.6.12"
  }
 },
 "nbformat": 4,
 "nbformat_minor": 5
}
