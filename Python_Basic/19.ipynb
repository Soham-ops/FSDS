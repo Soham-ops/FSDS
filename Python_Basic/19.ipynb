{
 "cells": [
  {
   "cell_type": "markdown",
   "id": "c639e76e",
   "metadata": {},
   "source": [
    "# 1. Make a class called Thing with no contents and print it. Then, create an object called example from this class and also print it. Are the printed values the same or different?\n"
   ]
  },
  {
   "cell_type": "code",
   "execution_count": 1,
   "id": "c88208e5",
   "metadata": {},
   "outputs": [],
   "source": [
    "class Thing:\n",
    "    \n",
    "    def __init__(self):\n",
    "        pass"
   ]
  },
  {
   "cell_type": "code",
   "execution_count": 2,
   "id": "5220c123",
   "metadata": {},
   "outputs": [
    {
     "data": {
      "text/plain": [
       "<__main__.Thing at 0x2d113a68780>"
      ]
     },
     "execution_count": 2,
     "metadata": {},
     "output_type": "execute_result"
    }
   ],
   "source": [
    "Thing()"
   ]
  },
  {
   "cell_type": "code",
   "execution_count": 4,
   "id": "c3c67858",
   "metadata": {},
   "outputs": [
    {
     "data": {
      "text/plain": [
       "<__main__.Thing at 0x2d113a53400>"
      ]
     },
     "execution_count": 4,
     "metadata": {},
     "output_type": "execute_result"
    }
   ],
   "source": [
    "example = Thing()\n",
    "example"
   ]
  },
  {
   "cell_type": "markdown",
   "id": "10a1a449",
   "metadata": {},
   "source": [
    "<li>since both are objects of the same class stored at different memory locations thus the printed values are differnt</li>"
   ]
  },
  {
   "cell_type": "code",
   "execution_count": null,
   "id": "dd0c9d7e",
   "metadata": {},
   "outputs": [],
   "source": []
  },
  {
   "cell_type": "markdown",
   "id": "f134b643",
   "metadata": {},
   "source": [
    "# 2. Create a new class called Thing2 and add the value 'abc' to the letters class attribute. Letters should be printed.\n"
   ]
  },
  {
   "cell_type": "code",
   "execution_count": 15,
   "id": "f065e6f0",
   "metadata": {},
   "outputs": [],
   "source": [
    "class Things2:\n",
    "    \n",
    "    letters = 'abc'\n",
    "    def __init__(self):\n",
    "        pass\n",
    "        "
   ]
  },
  {
   "cell_type": "code",
   "execution_count": 16,
   "id": "f8a08b99",
   "metadata": {},
   "outputs": [
    {
     "data": {
      "text/plain": [
       "'abc'"
      ]
     },
     "execution_count": 16,
     "metadata": {},
     "output_type": "execute_result"
    }
   ],
   "source": [
    "Things2.letters"
   ]
  },
  {
   "cell_type": "code",
   "execution_count": null,
   "id": "bf1ed989",
   "metadata": {},
   "outputs": [],
   "source": []
  },
  {
   "cell_type": "markdown",
   "id": "5e8127c3",
   "metadata": {},
   "source": [
    "# 3. Make yet another class called, of course, Thing3. This time, assign the value 'xyz' to an instance (object) attribute called letters. Print letters. Do you need to make an object from the class to do this?"
   ]
  },
  {
   "cell_type": "code",
   "execution_count": 18,
   "id": "c2d656b1",
   "metadata": {},
   "outputs": [],
   "source": [
    "class Thing3:\n",
    "    \n",
    "    def __init__(self):\n",
    "        self.letters = 'xyz'\n",
    "        "
   ]
  },
  {
   "cell_type": "code",
   "execution_count": 20,
   "id": "644a9a04",
   "metadata": {},
   "outputs": [
    {
     "data": {
      "text/plain": [
       "'xyz'"
      ]
     },
     "execution_count": 20,
     "metadata": {},
     "output_type": "execute_result"
    }
   ],
   "source": [
    "obj = Thing3()\n",
    "obj.letters"
   ]
  },
  {
   "cell_type": "markdown",
   "id": "a5dfba49",
   "metadata": {},
   "source": [
    "<li>Yes, we need to make an object since letters is an instance attribute</li>"
   ]
  },
  {
   "cell_type": "code",
   "execution_count": null,
   "id": "0aaa584d",
   "metadata": {},
   "outputs": [],
   "source": []
  },
  {
   "cell_type": "markdown",
   "id": "cd8bd45c",
   "metadata": {},
   "source": [
    "# 4. Create an Element class with the instance attributes name, symbol, and number. Create a class object with the values 'Hydrogen,' 'H,' and 1.\n"
   ]
  },
  {
   "cell_type": "code",
   "execution_count": 21,
   "id": "8e7cfeac",
   "metadata": {},
   "outputs": [],
   "source": [
    "class Element:\n",
    "    \n",
    "    def __init__(self):\n",
    "        self.name = 'Hydrogen'\n",
    "        self.symbol = 'H'\n",
    "        self.number = 1\n",
    "        \n",
    "        "
   ]
  },
  {
   "cell_type": "code",
   "execution_count": 23,
   "id": "3f8ab6e3",
   "metadata": {},
   "outputs": [
    {
     "name": "stdout",
     "output_type": "stream",
     "text": [
      "Hydrogen\n",
      "H\n",
      "1\n"
     ]
    }
   ],
   "source": [
    "obj = Element()\n",
    "print(obj.name)\n",
    "print(obj.symbol)\n",
    "print(obj.number)"
   ]
  },
  {
   "cell_type": "code",
   "execution_count": null,
   "id": "aa8cef8b",
   "metadata": {},
   "outputs": [],
   "source": []
  },
  {
   "cell_type": "markdown",
   "id": "dfae5af1",
   "metadata": {},
   "source": [
    "# 5. Make a dictionary with these keys and values: 'name': 'Hydrogen', 'symbol': 'H', 'number': 1. Then, create an object called hydrogen from class Element using this dictionary.\n"
   ]
  },
  {
   "cell_type": "code",
   "execution_count": 24,
   "id": "45d96a4a",
   "metadata": {},
   "outputs": [],
   "source": [
    "class Element:\n",
    "    \n",
    "    def __init__(self):\n",
    "        self.info = {'name':'Hydrogen',\n",
    "                    'symbol':'H',\n",
    "                    'number': 1}\n",
    "        "
   ]
  },
  {
   "cell_type": "code",
   "execution_count": 25,
   "id": "6321070f",
   "metadata": {},
   "outputs": [
    {
     "data": {
      "text/plain": [
       "{'name': 'Hydrogen', 'symbol': 'H', 'number': 1}"
      ]
     },
     "execution_count": 25,
     "metadata": {},
     "output_type": "execute_result"
    }
   ],
   "source": [
    "hydrogen = Element()\n",
    "hydrogen.info"
   ]
  },
  {
   "cell_type": "code",
   "execution_count": null,
   "id": "d8e31054",
   "metadata": {},
   "outputs": [],
   "source": []
  },
  {
   "cell_type": "markdown",
   "id": "69a037dc",
   "metadata": {},
   "source": [
    "# 6. For the Element class, define a method called dump() that prints the values of the object’s attributes (name, symbol, and number). Create the hydrogen object from this new definition and use dump() to print its attributes.\n"
   ]
  },
  {
   "cell_type": "code",
   "execution_count": 26,
   "id": "5f49a7d7",
   "metadata": {},
   "outputs": [],
   "source": [
    "class Element:\n",
    "    \n",
    "    def __init__(self):\n",
    "        self.info = {'name':'Hydrogen',\n",
    "                    'symbol':'H',\n",
    "                    'number': 1}\n",
    "    \n",
    "    def dump(self):\n",
    "        for i in self.info.values():\n",
    "            print(i)"
   ]
  },
  {
   "cell_type": "code",
   "execution_count": 27,
   "id": "ab901ac9",
   "metadata": {},
   "outputs": [
    {
     "name": "stdout",
     "output_type": "stream",
     "text": [
      "Hydrogen\n",
      "H\n",
      "1\n"
     ]
    }
   ],
   "source": [
    "hydrogen = Element()\n",
    "hydrogen.dump()"
   ]
  },
  {
   "cell_type": "code",
   "execution_count": null,
   "id": "b876cd90",
   "metadata": {},
   "outputs": [],
   "source": []
  },
  {
   "cell_type": "markdown",
   "id": "4c93b151",
   "metadata": {},
   "source": [
    "# 7. Call print(hydrogen). In the definition of Element, change the name of method dump to __str__, create a new hydrogen object, and call print(hydrogen) again.\n"
   ]
  },
  {
   "cell_type": "code",
   "execution_count": 36,
   "id": "9609c84e",
   "metadata": {},
   "outputs": [],
   "source": [
    "class Element:\n",
    "    \n",
    "    def __init__(self):\n",
    "        self.info = {'name':'Hydrogen',\n",
    "                    'symbol':'H',\n",
    "                    'number': 1}\n",
    "    \n",
    "    def __str__(self):\n",
    "        s = ''\n",
    "        for i in self.info.values():\n",
    "            s+=' '+ str(i)\n",
    "        return s"
   ]
  },
  {
   "cell_type": "code",
   "execution_count": 37,
   "id": "808e4228",
   "metadata": {},
   "outputs": [
    {
     "name": "stdout",
     "output_type": "stream",
     "text": [
      " Hydrogen H 1\n"
     ]
    }
   ],
   "source": [
    "hydrogen = Element()\n",
    "print(hydrogen)"
   ]
  },
  {
   "cell_type": "code",
   "execution_count": null,
   "id": "c3d5e21a",
   "metadata": {},
   "outputs": [],
   "source": []
  },
  {
   "cell_type": "markdown",
   "id": "d6756396",
   "metadata": {},
   "source": [
    "# 8. Modify Element to make the attributes name, symbol, and number private. Define a getter property for each to return its value.\n"
   ]
  },
  {
   "cell_type": "code",
   "execution_count": 42,
   "id": "1ed7f786",
   "metadata": {},
   "outputs": [],
   "source": [
    "class Element:\n",
    "    \n",
    "    def __init__(self):\n",
    "        self.__info = {'name':'Hydrogen',\n",
    "                    'symbol':'H',\n",
    "                    'number': 1}\n",
    "        \n",
    "    def getName(self):\n",
    "        return self.__info['name']\n",
    "        \n",
    "    def getSymbol(self):\n",
    "        return self.__info['symbol']\n",
    "        \n",
    "    def getNumber(self):\n",
    "        return self.__info['number']"
   ]
  },
  {
   "cell_type": "code",
   "execution_count": 44,
   "id": "26cc6139",
   "metadata": {},
   "outputs": [
    {
     "name": "stdout",
     "output_type": "stream",
     "text": [
      "Hydrogen\n",
      "H\n",
      "1\n"
     ]
    },
    {
     "ename": "AttributeError",
     "evalue": "'Element' object has no attribute '__info'",
     "output_type": "error",
     "traceback": [
      "\u001b[1;31m---------------------------------------------------------------------------\u001b[0m",
      "\u001b[1;31mAttributeError\u001b[0m                            Traceback (most recent call last)",
      "\u001b[1;32m<ipython-input-44-59e2d33328fc>\u001b[0m in \u001b[0;36m<module>\u001b[1;34m\u001b[0m\n\u001b[0;32m      3\u001b[0m \u001b[0mprint\u001b[0m\u001b[1;33m(\u001b[0m\u001b[0mobj\u001b[0m\u001b[1;33m.\u001b[0m\u001b[0mgetSymbol\u001b[0m\u001b[1;33m(\u001b[0m\u001b[1;33m)\u001b[0m\u001b[1;33m)\u001b[0m\u001b[1;33m\u001b[0m\u001b[1;33m\u001b[0m\u001b[0m\n\u001b[0;32m      4\u001b[0m \u001b[0mprint\u001b[0m\u001b[1;33m(\u001b[0m\u001b[0mobj\u001b[0m\u001b[1;33m.\u001b[0m\u001b[0mgetNumber\u001b[0m\u001b[1;33m(\u001b[0m\u001b[1;33m)\u001b[0m\u001b[1;33m)\u001b[0m\u001b[1;33m\u001b[0m\u001b[1;33m\u001b[0m\u001b[0m\n\u001b[1;32m----> 5\u001b[1;33m \u001b[0mobj\u001b[0m\u001b[1;33m.\u001b[0m\u001b[0m__info\u001b[0m\u001b[1;33m\u001b[0m\u001b[1;33m\u001b[0m\u001b[0m\n\u001b[0m",
      "\u001b[1;31mAttributeError\u001b[0m: 'Element' object has no attribute '__info'"
     ]
    }
   ],
   "source": [
    "obj = Element()\n",
    "print(obj.getName())\n",
    "print(obj.getSymbol())\n",
    "print(obj.getNumber())\n",
    "#info is private attribute proved\n",
    "obj.__info"
   ]
  },
  {
   "cell_type": "code",
   "execution_count": null,
   "id": "7d4cd8aa",
   "metadata": {},
   "outputs": [],
   "source": []
  },
  {
   "cell_type": "markdown",
   "id": "0bdb4129",
   "metadata": {},
   "source": [
    "# 9. Define three classes: Bear, Rabbit, and Octothorpe. For each, define only one method: eats(). This should return 'berries' (Bear), 'clover' (Rabbit), or 'campers' (Octothorpe). Create one object from each and print what it eats.\n"
   ]
  },
  {
   "cell_type": "code",
   "execution_count": 45,
   "id": "aa86808e",
   "metadata": {},
   "outputs": [],
   "source": [
    "class Bear:\n",
    "    \n",
    "    def eats(self):\n",
    "        return 'Berris'\n",
    "    \n",
    "class Rabbit:\n",
    "    \n",
    "    def eats(self):\n",
    "        return 'clover'\n",
    "    \n",
    "class Octothorpe:\n",
    "    \n",
    "    def eats(self):\n",
    "        return 'campers'\n",
    "    \n"
   ]
  },
  {
   "cell_type": "code",
   "execution_count": 46,
   "id": "a3a8c1bb",
   "metadata": {},
   "outputs": [
    {
     "name": "stdout",
     "output_type": "stream",
     "text": [
      "Berris\n",
      "clover\n",
      "campers\n"
     ]
    }
   ],
   "source": [
    "bear = Bear()\n",
    "print(bear.eats())\n",
    "rabbit = Rabbit()\n",
    "print(rabbit.eats())\n",
    "octothorpe = Octothorpe()\n",
    "print(octothorpe.eats())"
   ]
  },
  {
   "cell_type": "code",
   "execution_count": null,
   "id": "dee42b93",
   "metadata": {},
   "outputs": [],
   "source": []
  },
  {
   "cell_type": "markdown",
   "id": "b8cdb9c8",
   "metadata": {},
   "source": [
    "# 10. Define these classes: Laser, Claw, and SmartPhone. Each has only one method: does(). This returns 'disintegrate' (Laser), 'crush' (Claw), or 'ring' (SmartPhone). Then, define the class Robot that has one instance (object) of each of these. Define a does() method for the Robot that prints what its component objects do.\n",
    "\n"
   ]
  },
  {
   "cell_type": "code",
   "execution_count": 54,
   "id": "7c33b48f",
   "metadata": {},
   "outputs": [],
   "source": [
    "class Laser:\n",
    "    \n",
    "    def does(self):\n",
    "        return 'disintegrate'\n",
    "    \n",
    "class Claw:\n",
    "    \n",
    "    def does(self):\n",
    "        return 'Crush'\n",
    "    \n",
    "class SmartPhone:\n",
    "    \n",
    "    def does(self):\n",
    "        return 'ring'\n",
    "    \n",
    "class Robot:\n",
    "    \n",
    "    def __init__(self):\n",
    "        self.l = Laser()\n",
    "        self.c = Claw()\n",
    "        self.s = SmartPhone()\n",
    "        \n",
    "    \n",
    "    def does(self):\n",
    "        return f\"{type(self.l).__name__} -> {self.l.does()} , {type(self.c).__name__} -> {self.c.does()} , {type(self.s).__name__} -> {self.s.does()}\"\n",
    "        "
   ]
  },
  {
   "cell_type": "code",
   "execution_count": 55,
   "id": "96e1d5f3",
   "metadata": {},
   "outputs": [
    {
     "data": {
      "text/plain": [
       "'Laser -> disintegrate , Claw -> Crush , SmartPhone -> ring'"
      ]
     },
     "execution_count": 55,
     "metadata": {},
     "output_type": "execute_result"
    }
   ],
   "source": [
    "obj = Robot()\n",
    "obj.does()"
   ]
  },
  {
   "cell_type": "code",
   "execution_count": null,
   "id": "a81536d2",
   "metadata": {},
   "outputs": [],
   "source": []
  }
 ],
 "metadata": {
  "kernelspec": {
   "display_name": "iNeuronFSDSPythonModule",
   "language": "python",
   "name": "ineuronfsdspythonmodule"
  },
  "language_info": {
   "codemirror_mode": {
    "name": "ipython",
    "version": 3
   },
   "file_extension": ".py",
   "mimetype": "text/x-python",
   "name": "python",
   "nbconvert_exporter": "python",
   "pygments_lexer": "ipython3",
   "version": "3.6.12"
  }
 },
 "nbformat": 4,
 "nbformat_minor": 5
}
