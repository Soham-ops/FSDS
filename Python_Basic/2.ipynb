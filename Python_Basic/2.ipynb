{
 "cells": [
  {
   "cell_type": "markdown",
   "id": "federal-context",
   "metadata": {},
   "source": [
    "## 1. What are the two values of the Boolean data type? How do you write them?"
   ]
  },
  {
   "cell_type": "markdown",
   "id": "stopped-parish",
   "metadata": {},
   "source": [
    "# Soln "
   ]
  },
  {
   "cell_type": "markdown",
   "id": "opening-variety",
   "metadata": {},
   "source": [
    "a)True and False namely"
   ]
  },
  {
   "cell_type": "code",
   "execution_count": 1,
   "id": "accepted-facing",
   "metadata": {},
   "outputs": [
    {
     "name": "stdout",
     "output_type": "stream",
     "text": [
      "True\n",
      "True\n",
      "True\n",
      "False\n",
      "False\n"
     ]
    }
   ],
   "source": [
    "#True\n",
    "a = True\n",
    "print(a)\n",
    "a = bool(1)\n",
    "print(a)\n",
    "a = bool(-1.353)\n",
    "print(a)\n",
    "\n",
    "#False\n",
    "a = False\n",
    "print(a)\n",
    "a = 0\n",
    "print(bool(a))\n"
   ]
  },
  {
   "cell_type": "code",
   "execution_count": null,
   "id": "atlantic-abraham",
   "metadata": {},
   "outputs": [],
   "source": []
  },
  {
   "cell_type": "markdown",
   "id": "western-greenhouse",
   "metadata": {},
   "source": [
    "## 2. What are the three Boolean operators?"
   ]
  },
  {
   "cell_type": "markdown",
   "id": "sunset-removal",
   "metadata": {},
   "source": [
    "# Soln"
   ]
  },
  {
   "cell_type": "markdown",
   "id": "identical-ideal",
   "metadata": {},
   "source": [
    "AND,OR,NOT"
   ]
  },
  {
   "cell_type": "code",
   "execution_count": null,
   "id": "wrapped-blend",
   "metadata": {},
   "outputs": [],
   "source": []
  },
  {
   "cell_type": "markdown",
   "id": "unlimited-teacher",
   "metadata": {},
   "source": [
    "## 3. Write out the truth tables of each Boolean operator (that is, every possible combination of Boolean values for the operator and what they evaluate to)."
   ]
  },
  {
   "cell_type": "markdown",
   "id": "ceramic-accountability",
   "metadata": {},
   "source": [
    "# Soln"
   ]
  },
  {
   "cell_type": "markdown",
   "id": "alone-diabetes",
   "metadata": {},
   "source": [
    "<ul>AND\n",
    "    <li>T and T = T</li>\n",
    "    <li> T and F = F</li>\n",
    "    <li> F and T = F</li>\n",
    "    <li> F and F = F</li>\n",
    "</ul>\n",
    "<ul>OR\n",
    "    <li>T or T = T</li>\n",
    "    <li>T or F = T</li>\n",
    "    <li>F or T = T</li>\n",
    "    <li>F or F = F</li>\n",
    " \n",
    "</ul>\n",
    "<ul>NOT\n",
    "    <li>if A = T then</li>\n",
    "        NOT A = F</li>\n",
    "    <li>else</li>\n",
    "        NOT A = T\n",
    "</ul>"
   ]
  },
  {
   "cell_type": "code",
   "execution_count": null,
   "id": "substantial-liability",
   "metadata": {},
   "outputs": [],
   "source": []
  },
  {
   "cell_type": "markdown",
   "id": "lasting-nowhere",
   "metadata": {},
   "source": [
    "## 4. What do the following expressions evaluate to?\n",
    "\n",
    "#### (5 > 4) and (3 == 5)\n",
    "#### not (5 > 4)\n",
    "#### (5 > 4) or (3 == 5)\n",
    "#### not ((5 > 4) or (3 == 5))\n",
    "#### (True and True) and (True == False)\n",
    "#### (not False) or (not True)\n"
   ]
  },
  {
   "cell_type": "markdown",
   "id": "endless-shopping",
   "metadata": {},
   "source": [
    "# Soln"
   ]
  },
  {
   "cell_type": "markdown",
   "id": "broke-interview",
   "metadata": {},
   "source": [
    "False\n",
    "False\n",
    "True\n",
    "False\n",
    "False\n",
    "True"
   ]
  },
  {
   "cell_type": "code",
   "execution_count": null,
   "id": "chubby-dividend",
   "metadata": {},
   "outputs": [],
   "source": []
  },
  {
   "cell_type": "markdown",
   "id": "round-noise",
   "metadata": {},
   "source": [
    "## 5. What are the six comparison operators?"
   ]
  },
  {
   "cell_type": "markdown",
   "id": "social-fellowship",
   "metadata": {},
   "source": [
    "# Soln"
   ]
  },
  {
   "cell_type": "markdown",
   "id": "general-bonus",
   "metadata": {},
   "source": [
    "<,>,<=,>=,==,!="
   ]
  },
  {
   "cell_type": "code",
   "execution_count": null,
   "id": "comprehensive-surrey",
   "metadata": {},
   "outputs": [],
   "source": []
  },
  {
   "cell_type": "markdown",
   "id": "decent-mayor",
   "metadata": {},
   "source": [
    "## 6. What is the difference between the equal to operator and the assignment operator?Describe a condition where you would use one"
   ]
  },
  {
   "cell_type": "markdown",
   "id": "opponent-coaching",
   "metadata": {},
   "source": [
    "# Soln"
   ]
  },
  {
   "cell_type": "code",
   "execution_count": 14,
   "id": "brave-vegetable",
   "metadata": {},
   "outputs": [
    {
     "name": "stdout",
     "output_type": "stream",
     "text": [
      "False\n",
      "True\n",
      "0\n",
      "Soham\n"
     ]
    }
   ],
   "source": [
    "# ==(equal) used to compare equality\n",
    "# Eg-1\n",
    "a=2\n",
    "b=3\n",
    "print(a==b)\n",
    "\n",
    "#Eg-2\n",
    "a=2\n",
    "b=2\n",
    "print(a==b)\n",
    "\n",
    "#= (assignment) used to provide values to a variable\n",
    "#Eg-1\n",
    "a=0\n",
    "print(a)\n",
    "a='Soham'\n",
    "print(a)"
   ]
  },
  {
   "cell_type": "code",
   "execution_count": null,
   "id": "healthy-consumption",
   "metadata": {},
   "outputs": [],
   "source": []
  },
  {
   "cell_type": "markdown",
   "id": "irish-accident",
   "metadata": {},
   "source": [
    "## 7. Identify the three blocks in this code:\n",
    "#### spam = 0\n",
    "#### if spam == 10:\n",
    "        print('eggs')\n",
    "        if spam > 5:\n",
    "            print('bacon')\n",
    "        else:\n",
    "            print('ham')\n",
    "        print('spam')\n",
    "#### print('spam')\n"
   ]
  },
  {
   "cell_type": "markdown",
   "id": "personal-separation",
   "metadata": {},
   "source": [
    "# Soln"
   ]
  },
  {
   "cell_type": "markdown",
   "id": "applicable-bloom",
   "metadata": {},
   "source": [
    "#### Block 1 (Declaration and Initialization)\n",
    "#### spam =0\n",
    "\n",
    "#### Block 2 (Condition)\n",
    "#### if spam == 10:\n",
    "        print('eggs')\n",
    "        if spam > 5:\n",
    "            print('bacon')\n",
    "        else:\n",
    "            print('ham')\n",
    "        print('spam')\n",
    "#### Block 3 (Independent Statements)\n",
    "#### print('spam')"
   ]
  },
  {
   "cell_type": "code",
   "execution_count": null,
   "id": "noted-happening",
   "metadata": {},
   "outputs": [],
   "source": []
  },
  {
   "cell_type": "markdown",
   "id": "virtual-notebook",
   "metadata": {},
   "source": [
    "## 8. Write code that prints Hello if 1 is stored in spam, prints Howdy if 2 is stored in spam, and prints Greetings! if anything else is stored in spam.\n",
    "\n"
   ]
  },
  {
   "cell_type": "code",
   "execution_count": 19,
   "id": "suffering-talent",
   "metadata": {},
   "outputs": [
    {
     "name": "stdout",
     "output_type": "stream",
     "text": [
      "Enter value 1/2 --2\n",
      "Howdy\n"
     ]
    }
   ],
   "source": [
    "spam = int(input(\"Enter value 1/2 --\"))\n",
    "\n",
    "if spam == 1:\n",
    "    print('Hello')\n",
    "elif spam == 2:\n",
    "    print('Howdy')\n",
    "else:\n",
    "    print('Greetings!')"
   ]
  },
  {
   "cell_type": "code",
   "execution_count": null,
   "id": "charming-medicine",
   "metadata": {},
   "outputs": [],
   "source": []
  },
  {
   "cell_type": "markdown",
   "id": "guided-gates",
   "metadata": {},
   "source": [
    "## 9. If your programme is stuck in an endless loop,what keys you'll press ?"
   ]
  },
  {
   "cell_type": "markdown",
   "id": "developing-indian",
   "metadata": {},
   "source": [
    "# Soln"
   ]
  },
  {
   "cell_type": "markdown",
   "id": "pharmaceutical-monthly",
   "metadata": {},
   "source": [
    "<li>In jupyter, we can use I,I(i.e Caps ON I (I for Ink) two times) to interrupt the kernel thus can recover if program is stuck in an infinite loop</li>"
   ]
  },
  {
   "cell_type": "code",
   "execution_count": null,
   "id": "featured-arena",
   "metadata": {},
   "outputs": [],
   "source": []
  },
  {
   "cell_type": "markdown",
   "id": "beautiful-appendix",
   "metadata": {},
   "source": [
    "## 10. How can you tell the  difference between break and continue?"
   ]
  },
  {
   "cell_type": "markdown",
   "id": "distant-perception",
   "metadata": {},
   "source": [
    "# Soln"
   ]
  },
  {
   "cell_type": "code",
   "execution_count": 21,
   "id": "seasonal-uncertainty",
   "metadata": {},
   "outputs": [
    {
     "name": "stdout",
     "output_type": "stream",
     "text": [
      "Loop broke out\n"
     ]
    }
   ],
   "source": [
    "# break is used to break out of the loop\n",
    "# Ex-1\n",
    "for i in range(5):\n",
    "    if i == 0:\n",
    "        break\n",
    "    print(i)\n",
    "print('Loop broke out')\n",
    "    "
   ]
  },
  {
   "cell_type": "code",
   "execution_count": 22,
   "id": "impressive-jerusalem",
   "metadata": {},
   "outputs": [
    {
     "name": "stdout",
     "output_type": "stream",
     "text": [
      "Iteration Skipped\n",
      "1\n",
      "2\n",
      "3\n",
      "4\n"
     ]
    }
   ],
   "source": [
    "#continue is used to skip to the next iteration\n",
    "#Ex-1\n",
    "for i in range(5):\n",
    "    if i == 0:\n",
    "        print('Iteration Skipped')\n",
    "        continue\n",
    "    print(i)"
   ]
  },
  {
   "cell_type": "code",
   "execution_count": null,
   "id": "pending-support",
   "metadata": {},
   "outputs": [],
   "source": []
  },
  {
   "cell_type": "markdown",
   "id": "excessive-motion",
   "metadata": {},
   "source": [
    "## 11. What is the difference between range(10), range(0, 10), and range(0, 10, 1) in a for loop?"
   ]
  },
  {
   "cell_type": "markdown",
   "id": "flying-brand",
   "metadata": {},
   "source": [
    "# Soln"
   ]
  },
  {
   "cell_type": "markdown",
   "id": "dated-longer",
   "metadata": {},
   "source": [
    "Well, they are basically the same,apart from the fact that \n",
    "range(10) means range(0,10) which means range(0,10,1) as in range(10) start and step have default params set to 0 and 1 respectively"
   ]
  },
  {
   "cell_type": "code",
   "execution_count": null,
   "id": "suffering-meter",
   "metadata": {},
   "outputs": [],
   "source": []
  },
  {
   "cell_type": "markdown",
   "id": "later-stability",
   "metadata": {},
   "source": [
    "## 12. Write a short program that prints the numbers 1 to 10 using a for loop. Then write an equivalent program that prints the numbers 1 to 10 using a while loop."
   ]
  },
  {
   "cell_type": "markdown",
   "id": "desperate-blank",
   "metadata": {},
   "source": [
    "# Soln "
   ]
  },
  {
   "cell_type": "code",
   "execution_count": 31,
   "id": "temporal-stevens",
   "metadata": {},
   "outputs": [
    {
     "name": "stdout",
     "output_type": "stream",
     "text": [
      "1 2 3 4 5 6 7 8 9 10 "
     ]
    }
   ],
   "source": [
    "for i in range(1,11):\n",
    "    print(i,end=\" \")"
   ]
  },
  {
   "cell_type": "code",
   "execution_count": 32,
   "id": "dated-simulation",
   "metadata": {},
   "outputs": [
    {
     "name": "stdout",
     "output_type": "stream",
     "text": [
      "1 2 3 4 5 6 7 8 9 10 "
     ]
    }
   ],
   "source": [
    "i=1\n",
    "while i<11:\n",
    "    print(i,end=\" \")\n",
    "    i+=1"
   ]
  },
  {
   "cell_type": "code",
   "execution_count": null,
   "id": "photographic-appendix",
   "metadata": {},
   "outputs": [],
   "source": []
  },
  {
   "cell_type": "markdown",
   "id": "surprising-shade",
   "metadata": {},
   "source": [
    "## 13. If you had a function named bacon() inside a module named spam, how would you call it after importing spam?"
   ]
  },
  {
   "cell_type": "markdown",
   "id": "suspected-ballot",
   "metadata": {},
   "source": [
    "# Soln"
   ]
  },
  {
   "cell_type": "markdown",
   "id": "grand-breast",
   "metadata": {},
   "source": [
    "#### import spam\n",
    "#### spam.bacon()"
   ]
  },
  {
   "cell_type": "code",
   "execution_count": null,
   "id": "diagnostic-bumper",
   "metadata": {},
   "outputs": [],
   "source": []
  }
 ],
 "metadata": {
  "kernelspec": {
   "display_name": "Python 3 (ipykernel)",
   "language": "python",
   "name": "python3"
  },
  "language_info": {
   "codemirror_mode": {
    "name": "ipython",
    "version": 3
   },
   "file_extension": ".py",
   "mimetype": "text/x-python",
   "name": "python",
   "nbconvert_exporter": "python",
   "pygments_lexer": "ipython3",
   "version": "3.8.12"
  }
 },
 "nbformat": 4,
 "nbformat_minor": 5
}
