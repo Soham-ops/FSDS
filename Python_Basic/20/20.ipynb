{
 "cells": [
  {
   "cell_type": "markdown",
   "id": "a0ee5a6c",
   "metadata": {},
   "source": [
    "# 1. Set the variable test1 to the string 'This is a test of the emergency text system,' and save test1 to a file named test.txt.\n"
   ]
  },
  {
   "cell_type": "code",
   "execution_count": 1,
   "id": "9e1be0c0",
   "metadata": {},
   "outputs": [],
   "source": [
    "from pathlib import Path"
   ]
  },
  {
   "cell_type": "code",
   "execution_count": 3,
   "id": "8d17fac1",
   "metadata": {},
   "outputs": [],
   "source": [
    "test = 'This is a test of the emergency text system'\n",
    "p1 = Path('test.txt')\n",
    "with open(p1,'w') as file:\n",
    "    file.write(test)"
   ]
  },
  {
   "cell_type": "code",
   "execution_count": null,
   "id": "7f3d8d2b",
   "metadata": {},
   "outputs": [],
   "source": []
  },
  {
   "cell_type": "markdown",
   "id": "1ff5b96c",
   "metadata": {},
   "source": [
    "# 2. Read the contents of the file test.txt into the variable test2. Is there a difference between test 1 and test 2?\n"
   ]
  },
  {
   "cell_type": "code",
   "execution_count": 5,
   "id": "5c42197f",
   "metadata": {},
   "outputs": [
    {
     "name": "stdout",
     "output_type": "stream",
     "text": [
      "This is a test of the emergency text system\n"
     ]
    }
   ],
   "source": [
    "p1 = Path('test.txt')\n",
    "with open(p1,'r') as test2:\n",
    "    print(test2.read())"
   ]
  },
  {
   "cell_type": "markdown",
   "id": "376c1a83",
   "metadata": {},
   "source": [
    "<li>test 1 is a string object wheresas test2 is a file object</li>"
   ]
  },
  {
   "cell_type": "code",
   "execution_count": null,
   "id": "17fa39a6",
   "metadata": {},
   "outputs": [],
   "source": []
  },
  {
   "cell_type": "markdown",
   "id": "d2235111",
   "metadata": {},
   "source": [
    "# 3. Create a CSV file called books.csv by using these lines:\n",
    "<li>title,author,year</li>\n",
    "<li>The Weirdstone of Brisingamen,Alan Garner,1960</li>\n",
    "<li>Perdido Street Station,China Miéville,2000</li>\n",
    "<li>Thud!,Terry Pratchett,2005</li>\n",
    "<li>The Spellman Files,Lisa Lutz,2007</li>\n",
    "<li>Small Gods,Terry Pratchett,1992</li>\n"
   ]
  },
  {
   "cell_type": "code",
   "execution_count": 7,
   "id": "36af4bab",
   "metadata": {},
   "outputs": [],
   "source": [
    "import csv\n",
    "\n",
    "fields = ['title', 'author', 'year']  \n",
    "    \n",
    "# data rows of csv file  \n",
    "rows = [ ['The Weirdstone of Brisingamen','Alan Garner','1960'],  \n",
    "         ['Perdido Street Station','China Miéville','2000'],  \n",
    "         ['Thud!','Terry Pratchett','2005'],  \n",
    "         ['The Spellman Files','Lisa Lutz','2007'],  \n",
    "         ['Small Gods','Terry Pratchett','1992']] \n",
    "\n",
    "filename = Path(\"books.csv\")\n",
    "\n",
    "with open(filename,'w') as file:\n",
    "    csvwriter = csv.writer(file)\n",
    "    csvwriter.writerow(fields)  \n",
    "        \n",
    "    # writing the data rows  \n",
    "    csvwriter.writerows(rows) "
   ]
  },
  {
   "cell_type": "code",
   "execution_count": null,
   "id": "c6b9d799",
   "metadata": {},
   "outputs": [],
   "source": []
  },
  {
   "cell_type": "markdown",
   "id": "a1cdf0a6",
   "metadata": {},
   "source": [
    "# 4. Use the sqlite3 module to create a SQLite database called books.db, and a table called books with these fields: title (text), author (text), and year (integer).\n"
   ]
  },
  {
   "cell_type": "code",
   "execution_count": 10,
   "id": "3406fe3c",
   "metadata": {},
   "outputs": [
    {
     "name": "stdout",
     "output_type": "stream",
     "text": [
      "Initialized\n"
     ]
    }
   ],
   "source": [
    "import sqlite3\n",
    "\n",
    "try:\n",
    "    connection = sqlite3.connect('books.db')\n",
    "    cursor = connection.cursor()\n",
    "    print('Initialized')\n",
    "\n",
    "    query = \"\"\"create table books (text TEXT, author TEXT, year INTEGER);\"\"\"\n",
    "\n",
    "    cursor.execute(query)\n",
    "    cursor.close()\n",
    "    connection.close()\n",
    "    \n",
    "except Exception as e:\n",
    "    print(f\"Soemthing went wrong {e}\")"
   ]
  },
  {
   "cell_type": "markdown",
   "id": "61553458",
   "metadata": {},
   "source": [
    "<li>change text to title and do q5,6,7 again</li>"
   ]
  },
  {
   "cell_type": "markdown",
   "id": "4d5300e8",
   "metadata": {},
   "source": [
    "# 5. Read books.csv and insert its data into the book table.\n"
   ]
  },
  {
   "cell_type": "code",
   "execution_count": 41,
   "id": "eaed2659",
   "metadata": {},
   "outputs": [],
   "source": [
    "import csv\n",
    "import sqlite3\n",
    "\n",
    "class Insert:\n",
    "    \n",
    "    def __init__(self):\n",
    "        try:\n",
    "            #file to read\n",
    "            self.filename = Path('books.csv')\n",
    "            self.insert_data  = []\n",
    "            #Intialize DB Connection\n",
    "            self.connection = sqlite3.connect('books.db')\n",
    "            self.cursor = self.connection.cursor()\n",
    "            print('Initialized')\n",
    "            \n",
    "            \n",
    "        except Exception as e:\n",
    "            print(f\"Soemthing went wrong {e}\")\n",
    "            \n",
    "    def read_csv(self):\n",
    "        \n",
    "        try:\n",
    "            with open(self.filename,'r') as file:\n",
    "                csvreader = csv.reader(file)\n",
    "\n",
    "                for data in csvreader:\n",
    "                    self.insert_data.append(data)\n",
    "            \n",
    "            print(\"read_csv success\")\n",
    "        except Execption as e:\n",
    "            print(f\"Soemthing went wrong {e}\")\n",
    "       \n",
    "                \n",
    "    def insert_csv(self):\n",
    "        try:\n",
    "        \n",
    "            for data in self.insert_data:\n",
    "                if len(data)!= 0: \n",
    "                    self.cursor.execute(\"INSERT INTO books VALUES (?,? ,?)\", (data[0],data[1],data[2])) \n",
    "            \n",
    "            self.connection.commit()\n",
    "            print('insert_csv success')\n",
    "        except Execption as e:\n",
    "            print(f\"Soemthing went wrong {e}\")\n",
    "                \n",
    "    def read_table(self):\n",
    "        \n",
    "        try:\n",
    "            self.cursor.execute('SELECT * FROM books')\n",
    "\n",
    "            for i in self.cursor.fetchall():\n",
    "                print(i)\n",
    "\n",
    "            print('read_table success')\n",
    "\n",
    "        except Exception as e:\n",
    "            print(f\"Soemthing went wrong {e}\")\n",
    "    \n",
    "    def close_connection(self):\n",
    "        try:\n",
    "            self.cursor.close()\n",
    "            self.connection.close()\n",
    "            print('Closed')\n",
    "        except Exception as e:\n",
    "            print(f\"Soemthing went wrong {e}\")"
   ]
  },
  {
   "cell_type": "code",
   "execution_count": 42,
   "id": "f91287bd",
   "metadata": {},
   "outputs": [
    {
     "name": "stdout",
     "output_type": "stream",
     "text": [
      "Initialized\n",
      "read_csv success\n",
      "insert_csv success\n",
      "Closed\n"
     ]
    }
   ],
   "source": [
    "obj = Insert()\n",
    "obj.read_csv()\n",
    "obj.insert_csv()\n",
    "obj.close_connection()\n"
   ]
  },
  {
   "cell_type": "code",
   "execution_count": null,
   "id": "5f9eb29c",
   "metadata": {},
   "outputs": [],
   "source": []
  },
  {
   "cell_type": "markdown",
   "id": "4ba572e0",
   "metadata": {},
   "source": [
    "# 6. Select and print the title column from the book table in alphabetical order.\n"
   ]
  },
  {
   "cell_type": "code",
   "execution_count": 53,
   "id": "fd9c1268",
   "metadata": {},
   "outputs": [],
   "source": [
    "import csv\n",
    "import sqlite3\n",
    "\n",
    "class Insert:\n",
    "    \n",
    "    def __init__(self):\n",
    "        try:\n",
    "            #file to read\n",
    "            self.filename = Path('books.csv')\n",
    "            self.insert_data  = []\n",
    "            #Intialize DB Connection\n",
    "            self.connection = sqlite3.connect('books.db')\n",
    "            self.cursor = self.connection.cursor()\n",
    "            print('Initialized')\n",
    "            \n",
    "            \n",
    "        except Exception as e:\n",
    "            print(f\"Soemthing went wrong {e}\")\n",
    "            \n",
    "    def read_csv(self):\n",
    "        \n",
    "        try:\n",
    "            with open(self.filename,'r') as file:\n",
    "                csvreader = csv.reader(file)\n",
    "\n",
    "                for data in csvreader:\n",
    "                    self.insert_data.append(data)\n",
    "            \n",
    "            print(\"read_csv success\")\n",
    "        except Execption as e:\n",
    "            print(f\"Soemthing went wrong {e}\")\n",
    "       \n",
    "                \n",
    "    def insert_csv(self):\n",
    "        try:\n",
    "        \n",
    "            for data in self.insert_data:\n",
    "                if len(data)!= 0: \n",
    "                    self.cursor.execute(\"INSERT INTO books VALUES (?,? ,?)\", (data[0],data[1],data[2])) \n",
    "            \n",
    "            self.connection.commit()\n",
    "            print('insert_csv success')\n",
    "        except Execption as e:\n",
    "            print(f\"Soemthing went wrong {e}\")\n",
    "                \n",
    "    def read_table(self):\n",
    "        \n",
    "        try:\n",
    "            self.cursor.execute('SELECT text FROM books ORDER BY text ASC')\n",
    "            \n",
    "            op = self.cursor.fetchall()\n",
    "            for i in range(len(op)):\n",
    "                #skip the header\n",
    "                if i == 0:\n",
    "                    continue\n",
    "                else:\n",
    "                    print(op[i])\n",
    "                \n",
    "\n",
    "            print('read_table success')\n",
    "\n",
    "        except Exception as e:\n",
    "            print(f\"Soemthing went wrong {e}\")\n",
    "    \n",
    "    def close_connection(self):\n",
    "        try:\n",
    "            self.cursor.close()\n",
    "            self.connection.close()\n",
    "            print('Closed')\n",
    "        except Exception as e:\n",
    "            print(f\"Soemthing went wrong {e}\")"
   ]
  },
  {
   "cell_type": "code",
   "execution_count": 54,
   "id": "f6870d09",
   "metadata": {},
   "outputs": [
    {
     "name": "stdout",
     "output_type": "stream",
     "text": [
      "Initialized\n",
      "('Small Gods',)\n",
      "('The Spellman Files',)\n",
      "('The Weirdstone of Brisingamen',)\n",
      "('Thud!',)\n",
      "('title',)\n",
      "read_table success\n",
      "Closed\n"
     ]
    }
   ],
   "source": [
    "obj = Insert()\n",
    "obj.read_table()\n",
    "obj.close_connection()\n"
   ]
  },
  {
   "cell_type": "code",
   "execution_count": null,
   "id": "1617dfa2",
   "metadata": {},
   "outputs": [],
   "source": []
  },
  {
   "cell_type": "markdown",
   "id": "69b57dd9",
   "metadata": {},
   "source": [
    "# 7. From the book table, select and print all columns in the order of publication.\n"
   ]
  },
  {
   "cell_type": "code",
   "execution_count": 55,
   "id": "edffffd1",
   "metadata": {},
   "outputs": [],
   "source": [
    "import csv\n",
    "import sqlite3\n",
    "\n",
    "class Insert:\n",
    "    \n",
    "    def __init__(self):\n",
    "        try:\n",
    "            #file to read\n",
    "            self.filename = Path('books.csv')\n",
    "            self.insert_data  = []\n",
    "            #Intialize DB Connection\n",
    "            self.connection = sqlite3.connect('books.db')\n",
    "            self.cursor = self.connection.cursor()\n",
    "            print('Initialized')\n",
    "            \n",
    "            \n",
    "        except Exception as e:\n",
    "            print(f\"Soemthing went wrong {e}\")\n",
    "            \n",
    "    def read_csv(self):\n",
    "        \n",
    "        try:\n",
    "            with open(self.filename,'r') as file:\n",
    "                csvreader = csv.reader(file)\n",
    "\n",
    "                for data in csvreader:\n",
    "                    self.insert_data.append(data)\n",
    "            \n",
    "            print(\"read_csv success\")\n",
    "        except Execption as e:\n",
    "            print(f\"Soemthing went wrong {e}\")\n",
    "       \n",
    "                \n",
    "    def insert_csv(self):\n",
    "        try:\n",
    "        \n",
    "            for data in self.insert_data:\n",
    "                if len(data)!= 0: \n",
    "                    self.cursor.execute(\"INSERT INTO books VALUES (?,? ,?)\", (data[0],data[1],data[2])) \n",
    "            \n",
    "            self.connection.commit()\n",
    "            print('insert_csv success')\n",
    "        except Execption as e:\n",
    "            print(f\"Soemthing went wrong {e}\")\n",
    "                \n",
    "    def read_table(self):\n",
    "        \n",
    "        try:\n",
    "            self.cursor.execute('SELECT * FROM books ORDER BY year ASC')\n",
    "            \n",
    "            op = self.cursor.fetchall()\n",
    "            for i in range(len(op)):\n",
    "                #skip the header\n",
    "                if i == 0:\n",
    "                    continue\n",
    "                else:\n",
    "                    print(op[i])\n",
    "                \n",
    "\n",
    "            print('read_table success')\n",
    "\n",
    "        except Exception as e:\n",
    "            print(f\"Soemthing went wrong {e}\")\n",
    "    \n",
    "    def close_connection(self):\n",
    "        try:\n",
    "            self.cursor.close()\n",
    "            self.connection.close()\n",
    "            print('Closed')\n",
    "        except Exception as e:\n",
    "            print(f\"Soemthing went wrong {e}\")"
   ]
  },
  {
   "cell_type": "code",
   "execution_count": 56,
   "id": "cf92a98b",
   "metadata": {},
   "outputs": [
    {
     "name": "stdout",
     "output_type": "stream",
     "text": [
      "Initialized\n",
      "('Small Gods', 'Terry Pratchett', 1992)\n",
      "('Perdido Street Station', 'China Miéville', 2000)\n",
      "('Thud!', 'Terry Pratchett', 2005)\n",
      "('The Spellman Files', 'Lisa Lutz', 2007)\n",
      "('title', 'author', 'year')\n",
      "read_table success\n",
      "Closed\n"
     ]
    }
   ],
   "source": [
    "obj = Insert()\n",
    "obj.read_table()\n",
    "obj.close_connection()\n"
   ]
  },
  {
   "cell_type": "code",
   "execution_count": null,
   "id": "689e8917",
   "metadata": {},
   "outputs": [],
   "source": []
  },
  {
   "cell_type": "markdown",
   "id": "24e29af4",
   "metadata": {},
   "source": [
    "# 8. Use the sqlalchemy module to connect to the sqlite3 database books.db that you just made in exercise 6.\n"
   ]
  },
  {
   "cell_type": "code",
   "execution_count": 3,
   "id": "99f69fa9",
   "metadata": {},
   "outputs": [
    {
     "data": {
      "text/plain": [
       "['books']"
      ]
     },
     "execution_count": 3,
     "metadata": {},
     "output_type": "execute_result"
    }
   ],
   "source": [
    "import sqlalchemy as db\n",
    "engine = db.create_engine(\"sqlite:///books.db\", future=True)\n",
    "insp = db.inspect(engine)\n",
    "insp.get_table_names()\n"
   ]
  },
  {
   "cell_type": "code",
   "execution_count": null,
   "id": "cf393fc1",
   "metadata": {},
   "outputs": [],
   "source": []
  },
  {
   "cell_type": "markdown",
   "id": "6d4cf78b",
   "metadata": {},
   "source": [
    "# 9. Install the Redis server and the Python redis library (pip install redis) on your computer. Create a Redis hash called test with the fields count (1) and name ('Fester Bestertester'). Print all the fields for test.\n",
    "\n"
   ]
  },
  {
   "cell_type": "code",
   "execution_count": 5,
   "id": "74900ba0",
   "metadata": {},
   "outputs": [
    {
     "name": "stdout",
     "output_type": "stream",
     "text": [
      "b'1'\n",
      "b'Fester Bestertester'\n"
     ]
    }
   ],
   "source": [
    "import redis\n",
    "\n",
    "test = redis.Redis(host = 'localhost',port=6379)\n",
    "test.set('count','1')\n",
    "test.set('name','Fester Bestertester')\n",
    "value_1 = r.get('count')\n",
    "value_2 = r.get('name')\n",
    "print(value_1)\n",
    "print(value_2)"
   ]
  },
  {
   "cell_type": "code",
   "execution_count": null,
   "id": "fb80eb88",
   "metadata": {},
   "outputs": [],
   "source": []
  },
  {
   "cell_type": "markdown",
   "id": "45b6d77b",
   "metadata": {},
   "source": [
    "# 10. Increment the count field of test and print it.\n"
   ]
  },
  {
   "cell_type": "code",
   "execution_count": 7,
   "id": "a35ed0ca",
   "metadata": {},
   "outputs": [
    {
     "name": "stdout",
     "output_type": "stream",
     "text": [
      "b'2'\n"
     ]
    }
   ],
   "source": [
    "import redis\n",
    "\n",
    "test = redis.Redis(host = 'localhost',port=6379)\n",
    "test.set('count','1')\n",
    "test.incr('count')\n",
    "value_1 = r.get('count')\n",
    "print(value_1)\n"
   ]
  },
  {
   "cell_type": "code",
   "execution_count": null,
   "id": "1c54fa26",
   "metadata": {},
   "outputs": [],
   "source": []
  }
 ],
 "metadata": {
  "kernelspec": {
   "display_name": "iNeuronFSDSPythonModule",
   "language": "python",
   "name": "ineuronfsdspythonmodule"
  },
  "language_info": {
   "codemirror_mode": {
    "name": "ipython",
    "version": 3
   },
   "file_extension": ".py",
   "mimetype": "text/x-python",
   "name": "python",
   "nbconvert_exporter": "python",
   "pygments_lexer": "ipython3",
   "version": "3.6.12"
  }
 },
 "nbformat": 4,
 "nbformat_minor": 5
}
