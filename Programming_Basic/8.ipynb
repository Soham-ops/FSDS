{
 "cells": [
  {
   "cell_type": "markdown",
   "id": "b7954eda",
   "metadata": {},
   "source": [
    "# 1) Write a Python Program to Add Two Matrices?\n"
   ]
  },
  {
   "cell_type": "code",
   "execution_count": 1,
   "id": "86bb61a8",
   "metadata": {},
   "outputs": [],
   "source": [
    "import numpy as np"
   ]
  },
  {
   "cell_type": "code",
   "execution_count": 101,
   "id": "d1b73dce",
   "metadata": {},
   "outputs": [],
   "source": [
    "class soln1:\n",
    "    \n",
    "    def __init__(self,mat1,mat2):\n",
    "        self.m1 = mat1\n",
    "        self.m2 = mat2\n",
    "        self.res = []\n",
    "        \n",
    "    def mAdd(self):\n",
    "        \n",
    "        #Check dimension of matrix\n",
    "        try:\n",
    "            for i,j in zip(self.m1.shape,self.m2.shape):\n",
    "                if i-j != 0:\n",
    "                    raise Exception(f\"dimensions not same, cant add\")\n",
    "            \n",
    "            # Dimension satisfied perform addition.\n",
    "            else:\n",
    "                for i,j in zip(self.m1,self.m2):\n",
    "                    for i1,j1 in zip(i,j):\n",
    "                        self.res.append(i1+j1)\n",
    "                        \n",
    "                return np.array(self.res)\n",
    "                            \n",
    "        except Exception as e:\n",
    "            print(e)\n",
    "            "
   ]
  },
  {
   "cell_type": "code",
   "execution_count": 104,
   "id": "e2211980",
   "metadata": {},
   "outputs": [
    {
     "data": {
      "text/plain": [
       "array([ 6,  8, 10, 12])"
      ]
     },
     "execution_count": 104,
     "metadata": {},
     "output_type": "execute_result"
    }
   ],
   "source": [
    "mat1 = np.array([[1,2],[3,4]])\n",
    "mat2 = np.array([[5,6],[7,8]])\n",
    "obj = soln1(mat1,mat2)\n",
    "obj.mAdd()"
   ]
  },
  {
   "cell_type": "code",
   "execution_count": 109,
   "id": "faa9b4c7",
   "metadata": {},
   "outputs": [
    {
     "name": "stdout",
     "output_type": "stream",
     "text": [
      "dimensions not same, cant add\n"
     ]
    }
   ],
   "source": [
    "mat1 = np.array([[1,2,2],[3,4,5]])\n",
    "mat2 = np.array([[5,6],[7,8]])\n",
    "obj = soln1(mat1,mat2)\n",
    "obj.mAdd()"
   ]
  },
  {
   "cell_type": "code",
   "execution_count": 110,
   "id": "6439913a",
   "metadata": {},
   "outputs": [
    {
     "name": "stdout",
     "output_type": "stream",
     "text": [
      "dimensions not same, cant add\n"
     ]
    }
   ],
   "source": [
    "mat1 = np.random.randint(100,size=(2,5))\n",
    "mat2 = np.random.randint(100,size =(5,2))\n",
    "obj = soln1(mat1,mat2)\n",
    "obj.mAdd()"
   ]
  },
  {
   "cell_type": "code",
   "execution_count": 111,
   "id": "e24dde0b",
   "metadata": {},
   "outputs": [
    {
     "data": {
      "text/plain": [
       "array([102, 103,  41, 124,  61,  37, 147, 142,  83, 132, 117, 129, 158,\n",
       "        74,  98])"
      ]
     },
     "execution_count": 111,
     "metadata": {},
     "output_type": "execute_result"
    }
   ],
   "source": [
    "mat1 = np.random.randint(100,size=(3,5))\n",
    "mat2 = np.random.randint(100,size =(3,5))\n",
    "obj = soln1(mat1,mat2)\n",
    "obj.mAdd()"
   ]
  },
  {
   "cell_type": "code",
   "execution_count": 112,
   "id": "6652461c",
   "metadata": {},
   "outputs": [
    {
     "data": {
      "text/plain": [
       "array([[ 70,  92, 115,  99, 157],\n",
       "       [ 24,  82,  45,  98,  93],\n",
       "       [ 51, 126,  87,  77,  27],\n",
       "       [ 78, 107,  90,  81, 148],\n",
       "       [ 68,  41, 119,  86, 123],\n",
       "       [ 93,  64, 129, 163, 132]])"
      ]
     },
     "execution_count": 112,
     "metadata": {},
     "output_type": "execute_result"
    }
   ],
   "source": [
    "mat1 = np.random.randint(100,size=(2,3,5))\n",
    "mat2 = np.random.randint(100,size =(2,3,5))\n",
    "obj = soln1(mat1,mat2)\n",
    "obj.mAdd()"
   ]
  },
  {
   "cell_type": "code",
   "execution_count": 113,
   "id": "3db6388d",
   "metadata": {},
   "outputs": [
    {
     "name": "stdout",
     "output_type": "stream",
     "text": [
      "dimensions not same, cant add\n"
     ]
    }
   ],
   "source": [
    "mat1 = np.random.randint(100,size=(2,3,5))\n",
    "mat2 = np.random.randint(100,size =(3,3,5))\n",
    "obj = soln1(mat1,mat2)\n",
    "obj.mAdd()"
   ]
  },
  {
   "cell_type": "markdown",
   "id": "715ac1c9",
   "metadata": {},
   "source": [
    "# 2) Write a Python Program to Multiply Two Matrices?\n"
   ]
  },
  {
   "cell_type": "code",
   "execution_count": 13,
   "id": "29802238",
   "metadata": {},
   "outputs": [],
   "source": [
    "class soln1:\n",
    "    \n",
    "    def __init__(self,mat1,mat2):\n",
    "        self.m1 = mat1\n",
    "        self.m2 = mat2\n",
    "        self.m2_transposed = []\n",
    "        self.row_m1 = mat1.shape[0]\n",
    "        self.col_m1 = mat1.shape[1]\n",
    "        self.row_m2 = mat2.shape[0]\n",
    "        self.col_m2 = mat2.shape[1]\n",
    "        \n",
    "        \n",
    "    def mMul(self):\n",
    "        \n",
    "        \n",
    "        try:\n",
    "            #Dimension Check\n",
    "            if self.col_m1 != self.row_m2:\n",
    "                raise Exception(\"Can't multiply such matrices\")\n",
    "            else:\n",
    "                \n",
    "                \n",
    "                #Transposing matrix m2 \n",
    "                for i in range(len(self.m2[0])):\n",
    "                    temp = []\n",
    "                    for j in range(len(self.m2)):\n",
    "                        temp.append(self.m2[j][i])\n",
    "                    self.m2_transposed.append(temp)\n",
    "                #print(self.m2_transposed)\n",
    "                \n",
    "                #multiply matrix m1 and m2_transposed\n",
    "                res = []\n",
    "                for i in self.m1:\n",
    "                    for j in self.m2_transposed:\n",
    "                        #print(i,j)\n",
    "                        sum1 = 0\n",
    "                        for k,l in zip(i,j):\n",
    "                            sum1+= (k*l)\n",
    "                        res.append(sum1)\n",
    "                \n",
    "                #matrix repr. m1 and m2_transposed multiplication\n",
    "                #will be of the form self.row_m1,self.col_m2\n",
    "                finalres = np.reshape(np.array(res),newshape=(self.row_m1,self.col_m2)) \n",
    "                return finalres\n",
    "        \n",
    "        except Exception as e:\n",
    "            return e\n",
    "            "
   ]
  },
  {
   "cell_type": "markdown",
   "id": "dbaaa3fc",
   "metadata": {},
   "source": [
    "#### eg 1"
   ]
  },
  {
   "cell_type": "code",
   "execution_count": 6,
   "id": "87807441",
   "metadata": {},
   "outputs": [
    {
     "name": "stdout",
     "output_type": "stream",
     "text": [
      "[[ 58  64]\n",
      " [139 154]]\n"
     ]
    }
   ],
   "source": [
    "mat1 = np.array([[1,2,3],[4,5,6]])\n",
    "mat2 = np.array([[7,8],[9,10],[11,12]])\n",
    "obj = soln1(mat1,mat2)\n",
    "print(obj.mMul())"
   ]
  },
  {
   "cell_type": "markdown",
   "id": "967840c9",
   "metadata": {},
   "source": [
    "#### eg1 verification"
   ]
  },
  {
   "cell_type": "code",
   "execution_count": 8,
   "id": "c8522fe7",
   "metadata": {},
   "outputs": [
    {
     "data": {
      "text/plain": [
       "array([[ 58,  64],\n",
       "       [139, 154]])"
      ]
     },
     "execution_count": 8,
     "metadata": {},
     "output_type": "execute_result"
    }
   ],
   "source": [
    "mat1 = np.array([[1,2,3],[4,5,6]])\n",
    "mat2 = np.array([[7,8],[9,10],[11,12]])\n",
    "mat1@mat2"
   ]
  },
  {
   "cell_type": "markdown",
   "id": "242de767",
   "metadata": {},
   "source": [
    "#### eg2"
   ]
  },
  {
   "cell_type": "code",
   "execution_count": 7,
   "id": "eb45369c",
   "metadata": {},
   "outputs": [
    {
     "name": "stdout",
     "output_type": "stream",
     "text": [
      "[[23 26 29 32]\n",
      " [65 74 83 92]]\n"
     ]
    }
   ],
   "source": [
    "mat1 = np.array([[1,2],[4,5]])\n",
    "mat2 = np.array([[5,6,7,8],[9,10,11,12]])\n",
    "obj = soln1(mat1,mat2)\n",
    "print(obj.mMul())"
   ]
  },
  {
   "cell_type": "markdown",
   "id": "1425702d",
   "metadata": {},
   "source": [
    "#### eg2 Verification"
   ]
  },
  {
   "cell_type": "code",
   "execution_count": 3,
   "id": "9942f018",
   "metadata": {},
   "outputs": [
    {
     "data": {
      "text/plain": [
       "array([[23, 26, 29, 32],\n",
       "       [65, 74, 83, 92]])"
      ]
     },
     "execution_count": 3,
     "metadata": {},
     "output_type": "execute_result"
    }
   ],
   "source": [
    "mat1 = np.array([[1,2],[4,5]])\n",
    "mat2 = np.array([[5,6,7,8],[9,10,11,12]])\n",
    "mat1@mat2"
   ]
  },
  {
   "cell_type": "markdown",
   "id": "83e84a3d",
   "metadata": {},
   "source": [
    "#### eg3"
   ]
  },
  {
   "cell_type": "code",
   "execution_count": 10,
   "id": "9517f9b6",
   "metadata": {},
   "outputs": [
    {
     "name": "stdout",
     "output_type": "stream",
     "text": [
      "Can't multiply such matrices\n",
      "None\n"
     ]
    }
   ],
   "source": [
    "mat1 = np.array([[1,2,3],[4,5,6]])\n",
    "mat2 = np.array([[5,6,7,8],[9,10,11,12]])\n",
    "obj = soln1(mat1,mat2)\n",
    "print(obj.mMul())"
   ]
  },
  {
   "cell_type": "markdown",
   "id": "90b892ab",
   "metadata": {},
   "source": [
    "#### eg3 Verification"
   ]
  },
  {
   "cell_type": "code",
   "execution_count": 12,
   "id": "04e6d3ea",
   "metadata": {},
   "outputs": [
    {
     "ename": "ValueError",
     "evalue": "matmul: Input operand 1 has a mismatch in its core dimension 0, with gufunc signature (n?,k),(k,m?)->(n?,m?) (size 2 is different from 3)",
     "output_type": "error",
     "traceback": [
      "\u001b[1;31m---------------------------------------------------------------------------\u001b[0m",
      "\u001b[1;31mValueError\u001b[0m                                Traceback (most recent call last)",
      "\u001b[1;32m<ipython-input-12-26edcf2454b5>\u001b[0m in \u001b[0;36m<module>\u001b[1;34m\u001b[0m\n\u001b[0;32m      1\u001b[0m \u001b[0mmat1\u001b[0m \u001b[1;33m=\u001b[0m \u001b[0mnp\u001b[0m\u001b[1;33m.\u001b[0m\u001b[0marray\u001b[0m\u001b[1;33m(\u001b[0m\u001b[1;33m[\u001b[0m\u001b[1;33m[\u001b[0m\u001b[1;36m1\u001b[0m\u001b[1;33m,\u001b[0m\u001b[1;36m2\u001b[0m\u001b[1;33m,\u001b[0m\u001b[1;36m3\u001b[0m\u001b[1;33m]\u001b[0m\u001b[1;33m,\u001b[0m\u001b[1;33m[\u001b[0m\u001b[1;36m4\u001b[0m\u001b[1;33m,\u001b[0m\u001b[1;36m5\u001b[0m\u001b[1;33m,\u001b[0m\u001b[1;36m6\u001b[0m\u001b[1;33m]\u001b[0m\u001b[1;33m]\u001b[0m\u001b[1;33m)\u001b[0m\u001b[1;33m\u001b[0m\u001b[1;33m\u001b[0m\u001b[0m\n\u001b[0;32m      2\u001b[0m \u001b[0mmat2\u001b[0m \u001b[1;33m=\u001b[0m \u001b[0mnp\u001b[0m\u001b[1;33m.\u001b[0m\u001b[0marray\u001b[0m\u001b[1;33m(\u001b[0m\u001b[1;33m[\u001b[0m\u001b[1;33m[\u001b[0m\u001b[1;36m5\u001b[0m\u001b[1;33m,\u001b[0m\u001b[1;36m6\u001b[0m\u001b[1;33m,\u001b[0m\u001b[1;36m7\u001b[0m\u001b[1;33m,\u001b[0m\u001b[1;36m8\u001b[0m\u001b[1;33m]\u001b[0m\u001b[1;33m,\u001b[0m\u001b[1;33m[\u001b[0m\u001b[1;36m9\u001b[0m\u001b[1;33m,\u001b[0m\u001b[1;36m10\u001b[0m\u001b[1;33m,\u001b[0m\u001b[1;36m11\u001b[0m\u001b[1;33m,\u001b[0m\u001b[1;36m12\u001b[0m\u001b[1;33m]\u001b[0m\u001b[1;33m]\u001b[0m\u001b[1;33m)\u001b[0m\u001b[1;33m\u001b[0m\u001b[1;33m\u001b[0m\u001b[0m\n\u001b[1;32m----> 3\u001b[1;33m \u001b[0mmat1\u001b[0m\u001b[1;33m@\u001b[0m\u001b[0mmat2\u001b[0m\u001b[1;33m\u001b[0m\u001b[1;33m\u001b[0m\u001b[0m\n\u001b[0m",
      "\u001b[1;31mValueError\u001b[0m: matmul: Input operand 1 has a mismatch in its core dimension 0, with gufunc signature (n?,k),(k,m?)->(n?,m?) (size 2 is different from 3)"
     ]
    }
   ],
   "source": [
    "mat1 = np.array([[1,2,3],[4,5,6]])\n",
    "mat2 = np.array([[5,6,7,8],[9,10,11,12]])\n",
    "mat1@mat2"
   ]
  },
  {
   "cell_type": "markdown",
   "id": "a0632c50",
   "metadata": {},
   "source": [
    "# 3) Write a Python Program to Transpose a Matrix?"
   ]
  },
  {
   "cell_type": "code",
   "execution_count": 17,
   "id": "186b88be",
   "metadata": {},
   "outputs": [],
   "source": [
    "class soln3:\n",
    "    \n",
    "    def __init__(self,mat1):\n",
    "        self.m1 = mat1\n",
    "        self.m1_transposed = []\n",
    "    \n",
    "    def mTranspose(self):\n",
    "        try:\n",
    "            for i in range(len(self.m1[0])):\n",
    "                temp = []\n",
    "                for j in range(len(self.m1)):\n",
    "                    temp.append(self.m1[j][i])\n",
    "                self.m1_transposed.append(temp)\n",
    "        \n",
    "            return self.m1_transposed\n",
    "        \n",
    "        except Exception as e:\n",
    "            return e"
   ]
  },
  {
   "cell_type": "code",
   "execution_count": 18,
   "id": "b679c70d",
   "metadata": {},
   "outputs": [
    {
     "data": {
      "text/plain": [
       "[[1, 4], [2, 5], [3, 6]]"
      ]
     },
     "execution_count": 18,
     "metadata": {},
     "output_type": "execute_result"
    }
   ],
   "source": [
    "mat1 = np.array([[1,2,3],[4,5,6]])\n",
    "obj = soln3(mat1)\n",
    "obj.mTranspose()"
   ]
  },
  {
   "cell_type": "markdown",
   "id": "639ae43b",
   "metadata": {},
   "source": [
    "# 4) Write a Python Program to Sort Words in Alphabetic Order?"
   ]
  },
  {
   "cell_type": "code",
   "execution_count": 34,
   "id": "4112f588",
   "metadata": {},
   "outputs": [],
   "source": [
    "class soln4():\n",
    "    \n",
    "    def __init__(self,ls):\n",
    "        self.input_list = ls\n",
    "    \n",
    "    def sortA(self):\n",
    "        try:\n",
    "            self.input_list.sort()\n",
    "            return self.input_list\n",
    "        except Exception as e:\n",
    "            return e"
   ]
  },
  {
   "cell_type": "code",
   "execution_count": 36,
   "id": "c4ee2876",
   "metadata": {},
   "outputs": [
    {
     "name": "stdout",
     "output_type": "stream",
     "text": [
      "['Apple', 'Basket', 'Cat', 'Dog']\n"
     ]
    }
   ],
   "source": [
    "ls = ['Cat','Dog','Basket','Apple']\n",
    "obj = soln4(ls)\n",
    "print(obj.sortA())"
   ]
  },
  {
   "cell_type": "markdown",
   "id": "6c254a11",
   "metadata": {},
   "source": [
    "# 5) Write a Python Program to Remove Punctuation From a String?"
   ]
  },
  {
   "cell_type": "code",
   "execution_count": 14,
   "id": "26f74dcb",
   "metadata": {},
   "outputs": [],
   "source": [
    "class soln5():\n",
    "    def __init__(self,string):\n",
    "        self.input = string\n",
    "        self.result = []\n",
    "    \n",
    "    def removePunct(self):\n",
    "        try:\n",
    "            for i in self.input:\n",
    "                # Assuming everything other than alphabets and obviously not punctuation marks as \n",
    "                # Punctuation marks in the ascii table\n",
    "                if (32<=ord(i)<=47) or (58<=ord(i)<=64) or (91<=ord(i)<=96) or (123<=ord(i)<=126):\n",
    "                    pass\n",
    "                else:\n",
    "                    self.result.append(i)\n",
    "        \n",
    "            return ''.join(self.result)\n",
    "        \n",
    "        except Exception as e:\n",
    "            return e"
   ]
  },
  {
   "cell_type": "code",
   "execution_count": 18,
   "id": "60d1f3b7",
   "metadata": {},
   "outputs": [
    {
     "name": "stdout",
     "output_type": "stream",
     "text": [
      "abcdefghi\n"
     ]
    }
   ],
   "source": [
    "s = \"@!@!@#@!?? abc....>>>def%^&*()ghi\"\n",
    "obj = soln5(s)\n",
    "print(obj.removePunct())"
   ]
  },
  {
   "cell_type": "code",
   "execution_count": 19,
   "id": "8fa9a175",
   "metadata": {},
   "outputs": [
    {
     "name": "stdout",
     "output_type": "stream",
     "text": [
      "sssASdasdd\n"
     ]
    }
   ],
   "source": [
    "s = \"@!@!@#@!?? ss $$$$s....>>>AS?><:'dasdd\"\n",
    "obj = soln5(s)\n",
    "print(obj.removePunct())"
   ]
  },
  {
   "cell_type": "code",
   "execution_count": 21,
   "id": "3c71fa87",
   "metadata": {},
   "outputs": [
    {
     "name": "stdout",
     "output_type": "stream",
     "text": [
      "abcdefgh\n"
     ]
    }
   ],
   "source": [
    "s = \"@!{}{]})()?? abc $$$$d....>>>e?><:'f{]})gh!{}\"\n",
    "obj = soln5(s)\n",
    "print(obj.removePunct())"
   ]
  },
  {
   "cell_type": "code",
   "execution_count": null,
   "id": "89f1f59e",
   "metadata": {},
   "outputs": [],
   "source": []
  }
 ],
 "metadata": {
  "kernelspec": {
   "display_name": "iNeuronFSDSPythonModule",
   "language": "python",
   "name": "ineuronfsdspythonmodule"
  },
  "language_info": {
   "codemirror_mode": {
    "name": "ipython",
    "version": 3
   },
   "file_extension": ".py",
   "mimetype": "text/x-python",
   "name": "python",
   "nbconvert_exporter": "python",
   "pygments_lexer": "ipython3",
   "version": "3.6.12"
  }
 },
 "nbformat": 4,
 "nbformat_minor": 5
}
