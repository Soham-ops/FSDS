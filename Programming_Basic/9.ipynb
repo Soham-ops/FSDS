{
 "cells": [
  {
   "cell_type": "markdown",
   "id": "1a21eefe",
   "metadata": {},
   "source": [
    "# 1) Write a Python program to check if the given number is a Disarium Number?\n"
   ]
  },
  {
   "cell_type": "code",
   "execution_count": 116,
   "id": "3b1536bd",
   "metadata": {},
   "outputs": [],
   "source": [
    "class soln1:\n",
    "    \n",
    "    def __init__(self,N):\n",
    "        self.temp = N\n",
    "        self.n = N\n",
    "        self.ls = []\n",
    "        self.dsum = 0\n",
    "        \n",
    "    def isDisarium(self):\n",
    "        \n",
    "        try:\n",
    "        \n",
    "            #Getting the digits \n",
    "            self.reverse()\n",
    "\n",
    "            #Checking Disarium\n",
    "            while len(self.ls) != 0:\n",
    "                temp_len = len(self.ls)\n",
    "                self.dsum+= (self.ls.pop()**temp_len)\n",
    "\n",
    "            if self.dsum == self.n:\n",
    "                return True\n",
    "            else:\n",
    "                return False\n",
    "        \n",
    "        except Exception as e:\n",
    "            return e\n",
    "\n",
    "    def reverse(self):\n",
    "        try:\n",
    "            \n",
    "            #Extracting the digits\n",
    "            while self.temp != 0 :\n",
    "                self.ls.append(self.temp%10)\n",
    "                self.temp = self.temp//10\n",
    "\n",
    "            #Reversing to get the digits in the same order as the number\n",
    "            self.ls.reverse()\n",
    "        \n",
    "        except Exception as e:\n",
    "            return e"
   ]
  },
  {
   "cell_type": "code",
   "execution_count": 117,
   "id": "46411d2a",
   "metadata": {},
   "outputs": [
    {
     "data": {
      "text/plain": [
       "True"
      ]
     },
     "execution_count": 117,
     "metadata": {},
     "output_type": "execute_result"
    }
   ],
   "source": [
    "N = 89\n",
    "obj = soln1(N)\n",
    "obj.isDisarium()"
   ]
  },
  {
   "cell_type": "code",
   "execution_count": 118,
   "id": "cf1dadde",
   "metadata": {},
   "outputs": [
    {
     "data": {
      "text/plain": [
       "True"
      ]
     },
     "execution_count": 118,
     "metadata": {},
     "output_type": "execute_result"
    }
   ],
   "source": [
    "N = 135\n",
    "obj = soln1(N)\n",
    "obj.isDisarium()"
   ]
  },
  {
   "cell_type": "code",
   "execution_count": 119,
   "id": "ebb1db5e",
   "metadata": {},
   "outputs": [
    {
     "data": {
      "text/plain": [
       "False"
      ]
     },
     "execution_count": 119,
     "metadata": {},
     "output_type": "execute_result"
    }
   ],
   "source": [
    "N = 13589\n",
    "obj = soln1(N)\n",
    "obj.isDisarium()"
   ]
  },
  {
   "cell_type": "code",
   "execution_count": 120,
   "id": "60748054",
   "metadata": {},
   "outputs": [
    {
     "data": {
      "text/plain": [
       "False"
      ]
     },
     "execution_count": 120,
     "metadata": {},
     "output_type": "execute_result"
    }
   ],
   "source": [
    "N = 11231312\n",
    "obj = soln1(N)\n",
    "obj.isDisarium()"
   ]
  },
  {
   "cell_type": "markdown",
   "id": "b495e2a0",
   "metadata": {},
   "source": [
    "# 2) Write a Python program to print all disarium numbers between 1 to 100?"
   ]
  },
  {
   "cell_type": "code",
   "execution_count": 13,
   "id": "98f95011",
   "metadata": {},
   "outputs": [],
   "source": [
    "class soln2:\n",
    "    \n",
    "    def __init__(self,N):\n",
    "        self.temp = N\n",
    "        self.n = N\n",
    "        self.ls = []\n",
    "        self.dsum = 0\n",
    "        \n",
    "    def isDisarium(self):\n",
    "        \n",
    "        try:\n",
    "        \n",
    "            #Getting the digits \n",
    "            self.reverse()\n",
    "\n",
    "            #Checking Disarium\n",
    "            while len(self.ls) != 0:\n",
    "                temp_len = len(self.ls)\n",
    "                self.dsum+= (self.ls.pop()**temp_len)\n",
    "\n",
    "            if self.dsum == self.n:\n",
    "                return True\n",
    "            else:\n",
    "                return False\n",
    "        \n",
    "        except Exception as e:\n",
    "            return e\n",
    "\n",
    "    def reverse(self):\n",
    "        try:\n",
    "            \n",
    "            #Extracting the digits\n",
    "            while self.temp != 0 :\n",
    "                self.ls.append(self.temp%10)\n",
    "                self.temp = self.temp//10\n",
    "\n",
    "            #Reversing to get the digits in the same order as the number\n",
    "            self.ls.reverse()\n",
    "        \n",
    "        except Exception as e:\n",
    "            return e"
   ]
  },
  {
   "cell_type": "code",
   "execution_count": 14,
   "id": "67c35a2c",
   "metadata": {},
   "outputs": [
    {
     "name": "stdout",
     "output_type": "stream",
     "text": [
      "1\n",
      "2\n",
      "3\n",
      "4\n",
      "5\n",
      "6\n",
      "7\n",
      "8\n",
      "9\n",
      "89\n"
     ]
    }
   ],
   "source": [
    "for i in range(1,101):\n",
    "    obj = soln2(i)\n",
    "    if obj.isDisarium():\n",
    "        print(i)"
   ]
  },
  {
   "cell_type": "markdown",
   "id": "7f2368b4",
   "metadata": {},
   "source": [
    "# 3) Write a Python program to check if the given number is Happy Number?\n"
   ]
  },
  {
   "cell_type": "code",
   "execution_count": 3,
   "id": "9be03c76",
   "metadata": {},
   "outputs": [],
   "source": [
    "class soln3:\n",
    "    \n",
    "    def __init__(self,N):\n",
    "        self.n = N\n",
    "        self.numbers_so_far = set()\n",
    "        \n",
    "        \n",
    "    def isHappy(self):\n",
    "        \n",
    "        temp = self.n\n",
    "        \n",
    "        #Go on till temp does not belong 1\n",
    "        while temp != 1:\n",
    "            \n",
    "            #Xtract digit\n",
    "            digit_list= []\n",
    "            while temp != 0:\n",
    "                digit_list.append(temp%10)\n",
    "                temp=temp//10\n",
    "            \n",
    "            #Find the square of the digits and add them\n",
    "            dsum = 0\n",
    "            for i in digit_list:\n",
    "                dsum+= (i**2)\n",
    "                \n",
    "            #If the number has been already encountered then its not a happy numbers\n",
    "            # else store the store and restart loop with the new number\n",
    "            if dsum in self.numbers_so_far:\n",
    "                return False\n",
    "            else:\n",
    "                self.numbers_so_far.add(dsum)\n",
    "                temp=dsum\n",
    "                \n",
    "        #if we have reached 1 then its happy number\n",
    "        else:\n",
    "            return True"
   ]
  },
  {
   "cell_type": "code",
   "execution_count": 4,
   "id": "33c59499",
   "metadata": {},
   "outputs": [
    {
     "data": {
      "text/plain": [
       "True"
      ]
     },
     "execution_count": 4,
     "metadata": {},
     "output_type": "execute_result"
    }
   ],
   "source": [
    "N = 19\n",
    "obj = soln3(N)\n",
    "obj.isHappy()"
   ]
  },
  {
   "cell_type": "code",
   "execution_count": 5,
   "id": "563d3b4b",
   "metadata": {},
   "outputs": [
    {
     "data": {
      "text/plain": [
       "True"
      ]
     },
     "execution_count": 5,
     "metadata": {},
     "output_type": "execute_result"
    }
   ],
   "source": [
    "N = 13\n",
    "obj = soln3(N)\n",
    "obj.isHappy()"
   ]
  },
  {
   "cell_type": "code",
   "execution_count": 6,
   "id": "541612cb",
   "metadata": {},
   "outputs": [
    {
     "data": {
      "text/plain": [
       "False"
      ]
     },
     "execution_count": 6,
     "metadata": {},
     "output_type": "execute_result"
    }
   ],
   "source": [
    "N = 20\n",
    "obj = soln3(N)\n",
    "obj.isHappy()"
   ]
  },
  {
   "cell_type": "code",
   "execution_count": 7,
   "id": "beebef69",
   "metadata": {},
   "outputs": [
    {
     "data": {
      "text/plain": [
       "False"
      ]
     },
     "execution_count": 7,
     "metadata": {},
     "output_type": "execute_result"
    }
   ],
   "source": [
    "N = 229\n",
    "obj = soln3(N)\n",
    "obj.isHappy()"
   ]
  },
  {
   "cell_type": "markdown",
   "id": "f0f82f28",
   "metadata": {},
   "source": [
    "# 4) Write a Python program to print all happy numbers between 1 and 100?\n"
   ]
  },
  {
   "cell_type": "code",
   "execution_count": 15,
   "id": "0c1e8df3",
   "metadata": {},
   "outputs": [],
   "source": [
    "class soln4:\n",
    "    \n",
    "    def __init__(self,N):\n",
    "        self.n = N\n",
    "        self.numbers_so_far = set()\n",
    "        \n",
    "        \n",
    "    def isHappy(self):\n",
    "        \n",
    "        temp = self.n\n",
    "        \n",
    "        #Go on till temp does not belong 1\n",
    "        while temp != 1:\n",
    "            \n",
    "            #Xtract digit\n",
    "            digit_list= []\n",
    "            while temp != 0:\n",
    "                digit_list.append(temp%10)\n",
    "                temp=temp//10\n",
    "            \n",
    "            #Find the square of the digits and add them\n",
    "            dsum = 0\n",
    "            for i in digit_list:\n",
    "                dsum+= (i**2)\n",
    "                \n",
    "            #If the number has been already encountered then its not a happy numbers\n",
    "            # else store the store and restart loop with the new number\n",
    "            if dsum in self.numbers_so_far:\n",
    "                return False\n",
    "            else:\n",
    "                self.numbers_so_far.add(dsum)\n",
    "                temp=dsum\n",
    "                \n",
    "        #if we have reached 1 then its happy number\n",
    "        else:\n",
    "            return True"
   ]
  },
  {
   "cell_type": "code",
   "execution_count": 16,
   "id": "fc54843b",
   "metadata": {},
   "outputs": [
    {
     "name": "stdout",
     "output_type": "stream",
     "text": [
      "1\n",
      "7\n",
      "10\n",
      "13\n",
      "19\n",
      "23\n",
      "28\n",
      "31\n",
      "32\n",
      "44\n",
      "49\n",
      "68\n",
      "70\n",
      "79\n",
      "82\n",
      "86\n",
      "91\n",
      "94\n",
      "97\n",
      "100\n"
     ]
    }
   ],
   "source": [
    "for i in range(1,101):\n",
    "    obj = soln4(i)\n",
    "    if obj.isHappy():\n",
    "        print(i)"
   ]
  },
  {
   "cell_type": "markdown",
   "id": "d4d1d590",
   "metadata": {},
   "source": [
    "# 5) Write a Python program to determine whether the given number is a Harshad Number?"
   ]
  },
  {
   "cell_type": "code",
   "execution_count": 21,
   "id": "ec47d8ef",
   "metadata": {},
   "outputs": [],
   "source": [
    "class soln5:\n",
    "    \n",
    "    def __init__(self,N):\n",
    "        self.n = N\n",
    "        self.dsum = 0\n",
    "        self.digit_list = []\n",
    "        \n",
    "    def isHarshad(self):\n",
    "        \n",
    "        temp = self.n\n",
    "        #Xtract digits\n",
    "        while temp!= 0:\n",
    "            self.digit_list.append(temp%10)\n",
    "            temp = temp//10\n",
    "            \n",
    "        #Check whether Harshad number\n",
    "        self.dsum = sum(self.digit_list)\n",
    "        \n",
    "        if self.n%self.dsum == 0:\n",
    "            return True\n",
    "        else:\n",
    "            return False"
   ]
  },
  {
   "cell_type": "code",
   "execution_count": 22,
   "id": "467265cc",
   "metadata": {},
   "outputs": [
    {
     "data": {
      "text/plain": [
       "True"
      ]
     },
     "execution_count": 22,
     "metadata": {},
     "output_type": "execute_result"
    }
   ],
   "source": [
    "N = 1\n",
    "obj = soln5(N)\n",
    "obj.isHarshad()"
   ]
  },
  {
   "cell_type": "code",
   "execution_count": 23,
   "id": "738641e2",
   "metadata": {},
   "outputs": [
    {
     "data": {
      "text/plain": [
       "True"
      ]
     },
     "execution_count": 23,
     "metadata": {},
     "output_type": "execute_result"
    }
   ],
   "source": [
    "N = 2\n",
    "obj = soln5(N)\n",
    "obj.isHarshad()"
   ]
  },
  {
   "cell_type": "code",
   "execution_count": 24,
   "id": "fb88b725",
   "metadata": {},
   "outputs": [
    {
     "data": {
      "text/plain": [
       "False"
      ]
     },
     "execution_count": 24,
     "metadata": {},
     "output_type": "execute_result"
    }
   ],
   "source": [
    "N = 11\n",
    "obj = soln5(N)\n",
    "obj.isHarshad()"
   ]
  },
  {
   "cell_type": "code",
   "execution_count": 25,
   "id": "949ebc1d",
   "metadata": {},
   "outputs": [
    {
     "data": {
      "text/plain": [
       "True"
      ]
     },
     "execution_count": 25,
     "metadata": {},
     "output_type": "execute_result"
    }
   ],
   "source": [
    "N = 20\n",
    "obj = soln5(N)\n",
    "obj.isHarshad()"
   ]
  },
  {
   "cell_type": "markdown",
   "id": "cc13117c",
   "metadata": {},
   "source": [
    "# 6) Write a Python program to print all pronic numbers between 1 and 100?\n"
   ]
  },
  {
   "cell_type": "code",
   "execution_count": 44,
   "id": "2cc868b6",
   "metadata": {},
   "outputs": [],
   "source": [
    "class soln6:\n",
    "    \n",
    "    def __init__(self,N):\n",
    "        self.n = N\n",
    "    \n",
    "    #will give pronic number as o/p for range(self.n)\n",
    "    def genPronic(self):\n",
    "        for i in range(self.n):\n",
    "            yield i*(i+1)"
   ]
  },
  {
   "cell_type": "code",
   "execution_count": 45,
   "id": "53f40892",
   "metadata": {},
   "outputs": [
    {
     "name": "stdout",
     "output_type": "stream",
     "text": [
      "0\n",
      "2\n",
      "6\n",
      "12\n",
      "20\n",
      "30\n",
      "42\n",
      "56\n",
      "72\n",
      "90\n"
     ]
    }
   ],
   "source": [
    "#Assuming if i go till N =100 in this formula n*(n+1) \n",
    "#will be able to output pronic number in the range between 1 - 100 \n",
    "# Thus N=100 has been chosen\n",
    "N = 100\n",
    "obj = soln6(N)\n",
    "#Receive pronic numbers but break if value received is > 100\n",
    "for i in obj.genPronic():\n",
    "    if i <=100:\n",
    "        print(i)\n",
    "    else:\n",
    "        break"
   ]
  },
  {
   "cell_type": "code",
   "execution_count": null,
   "id": "64218d8f",
   "metadata": {},
   "outputs": [],
   "source": []
  }
 ],
 "metadata": {
  "kernelspec": {
   "display_name": "iNeuronFSDSPythonModule",
   "language": "python",
   "name": "ineuronfsdspythonmodule"
  },
  "language_info": {
   "codemirror_mode": {
    "name": "ipython",
    "version": 3
   },
   "file_extension": ".py",
   "mimetype": "text/x-python",
   "name": "python",
   "nbconvert_exporter": "python",
   "pygments_lexer": "ipython3",
   "version": "3.6.12"
  }
 },
 "nbformat": 4,
 "nbformat_minor": 5
}
