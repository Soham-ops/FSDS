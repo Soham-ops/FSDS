{
 "cells": [
  {
   "cell_type": "markdown",
   "id": "internal-division",
   "metadata": {},
   "source": [
    "## 1.Write a Python Program to Find the Factorial of a Number?"
   ]
  },
  {
   "cell_type": "code",
   "execution_count": 2,
   "id": "northern-glasgow",
   "metadata": {},
   "outputs": [],
   "source": [
    "def fact(n):\n",
    "    if n == 0 or n==1:\n",
    "        return 1\n",
    "    f=1\n",
    "    for i in range(1,n+1):\n",
    "        f*=i\n",
    "    return f"
   ]
  },
  {
   "cell_type": "code",
   "execution_count": 3,
   "id": "fresh-heater",
   "metadata": {},
   "outputs": [
    {
     "name": "stdout",
     "output_type": "stream",
     "text": [
      "Enter -- 6\n"
     ]
    },
    {
     "data": {
      "text/plain": [
       "720"
      ]
     },
     "execution_count": 3,
     "metadata": {},
     "output_type": "execute_result"
    }
   ],
   "source": [
    "inp = int(input(\"Enter -- \"))\n",
    "fact(inp)"
   ]
  },
  {
   "cell_type": "markdown",
   "id": "cutting-attention",
   "metadata": {},
   "source": [
    "## 2.Write a Python Program to Display the multiplication Table?"
   ]
  },
  {
   "cell_type": "code",
   "execution_count": 5,
   "id": "ruled-voluntary",
   "metadata": {},
   "outputs": [],
   "source": [
    "def dispMul(n,r):\n",
    "    for i in range(r+1):\n",
    "        print(f\"{n} {i} za {n*i}\")"
   ]
  },
  {
   "cell_type": "code",
   "execution_count": 6,
   "id": "sitting-egypt",
   "metadata": {},
   "outputs": [
    {
     "name": "stdout",
     "output_type": "stream",
     "text": [
      "Enter number and range separated by space2 12\n",
      "2 0 za 0\n",
      "2 1 za 2\n",
      "2 2 za 4\n",
      "2 3 za 6\n",
      "2 4 za 8\n",
      "2 5 za 10\n",
      "2 6 za 12\n",
      "2 7 za 14\n",
      "2 8 za 16\n",
      "2 9 za 18\n",
      "2 10 za 20\n",
      "2 11 za 22\n",
      "2 12 za 24\n"
     ]
    }
   ],
   "source": [
    "inLs = [int(i) for i in input('Enter number and range separated by space').split()]\n",
    "dispMul(inLs[0],inLs[1])"
   ]
  },
  {
   "cell_type": "markdown",
   "id": "restricted-sampling",
   "metadata": {},
   "source": [
    "## 3.Write a Python Program to Print the Fibonacci sequence?"
   ]
  },
  {
   "cell_type": "code",
   "execution_count": 18,
   "id": "irish-usage",
   "metadata": {},
   "outputs": [],
   "source": [
    "def fib(n):\n",
    "    a=1\n",
    "    b=1\n",
    "    for i in range(n):\n",
    "        yield a\n",
    "        a,b=b,a+b    "
   ]
  },
  {
   "cell_type": "code",
   "execution_count": 19,
   "id": "acknowledged-building",
   "metadata": {},
   "outputs": [
    {
     "name": "stdout",
     "output_type": "stream",
     "text": [
      "Enter count of sequence -- 10\n",
      "1 1 2 3 5 8 13 21 34 55 "
     ]
    }
   ],
   "source": [
    "inp = int(input(\"Enter count of sequence -- \"))\n",
    "for i in fib(inp):\n",
    "    print(i,end=\" \")"
   ]
  },
  {
   "cell_type": "markdown",
   "id": "following-expense",
   "metadata": {},
   "source": [
    "## 4.Write a Python Program to Check Armstrong Number?"
   ]
  },
  {
   "cell_type": "code",
   "execution_count": 30,
   "id": "material-escape",
   "metadata": {},
   "outputs": [],
   "source": [
    "def armstrongNumber (n):\n",
    "        #check count of digits:\n",
    "        temp = n\n",
    "        cnt=0\n",
    "        while temp >0:\n",
    "            temp=temp//10\n",
    "            cnt+=1\n",
    "        \n",
    "        #Check armstrong\n",
    "        temp =n\n",
    "        A = 0\n",
    "        while n > 0:\n",
    "            A+= (n%10)**cnt\n",
    "            n=n//10\n",
    "        if A == temp:\n",
    "            return True\n",
    "        else:\n",
    "            return False"
   ]
  },
  {
   "cell_type": "code",
   "execution_count": 36,
   "id": "scheduled-transparency",
   "metadata": {},
   "outputs": [
    {
     "data": {
      "text/plain": [
       "True"
      ]
     },
     "execution_count": 36,
     "metadata": {},
     "output_type": "execute_result"
    }
   ],
   "source": [
    "armstrongNumber(9474)"
   ]
  },
  {
   "cell_type": "markdown",
   "id": "declared-conservation",
   "metadata": {},
   "source": [
    "## 5.Write a Python Program to Find Armstrong Number in an Interval?"
   ]
  },
  {
   "cell_type": "code",
   "execution_count": 41,
   "id": "bizarre-single",
   "metadata": {},
   "outputs": [],
   "source": [
    "def armstrongNumber (n):\n",
    "        #check count of digits:\n",
    "        temp = n\n",
    "        cnt=0\n",
    "        while temp >0:\n",
    "            temp=temp//10\n",
    "            cnt+=1\n",
    "        \n",
    "        #Check armstrong\n",
    "        temp =n\n",
    "        A = 0\n",
    "        while n > 0:\n",
    "            A+= (n%10)**cnt\n",
    "            n=n//10\n",
    "        if A == temp:\n",
    "            return True\n",
    "        else:\n",
    "            return False\n",
    "def supply(n):\n",
    "    for i in range(n):\n",
    "        if armstrongNumber(i):\n",
    "            yield i"
   ]
  },
  {
   "cell_type": "code",
   "execution_count": 42,
   "id": "active-stable",
   "metadata": {},
   "outputs": [
    {
     "name": "stdout",
     "output_type": "stream",
     "text": [
      "0\n",
      "1\n",
      "2\n",
      "3\n",
      "4\n",
      "5\n",
      "6\n",
      "7\n",
      "8\n",
      "9\n",
      "153\n",
      "370\n",
      "371\n",
      "407\n",
      "1634\n",
      "8208\n",
      "9474\n"
     ]
    }
   ],
   "source": [
    "for i in supply(10000):\n",
    "    print(i)"
   ]
  },
  {
   "cell_type": "markdown",
   "id": "little-angola",
   "metadata": {},
   "source": [
    "## 6.Write a Python Program to Find the Sum of Natural Numbers?\n"
   ]
  },
  {
   "cell_type": "code",
   "execution_count": 43,
   "id": "indoor-nitrogen",
   "metadata": {},
   "outputs": [],
   "source": [
    "def sumNat(n):\n",
    "    return (n*(n+1))//2"
   ]
  },
  {
   "cell_type": "code",
   "execution_count": 44,
   "id": "chronic-tuition",
   "metadata": {},
   "outputs": [
    {
     "data": {
      "text/plain": [
       "55"
      ]
     },
     "execution_count": 44,
     "metadata": {},
     "output_type": "execute_result"
    }
   ],
   "source": [
    "sumNat(10)"
   ]
  },
  {
   "cell_type": "code",
   "execution_count": null,
   "id": "canadian-massachusetts",
   "metadata": {},
   "outputs": [],
   "source": []
  }
 ],
 "metadata": {
  "kernelspec": {
   "display_name": "iNeuronFSDSPythonModule",
   "language": "python",
   "name": "ineuronfsdspythonmodule"
  },
  "language_info": {
   "codemirror_mode": {
    "name": "ipython",
    "version": 3
   },
   "file_extension": ".py",
   "mimetype": "text/x-python",
   "name": "python",
   "nbconvert_exporter": "python",
   "pygments_lexer": "ipython3",
   "version": "3.6.12"
  }
 },
 "nbformat": 4,
 "nbformat_minor": 5
}
