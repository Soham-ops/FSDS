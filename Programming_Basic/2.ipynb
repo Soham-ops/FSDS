{
 "cells": [
  {
   "cell_type": "markdown",
   "id": "starting-logging",
   "metadata": {},
   "source": [
    "## 1.Write a Python program to convert kilometers to miles?"
   ]
  },
  {
   "cell_type": "code",
   "execution_count": 3,
   "id": "stainless-venezuela",
   "metadata": {},
   "outputs": [
    {
     "name": "stdout",
     "output_type": "stream",
     "text": [
      "Enter km -- 10.21\n",
      "10.21 km is equal to 6.34041 miles\n"
     ]
    }
   ],
   "source": [
    "k = float(input(\"Enter km -- \"))\n",
    "m = 0.621*k\n",
    "print(f\"{k} km is equal to {m} miles\")"
   ]
  },
  {
   "cell_type": "markdown",
   "id": "sapphire-confusion",
   "metadata": {},
   "source": [
    "## 2.Write a Python program to convert Celsius to Fahrenheit?"
   ]
  },
  {
   "cell_type": "code",
   "execution_count": 3,
   "id": "curious-burden",
   "metadata": {},
   "outputs": [
    {
     "name": "stdout",
     "output_type": "stream",
     "text": [
      "Enter temp in Celsius -- 37\n",
      "37.0 celsius is equal to 98.60 farenheit\n"
     ]
    }
   ],
   "source": [
    "c = float(input(\"Enter temp in Celsius -- \"))\n",
    "f = ((9/5)*c) + 32\n",
    "print(f\"{c} celsius is equal to {f:.2f} farenheit\")"
   ]
  },
  {
   "cell_type": "markdown",
   "id": "molecular-chrome",
   "metadata": {},
   "source": [
    "## 3.Write a Python program to display calendar?"
   ]
  },
  {
   "cell_type": "code",
   "execution_count": 5,
   "id": "second-offset",
   "metadata": {},
   "outputs": [],
   "source": [
    "import calendar"
   ]
  },
  {
   "cell_type": "code",
   "execution_count": 10,
   "id": "conceptual-evans",
   "metadata": {},
   "outputs": [
    {
     "name": "stdout",
     "output_type": "stream",
     "text": [
      "Enter year -- 2020\n"
     ]
    },
    {
     "data": {
      "text/plain": [
       "['                                  2020',\n",
       " '',\n",
       " '      January                   February                   March',\n",
       " 'Mo Tu We Th Fr Sa Su      Mo Tu We Th Fr Sa Su      Mo Tu We Th Fr Sa Su',\n",
       " '       1  2  3  4  5                      1  2                         1',\n",
       " ' 6  7  8  9 10 11 12       3  4  5  6  7  8  9       2  3  4  5  6  7  8',\n",
       " '13 14 15 16 17 18 19      10 11 12 13 14 15 16       9 10 11 12 13 14 15',\n",
       " '20 21 22 23 24 25 26      17 18 19 20 21 22 23      16 17 18 19 20 21 22',\n",
       " '27 28 29 30 31            24 25 26 27 28 29         23 24 25 26 27 28 29',\n",
       " '                                                    30 31',\n",
       " '',\n",
       " '       April                      May                       June',\n",
       " 'Mo Tu We Th Fr Sa Su      Mo Tu We Th Fr Sa Su      Mo Tu We Th Fr Sa Su',\n",
       " '       1  2  3  4  5                   1  2  3       1  2  3  4  5  6  7',\n",
       " ' 6  7  8  9 10 11 12       4  5  6  7  8  9 10       8  9 10 11 12 13 14',\n",
       " '13 14 15 16 17 18 19      11 12 13 14 15 16 17      15 16 17 18 19 20 21',\n",
       " '20 21 22 23 24 25 26      18 19 20 21 22 23 24      22 23 24 25 26 27 28',\n",
       " '27 28 29 30               25 26 27 28 29 30 31      29 30',\n",
       " '',\n",
       " '        July                     August                  September',\n",
       " 'Mo Tu We Th Fr Sa Su      Mo Tu We Th Fr Sa Su      Mo Tu We Th Fr Sa Su',\n",
       " '       1  2  3  4  5                      1  2          1  2  3  4  5  6',\n",
       " ' 6  7  8  9 10 11 12       3  4  5  6  7  8  9       7  8  9 10 11 12 13',\n",
       " '13 14 15 16 17 18 19      10 11 12 13 14 15 16      14 15 16 17 18 19 20',\n",
       " '20 21 22 23 24 25 26      17 18 19 20 21 22 23      21 22 23 24 25 26 27',\n",
       " '27 28 29 30 31            24 25 26 27 28 29 30      28 29 30',\n",
       " '                          31',\n",
       " '',\n",
       " '      October                   November                  December',\n",
       " 'Mo Tu We Th Fr Sa Su      Mo Tu We Th Fr Sa Su      Mo Tu We Th Fr Sa Su',\n",
       " '          1  2  3  4                         1          1  2  3  4  5  6',\n",
       " ' 5  6  7  8  9 10 11       2  3  4  5  6  7  8       7  8  9 10 11 12 13',\n",
       " '12 13 14 15 16 17 18       9 10 11 12 13 14 15      14 15 16 17 18 19 20',\n",
       " '19 20 21 22 23 24 25      16 17 18 19 20 21 22      21 22 23 24 25 26 27',\n",
       " '26 27 28 29 30 31         23 24 25 26 27 28 29      28 29 30 31',\n",
       " '                          30',\n",
       " '']"
      ]
     },
     "execution_count": 10,
     "metadata": {},
     "output_type": "execute_result"
    }
   ],
   "source": [
    "i = int(input(\"Enter year -- \"))\n",
    "calendar.calendar(i).split(\"\\n\")"
   ]
  },
  {
   "cell_type": "markdown",
   "id": "american-creator",
   "metadata": {},
   "source": [
    "## 4.Write a Python program to solve quadratic equation?\n"
   ]
  },
  {
   "cell_type": "code",
   "execution_count": 12,
   "id": "great-bhutan",
   "metadata": {},
   "outputs": [
    {
     "name": "stdout",
     "output_type": "stream",
     "text": [
      "Please enter coeffients separated by spaces -- 2 8 12\n",
      "Roots are complex\n",
      "Roots are -- [(-2+5.656854249492381j), (-2-5.656854249492381j)]\n"
     ]
    }
   ],
   "source": [
    "from math import sqrt\n",
    "def quad(a,b,c):\n",
    "    if a==0:\n",
    "        return 'Invalid'\n",
    "    else:\n",
    "        d = (b**2)-(4*a*c)\n",
    "        sqd = sqrt(abs(d))\n",
    "        \n",
    "        if d > 0:\n",
    "            print(f\"Roots are real and different\")\n",
    "            return [(-b + sqd)/(2 * a),(-b - sqd)/(2 * a)]\n",
    "        elif d == 0:\n",
    "            print(\"Roots are real and same\")\n",
    "            return [-b / (2*a)]\n",
    "        \n",
    "        else:\n",
    "            print(\"Roots are complex\")\n",
    "            return[complex(- b / (2*a),sqd),complex(- b / (2*a),-sqd)]\n",
    "        \n",
    "\n",
    "a,b,c = [int(i) for i in input(\"Please enter coeffients separated by spaces -- \").split()]\n",
    "print(f\"Roots are -- {quad(a,b,c)}\")"
   ]
  },
  {
   "cell_type": "markdown",
   "id": "maritime-belgium",
   "metadata": {},
   "source": [
    "## 5.Write a Python program to swap two variables without temp variable?\n"
   ]
  },
  {
   "cell_type": "code",
   "execution_count": 4,
   "id": "martial-patient",
   "metadata": {},
   "outputs": [
    {
     "name": "stdout",
     "output_type": "stream",
     "text": [
      "Enter -- 1\n",
      "Enter -- 2\n",
      "a is 1 and b is 2\n",
      "a is 2 and b is 1\n"
     ]
    }
   ],
   "source": [
    "a = int(input(\"Enter -- \"))\n",
    "b = int(input(\"Enter -- \"))\n",
    "print(f\"a is {a} and b is {b}\")\n",
    "a,b = b,a\n",
    "print(f\"a is {a} and b is {b}\")"
   ]
  },
  {
   "cell_type": "code",
   "execution_count": null,
   "id": "secret-project",
   "metadata": {},
   "outputs": [],
   "source": []
  }
 ],
 "metadata": {
  "kernelspec": {
   "display_name": "iNeuronFSDSPythonModule",
   "language": "python",
   "name": "ineuronfsdspythonmodule"
  },
  "language_info": {
   "codemirror_mode": {
    "name": "ipython",
    "version": 3
   },
   "file_extension": ".py",
   "mimetype": "text/x-python",
   "name": "python",
   "nbconvert_exporter": "python",
   "pygments_lexer": "ipython3",
   "version": "3.6.12"
  }
 },
 "nbformat": 4,
 "nbformat_minor": 5
}
