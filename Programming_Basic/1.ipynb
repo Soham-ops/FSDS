{
 "cells": [
  {
   "cell_type": "markdown",
   "id": "hungarian-bacteria",
   "metadata": {},
   "source": [
    "## 1. Write a Python program to print \"Hello Python\"?\n"
   ]
  },
  {
   "cell_type": "code",
   "execution_count": 1,
   "id": "commercial-supervisor",
   "metadata": {},
   "outputs": [
    {
     "name": "stdout",
     "output_type": "stream",
     "text": [
      "Hello Python\n"
     ]
    }
   ],
   "source": [
    "print('Hello Python')"
   ]
  },
  {
   "cell_type": "markdown",
   "id": "boolean-south",
   "metadata": {},
   "source": [
    "## 2. Write a Python program to do arithmetical operations addition and division.?"
   ]
  },
  {
   "cell_type": "code",
   "execution_count": 2,
   "id": "about-cliff",
   "metadata": {},
   "outputs": [
    {
     "data": {
      "text/plain": [
       "4"
      ]
     },
     "execution_count": 2,
     "metadata": {},
     "output_type": "execute_result"
    }
   ],
   "source": [
    "#add\n",
    "2+2"
   ]
  },
  {
   "cell_type": "code",
   "execution_count": 4,
   "id": "affiliated-street",
   "metadata": {},
   "outputs": [
    {
     "data": {
      "text/plain": [
       "2"
      ]
     },
     "execution_count": 4,
     "metadata": {},
     "output_type": "execute_result"
    }
   ],
   "source": [
    "#div\n",
    "4//2"
   ]
  },
  {
   "cell_type": "markdown",
   "id": "oriental-stevens",
   "metadata": {},
   "source": [
    "## 3. Write a Python program to find the area of a triangle?\n"
   ]
  },
  {
   "cell_type": "code",
   "execution_count": 13,
   "id": "relevant-valentine",
   "metadata": {},
   "outputs": [
    {
     "name": "stdout",
     "output_type": "stream",
     "text": [
      "Enter height and base separated by space -- 10 5\n"
     ]
    }
   ],
   "source": [
    "h,b = [int(i) for i in input(\"Enter height and base separated by space -- \").split()]"
   ]
  },
  {
   "cell_type": "code",
   "execution_count": 14,
   "id": "ceramic-craft",
   "metadata": {},
   "outputs": [],
   "source": [
    "A = (b*h)/2"
   ]
  },
  {
   "cell_type": "code",
   "execution_count": 15,
   "id": "fossil-turkish",
   "metadata": {},
   "outputs": [
    {
     "name": "stdout",
     "output_type": "stream",
     "text": [
      "25.0\n"
     ]
    }
   ],
   "source": [
    "print(A)"
   ]
  },
  {
   "cell_type": "markdown",
   "id": "younger-public",
   "metadata": {},
   "source": [
    "## 4. Write a Python program to swap two variables?\n"
   ]
  },
  {
   "cell_type": "code",
   "execution_count": 16,
   "id": "overhead-narrow",
   "metadata": {},
   "outputs": [
    {
     "name": "stdout",
     "output_type": "stream",
     "text": [
      "Enter -- 1\n",
      "Enter --2\n",
      "a is 1 and b is 2\n",
      "a is 2 and b is 1\n"
     ]
    }
   ],
   "source": [
    "a = input('Enter -- ')\n",
    "b = input('Enter --')\n",
    "print(f\"a is {a} and b is {b}\")\n",
    "a,b=b,a\n",
    "print(f\"a is {a} and b is {b}\")"
   ]
  },
  {
   "cell_type": "markdown",
   "id": "recorded-cheese",
   "metadata": {},
   "source": [
    "## 5.Write a Python program to generate a random number?\n"
   ]
  },
  {
   "cell_type": "code",
   "execution_count": 18,
   "id": "automated-conflict",
   "metadata": {},
   "outputs": [
    {
     "name": "stdout",
     "output_type": "stream",
     "text": [
      "Enter range separated by space --1 10\n"
     ]
    },
    {
     "data": {
      "text/plain": [
       "8"
      ]
     },
     "execution_count": 18,
     "metadata": {},
     "output_type": "execute_result"
    }
   ],
   "source": [
    "import random\n",
    "a,b = [int(i) for i in input(\"Enter range separated by space --\").split()]\n",
    "random.randrange(a,b)"
   ]
  },
  {
   "cell_type": "code",
   "execution_count": null,
   "id": "micro-cable",
   "metadata": {},
   "outputs": [],
   "source": []
  }
 ],
 "metadata": {
  "kernelspec": {
   "display_name": "iNeuronFSDSPythonModule",
   "language": "python",
   "name": "ineuronfsdspythonmodule"
  },
  "language_info": {
   "codemirror_mode": {
    "name": "ipython",
    "version": 3
   },
   "file_extension": ".py",
   "mimetype": "text/x-python",
   "name": "python",
   "nbconvert_exporter": "python",
   "pygments_lexer": "ipython3",
   "version": "3.6.12"
  }
 },
 "nbformat": 4,
 "nbformat_minor": 5
}
