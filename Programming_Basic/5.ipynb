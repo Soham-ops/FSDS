{
 "cells": [
  {
   "cell_type": "markdown",
   "id": "painful-profession",
   "metadata": {},
   "source": [
    "# 1.Write a Python Program to Find LCM?"
   ]
  },
  {
   "cell_type": "markdown",
   "id": "particular-platform",
   "metadata": {},
   "source": [
    "# Soln"
   ]
  },
  {
   "cell_type": "markdown",
   "id": "accepted-candy",
   "metadata": {},
   "source": [
    "NOTE - We know that for two numbers a,b\n",
    "LCM * HCF = a*b"
   ]
  },
  {
   "cell_type": "code",
   "execution_count": 4,
   "id": "simplified-local",
   "metadata": {},
   "outputs": [
    {
     "name": "stdout",
     "output_type": "stream",
     "text": [
      "60\n"
     ]
    }
   ],
   "source": [
    "class LCM:\n",
    "    def __init__(self,a,b):\n",
    "        self.a = a\n",
    "        self.b =b\n",
    "        \n",
    "    def HCF(self):\n",
    "        if self.a>self.b:\n",
    "            dividend = self.a\n",
    "            divisor = self.b\n",
    "\n",
    "        dividend = self.b\n",
    "        divisor = self.a\n",
    "        while dividend%divisor != 0:\n",
    "            remainder = dividend % divisor\n",
    "            dividend = divisor\n",
    "            divisor = remainder\n",
    "\n",
    "        return divisor\n",
    "\n",
    "    def LCM(self):\n",
    "        hcf = self.HCF()\n",
    "        lcm = (self.a*self.b)//hcf\n",
    "        return lcm\n",
    "l = LCM(6,20)\n",
    "print(l.LCM())\n"
   ]
  },
  {
   "cell_type": "markdown",
   "id": "suffering-amplifier",
   "metadata": {},
   "source": [
    "# 2.Write a Python Program to Find HCF?"
   ]
  },
  {
   "cell_type": "markdown",
   "id": "handled-comparison",
   "metadata": {},
   "source": [
    "# Soln"
   ]
  },
  {
   "cell_type": "code",
   "execution_count": 6,
   "id": "rational-journey",
   "metadata": {},
   "outputs": [],
   "source": [
    "class HCF:\n",
    "    \n",
    "    def __init__(self,a,b):\n",
    "        self.a = a\n",
    "        self.b = b\n",
    "    \n",
    "    def HCF(self):\n",
    "        if self.a>self.b:\n",
    "            \n",
    "            dividend = self.a\n",
    "            divisor = self.b\n",
    "\n",
    "        dividend = self.b\n",
    "        divisor = self.a\n",
    "        \n",
    "        while dividend%divisor != 0:\n",
    "            \n",
    "            remainder = dividend % divisor\n",
    "            dividend = divisor\n",
    "            divisor = remainder\n",
    "\n",
    "        return divisor\n"
   ]
  },
  {
   "cell_type": "code",
   "execution_count": 7,
   "id": "brave-romance",
   "metadata": {},
   "outputs": [
    {
     "name": "stdout",
     "output_type": "stream",
     "text": [
      "Enter two number -> 36 6\n"
     ]
    },
    {
     "data": {
      "text/plain": [
       "6"
      ]
     },
     "execution_count": 7,
     "metadata": {},
     "output_type": "execute_result"
    }
   ],
   "source": [
    "a,b = [int(i) for i in input('Enter two number -> ').split()]\n",
    "h = HCF(a,b)\n",
    "h.HCF()"
   ]
  },
  {
   "cell_type": "markdown",
   "id": "collaborative-reader",
   "metadata": {},
   "source": [
    "# 3.Write a Python Program to Convert Decimal to Binary, Octal and Hexadecimal?"
   ]
  },
  {
   "cell_type": "markdown",
   "id": "downtown-device",
   "metadata": {},
   "source": [
    "# Soln"
   ]
  },
  {
   "cell_type": "code",
   "execution_count": 18,
   "id": "french-density",
   "metadata": {},
   "outputs": [],
   "source": [
    "class convertDecimal:\n",
    "    \n",
    "    def __init__(self,a):\n",
    "        self.a = a\n",
    "    \n",
    "    def toBin(self):\n",
    "        return bin(self.a).replace('0b','')\n",
    "    \n",
    "    def toOct(self):\n",
    "        return oct(self.a).replace('0o','')\n",
    "    \n",
    "    def toHex(self):\n",
    "        return hex(self.a).replace('0x','')\n",
    "        "
   ]
  },
  {
   "cell_type": "code",
   "execution_count": 20,
   "id": "tender-latvia",
   "metadata": {},
   "outputs": [
    {
     "name": "stdout",
     "output_type": "stream",
     "text": [
      "Enter a postive integer - 7\n",
      "111\n",
      "7\n",
      "7\n"
     ]
    }
   ],
   "source": [
    "num = int(input('Enter a postive integer - '))\n",
    "c = convertDecimal(num)\n",
    "print(c.toBin())\n",
    "print(c.toOct())\n",
    "print(c.toHex())"
   ]
  },
  {
   "cell_type": "markdown",
   "id": "arbitrary-miniature",
   "metadata": {},
   "source": [
    "# 4.Write a Python Program To Find ASCII value of a character?"
   ]
  },
  {
   "cell_type": "markdown",
   "id": "bigger-reader",
   "metadata": {},
   "source": [
    "# Soln"
   ]
  },
  {
   "cell_type": "code",
   "execution_count": 22,
   "id": "automotive-fitness",
   "metadata": {},
   "outputs": [],
   "source": [
    "class fASCII:\n",
    "    def __init__(self,a):\n",
    "        self.a = a\n",
    "    \n",
    "    def toASCII(self):\n",
    "        return ord(self.a)"
   ]
  },
  {
   "cell_type": "code",
   "execution_count": 24,
   "id": "interracial-guinea",
   "metadata": {},
   "outputs": [
    {
     "name": "stdout",
     "output_type": "stream",
     "text": [
      "Please input character - A\n",
      "65\n"
     ]
    }
   ],
   "source": [
    "inp = input(\"Please input character - \")\n",
    "obj = fASCII(inp)\n",
    "print(obj.toASCII())"
   ]
  },
  {
   "cell_type": "markdown",
   "id": "accepted-mission",
   "metadata": {},
   "source": [
    "# 5.Write a Python Program to Make a Simple Calculator with 4 basic mathematical operations?\n"
   ]
  },
  {
   "cell_type": "markdown",
   "id": "liberal-buying",
   "metadata": {},
   "source": [
    "# Soln"
   ]
  },
  {
   "cell_type": "code",
   "execution_count": 8,
   "id": "injured-principal",
   "metadata": {},
   "outputs": [],
   "source": [
    "class Calculator:\n",
    "    \n",
    "    def __init__(self,a,b):\n",
    "        self.a = a\n",
    "        self.b = b\n",
    "        \n",
    "    def add(self):\n",
    "        return self.a + self.b\n",
    "    \n",
    "    def sub(self):\n",
    "        return self.a - self.b\n",
    "    \n",
    "    def div(self):\n",
    "        try:\n",
    "            return self.a / self.b\n",
    "        except Exception as e:\n",
    "            return f'Something went wrong -> {e}'\n",
    "            \n",
    "    def mul(self):\n",
    "        return self.a*self.b"
   ]
  },
  {
   "cell_type": "code",
   "execution_count": 11,
   "id": "filled-sherman",
   "metadata": {},
   "outputs": [
    {
     "name": "stdout",
     "output_type": "stream",
     "text": [
      "Enter two number -> 5 0\n",
      "5\n",
      "5\n",
      "Something went wrong -> division by zero\n",
      "0\n"
     ]
    }
   ],
   "source": [
    "a,b = [int(i) for i in input('Enter two number -> ').split()]\n",
    "obj = Calculator(a,b)\n",
    "print(obj.add())\n",
    "print(obj.sub())\n",
    "print(obj.div())\n",
    "print(obj.mul())"
   ]
  },
  {
   "cell_type": "code",
   "execution_count": null,
   "id": "documentary-lounge",
   "metadata": {},
   "outputs": [],
   "source": []
  }
 ],
 "metadata": {
  "kernelspec": {
   "display_name": "iNeuronFSDSPythonModule",
   "language": "python",
   "name": "ineuronfsdspythonmodule"
  },
  "language_info": {
   "codemirror_mode": {
    "name": "ipython",
    "version": 3
   },
   "file_extension": ".py",
   "mimetype": "text/x-python",
   "name": "python",
   "nbconvert_exporter": "python",
   "pygments_lexer": "ipython3",
   "version": "3.6.12"
  }
 },
 "nbformat": 4,
 "nbformat_minor": 5
}
