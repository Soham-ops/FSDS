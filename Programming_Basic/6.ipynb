{
 "cells": [
  {
   "cell_type": "markdown",
   "id": "7bf69ea2",
   "metadata": {},
   "source": [
    "# 1. Write a Python Program to Display Fibonacci Sequence Using Recursion ?\n"
   ]
  },
  {
   "cell_type": "code",
   "execution_count": 1,
   "id": "23332426",
   "metadata": {},
   "outputs": [],
   "source": [
    "def fib(n,a,b,terms):\n",
    "    if n == terms or terms == 0:\n",
    "        return\n",
    "    elif terms == 1:\n",
    "        print(a)\n",
    "        return\n",
    "    elif terms == 2:\n",
    "        print(a,b)\n",
    "        return\n",
    "    else:\n",
    "        if n==0:\n",
    "            print(a,end=\" \")\n",
    "            n+=1\n",
    "            fib(n, a, b, terms)\n",
    "        elif n==1:\n",
    "            print(b,end=\" \")\n",
    "            n+=1\n",
    "            fib(n, a, b, terms)\n",
    "        else:\n",
    "            c = a+b\n",
    "            print(c,end=\" \")\n",
    "            a,b=b,c\n",
    "            n+=1\n",
    "            fib(n,a,b,terms)\n",
    "\n"
   ]
  },
  {
   "cell_type": "code",
   "execution_count": 2,
   "id": "d08582f6",
   "metadata": {},
   "outputs": [
    {
     "name": "stdout",
     "output_type": "stream",
     "text": [
      "Enter term in fib sequence 10\n",
      "0 1 1 2 3 5 8 13 21 34 "
     ]
    }
   ],
   "source": [
    "t= int(input(\"Enter term in fib sequence \"))\n",
    "fib(0,0,1,t)"
   ]
  },
  {
   "cell_type": "markdown",
   "id": "1792f890",
   "metadata": {},
   "source": [
    "# 2. Write a Python Program to Find Factorial of Number Using Recursion?\n",
    "\n"
   ]
  },
  {
   "cell_type": "code",
   "execution_count": 3,
   "id": "7d83cfff",
   "metadata": {},
   "outputs": [],
   "source": [
    "def fact(n):\n",
    "    if n==1:\n",
    "        return 1\n",
    "    return n * fact(n-1)"
   ]
  },
  {
   "cell_type": "code",
   "execution_count": 4,
   "id": "72f648ec",
   "metadata": {},
   "outputs": [
    {
     "data": {
      "text/plain": [
       "5040"
      ]
     },
     "execution_count": 4,
     "metadata": {},
     "output_type": "execute_result"
    }
   ],
   "source": [
    "fact(7)"
   ]
  },
  {
   "cell_type": "markdown",
   "id": "aa40b998",
   "metadata": {},
   "source": [
    "# 3.Write a Python Program to calculate your Body Mass Index?"
   ]
  },
  {
   "cell_type": "code",
   "execution_count": 5,
   "id": "e4b9e196",
   "metadata": {},
   "outputs": [
    {
     "name": "stdout",
     "output_type": "stream",
     "text": [
      "Enter weight in kg 84\n",
      "Enter height in foot 6\n",
      "Enter height in inches 1\n",
      "bmi is 24.34\n"
     ]
    }
   ],
   "source": [
    "w = float(input(\"Enter weight in kg \"))\n",
    "\n",
    "hf = int(input('Enter height in foot '))\n",
    "hi = int(input(\"Enter height in inches \"))\n",
    "\n",
    "hf_cm = hf*30.54\n",
    "hi_cm = hi*2.54\n",
    "\n",
    "res = w/((hf_cm+hi_cm)**2)\n",
    "print(f\"bmi is {round(res*10000,2)}\")"
   ]
  },
  {
   "cell_type": "markdown",
   "id": "e8f103f0",
   "metadata": {},
   "source": [
    "# 4. Write a Python Program to calculate the natural logarithm of any number?\n"
   ]
  },
  {
   "cell_type": "code",
   "execution_count": 6,
   "id": "b48fb0c6",
   "metadata": {},
   "outputs": [],
   "source": [
    "from math import log\n",
    "def natlog(x):\n",
    "    return log(x,2.718281828459)"
   ]
  },
  {
   "cell_type": "code",
   "execution_count": 7,
   "id": "c1a23378",
   "metadata": {},
   "outputs": [
    {
     "data": {
      "text/plain": [
       "1.3862943611199139"
      ]
     },
     "execution_count": 7,
     "metadata": {},
     "output_type": "execute_result"
    }
   ],
   "source": [
    "natlog(4)"
   ]
  },
  {
   "cell_type": "markdown",
   "id": "73c186cb",
   "metadata": {},
   "source": [
    "# 5.Write a Python Program for cube sum of first n natural numbers?\n"
   ]
  },
  {
   "cell_type": "code",
   "execution_count": 8,
   "id": "7b7eb0e5",
   "metadata": {},
   "outputs": [],
   "source": [
    "def cubesum(n):\n",
    "    return ((n*(n+1))//2)**2"
   ]
  },
  {
   "cell_type": "code",
   "execution_count": 9,
   "id": "27c8df34",
   "metadata": {},
   "outputs": [
    {
     "data": {
      "text/plain": [
       "784"
      ]
     },
     "execution_count": 9,
     "metadata": {},
     "output_type": "execute_result"
    }
   ],
   "source": [
    "cubesum(7)"
   ]
  },
  {
   "cell_type": "code",
   "execution_count": null,
   "id": "4fa38dfa",
   "metadata": {},
   "outputs": [],
   "source": []
  }
 ],
 "metadata": {
  "kernelspec": {
   "display_name": "iNeuronFSDSPythonModule",
   "language": "python",
   "name": "ineuronfsdspythonmodule"
  },
  "language_info": {
   "codemirror_mode": {
    "name": "ipython",
    "version": 3
   },
   "file_extension": ".py",
   "mimetype": "text/x-python",
   "name": "python",
   "nbconvert_exporter": "python",
   "pygments_lexer": "ipython3",
   "version": "3.6.12"
  }
 },
 "nbformat": 4,
 "nbformat_minor": 5
}
