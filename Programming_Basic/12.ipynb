{
 "cells": [
  {
   "cell_type": "markdown",
   "id": "0853ca95",
   "metadata": {},
   "source": [
    "# 1. Write a Python program to Extract Unique values dictionary values?\n"
   ]
  },
  {
   "cell_type": "code",
   "execution_count": 13,
   "id": "b7d74ac0",
   "metadata": {},
   "outputs": [],
   "source": [
    "class soln1:\n",
    "    def __init__(self,d):\n",
    "        self.d = d\n",
    "        self.unique = set()\n",
    "        \n",
    "    def xTract(self):\n",
    "        \n",
    "        try:\n",
    "            #A set by default will store only unique values\n",
    "            for i in self.d.values():\n",
    "                self.unique.add(i)\n",
    "            return self.unique\n",
    "        except Exception as e:\n",
    "            return e"
   ]
  },
  {
   "cell_type": "code",
   "execution_count": 14,
   "id": "0a1e6b75",
   "metadata": {},
   "outputs": [
    {
     "data": {
      "text/plain": [
       "{1, 2, 3}"
      ]
     },
     "execution_count": 14,
     "metadata": {},
     "output_type": "execute_result"
    }
   ],
   "source": [
    "d = {'a':1,'b':2,'c':3,'d':2,'e':1}\n",
    "obj = soln1(d)\n",
    "obj.xTract()"
   ]
  },
  {
   "cell_type": "code",
   "execution_count": 15,
   "id": "aa36f504",
   "metadata": {},
   "outputs": [
    {
     "data": {
      "text/plain": [
       "{2, 5}"
      ]
     },
     "execution_count": 15,
     "metadata": {},
     "output_type": "execute_result"
    }
   ],
   "source": [
    "d = {'a':5,'b':2,'c':5,'d':2,'e':5}\n",
    "obj = soln1(d)\n",
    "obj.xTract()"
   ]
  },
  {
   "cell_type": "markdown",
   "id": "672f0976",
   "metadata": {},
   "source": [
    "# 2. Write a Python program to find the sum of all items in a dictionary?\n"
   ]
  },
  {
   "cell_type": "code",
   "execution_count": 16,
   "id": "8e7f7694",
   "metadata": {},
   "outputs": [],
   "source": [
    "class soln2:\n",
    "    \n",
    "    def __init__(self,d):\n",
    "        self.d = d\n",
    "        \n",
    "    def sItems(self):\n",
    "        try:\n",
    "            s = 0\n",
    "            for i in self.d.values():\n",
    "                s+=i\n",
    "            return s\n",
    "        except Exeception as e:\n",
    "            return e"
   ]
  },
  {
   "cell_type": "code",
   "execution_count": 17,
   "id": "ac514b27",
   "metadata": {},
   "outputs": [
    {
     "data": {
      "text/plain": [
       "9"
      ]
     },
     "execution_count": 17,
     "metadata": {},
     "output_type": "execute_result"
    }
   ],
   "source": [
    "d = {'a':1,'b':2,'c':3,'d':2,'e':1}\n",
    "obj = soln2(d)\n",
    "obj.sItems()"
   ]
  },
  {
   "cell_type": "markdown",
   "id": "e80e573c",
   "metadata": {},
   "source": [
    "# 3. Write a Python program to Merging two Dictionaries?"
   ]
  },
  {
   "cell_type": "code",
   "execution_count": 21,
   "id": "32295688",
   "metadata": {},
   "outputs": [],
   "source": [
    "class soln3:\n",
    "    \n",
    "    def __init__(self,d1,d2):\n",
    "        self.d1 = d1\n",
    "        self.d2 = d2\n",
    "        self.merged = {}\n",
    "        \n",
    "    def mDict(self):\n",
    "        try:\n",
    "            self.merged = {**self.d1,**self.d2}\n",
    "            return self.merged\n",
    "        except Exception as e:\n",
    "            return e"
   ]
  },
  {
   "cell_type": "code",
   "execution_count": 22,
   "id": "164ce7da",
   "metadata": {},
   "outputs": [
    {
     "data": {
      "text/plain": [
       "{'a': 1, 'b': 2, 'c': 3, 'd': 3}"
      ]
     },
     "execution_count": 22,
     "metadata": {},
     "output_type": "execute_result"
    }
   ],
   "source": [
    "d1 = {'a':1,'b':2}\n",
    "d2 = {'c':3,'d':3}\n",
    "obj = soln3(d1,d2)\n",
    "obj.mDict()"
   ]
  },
  {
   "cell_type": "markdown",
   "id": "28bbac94",
   "metadata": {},
   "source": [
    "# 4. Write a Python program to convert key-values list to flat dictionary?\n"
   ]
  },
  {
   "cell_type": "code",
   "execution_count": 38,
   "id": "eecd1949",
   "metadata": {},
   "outputs": [],
   "source": [
    "test_dict = {'month' : [1, 2, 3], \n",
    "             'name' : ['Jan', 'Feb', 'March']} \n",
    "  "
   ]
  },
  {
   "cell_type": "code",
   "execution_count": 32,
   "id": "11e29399",
   "metadata": {},
   "outputs": [
    {
     "data": {
      "text/plain": [
       "dict_values([[1, 2, 3], ['Jan', 'Feb', 'March']])"
      ]
     },
     "execution_count": 32,
     "metadata": {},
     "output_type": "execute_result"
    }
   ],
   "source": [
    "len(test_dict.values())"
   ]
  },
  {
   "cell_type": "code",
   "execution_count": 47,
   "id": "e8ee05f1",
   "metadata": {},
   "outputs": [
    {
     "data": {
      "text/plain": [
       "[1, 2, 3]"
      ]
     },
     "execution_count": 47,
     "metadata": {},
     "output_type": "execute_result"
    }
   ],
   "source": [
    "list(test_dict.values())[0]"
   ]
  },
  {
   "cell_type": "code",
   "execution_count": 42,
   "id": "908d9e97",
   "metadata": {},
   "outputs": [],
   "source": [
    "random = [7,8,9,10]\n",
    "radom = [1,2,3,4]"
   ]
  },
  {
   "cell_type": "code",
   "execution_count": 44,
   "id": "dd641890",
   "metadata": {},
   "outputs": [
    {
     "data": {
      "text/plain": [
       "[(4, 40, 7, 1), (1, 50, 8, 2), (3, 60, 9, 3), (2, 70, 10, 4)]"
      ]
     },
     "execution_count": 44,
     "metadata": {},
     "output_type": "execute_result"
    }
   ],
   "source": [
    "list(zip(roll_no,marks,random,radom))"
   ]
  },
  {
   "cell_type": "code",
   "execution_count": 31,
   "id": "d17ae435",
   "metadata": {},
   "outputs": [
    {
     "data": {
      "text/plain": [
       "{4: 40, 1: 50, 3: 60, 2: 70}"
      ]
     },
     "execution_count": 31,
     "metadata": {},
     "output_type": "execute_result"
    }
   ],
   "source": [
    "dict(zip(roll_no,marks))"
   ]
  },
  {
   "cell_type": "code",
   "execution_count": 48,
   "id": "e708d68a",
   "metadata": {},
   "outputs": [],
   "source": [
    "class soln4:\n",
    "    \n",
    "    def __init__(self,d):\n",
    "        self.d = d\n",
    "        self.d_values_list = list(self.d.values())\n",
    "    def convert(self):\n",
    "        try:\n",
    "            final = dict(zip(self.d_values_list[0],self.d_values_list[1]))\n",
    "            return final\n",
    "        except Exception as e:\n",
    "            return e\n",
    "            \n",
    "            "
   ]
  },
  {
   "cell_type": "code",
   "execution_count": 50,
   "id": "6cd203c6",
   "metadata": {},
   "outputs": [
    {
     "data": {
      "text/plain": [
       "{7: 1, 8: 2, 9: 3, 10: 4}"
      ]
     },
     "execution_count": 50,
     "metadata": {},
     "output_type": "execute_result"
    }
   ],
   "source": [
    "d = {'1':[7,8,9,10],\n",
    "    '2':[1,2,3,4]}\n",
    "obj = soln4(d)\n",
    "obj.convert()"
   ]
  },
  {
   "cell_type": "markdown",
   "id": "6ffea76a",
   "metadata": {},
   "source": [
    "# 5. Write a Python program to insertion at the beginning in OrderedDict?\n"
   ]
  },
  {
   "cell_type": "code",
   "execution_count": 29,
   "id": "77e8d857",
   "metadata": {},
   "outputs": [],
   "source": [
    "from collections import OrderedDict\n",
    "class soln5:\n",
    "    \n",
    "    def __init__(self,d,kv_pair):\n",
    "        self.old_dict = d\n",
    "        self.new_kv_pair = kv_pair\n",
    "        self.final_kv_pair_list = []\n",
    "        \n",
    "    def iBegin(self):\n",
    "        try:\n",
    "            #Create new order of kv pairsin which insertion has to happen in a list \n",
    "            #starting with the kv pair we wish to insert at the beginning\n",
    "            self.final_kv_pair_list.append(tuple(self.new_kv_pair))\n",
    "            \n",
    "            #Insert all the remaining kv pairs from the Ordered Dict into the list in which insertion happend in above LOC\n",
    "            for i in self.old_dict.items():\n",
    "                self.final_kv_pair_list.append(tuple(i))\n",
    "                \n",
    "            \n",
    "            #Create new dict with the updated order and return it\n",
    "            new_dict = OrderedDict(self.final_kv_pair_list)\n",
    "            return new_dict\n",
    "            \n",
    "            \n",
    "        except Exception as e:\n",
    "            return e"
   ]
  },
  {
   "cell_type": "code",
   "execution_count": 31,
   "id": "42c0da61",
   "metadata": {},
   "outputs": [
    {
     "name": "stdout",
     "output_type": "stream",
     "text": [
      "Before insertion\n",
      "a 1\n",
      "b 2\n",
      "c 3\n",
      "d 4\n",
      "Enter key value pair to be inserted separated by space \n",
      "1 2\n",
      "After insertion\n",
      "1 2\n",
      "a 1\n",
      "b 2\n",
      "c 3\n",
      "d 4\n"
     ]
    }
   ],
   "source": [
    "\n",
    "od = OrderedDict()\n",
    "od['a'] = 1\n",
    "od['b'] = 2\n",
    "od['c'] = 3\n",
    "od['d'] = 4\n",
    "print(\"Before insertion\")\n",
    "for i, j in od.items():\n",
    "    print(f\"{i} {j}\")\n",
    "s = input('Enter key value pair to be inserted separated by space \\n').split()\n",
    "obj = soln5(od,s)\n",
    "od = obj.iBegin()\n",
    "print(\"After insertion\")\n",
    "for i, j in od.items():\n",
    "    print(f\"{i} {j}\")\n"
   ]
  },
  {
   "cell_type": "markdown",
   "id": "8ef68b63",
   "metadata": {},
   "source": [
    "# 6. Write a Python program to check order of character in string using OrderedDict()?\n"
   ]
  },
  {
   "cell_type": "code",
   "execution_count": 5,
   "id": "44ea5c11",
   "metadata": {},
   "outputs": [
    {
     "name": "stdout",
     "output_type": "stream",
     "text": [
      "true\n"
     ]
    }
   ],
   "source": [
    "from collections import OrderedDict\n",
    "def OrderChk(inpt, ptrn):\n",
    "\n",
    "    dt = OrderedDict.fromkeys(ptrn)\n",
    "    plen = 0\n",
    "    for key,value in dt.items():\n",
    "        if(key == ptrn[plen]):\n",
    "            plen += 1\n",
    "\n",
    "        if (plen == (len(ptrn))): \n",
    "            return 'true'\n",
    "\n",
    "    return 'false'\n",
    "\n",
    "\n",
    "\n",
    "inp = 'soham'\n",
    "pattern = 'oh'\n",
    "print(OrderChk(inp,pattern))"
   ]
  },
  {
   "cell_type": "markdown",
   "id": "ddae81b3",
   "metadata": {},
   "source": [
    "# 7.Write a Python program to sort Python Dictionaries by Key or Value?\n"
   ]
  },
  {
   "cell_type": "markdown",
   "id": "3c4c7e9c",
   "metadata": {},
   "source": [
    "# By Value"
   ]
  },
  {
   "cell_type": "code",
   "execution_count": 17,
   "id": "61e6a230",
   "metadata": {},
   "outputs": [],
   "source": [
    "dict1 = {}\n",
    "dict1[2] = 89    \n",
    "dict1[1] = 23\n",
    "dict1[5] = 11\n",
    "dict1[4] = 50\n",
    "dict1[6] = 62     \n",
    "dict1[3] = 33\n",
    " "
   ]
  },
  {
   "cell_type": "code",
   "execution_count": 18,
   "id": "dd6187bb",
   "metadata": {},
   "outputs": [
    {
     "data": {
      "text/plain": [
       "{2: 89, 1: 23, 5: 11, 4: 50, 6: 62, 3: 33}"
      ]
     },
     "execution_count": 18,
     "metadata": {},
     "output_type": "execute_result"
    }
   ],
   "source": [
    "dict1"
   ]
  },
  {
   "cell_type": "code",
   "execution_count": 19,
   "id": "e71f71e6",
   "metadata": {},
   "outputs": [
    {
     "data": {
      "text/plain": [
       "[(5, 11), (1, 23), (3, 33), (4, 50), (6, 62), (2, 89)]"
      ]
     },
     "execution_count": 19,
     "metadata": {},
     "output_type": "execute_result"
    }
   ],
   "source": [
    "s_dict1 = sorted(dict1.items(),key = lambda item:item[1] )\n",
    "s_dict1"
   ]
  },
  {
   "cell_type": "markdown",
   "id": "816092e8",
   "metadata": {},
   "source": [
    "# By key"
   ]
  },
  {
   "cell_type": "code",
   "execution_count": 20,
   "id": "55976275",
   "metadata": {},
   "outputs": [],
   "source": [
    "dict1 = {}\n",
    "dict1[2] = 89    \n",
    "dict1[1] = 23\n",
    "dict1[5] = 11\n",
    "dict1[4] = 50\n",
    "dict1[6] = 62     \n",
    "dict1[3] = 33\n",
    " "
   ]
  },
  {
   "cell_type": "code",
   "execution_count": 21,
   "id": "5ffc3f78",
   "metadata": {},
   "outputs": [
    {
     "data": {
      "text/plain": [
       "{2: 89, 1: 23, 5: 11, 4: 50, 6: 62, 3: 33}"
      ]
     },
     "execution_count": 21,
     "metadata": {},
     "output_type": "execute_result"
    }
   ],
   "source": [
    "dict1"
   ]
  },
  {
   "cell_type": "code",
   "execution_count": 23,
   "id": "99393a88",
   "metadata": {},
   "outputs": [],
   "source": [
    "s_dict1 = sorted(dict1.items())"
   ]
  },
  {
   "cell_type": "code",
   "execution_count": 24,
   "id": "cff343cd",
   "metadata": {},
   "outputs": [
    {
     "data": {
      "text/plain": [
       "[(1, 23), (2, 89), (3, 33), (4, 50), (5, 11), (6, 62)]"
      ]
     },
     "execution_count": 24,
     "metadata": {},
     "output_type": "execute_result"
    }
   ],
   "source": [
    "s_dict1"
   ]
  },
  {
   "cell_type": "code",
   "execution_count": null,
   "id": "79f05298",
   "metadata": {},
   "outputs": [],
   "source": []
  }
 ],
 "metadata": {
  "kernelspec": {
   "display_name": "Python 3 (ipykernel)",
   "language": "python",
   "name": "python3"
  },
  "language_info": {
   "codemirror_mode": {
    "name": "ipython",
    "version": 3
   },
   "file_extension": ".py",
   "mimetype": "text/x-python",
   "name": "python",
   "nbconvert_exporter": "python",
   "pygments_lexer": "ipython3",
   "version": "3.8.12"
  }
 },
 "nbformat": 4,
 "nbformat_minor": 5
}
