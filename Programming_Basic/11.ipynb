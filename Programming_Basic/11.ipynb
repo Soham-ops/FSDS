{
 "cells": [
  {
   "cell_type": "markdown",
   "id": "34e78564",
   "metadata": {},
   "source": [
    "# 1.Write a Python program to find words which are greater than given length k ?"
   ]
  },
  {
   "cell_type": "code",
   "execution_count": 8,
   "id": "79e05670",
   "metadata": {},
   "outputs": [],
   "source": [
    "class soln1:\n",
    "    \n",
    "    def __init__(self,word_list,word_len):\n",
    "        self.word_list = word_list\n",
    "        self.output = []\n",
    "        self.k = word_len\n",
    "        \n",
    "    def fWord(self):\n",
    "        \n",
    "        try:\n",
    "            for i in self.word_list:\n",
    "                if len(i) > self.k:\n",
    "                    self.output.append(i)\n",
    "                    \n",
    "            return self.output\n",
    "        except Exception as e:\n",
    "            return e"
   ]
  },
  {
   "cell_type": "code",
   "execution_count": 9,
   "id": "26286ffb",
   "metadata": {},
   "outputs": [
    {
     "name": "stdout",
     "output_type": "stream",
     "text": [
      "['name', 'soham', 'and', 'live', 'Bharat']\n"
     ]
    }
   ],
   "source": [
    "word_list = ['my','name','is','soham','and', 'I', 'live','in','Bharat']\n",
    "word_len = 2\n",
    "obj = soln1(word_list,word_len)\n",
    "print(obj.fWord())"
   ]
  },
  {
   "cell_type": "markdown",
   "id": "1676a55c",
   "metadata": {},
   "source": [
    "# 2. Write a Python program for removing i-th character from a string?\n",
    " "
   ]
  },
  {
   "cell_type": "code",
   "execution_count": 31,
   "id": "a5b94236",
   "metadata": {},
   "outputs": [],
   "source": [
    "class soln2:\n",
    "    \n",
    "    def __init__(self,inp,i):\n",
    "        self.old_string = inp\n",
    "        self.index = i\n",
    "        self.output = []\n",
    "        \n",
    "    def removeIth(self):\n",
    "        \n",
    "        try:\n",
    "            \n",
    "            for i in range(len(self.old_string)):\n",
    "                if i == self.index:\n",
    "                    continue\n",
    "                else:\n",
    "                    self.output.append(self.old_string[i])\n",
    "\n",
    "            return ''.join(self.output)\n",
    "        \n",
    "        except Exception as e:\n",
    "            return e"
   ]
  },
  {
   "cell_type": "code",
   "execution_count": 32,
   "id": "d04925ef",
   "metadata": {},
   "outputs": [
    {
     "data": {
      "text/plain": [
       "'soam'"
      ]
     },
     "execution_count": 32,
     "metadata": {},
     "output_type": "execute_result"
    }
   ],
   "source": [
    "i_string = \"soham\"\n",
    "ith_index = 2\n",
    "obj = soln2(i_string,ith_index)\n",
    "obj.removeIth()"
   ]
  },
  {
   "cell_type": "code",
   "execution_count": 34,
   "id": "9fc2986d",
   "metadata": {},
   "outputs": [
    {
     "data": {
      "text/plain": [
       "'vika'"
      ]
     },
     "execution_count": 34,
     "metadata": {},
     "output_type": "execute_result"
    }
   ],
   "source": [
    "i_string = \"vikas\"\n",
    "ith_index = 4\n",
    "obj = soln2(i_string,ith_index)\n",
    "obj.removeIth()"
   ]
  },
  {
   "cell_type": "markdown",
   "id": "12a20b39",
   "metadata": {},
   "source": [
    "# 3. Write a Python program to split and join a string?\n"
   ]
  },
  {
   "cell_type": "code",
   "execution_count": 41,
   "id": "dbf90693",
   "metadata": {},
   "outputs": [],
   "source": [
    "class soln3:\n",
    "    \n",
    "    def __init__(self,s):\n",
    "        self.string = s\n",
    "        \n",
    "    def splitAndjoin(self):\n",
    "        try:\n",
    "            s_split = self.string.split('-')\n",
    "            print(f'The split string is {s_split}')\n",
    "            s_join = ''.join(s_split)\n",
    "            print(f'The joined string is {s_join}')\n",
    "        except Exception as e:\n",
    "            return e"
   ]
  },
  {
   "cell_type": "code",
   "execution_count": 42,
   "id": "bd6d6899",
   "metadata": {},
   "outputs": [
    {
     "name": "stdout",
     "output_type": "stream",
     "text": [
      "The split string is ['s', 'o', 'h', 'a', 'm']\n",
      "The joined string is soham\n"
     ]
    }
   ],
   "source": [
    "s = 's-o-h-a-m'\n",
    "obj = soln3(s)\n",
    "obj.splitAndjoin()"
   ]
  },
  {
   "cell_type": "markdown",
   "id": "8c91fe23",
   "metadata": {},
   "source": [
    "# 4. Write a Python to check if a given string is binary string or not?\n"
   ]
  },
  {
   "cell_type": "code",
   "execution_count": 50,
   "id": "e8917901",
   "metadata": {},
   "outputs": [],
   "source": [
    "class soln4:\n",
    "    \n",
    "    def __init__(self,s):\n",
    "        self.bs = s\n",
    "        self.letters = {'0','1'}\n",
    "        \n",
    "    def chk_binary(self):\n",
    "        \n",
    "        try:\n",
    "        \n",
    "            for i in self.bs:\n",
    "                if i not in self.letters:\n",
    "                    return False\n",
    "            return True\n",
    "        \n",
    "        except Exception as e:\n",
    "            return e"
   ]
  },
  {
   "cell_type": "code",
   "execution_count": 51,
   "id": "d00fbd5d",
   "metadata": {},
   "outputs": [
    {
     "data": {
      "text/plain": [
       "True"
      ]
     },
     "execution_count": 51,
     "metadata": {},
     "output_type": "execute_result"
    }
   ],
   "source": [
    "i = '01001001001001'\n",
    "obj = soln4(i)\n",
    "obj.chk_binary()"
   ]
  },
  {
   "cell_type": "code",
   "execution_count": 52,
   "id": "1f409e82",
   "metadata": {},
   "outputs": [
    {
     "data": {
      "text/plain": [
       "False"
      ]
     },
     "execution_count": 52,
     "metadata": {},
     "output_type": "execute_result"
    }
   ],
   "source": [
    "i = '123132123123'\n",
    "obj = soln4(i)\n",
    "obj.chk_binary()"
   ]
  },
  {
   "cell_type": "markdown",
   "id": "129c7883",
   "metadata": {},
   "source": [
    "# 5. Write a Python program to find uncommon words from two Strings?\n"
   ]
  },
  {
   "cell_type": "code",
   "execution_count": 78,
   "id": "4f68d1ad",
   "metadata": {},
   "outputs": [],
   "source": [
    "class soln5:\n",
    "    \n",
    "    def __init__(self,s1,s2):\n",
    "        self.s1 = s1.split()\n",
    "        self.s2 = s2.split()\n",
    "        \n",
    "    def uncommon(self):\n",
    "        try:\n",
    "            set1 = set(self.s1)\n",
    "            set2 = set(self.s2)\n",
    "            \n",
    "            #Getting the common words\n",
    "            set3 = set1.intersection(set2)\n",
    "            \n",
    "            #Printing words that are not common for each string\n",
    "            print(f\"Words that are not common for s1 = {self.s1}\")\n",
    "            for i in self.s1:\n",
    "                if i not in set3:\n",
    "                    print(i)\n",
    "            \n",
    "            print(f\"Words that are not common for s2 = {self.s2}\")\n",
    "            for i in self.s2:\n",
    "                if i not in set3:\n",
    "                    print(i)\n",
    "            \n",
    "            \n",
    "        except Exception as e:\n",
    "            return e"
   ]
  },
  {
   "cell_type": "code",
   "execution_count": 79,
   "id": "27ce4ecd",
   "metadata": {},
   "outputs": [
    {
     "name": "stdout",
     "output_type": "stream",
     "text": [
      "Words that are not common for s1 = ['This', 'is', 'statement', '1']\n",
      "1\n",
      "Words that are not common for s2 = ['This', 'is', 'statement', '2']\n",
      "2\n"
     ]
    }
   ],
   "source": [
    "s1 = 'This is statement 1'\n",
    "s2 = 'This is statement 2'\n",
    "obj = soln5(s1,s2)\n",
    "obj.uncommon()"
   ]
  },
  {
   "cell_type": "code",
   "execution_count": 80,
   "id": "7cf77392",
   "metadata": {},
   "outputs": [
    {
     "name": "stdout",
     "output_type": "stream",
     "text": [
      "Words that are not common for s1 = ['This', 'is', 'statement', '1', 'which', 'mean', 'yes']\n",
      "1\n",
      "which\n",
      "mean\n",
      "yes\n",
      "Words that are not common for s2 = ['This', 'is', 'statement', '2,', 'and', '3', 'after', 'that']\n",
      "2,\n",
      "and\n",
      "3\n",
      "after\n",
      "that\n"
     ]
    }
   ],
   "source": [
    "s1 = 'This is statement 1 which mean yes'\n",
    "s2 = 'This is statement 2, and 3 after that'\n",
    "obj = soln5(s1,s2)\n",
    "obj.uncommon()"
   ]
  },
  {
   "cell_type": "markdown",
   "id": "01bf90a6",
   "metadata": {},
   "source": [
    "# 6. Write a Python to find all duplicate characters in string?\n"
   ]
  },
  {
   "cell_type": "code",
   "execution_count": 109,
   "id": "b91fc812",
   "metadata": {},
   "outputs": [],
   "source": [
    "class soln6:\n",
    "    \n",
    "    def __init__(self,s):\n",
    "        self.str = s\n",
    "        self.seen = set()\n",
    "        \n",
    "    def fDup(self):\n",
    "        \n",
    "        try:\n",
    "            for i in range(len(self.str)):\n",
    "                # if in seen then, this character's duplicate chk has already happened\n",
    "                if self.str[i] in self.seen:\n",
    "                    continue\n",
    "                # if not then perform dulpiacte check    \n",
    "                else:\n",
    "                    for j in range(i+1,len(self.str)):\n",
    "                        if self.str[i] == self.str[j]:\n",
    "                            print(f\"character '{self.str[i]}' present at index {i} has duplicates in index {j} \")\n",
    "                    self.seen.add(self.str[i])\n",
    "                    \n",
    "        except Exception as e:\n",
    "            return e"
   ]
  },
  {
   "cell_type": "code",
   "execution_count": 110,
   "id": "3edc7b67",
   "metadata": {},
   "outputs": [
    {
     "name": "stdout",
     "output_type": "stream",
     "text": [
      "character 'o' present at index 1 has duplicates in index 2 \n",
      "character 'o' present at index 1 has duplicates in index 3 \n",
      "character 'a' present at index 5 has duplicates in index 6 \n",
      "character 'a' present at index 5 has duplicates in index 7 \n",
      "character 'a' present at index 5 has duplicates in index 9 \n",
      "character 'a' present at index 5 has duplicates in index 10 \n"
     ]
    }
   ],
   "source": [
    "s1 = 'sooohaaamaa'\n",
    "obj = soln6(s1)\n",
    "obj.fDup()"
   ]
  },
  {
   "cell_type": "markdown",
   "id": "ddddf1e8",
   "metadata": {},
   "source": [
    "# 7. Write a Python Program to check if a string contains any special character?\n"
   ]
  },
  {
   "cell_type": "code",
   "execution_count": 117,
   "id": "07440bca",
   "metadata": {},
   "outputs": [],
   "source": [
    "class soln7:\n",
    "    \n",
    "    def __init__(self,s1):\n",
    "        self.s = s1\n",
    "        \n",
    "    def chkSpl(self):\n",
    "        try:\n",
    "            for i in self.s:\n",
    "                if 32<=ord(i)<=47 or 58<=ord(i)<=64 or 91<=ord(i)<=96 or 123<=ord(i)<=126:\n",
    "                    return True\n",
    "            else:\n",
    "                return False\n",
    "        except Exception as e:\n",
    "            return e"
   ]
  },
  {
   "cell_type": "code",
   "execution_count": 118,
   "id": "24ca9442",
   "metadata": {},
   "outputs": [
    {
     "data": {
      "text/plain": [
       "True"
      ]
     },
     "execution_count": 118,
     "metadata": {},
     "output_type": "execute_result"
    }
   ],
   "source": [
    "s = 'asdadsP}sdad{{}}!@dsd'\n",
    "obj = soln7(s)\n",
    "obj.chkSpl()"
   ]
  },
  {
   "cell_type": "code",
   "execution_count": 120,
   "id": "6baaf5c4",
   "metadata": {},
   "outputs": [
    {
     "data": {
      "text/plain": [
       "False"
      ]
     },
     "execution_count": 120,
     "metadata": {},
     "output_type": "execute_result"
    }
   ],
   "source": [
    "s = 'asdadsPsd'\n",
    "obj = soln7(s)\n",
    "obj.chkSpl()"
   ]
  },
  {
   "cell_type": "code",
   "execution_count": null,
   "id": "8259214c",
   "metadata": {},
   "outputs": [],
   "source": []
  }
 ],
 "metadata": {
  "kernelspec": {
   "display_name": "iNeuronFSDSPythonModule",
   "language": "python",
   "name": "ineuronfsdspythonmodule"
  },
  "language_info": {
   "codemirror_mode": {
    "name": "ipython",
    "version": 3
   },
   "file_extension": ".py",
   "mimetype": "text/x-python",
   "name": "python",
   "nbconvert_exporter": "python",
   "pygments_lexer": "ipython3",
   "version": "3.6.12"
  }
 },
 "nbformat": 4,
 "nbformat_minor": 5
}
