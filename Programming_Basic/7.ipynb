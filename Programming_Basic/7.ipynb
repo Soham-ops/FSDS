{
 "cells": [
  {
   "cell_type": "markdown",
   "id": "17d8d1be",
   "metadata": {},
   "source": [
    "# 1) Write a Python Program to find sum of array?"
   ]
  },
  {
   "cell_type": "code",
   "execution_count": 52,
   "id": "4ecefbf3",
   "metadata": {},
   "outputs": [],
   "source": [
    "class sArray():\n",
    "    \n",
    "    def __init__(self,a):\n",
    "        self.array = a\n",
    "        self.sum = 0\n",
    "        \n",
    "        \n",
    "    def fsum(self):\n",
    "        \n",
    "        try: \n",
    "            for i in self.array:\n",
    "                \n",
    "                # if i is float\n",
    "                if '.' in i:\n",
    "                    self.sum+=float(i)\n",
    "                # if i is int\n",
    "                else:\n",
    "                    self.sum+=int(i)\n",
    "            return self.sum\n",
    "        \n",
    "        except Exception as e:\n",
    "            print(f\"{i} should be a number is string, can't find sum of entire array\")\n",
    "        "
   ]
  },
  {
   "cell_type": "code",
   "execution_count": 53,
   "id": "c11ed69f",
   "metadata": {},
   "outputs": [
    {
     "name": "stdout",
     "output_type": "stream",
     "text": [
      "Enter array of numbers -> 1 2 2.5\n"
     ]
    },
    {
     "data": {
      "text/plain": [
       "5.5"
      ]
     },
     "execution_count": 53,
     "metadata": {},
     "output_type": "execute_result"
    }
   ],
   "source": [
    "array = input(\"Enter array of numbers -> \").split(\" \")\n",
    "obj = sArray(array)\n",
    "obj.fsum()"
   ]
  },
  {
   "cell_type": "code",
   "execution_count": 54,
   "id": "aaf91a63",
   "metadata": {},
   "outputs": [
    {
     "name": "stdout",
     "output_type": "stream",
     "text": [
      "Enter array of numbers -> 1 2 3\n"
     ]
    },
    {
     "data": {
      "text/plain": [
       "6"
      ]
     },
     "execution_count": 54,
     "metadata": {},
     "output_type": "execute_result"
    }
   ],
   "source": [
    "array = input(\"Enter array of numbers -> \").split(\" \")\n",
    "obj = sArray(array)\n",
    "obj.fsum()"
   ]
  },
  {
   "cell_type": "code",
   "execution_count": 55,
   "id": "8e915d59",
   "metadata": {},
   "outputs": [
    {
     "name": "stdout",
     "output_type": "stream",
     "text": [
      "Enter array of numbers -> 1 2 'soham' 3\n",
      "'soham' should be a number is string, can't find sum of entire array\n"
     ]
    }
   ],
   "source": [
    "array = input(\"Enter array of numbers -> \").split(\" \")\n",
    "obj = sArray(array)\n",
    "obj.fsum()"
   ]
  },
  {
   "cell_type": "markdown",
   "id": "be4f5eab",
   "metadata": {},
   "source": [
    "# 2) Write a Python Program to find largest element in an array?"
   ]
  },
  {
   "cell_type": "code",
   "execution_count": 74,
   "id": "44c415c2",
   "metadata": {},
   "outputs": [],
   "source": [
    "class mArray():\n",
    "    \n",
    "    def __init__(self,a):\n",
    "        self.array = a\n",
    "        self.result = []\n",
    "        \n",
    "    \n",
    "    def fmax(self):\n",
    "        \n",
    "        try: \n",
    "            for i in self.array:\n",
    "                \n",
    "                # if i is float\n",
    "                if '.' in i:\n",
    "                    self.result.append(float(i))\n",
    "                # if i is int\n",
    "                else:\n",
    "                    self.result.append(int(i))\n",
    "            #print(self.result)\n",
    "            return max(self.result)\n",
    "        except Exception as e:\n",
    "            print(f\"{i} should be a number, is string\")"
   ]
  },
  {
   "cell_type": "code",
   "execution_count": 75,
   "id": "a8058640",
   "metadata": {},
   "outputs": [
    {
     "name": "stdout",
     "output_type": "stream",
     "text": [
      "Enter array of numbers -> 1 2 'a' 'b' 7\n",
      "'a' should be a number, is string\n"
     ]
    }
   ],
   "source": [
    "array = input(\"Enter array of numbers -> \").split(\" \")\n",
    "obj = mArray(array)\n",
    "obj.fmax()"
   ]
  },
  {
   "cell_type": "code",
   "execution_count": 76,
   "id": "9cd83244",
   "metadata": {},
   "outputs": [
    {
     "name": "stdout",
     "output_type": "stream",
     "text": [
      "Enter array of numbers -> 1 5 6 34.123 2 34.124 0\n"
     ]
    },
    {
     "data": {
      "text/plain": [
       "34.124"
      ]
     },
     "execution_count": 76,
     "metadata": {},
     "output_type": "execute_result"
    }
   ],
   "source": [
    "array = input(\"Enter array of numbers -> \").split(\" \")\n",
    "obj = mArray(array)\n",
    "obj.fmax()"
   ]
  },
  {
   "cell_type": "markdown",
   "id": "0ad587b3",
   "metadata": {},
   "source": [
    "# 3) Write a Python Program for array rotation?\n"
   ]
  },
  {
   "cell_type": "code",
   "execution_count": 24,
   "id": "e8bf3bb5",
   "metadata": {},
   "outputs": [],
   "source": [
    "class rotate:\n",
    "    \n",
    "    def __init__(self,A,D,N):\n",
    "        self.A = A\n",
    "        self.digits_to_rotate = D\n",
    "        self.array_size = N\n",
    "    #rotating array D elements in counter-clockwise dirn. \n",
    "    def rArray(self):\n",
    "        \n",
    "        # if no elements\n",
    "        if self.array_size <=0:\n",
    "            return self.array\n",
    "        \n",
    "        else:\n",
    "            \n",
    "            # if (digits to rotate) is > (number of elements) then, final rotation that is being asked is \n",
    "            # digit to rotate - number of elements\n",
    "            if self.digits_to_rotate > self.array_size:\n",
    "                self.digits_to_rotate = self.digits_to_rotate - self.array_size\n",
    "        \n",
    "            #point to first and last index\n",
    "            s = 0\n",
    "            e = self.array_size-1\n",
    "            \n",
    "            #send (self.digits_to_rotate) number of digits at the end of the array\n",
    "            # shift one digit at a time starting from L to R side\n",
    "            while s < e:\n",
    "                self.A[s],self.A[e] = self.A[e],self.A[s]\n",
    "                s+=1\n",
    "                e-=1\n",
    "            #print(self.A)\n",
    "            \n",
    "            \n",
    "            #break the array into two parts\n",
    "            # part 1 is from s1 to e1 indexes\n",
    "            #part 2 from s2 to e2 indexes\n",
    "            \n",
    "            # rearrange part-1 array like original order\n",
    "            s1 = 0\n",
    "            e1 = (self.array_size-self.digits_to_rotate) - 1\n",
    "            \n",
    "            while s1 < e1:\n",
    "                self.A[s1],self.A[e1] = self.A[e1],self.A[s1]\n",
    "                s1+=1\n",
    "                e1-=1\n",
    "                \n",
    "            #print(self.A)\n",
    "            \n",
    "            #rearrage part-2 array in original order to resemble counter-clockwise rotation effect\n",
    "            e1 = (self.array_size-self.digits_to_rotate) - 1\n",
    "            s2 = e1+1\n",
    "            e2 = self.array_size-1\n",
    "            \n",
    "            while s2 < e2:\n",
    "                self.A[s2],self.A[e2] = self.A[e2],self.A[s2]\n",
    "                s2+=1\n",
    "                e2-=1\n",
    "            \n",
    "            print('You have the rotated array')\n",
    "            return self.A"
   ]
  },
  {
   "cell_type": "code",
   "execution_count": 25,
   "id": "706d370b",
   "metadata": {},
   "outputs": [
    {
     "name": "stdout",
     "output_type": "stream",
     "text": [
      "Enter array of integers -> 1 2 3 4 5\n",
      "Enter digit to rotate 2\n",
      "You have the rotated array\n"
     ]
    },
    {
     "data": {
      "text/plain": [
       "[3, 4, 5, 1, 2]"
      ]
     },
     "execution_count": 25,
     "metadata": {},
     "output_type": "execute_result"
    }
   ],
   "source": [
    "array = [int(i) for i in input(\"Enter array of integers -> \").split(\" \")]\n",
    "d= int(input(\"Enter digit to rotate \") )\n",
    "obj = rotate(array,d,len(array))\n",
    "obj.rArray()"
   ]
  },
  {
   "cell_type": "code",
   "execution_count": 26,
   "id": "a10c2fb8",
   "metadata": {},
   "outputs": [
    {
     "name": "stdout",
     "output_type": "stream",
     "text": [
      "Enter array of integers -> 1 2 3 4 5 6\n",
      "Enter digit to rotate 2\n",
      "You have the rotated array\n"
     ]
    },
    {
     "data": {
      "text/plain": [
       "[3, 4, 5, 6, 1, 2]"
      ]
     },
     "execution_count": 26,
     "metadata": {},
     "output_type": "execute_result"
    }
   ],
   "source": [
    "array = [int(i) for i in input(\"Enter array of integers -> \").split(\" \")]\n",
    "d= int(input(\"Enter digit to rotate \") )\n",
    "obj = rotate(array,d,len(array))\n",
    "obj.rArray()"
   ]
  },
  {
   "cell_type": "markdown",
   "id": "7bdb225f",
   "metadata": {},
   "source": [
    "# 4) Write a Python Program to Split the array and add the first part to the end?"
   ]
  },
  {
   "cell_type": "code",
   "execution_count": 28,
   "id": "9b2f696a",
   "metadata": {},
   "outputs": [],
   "source": [
    "class aSplit:\n",
    "    \n",
    "    def __init__(self,a,k):\n",
    "        self.a = a\n",
    "        self.k = k\n",
    "        \n",
    "    def split(self):\n",
    "        try:\n",
    "            self.a = self.a[k:] + self.a[:k]\n",
    "            return self.a\n",
    "        except Exception as e:\n",
    "            print(e)\n",
    "        "
   ]
  },
  {
   "cell_type": "code",
   "execution_count": 30,
   "id": "ee9d7787",
   "metadata": {},
   "outputs": [
    {
     "name": "stdout",
     "output_type": "stream",
     "text": [
      "Enter array to split 1 2 3 4 5\n",
      "Enter index at which to split 2\n"
     ]
    },
    {
     "data": {
      "text/plain": [
       "['3', '4', '5', '1', '2']"
      ]
     },
     "execution_count": 30,
     "metadata": {},
     "output_type": "execute_result"
    }
   ],
   "source": [
    "arr1 = input('Enter array to split ').split()\n",
    "k=int(input('Enter index at which to split '))\n",
    "obj = aSplit(arr1,k)\n",
    "obj.split()"
   ]
  },
  {
   "cell_type": "markdown",
   "id": "f16f120f",
   "metadata": {},
   "source": [
    "# 5) Write a Python Program to check if given array is Monotonic?"
   ]
  },
  {
   "cell_type": "code",
   "execution_count": 75,
   "id": "67b570e4",
   "metadata": {},
   "outputs": [],
   "source": [
    "class aMonotonic:\n",
    "    \n",
    "    def __init__(self,a):\n",
    "        self.a = a\n",
    "        self.flag = 0\n",
    "    def chkMonoInc(self):\n",
    "        for i in range(len(self.a)-1):\n",
    "            if self.a[i] >= self.a[i+1]:\n",
    "                continue\n",
    "            else:\n",
    "                return False\n",
    "        else:\n",
    "            return True\n",
    "        \n",
    "    def chkMonoDec(self):\n",
    "        for i in range(len(self.a)-1):\n",
    "            if self.a[i] <= self.a[i+1]:\n",
    "                continue\n",
    "            else:\n",
    "                return False\n",
    "        else:\n",
    "            return True\n",
    "        \n",
    "    def chkMono(self):\n",
    "        if self.chkMonoInc() or self.chkMonoDec():\n",
    "            return True\n",
    "        else:\n",
    "            return False\n",
    "    \n",
    "        "
   ]
  },
  {
   "cell_type": "code",
   "execution_count": 76,
   "id": "775204ee",
   "metadata": {},
   "outputs": [
    {
     "data": {
      "text/plain": [
       "True"
      ]
     },
     "execution_count": 76,
     "metadata": {},
     "output_type": "execute_result"
    }
   ],
   "source": [
    "arr = [1,1,3,10,11]\n",
    "obj = aMonotonic(arr)\n",
    "obj.chkMono()"
   ]
  },
  {
   "cell_type": "code",
   "execution_count": 77,
   "id": "391bbc30",
   "metadata": {},
   "outputs": [
    {
     "data": {
      "text/plain": [
       "True"
      ]
     },
     "execution_count": 77,
     "metadata": {},
     "output_type": "execute_result"
    }
   ],
   "source": [
    "arr = [1,1.11,3,10,11]\n",
    "obj = aMonotonic(arr)\n",
    "obj.chkMono()"
   ]
  },
  {
   "cell_type": "code",
   "execution_count": 79,
   "id": "3c9fe30f",
   "metadata": {},
   "outputs": [
    {
     "data": {
      "text/plain": [
       "False"
      ]
     },
     "execution_count": 79,
     "metadata": {},
     "output_type": "execute_result"
    }
   ],
   "source": [
    "arr = [11,5,1,4,12,17]\n",
    "obj = aMonotonic(arr)\n",
    "obj.chkMono()"
   ]
  },
  {
   "cell_type": "code",
   "execution_count": 80,
   "id": "8057fe94",
   "metadata": {},
   "outputs": [
    {
     "data": {
      "text/plain": [
       "False"
      ]
     },
     "execution_count": 80,
     "metadata": {},
     "output_type": "execute_result"
    }
   ],
   "source": [
    "arr = [11,11,5,1,4,12,17]\n",
    "obj = aMonotonic(arr)\n",
    "obj.chkMono()"
   ]
  },
  {
   "cell_type": "code",
   "execution_count": 81,
   "id": "2c30f6da",
   "metadata": {},
   "outputs": [
    {
     "data": {
      "text/plain": [
       "True"
      ]
     },
     "execution_count": 81,
     "metadata": {},
     "output_type": "execute_result"
    }
   ],
   "source": [
    "arr = [11,5,4,2,-1]\n",
    "obj = aMonotonic(arr)\n",
    "obj.chkMono()"
   ]
  },
  {
   "cell_type": "code",
   "execution_count": null,
   "id": "b6c6a09a",
   "metadata": {},
   "outputs": [],
   "source": []
  }
 ],
 "metadata": {
  "kernelspec": {
   "display_name": "iNeuronFSDSPythonModule",
   "language": "python",
   "name": "ineuronfsdspythonmodule"
  },
  "language_info": {
   "codemirror_mode": {
    "name": "ipython",
    "version": 3
   },
   "file_extension": ".py",
   "mimetype": "text/x-python",
   "name": "python",
   "nbconvert_exporter": "python",
   "pygments_lexer": "ipython3",
   "version": "3.6.12"
  }
 },
 "nbformat": 4,
 "nbformat_minor": 5
}
