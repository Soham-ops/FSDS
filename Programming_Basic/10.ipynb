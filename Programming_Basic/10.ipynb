{
 "cells": [
  {
   "cell_type": "markdown",
   "id": "7b10da67",
   "metadata": {},
   "source": [
    "# 1) Write a Python program to find sum of elements in list?\n"
   ]
  },
  {
   "cell_type": "code",
   "execution_count": 3,
   "id": "964c6135",
   "metadata": {},
   "outputs": [],
   "source": [
    "class soln1:\n",
    "    \n",
    "    def __init__(self,ls):\n",
    "        self.ls = ls\n",
    "        \n",
    "    def listSum(self):\n",
    "        \n",
    "        try:\n",
    "            temp = 0\n",
    "            for i in self.ls:\n",
    "                temp+=i\n",
    "            return temp\n",
    "        except Exception as e:\n",
    "            return e"
   ]
  },
  {
   "cell_type": "code",
   "execution_count": 4,
   "id": "dcf020a8",
   "metadata": {},
   "outputs": [
    {
     "data": {
      "text/plain": [
       "15"
      ]
     },
     "execution_count": 4,
     "metadata": {},
     "output_type": "execute_result"
    }
   ],
   "source": [
    "ls = [1,2,3,4,5]\n",
    "obj = soln1(ls)\n",
    "obj.listSum()"
   ]
  },
  {
   "cell_type": "markdown",
   "id": "8ec36fe3",
   "metadata": {},
   "source": [
    "# 2) Write a Python program to  Multiply all numbers in the list?\n"
   ]
  },
  {
   "cell_type": "code",
   "execution_count": 5,
   "id": "9e6e7c2b",
   "metadata": {},
   "outputs": [],
   "source": [
    "class soln2:\n",
    "    \n",
    "    def __init__(self,ls):\n",
    "        self.ls = ls\n",
    "    \n",
    "    def mList(self):\n",
    "        \n",
    "        try:\n",
    "            temp =1\n",
    "            for i in self.ls:\n",
    "                temp*=i\n",
    "            return temp\n",
    "        except Excetion as e:\n",
    "            return e"
   ]
  },
  {
   "cell_type": "code",
   "execution_count": 6,
   "id": "26a40d0f",
   "metadata": {},
   "outputs": [
    {
     "data": {
      "text/plain": [
       "120"
      ]
     },
     "execution_count": 6,
     "metadata": {},
     "output_type": "execute_result"
    }
   ],
   "source": [
    "ls = [1,2,3,4,5]\n",
    "obj = soln2(ls)\n",
    "obj.mList()"
   ]
  },
  {
   "cell_type": "markdown",
   "id": "ad9f462f",
   "metadata": {},
   "source": [
    "# 3) Write a Python program to find smallest number in a list?\n"
   ]
  },
  {
   "cell_type": "code",
   "execution_count": 13,
   "id": "c19c6093",
   "metadata": {},
   "outputs": [],
   "source": [
    "class soln3:\n",
    "    \n",
    "    def __init__(self,ls):\n",
    "        self.ls = ls\n",
    "    \n",
    "    def smallest(self):\n",
    "        try:\n",
    "            if 0<= len(self.ls) <=1:\n",
    "                return self.ls\n",
    "            else:\n",
    "                self.ls.sort()\n",
    "                return self.ls[0]\n",
    "        except Exception as e:\n",
    "            return e"
   ]
  },
  {
   "cell_type": "code",
   "execution_count": 14,
   "id": "579ec23e",
   "metadata": {},
   "outputs": [
    {
     "data": {
      "text/plain": [
       "1"
      ]
     },
     "execution_count": 14,
     "metadata": {},
     "output_type": "execute_result"
    }
   ],
   "source": [
    "ls = [5,3,1,24,6]\n",
    "obj = soln3(ls)\n",
    "obj.smallest()"
   ]
  },
  {
   "cell_type": "markdown",
   "id": "afc3e0e2",
   "metadata": {},
   "source": [
    "# 4) Write a Python program to find largest number in a list?\n"
   ]
  },
  {
   "cell_type": "code",
   "execution_count": 17,
   "id": "fbd9de24",
   "metadata": {},
   "outputs": [],
   "source": [
    "class soln4:\n",
    "    \n",
    "    def __init__(self,ls):\n",
    "        self.ls = ls\n",
    "    \n",
    "    def largest(self):\n",
    "        try:\n",
    "            if 0<= len(self.ls) <=1:\n",
    "                return self.ls\n",
    "            else:\n",
    "                self.ls.sort(reverse=True)\n",
    "                return self.ls[0]\n",
    "        except Exception as e:\n",
    "            return e"
   ]
  },
  {
   "cell_type": "code",
   "execution_count": 19,
   "id": "123d8c01",
   "metadata": {},
   "outputs": [
    {
     "data": {
      "text/plain": [
       "24"
      ]
     },
     "execution_count": 19,
     "metadata": {},
     "output_type": "execute_result"
    }
   ],
   "source": [
    "ls = [5,3,1,24,6]\n",
    "obj = soln4(ls)\n",
    "obj.largest()"
   ]
  },
  {
   "cell_type": "markdown",
   "id": "f0016415",
   "metadata": {},
   "source": [
    "# 5) Write a Python program to find second largest number in a list?\n"
   ]
  },
  {
   "cell_type": "code",
   "execution_count": 22,
   "id": "ee6aa58a",
   "metadata": {},
   "outputs": [],
   "source": [
    "class soln5:\n",
    "    \n",
    "    def __init__(self,ls):\n",
    "        self.ls = ls\n",
    "        \n",
    "    def sLargest(self):\n",
    "        try:\n",
    "            if 0<= len(self.ls) <=1:\n",
    "                return self.ls\n",
    "            #If we have >=2 element \n",
    "            #then sort and return 2nd element\n",
    "            else:\n",
    "                self.ls.sort(reverse=True)\n",
    "                return self.ls[1]\n",
    "        except Exception as e:\n",
    "            return e"
   ]
  },
  {
   "cell_type": "code",
   "execution_count": 23,
   "id": "73389cd9",
   "metadata": {},
   "outputs": [
    {
     "data": {
      "text/plain": [
       "7"
      ]
     },
     "execution_count": 23,
     "metadata": {},
     "output_type": "execute_result"
    }
   ],
   "source": [
    "ls=[5,1,2,5,7,9,0]\n",
    "obj = soln5(ls)\n",
    "obj.sLargest()"
   ]
  },
  {
   "cell_type": "markdown",
   "id": "fe0b0a4d",
   "metadata": {},
   "source": [
    "# 6) Write a Python program to find N largest elements from a list?\n"
   ]
  },
  {
   "cell_type": "code",
   "execution_count": 29,
   "id": "4fb8e44f",
   "metadata": {},
   "outputs": [],
   "source": [
    "class soln6:\n",
    "    \n",
    "    def __init__(self,ls,N):\n",
    "        self.ls = ls\n",
    "        self.N = N\n",
    "    def nLargest(self):\n",
    "        try:\n",
    "            if 0<= len(self.ls) <=1:\n",
    "                return self.ls\n",
    "            #if we have >=N elemet\n",
    "            #Sort and return N elements\n",
    "            else:\n",
    "                self.ls.sort(reverse=True)\n",
    "                for i in range(self.N):\n",
    "                    yield self.ls[i]\n",
    "        except Exception as e:\n",
    "            return e"
   ]
  },
  {
   "cell_type": "code",
   "execution_count": 30,
   "id": "f2fd6ec4",
   "metadata": {},
   "outputs": [
    {
     "name": "stdout",
     "output_type": "stream",
     "text": [
      "9\n",
      "7\n",
      "5\n"
     ]
    }
   ],
   "source": [
    "ls=[5,1,2,5,7,9,0]\n",
    "obj = soln6(ls,3)\n",
    "for i in obj.nLargest():\n",
    "    print(i)"
   ]
  },
  {
   "cell_type": "code",
   "execution_count": 31,
   "id": "a6fee887",
   "metadata": {},
   "outputs": [
    {
     "name": "stdout",
     "output_type": "stream",
     "text": [
      "45\n",
      "32\n",
      "11\n"
     ]
    }
   ],
   "source": [
    "ls=[6,3,4,7,10,45,11,32,8,6]\n",
    "obj = soln6(ls,3)\n",
    "for i in obj.nLargest():\n",
    "    print(i)"
   ]
  },
  {
   "cell_type": "markdown",
   "id": "d1e1e810",
   "metadata": {},
   "source": [
    "# 7) Write a Python program to print even numbers in a list?"
   ]
  },
  {
   "cell_type": "code",
   "execution_count": 33,
   "id": "ec17181d",
   "metadata": {},
   "outputs": [],
   "source": [
    "class soln7:\n",
    "    \n",
    "    def __init__(self,ls):\n",
    "        self.ls = ls\n",
    "        \n",
    "    def even(self):\n",
    "        try:\n",
    "            for i in self.ls:\n",
    "                if i%2 == 0:\n",
    "                    yield i\n",
    "        except Exception as e:\n",
    "            return e"
   ]
  },
  {
   "cell_type": "code",
   "execution_count": 35,
   "id": "fab703a8",
   "metadata": {},
   "outputs": [
    {
     "name": "stdout",
     "output_type": "stream",
     "text": [
      "6\n",
      "4\n",
      "10\n",
      "32\n",
      "8\n",
      "6\n"
     ]
    }
   ],
   "source": [
    "ls=[6,3,4,7,10,45,11,32,8,6]\n",
    "obj = soln7(ls)\n",
    "for i in obj.even():\n",
    "    print(i)"
   ]
  },
  {
   "cell_type": "markdown",
   "id": "4cfaa4ec",
   "metadata": {},
   "source": [
    "# 8) Write a Python program to print odd numbers in a List?\n"
   ]
  },
  {
   "cell_type": "code",
   "execution_count": 36,
   "id": "a711dba4",
   "metadata": {},
   "outputs": [],
   "source": [
    "class soln8:\n",
    "    \n",
    "    def __init__(self,ls):\n",
    "        self.ls = ls\n",
    "        \n",
    "    def odd(self):\n",
    "        try:\n",
    "            for i in self.ls:\n",
    "                # if we divide by 2 then remainder can be 0 and 1 as per Euclid Division Lemma\n",
    "                # if its 0 its even if its 1 its odd\n",
    "                if i%2==1:\n",
    "                    yield i\n",
    "        except Exception as e:\n",
    "            return e"
   ]
  },
  {
   "cell_type": "code",
   "execution_count": 37,
   "id": "d272c9e8",
   "metadata": {},
   "outputs": [
    {
     "name": "stdout",
     "output_type": "stream",
     "text": [
      "3\n",
      "7\n",
      "45\n",
      "11\n"
     ]
    }
   ],
   "source": [
    "ls=[6,3,4,7,10,45,11,32,8,6]\n",
    "obj = soln8(ls)\n",
    "for i in obj.odd():\n",
    "    print(i)"
   ]
  },
  {
   "cell_type": "markdown",
   "id": "be3c020f",
   "metadata": {},
   "source": [
    "# 9) Write a Python program to Remove empty List from List?\n"
   ]
  },
  {
   "cell_type": "code",
   "execution_count": 67,
   "id": "a4dee720",
   "metadata": {},
   "outputs": [],
   "source": [
    "class soln9:\n",
    "    \n",
    "    def __init__(self,ls):\n",
    "        self.ls = ls\n",
    "        self.final = []\n",
    "        \n",
    "    def rEmpty(self):\n",
    "        try:\n",
    "            for i in range(len(self.ls)):\n",
    "                if (type(self.ls[i]) == list) and (len(self.ls[i]) == 0):\n",
    "                    continue\n",
    "                else:\n",
    "                    self.final.append(self.ls[i])\n",
    "            return self.final\n",
    "        except Exception as e:\n",
    "            return e"
   ]
  },
  {
   "cell_type": "code",
   "execution_count": 68,
   "id": "3473b141",
   "metadata": {},
   "outputs": [
    {
     "data": {
      "text/plain": [
       "[1, 2, 3, [4, 6], [7, 8, 9]]"
      ]
     },
     "execution_count": 68,
     "metadata": {},
     "output_type": "execute_result"
    }
   ],
   "source": [
    "ls = [1,2,[],3,[4,6],[7,8,9],[]]\n",
    "obj = soln9(ls)\n",
    "obj.rEmpty()"
   ]
  },
  {
   "cell_type": "markdown",
   "id": "b01fb030",
   "metadata": {},
   "source": [
    "# 10) Write a Python program to Cloning or Copying a list?\n"
   ]
  },
  {
   "cell_type": "code",
   "execution_count": 96,
   "id": "eff4f85e",
   "metadata": {},
   "outputs": [],
   "source": [
    "class soln10:\n",
    "    \n",
    "    def __init__(self,ls):\n",
    "        self.ls = ls\n",
    "    \n",
    "    def clone(self):\n",
    "        return self.ls[:]"
   ]
  },
  {
   "cell_type": "code",
   "execution_count": 97,
   "id": "e823cbd1",
   "metadata": {},
   "outputs": [],
   "source": [
    "ls = [1,2,3,4,5]\n",
    "obj = soln10(ls)\n",
    "ls_clone = obj.clone()"
   ]
  },
  {
   "cell_type": "code",
   "execution_count": 98,
   "id": "40ae2b18",
   "metadata": {},
   "outputs": [
    {
     "data": {
      "text/plain": [
       "[1, 2, 3, 4, 5]"
      ]
     },
     "execution_count": 98,
     "metadata": {},
     "output_type": "execute_result"
    }
   ],
   "source": [
    "ls"
   ]
  },
  {
   "cell_type": "code",
   "execution_count": 99,
   "id": "9a60dace",
   "metadata": {},
   "outputs": [
    {
     "data": {
      "text/plain": [
       "[1, 2, 3, 4, 5]"
      ]
     },
     "execution_count": 99,
     "metadata": {},
     "output_type": "execute_result"
    }
   ],
   "source": [
    "ls_clone"
   ]
  },
  {
   "cell_type": "code",
   "execution_count": 100,
   "id": "fcb87a9c",
   "metadata": {},
   "outputs": [
    {
     "data": {
      "text/plain": [
       "[1, 2, 3, 4, 5, 6]"
      ]
     },
     "execution_count": 100,
     "metadata": {},
     "output_type": "execute_result"
    }
   ],
   "source": [
    "ls.append(6)\n",
    "ls"
   ]
  },
  {
   "cell_type": "code",
   "execution_count": 101,
   "id": "cf89405f",
   "metadata": {},
   "outputs": [
    {
     "data": {
      "text/plain": [
       "[1, 2, 3, 4, 5]"
      ]
     },
     "execution_count": 101,
     "metadata": {},
     "output_type": "execute_result"
    }
   ],
   "source": [
    "ls_clone"
   ]
  },
  {
   "cell_type": "code",
   "execution_count": 102,
   "id": "0b7f5fa5",
   "metadata": {},
   "outputs": [
    {
     "data": {
      "text/plain": [
       "[1, 'soham', 3, 4, 5, 6]"
      ]
     },
     "execution_count": 102,
     "metadata": {},
     "output_type": "execute_result"
    }
   ],
   "source": [
    "ls[1] = 'soham'\n",
    "ls"
   ]
  },
  {
   "cell_type": "code",
   "execution_count": 103,
   "id": "1edb94ed",
   "metadata": {},
   "outputs": [
    {
     "data": {
      "text/plain": [
       "[1, 2, 3, 4, 5]"
      ]
     },
     "execution_count": 103,
     "metadata": {},
     "output_type": "execute_result"
    }
   ],
   "source": [
    "ls_clone"
   ]
  },
  {
   "cell_type": "markdown",
   "id": "520947c4",
   "metadata": {},
   "source": [
    "# 11) Write a Python program to Count occurrences of an element in a list?\n"
   ]
  },
  {
   "cell_type": "code",
   "execution_count": 82,
   "id": "8f7f1ee4",
   "metadata": {},
   "outputs": [],
   "source": [
    "class soln11:\n",
    "    \n",
    "    def __init__(self,ls):\n",
    "        self.ls = ls\n",
    "        self.occurence ={}\n",
    "        \n",
    "    def fOccurence(self):\n",
    "        for i in self.ls:\n",
    "            if i in self.occurence.keys():\n",
    "                self.occurence[i]+=1\n",
    "            else:\n",
    "                self.occurence[i]=1\n",
    "        return self.occurence"
   ]
  },
  {
   "cell_type": "code",
   "execution_count": 85,
   "id": "cc364bf5",
   "metadata": {},
   "outputs": [
    {
     "data": {
      "text/plain": [
       "{0: 1, 2: 4, 5: 3, 4: 1, 6: 1}"
      ]
     },
     "execution_count": 85,
     "metadata": {},
     "output_type": "execute_result"
    }
   ],
   "source": [
    "ls=[0,2,5,2,2,4,5,6,2,5]\n",
    "obj = soln11(ls)\n",
    "obj.fOccurence()"
   ]
  },
  {
   "cell_type": "code",
   "execution_count": null,
   "id": "86fbe952",
   "metadata": {},
   "outputs": [],
   "source": []
  }
 ],
 "metadata": {
  "kernelspec": {
   "display_name": "iNeuronFSDSPythonModule",
   "language": "python",
   "name": "ineuronfsdspythonmodule"
  },
  "language_info": {
   "codemirror_mode": {
    "name": "ipython",
    "version": 3
   },
   "file_extension": ".py",
   "mimetype": "text/x-python",
   "name": "python",
   "nbconvert_exporter": "python",
   "pygments_lexer": "ipython3",
   "version": "3.6.12"
  }
 },
 "nbformat": 4,
 "nbformat_minor": 5
}
