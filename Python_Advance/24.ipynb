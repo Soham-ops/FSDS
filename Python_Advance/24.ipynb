{
 "cells": [
  {
   "cell_type": "markdown",
   "id": "37e64e79",
   "metadata": {},
   "source": [
    "# Q1. Is it permissible to use several import statements to import the same module? What would the goal be? Can you think of a situation where it would be beneficial?\n"
   ]
  },
  {
   "cell_type": "markdown",
   "id": "77f0ba54",
   "metadata": {},
   "source": [
    "<li>Yes, usage of such happens when we need to import several different functions from same module</li>"
   ]
  },
  {
   "cell_type": "markdown",
   "id": "13628b24",
   "metadata": {},
   "source": [
    "# Q2. What are some of a module's characteristics? (Name at least one.)"
   ]
  },
  {
   "cell_type": "markdown",
   "id": "40283175",
   "metadata": {},
   "source": [
    "<li>__dict__: This is the dictionary containing the module’s symbol table aka A dictionary or other mapping object used to store an object’s (writable) attributes.</li>\n",
    "<li>__file__: path of the file from which the module was loaded,provided it was loaded from a file</li>"
   ]
  },
  {
   "cell_type": "markdown",
   "id": "6d6d9ea6",
   "metadata": {},
   "source": [
    "# Q3. Circular importing, such as when two modules import each other, can lead to dependencies and bugs that aren't visible. How can you go about creating a program that avoids mutual importing?\n"
   ]
  },
  {
   "cell_type": "markdown",
   "id": "f96c634b",
   "metadata": {},
   "source": [
    "<li>Circular Importing are similar to deadlocks in OS. We can prevent mutual importing by adding the below LOC</li>\n",
    "<li>__name__ == '__main__'</li>\n",
    "<li>By the addition of this LOC infinite loop will be broken</li>"
   ]
  },
  {
   "cell_type": "markdown",
   "id": "ad3618e9",
   "metadata": {},
   "source": [
    "# Q4. Why is  _ _all_ _ in Python?\n"
   ]
  },
  {
   "cell_type": "markdown",
   "id": "b5e0b40d",
   "metadata": {},
   "source": [
    "<li>Provides list of all modules present in a library</li>"
   ]
  },
  {
   "cell_type": "markdown",
   "id": "dd73b16e",
   "metadata": {},
   "source": [
    "# Q5. In what situation is it useful to refer to the _ _name_ _ attribute or the string '_ _main_ _'?\n"
   ]
  },
  {
   "cell_type": "markdown",
   "id": "f13ce760",
   "metadata": {},
   "source": [
    "<li>__name__ attribute will tell us the name of the module we are currently working on during execution of our code</li>\n",
    "<li> If we are importing the current module from some other module then the current module we are working with is referred by the string 'main'</li>"
   ]
  },
  {
   "cell_type": "markdown",
   "id": "f231820b",
   "metadata": {},
   "source": [
    "# Q6. What are some of the benefits of attaching a program counter to the RPN interpreter application, which interprets an RPN script line by line?\n",
    "\n"
   ]
  },
  {
   "cell_type": "markdown",
   "id": "3caff86b",
   "metadata": {},
   "source": [
    "<ul>Benefits being as\n",
    "<li> It will lead to faster calculation, as in Reverse Polish Notations Expression/Postfix need not be parenthesized</li>\n",
    "<li> Thus fewer operations need to be entered to perform typical calculations</li>\n",
    "</ul>"
   ]
  },
  {
   "cell_type": "markdown",
   "id": "7e2339aa",
   "metadata": {},
   "source": [
    "# Q7. What are the minimum expressions or statements (or both) that you'd need to render a basic programming language like RPN primitive but complete— that is, capable of carrying out any computerised task theoretically possible?\n"
   ]
  },
  {
   "cell_type": "markdown",
   "id": "e4970ace",
   "metadata": {},
   "source": [
    "<li>My assumption is that by implementing a stack with the help of a list, we are successfully able to interpret a Reverse Polish Notation/Postfix notation, thus would like to conclude that any programming language that gives us the functionality to create a stack can be considered to be able to RPN prmitive(basic)</li>"
   ]
  },
  {
   "cell_type": "code",
   "execution_count": null,
   "id": "feded94f",
   "metadata": {},
   "outputs": [],
   "source": []
  }
 ],
 "metadata": {
  "kernelspec": {
   "display_name": "Python 3 (ipykernel)",
   "language": "python",
   "name": "python3"
  },
  "language_info": {
   "codemirror_mode": {
    "name": "ipython",
    "version": 3
   },
   "file_extension": ".py",
   "mimetype": "text/x-python",
   "name": "python",
   "nbconvert_exporter": "python",
   "pygments_lexer": "ipython3",
   "version": "3.8.12"
  }
 },
 "nbformat": 4,
 "nbformat_minor": 5
}
