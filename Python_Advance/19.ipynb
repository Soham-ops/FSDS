{
 "cells": [
  {
   "cell_type": "markdown",
   "id": "b0361fbc",
   "metadata": {},
   "source": [
    "# Q1. Define the relationship between a class and its instances. Is it a one-to-one or a one-to-many partnership, for example?\n",
    " "
   ]
  },
  {
   "cell_type": "markdown",
   "id": "1326dbab",
   "metadata": {},
   "source": [
    "<li>Classes can be thought of as templates that does not take up any memory, whereas instances of the class can be thought of as implementation of the same that consume memory.</li>\n",
    "<li>It is one to many partnership</li>"
   ]
  },
  {
   "cell_type": "markdown",
   "id": "8dbf02c7",
   "metadata": {},
   "source": [
    "# Q2. What kind of data is held only in an instance?\n"
   ]
  },
  {
   "cell_type": "markdown",
   "id": "c5406b9a",
   "metadata": {},
   "source": [
    "<li>Actual values given by the user</li>\n",
    "<li>instance methods</li>\n",
    "<li>data variable</li>"
   ]
  },
  {
   "cell_type": "markdown",
   "id": "0bb17f35",
   "metadata": {},
   "source": [
    "# Q3. What kind of knowledge is stored in a class?\n",
    "\n"
   ]
  },
  {
   "cell_type": "markdown",
   "id": "094b8f28",
   "metadata": {},
   "source": [
    "<li>Class variable</li>\n",
    "<li>Architechture of an object</li>\n",
    "<li>class methods</li>"
   ]
  },
  {
   "cell_type": "markdown",
   "id": "4cc00bb2",
   "metadata": {},
   "source": [
    "# Q4. What exactly is a method, and how is it different from a regular function?\n"
   ]
  },
  {
   "cell_type": "code",
   "execution_count": 2,
   "id": "20b9d765",
   "metadata": {},
   "outputs": [
    {
     "name": "stdout",
     "output_type": "stream",
     "text": [
      "Hi\n"
     ]
    }
   ],
   "source": [
    "#function\n",
    "def func():\n",
    "    print('Hi')\n",
    "func()"
   ]
  },
  {
   "cell_type": "code",
   "execution_count": 3,
   "id": "0d3d1142",
   "metadata": {},
   "outputs": [],
   "source": [
    "# I am method\n",
    "class foo:\n",
    "    def sample(self):\n",
    "        return \"I am method\""
   ]
  },
  {
   "cell_type": "code",
   "execution_count": 4,
   "id": "196a7eb4",
   "metadata": {},
   "outputs": [
    {
     "data": {
      "text/plain": [
       "'I am method'"
      ]
     },
     "execution_count": 4,
     "metadata": {},
     "output_type": "execute_result"
    }
   ],
   "source": [
    "a = foo()\n",
    "a.sample()"
   ]
  },
  {
   "cell_type": "markdown",
   "id": "747459a8",
   "metadata": {},
   "source": [
    "# Q5. Is inheritance supported in Python, and if so, what is the syntax?\n"
   ]
  },
  {
   "cell_type": "code",
   "execution_count": 5,
   "id": "cd51c216",
   "metadata": {},
   "outputs": [],
   "source": [
    "class A:\n",
    "    def __init__(self,a):\n",
    "        self.a = a\n",
    "class B(A):\n",
    "    def __init__(self,a,b):\n",
    "        super().__init__(a)\n",
    "        self.b = b\n",
    "    def sample(self):\n",
    "        print(self.a,self.b)"
   ]
  },
  {
   "cell_type": "code",
   "execution_count": 6,
   "id": "a6fe5729",
   "metadata": {},
   "outputs": [
    {
     "name": "stdout",
     "output_type": "stream",
     "text": [
      "1 2\n"
     ]
    }
   ],
   "source": [
    "b = B(1,2)\n",
    "b.sample()"
   ]
  },
  {
   "cell_type": "markdown",
   "id": "9f76fa9f",
   "metadata": {},
   "source": [
    "# Q6. How much encapsulation (making instance or class variables private) does Python support?\n"
   ]
  },
  {
   "cell_type": "code",
   "execution_count": 7,
   "id": "0a7d14a0",
   "metadata": {},
   "outputs": [],
   "source": [
    "class Element:\n",
    "    \n",
    "    def __init__(self):\n",
    "        self.__info = {'name':'Hydrogen',\n",
    "                    'symbol':'H',\n",
    "                    'number': 1}\n",
    "        \n",
    "    def getName(self):\n",
    "        return self.__info['name']\n",
    "        \n",
    "    def getSymbol(self):\n",
    "        return self.__info['symbol']\n",
    "        \n",
    "    def getNumber(self):\n",
    "        return self.__info['number']"
   ]
  },
  {
   "cell_type": "code",
   "execution_count": 8,
   "id": "badf0709",
   "metadata": {},
   "outputs": [
    {
     "name": "stdout",
     "output_type": "stream",
     "text": [
      "Hydrogen\n",
      "H\n",
      "1\n"
     ]
    },
    {
     "ename": "AttributeError",
     "evalue": "'Element' object has no attribute '__info'",
     "output_type": "error",
     "traceback": [
      "\u001b[1;31m---------------------------------------------------------------------------\u001b[0m",
      "\u001b[1;31mAttributeError\u001b[0m                            Traceback (most recent call last)",
      "Input \u001b[1;32mIn [8]\u001b[0m, in \u001b[0;36m<cell line: 6>\u001b[1;34m()\u001b[0m\n\u001b[0;32m      4\u001b[0m \u001b[38;5;28mprint\u001b[39m(obj\u001b[38;5;241m.\u001b[39mgetNumber())\n\u001b[0;32m      5\u001b[0m \u001b[38;5;66;03m#info is private attribute \u001b[39;00m\n\u001b[1;32m----> 6\u001b[0m \u001b[43mobj\u001b[49m\u001b[38;5;241;43m.\u001b[39;49m\u001b[43m__info\u001b[49m\n",
      "\u001b[1;31mAttributeError\u001b[0m: 'Element' object has no attribute '__info'"
     ]
    }
   ],
   "source": [
    "obj = Element()\n",
    "print(obj.getName())\n",
    "print(obj.getSymbol())\n",
    "print(obj.getNumber())\n",
    "#info is private attribute \n",
    "obj.__info"
   ]
  },
  {
   "cell_type": "markdown",
   "id": "9ce64e52",
   "metadata": {},
   "source": [
    "# Q7. How do you distinguish between a class variable and an instance variable?\n"
   ]
  },
  {
   "cell_type": "code",
   "execution_count": 11,
   "id": "b0603110",
   "metadata": {},
   "outputs": [],
   "source": [
    "#class variables\n",
    "class foo:\n",
    "    c = 1 # class variable\n",
    "    \n",
    "    def __init__(self,a):\n",
    "        self.a = a#instance variable"
   ]
  },
  {
   "cell_type": "code",
   "execution_count": 14,
   "id": "05b5ff1a",
   "metadata": {},
   "outputs": [
    {
     "name": "stdout",
     "output_type": "stream",
     "text": [
      "2\n",
      "1\n"
     ]
    }
   ],
   "source": [
    "f = foo(2)\n",
    "print(f.a)\n",
    "print(foo.c)"
   ]
  },
  {
   "cell_type": "markdown",
   "id": "26761f46",
   "metadata": {},
   "source": [
    "# Q8. When, if ever, can self be included in a class's method definitions?\n"
   ]
  },
  {
   "cell_type": "code",
   "execution_count": 21,
   "id": "fc168028",
   "metadata": {},
   "outputs": [],
   "source": [
    "#self is not a keyword,it's just a variable name thus we are free to write it in a class method definition.\n",
    "#in this cls contains the memory address of the object created\n",
    "#whereas self contains the reference to the class foo\n",
    "class foo:\n",
    "    \n",
    "    def __init__(cls,a,b):\n",
    "        cls.a = a\n",
    "        cls.b = b\n",
    "        \n",
    "    @classmethod\n",
    "    def classmetd(self,a,b):\n",
    "        return self(a,b)\n",
    "    "
   ]
  },
  {
   "cell_type": "code",
   "execution_count": 22,
   "id": "5964bcb2",
   "metadata": {},
   "outputs": [],
   "source": [
    "p1 = foo(1,2)\n",
    "p2 = foo.classmetd(3,4)"
   ]
  },
  {
   "cell_type": "code",
   "execution_count": 23,
   "id": "57c91619",
   "metadata": {},
   "outputs": [
    {
     "data": {
      "text/plain": [
       "1"
      ]
     },
     "execution_count": 23,
     "metadata": {},
     "output_type": "execute_result"
    }
   ],
   "source": [
    "p1.a"
   ]
  },
  {
   "cell_type": "code",
   "execution_count": 24,
   "id": "40cd9198",
   "metadata": {},
   "outputs": [
    {
     "data": {
      "text/plain": [
       "2"
      ]
     },
     "execution_count": 24,
     "metadata": {},
     "output_type": "execute_result"
    }
   ],
   "source": [
    "p1.b"
   ]
  },
  {
   "cell_type": "code",
   "execution_count": 25,
   "id": "7acdfeea",
   "metadata": {},
   "outputs": [
    {
     "data": {
      "text/plain": [
       "3"
      ]
     },
     "execution_count": 25,
     "metadata": {},
     "output_type": "execute_result"
    }
   ],
   "source": [
    "p2.a"
   ]
  },
  {
   "cell_type": "code",
   "execution_count": 26,
   "id": "096ea802",
   "metadata": {},
   "outputs": [
    {
     "data": {
      "text/plain": [
       "4"
      ]
     },
     "execution_count": 26,
     "metadata": {},
     "output_type": "execute_result"
    }
   ],
   "source": [
    "p2.b"
   ]
  },
  {
   "cell_type": "markdown",
   "id": "b8a9a1b6",
   "metadata": {},
   "source": [
    "# Q9. What is the difference between the _ _add_ _ and the _ _radd_ _ methods?\n"
   ]
  },
  {
   "cell_type": "markdown",
   "id": "21780bec",
   "metadata": {},
   "source": [
    "<ul> __add__\n",
    " <li>Assume I have class which i want to act like a number via operator overloading.Hence __add__ is implemented as a result of which expressions like obj + 1 will come to fruittion. The reason being obj + 1 is interpreted as obj.__add__(1),</li>\n",
    "</ul>    "
   ]
  },
  {
   "cell_type": "markdown",
   "id": "ea7eff49",
   "metadata": {},
   "source": [
    "<ul>__radd__\n",
    "    <li>Now suppose if i wanted to 1 + obj, then i will get error, but if I have implemented __radd__ inside the class whose obj is an instance, then 1+ obj will give me same result just like obj +1 </li>\n",
    "</ul>"
   ]
  },
  {
   "cell_type": "markdown",
   "id": "835994f7",
   "metadata": {},
   "source": [
    "# Q10. When is it necessary to use a reflection method? When do you not need it, even though you support the operation in question?\n"
   ]
  },
  {
   "cell_type": "markdown",
   "id": "df7bd96a",
   "metadata": {},
   "source": [
    "<ul>necessary to use a reflection method\n",
    "<li>When we want to be absolutely sure regarding the parameters we are receiving inside our function,eg - if we have a number field inside our form, and some is try to perform sql injection through that field, then in such cases by using reflection method \"type\" such exploitation can be prevented</li>\n",
    "</ul>"
   ]
  },
  {
   "cell_type": "markdown",
   "id": "265a0e99",
   "metadata": {},
   "source": [
    "<ul>where I dont need it\n",
    "    <li>cases where parameters passed are not critical to my execution of my program</li>\n",
    "</ul>"
   ]
  },
  {
   "cell_type": "markdown",
   "id": "d0bc0b61",
   "metadata": {},
   "source": [
    "# Q11. What is the _ _iadd_ _ method called?\n",
    "\n"
   ]
  },
  {
   "cell_type": "markdown",
   "id": "81e66440",
   "metadata": {},
   "source": [
    "<li>a += b is equivalent to x = operator.iadd(a, b)/li> "
   ]
  },
  {
   "cell_type": "markdown",
   "id": "067c71d8",
   "metadata": {},
   "source": [
    "# Q12. Is the _ _init_ _ method inherited by subclasses? What do you do if you need to customize its behavior within a subclass?\n"
   ]
  },
  {
   "cell_type": "code",
   "execution_count": 28,
   "id": "5e61cc36",
   "metadata": {},
   "outputs": [],
   "source": [
    "class A:\n",
    "    def __init__(self,a):\n",
    "        self.a = a\n",
    "class B(A):\n",
    "    def __init__(self,a):\n",
    "        super().__init__(a)\n",
    "       "
   ]
  },
  {
   "cell_type": "code",
   "execution_count": 29,
   "id": "d8df177a",
   "metadata": {},
   "outputs": [
    {
     "name": "stdout",
     "output_type": "stream",
     "text": [
      "1\n",
      "2\n"
     ]
    }
   ],
   "source": [
    "obj1 = A(1)\n",
    "print(obj1.a)\n",
    "obj2 = B(2)\n",
    "print(obj2.a)"
   ]
  },
  {
   "cell_type": "code",
   "execution_count": null,
   "id": "de590723",
   "metadata": {},
   "outputs": [],
   "source": []
  }
 ],
 "metadata": {
  "kernelspec": {
   "display_name": "Python 3 (ipykernel)",
   "language": "python",
   "name": "python3"
  },
  "language_info": {
   "codemirror_mode": {
    "name": "ipython",
    "version": 3
   },
   "file_extension": ".py",
   "mimetype": "text/x-python",
   "name": "python",
   "nbconvert_exporter": "python",
   "pygments_lexer": "ipython3",
   "version": "3.8.12"
  }
 },
 "nbformat": 4,
 "nbformat_minor": 5
}
