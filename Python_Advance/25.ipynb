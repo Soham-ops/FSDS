{
 "cells": [
  {
   "cell_type": "markdown",
   "id": "6bb197eb",
   "metadata": {},
   "source": [
    "# Q1. What is the distinction between a numpy array and a pandas data frame? Is there a way to convert between the two if there is?\n"
   ]
  },
  {
   "cell_type": "markdown",
   "id": "e51200a3",
   "metadata": {},
   "source": [
    "<li>Pandas dataframe is basically a table, whereas numpy array is sequence that allows to hold homogeneous data type</li>\n",
    "<li>pandas.DataFrame.to_numpy is the method through which we convert</li>"
   ]
  },
  {
   "cell_type": "markdown",
   "id": "78a8f122",
   "metadata": {},
   "source": [
    "# Q2. What can go wrong when an user enters in a stock-ticker symbol, and how do you handle it?\n"
   ]
  },
  {
   "cell_type": "markdown",
   "id": "b5df2ed7",
   "metadata": {},
   "source": [
    "<li>With the help of exception handling and regex</li>"
   ]
  },
  {
   "cell_type": "markdown",
   "id": "07a7ed38",
   "metadata": {},
   "source": [
    "# Q3. Identify some of the plotting techniques that are used to produce a stock-market chart.\n"
   ]
  },
  {
   "cell_type": "markdown",
   "id": "9bb36f45",
   "metadata": {},
   "source": [
    "<li>candlestick chart</li>\n",
    "<li>bar chart</li>"
   ]
  },
  {
   "cell_type": "markdown",
   "id": "afc55639",
   "metadata": {},
   "source": [
    "# Q4. Why is it essential to print a legend on a stock market chart?\n",
    "\n"
   ]
  },
  {
   "cell_type": "markdown",
   "id": "0a90b86e",
   "metadata": {},
   "source": [
    "<li>For easier readablity of the graph</li>"
   ]
  },
  {
   "cell_type": "markdown",
   "id": "e011a9d4",
   "metadata": {},
   "source": [
    "# Q5. What is the best way to limit the length of a pandas data frame to less than a year?\n",
    "\n"
   ]
  },
  {
   "cell_type": "markdown",
   "id": "2d1a3a22",
   "metadata": {},
   "source": [
    "<li>by using head\n",
    "<li> using iloc"
   ]
  },
  {
   "cell_type": "markdown",
   "id": "92a61bd4",
   "metadata": {},
   "source": [
    "# Q6. What is the definition of a 180-day moving average?\n"
   ]
  },
  {
   "cell_type": "markdown",
   "id": "4c820eb9",
   "metadata": {},
   "source": [
    "<li>The number of data points should reflect the last 180 days from today itself. When avg of such a range of data points is calculated it is 180-day moving average</li>"
   ]
  },
  {
   "cell_type": "markdown",
   "id": "10aa3a84",
   "metadata": {},
   "source": [
    "# Q7. Did the chapter's final example use \"indirect\" importing? If so, how exactly do you do it?\n"
   ]
  },
  {
   "cell_type": "markdown",
   "id": "28c46af8",
   "metadata": {},
   "source": [
    "<li>For exmaple On seeing the source code of python's fraction module over here <a href=\"https://github.com/python/cpython/blob/3.10/Lib/fractions.py\">This</a> </li>\n",
    "<ul>The top 2 LOC shows \n",
    "<li>from decimal import Decimal\n",
    "<li>import math\n",
    "</ul>"
   ]
  },
  {
   "cell_type": "markdown",
   "id": "8bff3e06",
   "metadata": {},
   "source": [
    "<li>when we need fractions class in our code and thus we do import fractions, thats an expliict import\n",
    "<ul>Whereas \n",
    "    <li>from decimal import Decimal and import math can be considered indirect import for this situation</li>\n",
    "    </ul>"
   ]
  },
  {
   "cell_type": "code",
   "execution_count": null,
   "id": "0200b1c6",
   "metadata": {},
   "outputs": [],
   "source": []
  }
 ],
 "metadata": {
  "kernelspec": {
   "display_name": "Python 3 (ipykernel)",
   "language": "python",
   "name": "python3"
  },
  "language_info": {
   "codemirror_mode": {
    "name": "ipython",
    "version": 3
   },
   "file_extension": ".py",
   "mimetype": "text/x-python",
   "name": "python",
   "nbconvert_exporter": "python",
   "pygments_lexer": "ipython3",
   "version": "3.8.12"
  }
 },
 "nbformat": 4,
 "nbformat_minor": 5
}
