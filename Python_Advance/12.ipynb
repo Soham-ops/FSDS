{
 "cells": [
  {
   "cell_type": "markdown",
   "id": "79b2fd4e",
   "metadata": {},
   "source": [
    "# Q1. Does assigning a value to a string's indexed character violate Python's string immutability?\n",
    "\n"
   ]
  },
  {
   "cell_type": "code",
   "execution_count": 1,
   "id": "5ef516b9",
   "metadata": {},
   "outputs": [],
   "source": [
    "s = 'soham'"
   ]
  },
  {
   "cell_type": "code",
   "execution_count": 2,
   "id": "87d0af51",
   "metadata": {},
   "outputs": [
    {
     "ename": "TypeError",
     "evalue": "'str' object does not support item assignment",
     "output_type": "error",
     "traceback": [
      "\u001b[1;31m---------------------------------------------------------------------------\u001b[0m",
      "\u001b[1;31mTypeError\u001b[0m                                 Traceback (most recent call last)",
      "Input \u001b[1;32mIn [2]\u001b[0m, in \u001b[0;36m<cell line: 1>\u001b[1;34m()\u001b[0m\n\u001b[1;32m----> 1\u001b[0m s[\u001b[38;5;241m0\u001b[39m]\u001b[38;5;241m=\u001b[39m\u001b[38;5;124m'\u001b[39m\u001b[38;5;124mt\u001b[39m\u001b[38;5;124m'\u001b[39m\n",
      "\u001b[1;31mTypeError\u001b[0m: 'str' object does not support item assignment"
     ]
    }
   ],
   "source": [
    "s[0]='t'"
   ]
  },
  {
   "cell_type": "markdown",
   "id": "2a18ce14",
   "metadata": {},
   "source": [
    "<li>Yes, as shown above</li>"
   ]
  },
  {
   "cell_type": "markdown",
   "id": "aa46ad3e",
   "metadata": {},
   "source": [
    "# Q2. Does using the += operator to concatenate strings violate Python's string immutability? Why or why not?\n",
    "\n"
   ]
  },
  {
   "cell_type": "code",
   "execution_count": 10,
   "id": "356e9334",
   "metadata": {},
   "outputs": [
    {
     "data": {
      "text/plain": [
       "2779147111280"
      ]
     },
     "execution_count": 10,
     "metadata": {},
     "output_type": "execute_result"
    }
   ],
   "source": [
    "a = 'soham'\n",
    "b = 'bharat'\n",
    "id(a)"
   ]
  },
  {
   "cell_type": "code",
   "execution_count": 11,
   "id": "d5afd499",
   "metadata": {},
   "outputs": [],
   "source": [
    "a+=b"
   ]
  },
  {
   "cell_type": "code",
   "execution_count": 12,
   "id": "048ac3d0",
   "metadata": {},
   "outputs": [
    {
     "data": {
      "text/plain": [
       "'sohambharat'"
      ]
     },
     "execution_count": 12,
     "metadata": {},
     "output_type": "execute_result"
    }
   ],
   "source": [
    "a"
   ]
  },
  {
   "cell_type": "code",
   "execution_count": 13,
   "id": "048273de",
   "metadata": {},
   "outputs": [
    {
     "data": {
      "text/plain": [
       "2779159069552"
      ]
     },
     "execution_count": 13,
     "metadata": {},
     "output_type": "execute_result"
    }
   ],
   "source": [
    "id(a)"
   ]
  },
  {
   "cell_type": "markdown",
   "id": "cc81a083",
   "metadata": {},
   "source": [
    "<li>So as can be seen that both a's are pointing to a different memory location thus, we can say that string immutability is not violated.</li>\n",
    "<li>when we do a+=b then ,variable 'a' which acts label now points to new string i.e sohambharat instead of 'soham'</li>"
   ]
  },
  {
   "cell_type": "markdown",
   "id": "4d5f2b22",
   "metadata": {},
   "source": [
    "# Q3. In Python, how many different ways are there to index a character?\n"
   ]
  },
  {
   "cell_type": "code",
   "execution_count": 14,
   "id": "3f2e57f4",
   "metadata": {},
   "outputs": [],
   "source": [
    "s = 'soham'"
   ]
  },
  {
   "cell_type": "code",
   "execution_count": 15,
   "id": "839cfe8a",
   "metadata": {},
   "outputs": [
    {
     "data": {
      "text/plain": [
       "'s'"
      ]
     },
     "execution_count": 15,
     "metadata": {},
     "output_type": "execute_result"
    }
   ],
   "source": [
    "#Postive Indexing\n",
    "s[0]"
   ]
  },
  {
   "cell_type": "code",
   "execution_count": 16,
   "id": "243834a4",
   "metadata": {},
   "outputs": [
    {
     "data": {
      "text/plain": [
       "'s'"
      ]
     },
     "execution_count": 16,
     "metadata": {},
     "output_type": "execute_result"
    }
   ],
   "source": [
    "#Negative Indexing\n",
    "s[-5]"
   ]
  },
  {
   "cell_type": "markdown",
   "id": "b0eda29d",
   "metadata": {},
   "source": [
    "<li> The two ways of indexing are shown above</li>"
   ]
  },
  {
   "cell_type": "markdown",
   "id": "32fb32b6",
   "metadata": {},
   "source": [
    "# Q4. What is the relationship between indexing and slicing?\n",
    "\n"
   ]
  },
  {
   "cell_type": "code",
   "execution_count": 17,
   "id": "7be3730b",
   "metadata": {},
   "outputs": [
    {
     "data": {
      "text/plain": [
       "'soh'"
      ]
     },
     "execution_count": 17,
     "metadata": {},
     "output_type": "execute_result"
    }
   ],
   "source": [
    "#slicing can be attainted through indexes only\n",
    "s = 'soham'\n",
    "s[0:3]"
   ]
  },
  {
   "cell_type": "markdown",
   "id": "6a0c796b",
   "metadata": {},
   "source": [
    "# Q5. What is an indexed character's exact data type? What is the data form of a slicing-generated substring?\n"
   ]
  },
  {
   "cell_type": "code",
   "execution_count": 19,
   "id": "2ddea76a",
   "metadata": {},
   "outputs": [
    {
     "name": "stdout",
     "output_type": "stream",
     "text": [
      "s\n",
      "<class 'str'>\n"
     ]
    }
   ],
   "source": [
    "#In python we dont have char data type so indexed character is of type str as well\n",
    "s = 'soham'\n",
    "print(s[0])\n",
    "print(type(s[0]))"
   ]
  },
  {
   "cell_type": "code",
   "execution_count": 20,
   "id": "8b833dad",
   "metadata": {},
   "outputs": [
    {
     "name": "stdout",
     "output_type": "stream",
     "text": [
      "soh\n",
      "<class 'str'>\n"
     ]
    }
   ],
   "source": [
    "#slicing generated substring is a string as well thus it will have data type as str\n",
    "print(s[0:3])\n",
    "print(type(s[0:3]))"
   ]
  },
  {
   "cell_type": "markdown",
   "id": "4330fa96",
   "metadata": {},
   "source": [
    "# Q6. What is the relationship between string and character \"types\" in Python?\n",
    "\n"
   ]
  },
  {
   "cell_type": "code",
   "execution_count": 21,
   "id": "2e43a444",
   "metadata": {},
   "outputs": [
    {
     "data": {
      "text/plain": [
       "'s'"
      ]
     },
     "execution_count": 21,
     "metadata": {},
     "output_type": "execute_result"
    }
   ],
   "source": [
    "#character types are strings of length 1\n",
    "s = 'soham'\n",
    "s[0]"
   ]
  },
  {
   "cell_type": "markdown",
   "id": "a0f5ffb8",
   "metadata": {},
   "source": [
    "# Q7. Identify at least two operators and one method that allow you to combine one or more smaller strings to create a larger string.\n",
    "\n",
    "\n"
   ]
  },
  {
   "cell_type": "code",
   "execution_count": 30,
   "id": "2825a20f",
   "metadata": {},
   "outputs": [],
   "source": [
    "a = 'soham'\n",
    "b = 'ronnie'"
   ]
  },
  {
   "cell_type": "code",
   "execution_count": 31,
   "id": "1032f5e2",
   "metadata": {},
   "outputs": [
    {
     "data": {
      "text/plain": [
       "'sohamronnie'"
      ]
     },
     "execution_count": 31,
     "metadata": {},
     "output_type": "execute_result"
    }
   ],
   "source": [
    "# + operator\n",
    "a+b"
   ]
  },
  {
   "cell_type": "code",
   "execution_count": 32,
   "id": "e219b197",
   "metadata": {},
   "outputs": [
    {
     "data": {
      "text/plain": [
       "'sohamronnie'"
      ]
     },
     "execution_count": 32,
     "metadata": {},
     "output_type": "execute_result"
    }
   ],
   "source": [
    "#+= operator\n",
    "a+=b\n",
    "a"
   ]
  },
  {
   "cell_type": "code",
   "execution_count": 33,
   "id": "aa592457",
   "metadata": {},
   "outputs": [
    {
     "data": {
      "text/plain": [
       "'Soham Ram'"
      ]
     },
     "execution_count": 33,
     "metadata": {},
     "output_type": "execute_result"
    }
   ],
   "source": [
    "#join method\n",
    "a = ['Soham','Ram']\n",
    "' '.join(a)"
   ]
  },
  {
   "cell_type": "markdown",
   "id": "ad9111b6",
   "metadata": {},
   "source": [
    "# Q8. What is the benefit of first checking the target string with in or not in before using the index method to find a substring?\n",
    "\n"
   ]
  },
  {
   "cell_type": "code",
   "execution_count": 35,
   "id": "633e1620",
   "metadata": {},
   "outputs": [
    {
     "ename": "ValueError",
     "evalue": "substring not found",
     "output_type": "error",
     "traceback": [
      "\u001b[1;31m---------------------------------------------------------------------------\u001b[0m",
      "\u001b[1;31mValueError\u001b[0m                                Traceback (most recent call last)",
      "Input \u001b[1;32mIn [35]\u001b[0m, in \u001b[0;36m<cell line: 2>\u001b[1;34m()\u001b[0m\n\u001b[0;32m      1\u001b[0m s \u001b[38;5;241m=\u001b[39m \u001b[38;5;124m'\u001b[39m\u001b[38;5;124mbhakthanuman\u001b[39m\u001b[38;5;124m'\u001b[39m\n\u001b[1;32m----> 2\u001b[0m a \u001b[38;5;241m=\u001b[39m \u001b[43ms\u001b[49m\u001b[38;5;241;43m.\u001b[39;49m\u001b[43mindex\u001b[49m\u001b[43m(\u001b[49m\u001b[38;5;124;43m'\u001b[39;49m\u001b[38;5;124;43mram\u001b[39;49m\u001b[38;5;124;43m'\u001b[39;49m\u001b[43m)\u001b[49m\n",
      "\u001b[1;31mValueError\u001b[0m: substring not found"
     ]
    }
   ],
   "source": [
    "#No prior checking done thus raising exceptions as well as consuming computational power\n",
    "s = 'bhakthanuman'\n",
    "a = s.index('ram')"
   ]
  },
  {
   "cell_type": "code",
   "execution_count": 36,
   "id": "255b5c9b",
   "metadata": {},
   "outputs": [
    {
     "name": "stdout",
     "output_type": "stream",
     "text": [
      "No substring found\n"
     ]
    }
   ],
   "source": [
    "#prior checking will avoid to raise exceptions and avoids wasting computational power\n",
    "s = 'bhakthanuman'\n",
    "if 'ram' in 'bhakthanuman':\n",
    "    s = 'bhakthanuman'\n",
    "    a = s.index('ram')\n",
    "    print(a)\n",
    "else:\n",
    "    print('No substring found')"
   ]
  },
  {
   "cell_type": "markdown",
   "id": "a9a92bd5",
   "metadata": {},
   "source": [
    "# Q9. Which operators and built-in string methods produce simple Boolean (true/false) results?\n"
   ]
  },
  {
   "cell_type": "markdown",
   "id": "0c2ee708",
   "metadata": {},
   "source": [
    "Methods\n",
    "<li>endswith</li>\n",
    "<li>isalnum()</li>\n",
    "<li>isalpha()</li>\n",
    "<li>isascii()</li>\n",
    "<li>isdecimal()</li>\n",
    "<li>isdigit()</li>\n",
    "<li>isidentifier()</li>\n",
    "<li>islower()</li>\n",
    "<li>isnumeric()</li>\n",
    "<li>isprintable()</li>\n",
    "<li>isspace()</li>\n",
    "<li>istitle()</li>\n",
    "<li>isupper()</li>\n",
    "<li>startswith()</li>"
   ]
  },
  {
   "cell_type": "markdown",
   "id": "b7a95583",
   "metadata": {},
   "source": [
    "Operators\n",
    "<li>in</li>\n",
    "<li>not in</li>"
   ]
  },
  {
   "cell_type": "code",
   "execution_count": null,
   "id": "2376879d",
   "metadata": {},
   "outputs": [],
   "source": []
  }
 ],
 "metadata": {
  "kernelspec": {
   "display_name": "Python 3 (ipykernel)",
   "language": "python",
   "name": "python3"
  },
  "language_info": {
   "codemirror_mode": {
    "name": "ipython",
    "version": 3
   },
   "file_extension": ".py",
   "mimetype": "text/x-python",
   "name": "python",
   "nbconvert_exporter": "python",
   "pygments_lexer": "ipython3",
   "version": "3.8.12"
  }
 },
 "nbformat": 4,
 "nbformat_minor": 5
}
