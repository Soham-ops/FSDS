{
 "cells": [
  {
   "cell_type": "markdown",
   "id": "62530ce9",
   "metadata": {},
   "source": [
    "# Q1. Explain the difference between greedy and non-greedy syntax with visual terms in as few words as possible. What is the bare minimum effort required to transform a greedy pattern into a non-greedy one? What characters or characters can you introduce or change?\n",
    "\n"
   ]
  },
  {
   "cell_type": "markdown",
   "id": "db0d4eb7",
   "metadata": {},
   "source": [
    "<li>Greedy quantifiers eg ?, *, +, and {m,n} matches as many characters(longest) as possible</li>"
   ]
  },
  {
   "cell_type": "code",
   "execution_count": 4,
   "id": "b4edf46a",
   "metadata": {},
   "outputs": [
    {
     "name": "stdout",
     "output_type": "stream",
     "text": [
      "<re.Match object; span=(0, 8), match='zzzzzzzz'>\n"
     ]
    }
   ],
   "source": [
    "#example\n",
    "import re\n",
    "print(re.search(r'z+','zzzzzzzza'))\n",
    "#For example, the regex 'z+' will match the longest sequence of z possible in our string"
   ]
  },
  {
   "cell_type": "markdown",
   "id": "58b28415",
   "metadata": {},
   "source": [
    "<li>Non greedy quantifiers like  ??, *?, +?, and {m,n} matches the shortest sequence</li>"
   ]
  },
  {
   "cell_type": "code",
   "execution_count": 5,
   "id": "a386a96a",
   "metadata": {},
   "outputs": [
    {
     "data": {
      "text/plain": [
       "<re.Match object; span=(0, 1), match='d'>"
      ]
     },
     "execution_count": 5,
     "metadata": {},
     "output_type": "execute_result"
    }
   ],
   "source": [
    "#non greedy version matches zero occurence\n",
    "re.search('db??','dbbbb')"
   ]
  },
  {
   "cell_type": "markdown",
   "id": "77774de1",
   "metadata": {},
   "source": [
    "<li> Converting the above regex into greedy one by adding an extra '?'</li>"
   ]
  },
  {
   "cell_type": "code",
   "execution_count": 6,
   "id": "6107bd5e",
   "metadata": {},
   "outputs": [
    {
     "data": {
      "text/plain": [
       "<re.Match object; span=(0, 2), match='ba'>"
      ]
     },
     "execution_count": 6,
     "metadata": {},
     "output_type": "execute_result"
    }
   ],
   "source": [
    "#greedy version  matches one occurence\n",
    "re.search('ba?','baaaa')"
   ]
  },
  {
   "cell_type": "markdown",
   "id": "5d7f3a81",
   "metadata": {},
   "source": [
    "# Q2. When exactly does greedy versus non-greedy make a difference?  What if you're looking for a non-greedy match but the only one available is greedy?\n",
    "\n"
   ]
  },
  {
   "cell_type": "markdown",
   "id": "ebab401c",
   "metadata": {},
   "source": [
    "<li>The basic difference being that greedy will produce the longest possible match,whereas for the shortest match we will use the non greedy one</li>"
   ]
  },
  {
   "cell_type": "code",
   "execution_count": 15,
   "id": "6df22fbd",
   "metadata": {},
   "outputs": [
    {
     "data": {
      "text/plain": [
       "<re.Match object; span=(0, 9), match='aaaaaaaaa'>"
      ]
     },
     "execution_count": 15,
     "metadata": {},
     "output_type": "execute_result"
    }
   ],
   "source": [
    "#greedy version\n",
    "re.search(\"a+\", \"aaaaaaaaa\")"
   ]
  },
  {
   "cell_type": "code",
   "execution_count": 16,
   "id": "5596b7e0",
   "metadata": {},
   "outputs": [
    {
     "data": {
      "text/plain": [
       "<re.Match object; span=(0, 1), match='a'>"
      ]
     },
     "execution_count": 16,
     "metadata": {},
     "output_type": "execute_result"
    }
   ],
   "source": [
    "#non-greedy version\n",
    "re.search(\"a+?\",\"aaaaaaaaa\")"
   ]
  },
  {
   "cell_type": "markdown",
   "id": "8641ae7b",
   "metadata": {},
   "source": [
    "<li>suppose if the non-greedy match was not available and only the greedy was available then in order to get it , we would do string manipulations on the greedy one to get my non greedy output</li>"
   ]
  },
  {
   "cell_type": "code",
   "execution_count": 23,
   "id": "51848633",
   "metadata": {},
   "outputs": [
    {
     "data": {
      "text/plain": [
       "'a'"
      ]
     },
     "execution_count": 23,
     "metadata": {},
     "output_type": "execute_result"
    }
   ],
   "source": [
    "re.search(\"a+\", \"aaaaaaaaa\")[0][0]"
   ]
  },
  {
   "cell_type": "markdown",
   "id": "f4b78d22",
   "metadata": {},
   "source": [
    "# Q3. In a simple match of a string, which looks only for one match and does not do any replacement, is the use of a nontagged group likely to make any practical difference?\n",
    "\n"
   ]
  },
  {
   "cell_type": "code",
   "execution_count": 27,
   "id": "02e4e20d",
   "metadata": {},
   "outputs": [
    {
     "data": {
      "text/plain": [
       "<re.Match object; span=(0, 6), match='soham '>"
      ]
     },
     "execution_count": 27,
     "metadata": {},
     "output_type": "execute_result"
    }
   ],
   "source": [
    "#a nontagged group\n",
    "re.search(\"(\\w+) \", \"soham aaaa\")"
   ]
  },
  {
   "cell_type": "code",
   "execution_count": 28,
   "id": "9d46f5ff",
   "metadata": {},
   "outputs": [
    {
     "data": {
      "text/plain": [
       "<re.Match object; span=(0, 6), match='soham '>"
      ]
     },
     "execution_count": 28,
     "metadata": {},
     "output_type": "execute_result"
    }
   ],
   "source": [
    "#a tagged group named fname\n",
    "re.search(\"(?P<fname>\\w+) \", \"soham aaaa\")"
   ]
  },
  {
   "cell_type": "markdown",
   "id": "7018f7d1",
   "metadata": {},
   "source": [
    "<li>So as can be seen functionality use of a non tagged does not make any difference</li>"
   ]
  },
  {
   "cell_type": "code",
   "execution_count": 31,
   "id": "adf57d14",
   "metadata": {},
   "outputs": [
    {
     "data": {
      "text/plain": [
       "'soham'"
      ]
     },
     "execution_count": 31,
     "metadata": {},
     "output_type": "execute_result"
    }
   ],
   "source": [
    "#a tagged group named fname\n",
    "a = re.search(\"(?P<fname>\\w+) \", \"soham aaaa\")\n",
    "a.group('fname')"
   ]
  },
  {
   "cell_type": "markdown",
   "id": "f2371745",
   "metadata": {},
   "source": [
    "<li>however we can now call the same regex \"(\\w+)\" by simply calling fname</li>"
   ]
  },
  {
   "cell_type": "markdown",
   "id": "6288b5ef",
   "metadata": {},
   "source": [
    "# Q4. Describe a scenario in which using a nontagged category would have a significant impact on the program's outcomes."
   ]
  },
  {
   "cell_type": "markdown",
   "id": "ec09b9b6",
   "metadata": {},
   "source": [
    "<li>In cases of substitution pattern with tagged group we can use the created tag for the group to refer to the tagged group in substitution text, but with non tagged we have to use indexes</li>\n",
    "  "
   ]
  },
  {
   "cell_type": "markdown",
   "id": "d3884abf",
   "metadata": {},
   "source": [
    "# Q5. Unlike a normal regex pattern, a look-ahead condition does not consume the characters it examines. Describe a situation in which this could make a difference in the results of your programme."
   ]
  },
  {
   "cell_type": "code",
   "execution_count": 38,
   "id": "40fffef9",
   "metadata": {},
   "outputs": [
    {
     "data": {
      "text/plain": [
       "<re.Match object; span=(0, 4), match='ad12'>"
      ]
     },
     "execution_count": 38,
     "metadata": {},
     "output_type": "execute_result"
    }
   ],
   "source": [
    "#due to lookahead, matched string length will be of size 4 only\n",
    "re.search(r'(?=[a-z0-9]{4}$)[a-z]{1,2}[0-9]{2,3}', \"ad12\")  "
   ]
  },
  {
   "cell_type": "code",
   "execution_count": 39,
   "id": "3940252e",
   "metadata": {},
   "outputs": [
    {
     "data": {
      "text/plain": [
       "<re.Match object; span=(1, 5), match='d123'>"
      ]
     },
     "execution_count": 39,
     "metadata": {},
     "output_type": "execute_result"
    }
   ],
   "source": [
    "#due to lookahead, matched string length will be of size 4 only\n",
    "re.search(r'(?=[a-z0-9]{4}$)[a-z]{1,2}[0-9]{2,3}', \"ad123\")  "
   ]
  },
  {
   "cell_type": "code",
   "execution_count": 40,
   "id": "22429a79",
   "metadata": {},
   "outputs": [],
   "source": [
    "#due to lookahead, matched string length will be of size 4 only\n",
    "re.search(r'(?=[a-z0-9]{4}$)[a-z]{1,2}[0-9]{2,3}', \"ad1\")  "
   ]
  },
  {
   "cell_type": "markdown",
   "id": "a4d7c41b",
   "metadata": {},
   "source": [
    "# Q6. In standard expressions, what is the difference between positive look-ahead and negative look-ahead?"
   ]
  },
  {
   "cell_type": "code",
   "execution_count": 32,
   "id": "84f7994e",
   "metadata": {},
   "outputs": [
    {
     "data": {
      "text/plain": [
       "<re.Match object; span=(0, 5), match='jammu'>"
      ]
     },
     "execution_count": 32,
     "metadata": {},
     "output_type": "execute_result"
    }
   ],
   "source": [
    "#positive look ahead\n",
    "re.search(r'jammu(?=[a-z])', \"jammukashmir\")  "
   ]
  },
  {
   "cell_type": "code",
   "execution_count": 33,
   "id": "66b09936",
   "metadata": {},
   "outputs": [
    {
     "data": {
      "text/plain": [
       "<re.Match object; span=(0, 5), match='jammu'>"
      ]
     },
     "execution_count": 33,
     "metadata": {},
     "output_type": "execute_result"
    }
   ],
   "source": [
    "#negative look ahead\n",
    "re.search('jammu(?![a-z])','jammuXYZ')"
   ]
  },
  {
   "cell_type": "markdown",
   "id": "65dc4e95",
   "metadata": {},
   "source": [
    "# Q7. What is the benefit of referring to groups by name rather than by number in a standard expression?"
   ]
  },
  {
   "cell_type": "markdown",
   "id": "ca37b3de",
   "metadata": {},
   "source": [
    "<li>When the number of groups increases, if referred using names it increases the readability of our regex</li>"
   ]
  },
  {
   "cell_type": "markdown",
   "id": "d74f537d",
   "metadata": {},
   "source": [
    "# Q8. Can you identify repeated items within a target string using named groups, as in \"The cow jumped over the moon\"?\n"
   ]
  },
  {
   "cell_type": "code",
   "execution_count": 34,
   "id": "e2fa7eaa",
   "metadata": {},
   "outputs": [
    {
     "data": {
      "text/plain": [
       "'The'"
      ]
     },
     "execution_count": 34,
     "metadata": {},
     "output_type": "execute_result"
    }
   ],
   "source": [
    "a = re.search(\"(?P<fname>\\w+) \", \"The cow jumped over the moon\")\n",
    "a.group('fname')"
   ]
  },
  {
   "cell_type": "markdown",
   "id": "24243c31",
   "metadata": {},
   "source": [
    "# Q9. When parsing a string, what is at least one thing that the Scanner interface does for you that the re.findall feature does not?"
   ]
  },
  {
   "cell_type": "markdown",
   "id": "0a711233",
   "metadata": {},
   "source": [
    "<li> re.findall has the ability to only match on a fixed input such as a String,whereas scanner provides you the ability to match arbitrary input that might not even exist in memory.</li>\n"
   ]
  },
  {
   "cell_type": "markdown",
   "id": "811638c1",
   "metadata": {},
   "source": [
    "# Q10. Does a scanner object have to be named scanner?\n"
   ]
  },
  {
   "cell_type": "markdown",
   "id": "c0555c38",
   "metadata": {},
   "source": [
    "<li>not necessarily</li>"
   ]
  },
  {
   "cell_type": "code",
   "execution_count": null,
   "id": "dab11e85",
   "metadata": {},
   "outputs": [],
   "source": []
  }
 ],
 "metadata": {
  "kernelspec": {
   "display_name": "Python 3 (ipykernel)",
   "language": "python",
   "name": "python3"
  },
  "language_info": {
   "codemirror_mode": {
    "name": "ipython",
    "version": 3
   },
   "file_extension": ".py",
   "mimetype": "text/x-python",
   "name": "python",
   "nbconvert_exporter": "python",
   "pygments_lexer": "ipython3",
   "version": "3.8.12"
  }
 },
 "nbformat": 4,
 "nbformat_minor": 5
}
