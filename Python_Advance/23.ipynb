{
 "cells": [
  {
   "cell_type": "markdown",
   "id": "e95b9fa1",
   "metadata": {},
   "source": [
    "# Q1. If you have any, what are your choices for increasing the comparison between different figures on the same graph?\n"
   ]
  },
  {
   "cell_type": "code",
   "execution_count": null,
   "id": "619b8762",
   "metadata": {},
   "outputs": [],
   "source": []
  },
  {
   "cell_type": "markdown",
   "id": "4445e822",
   "metadata": {},
   "source": [
    "# Q2. Can you explain the benefit of compound interest over a higher rate of interest that does not compound after reading this chapter?\n",
    "\n"
   ]
  },
  {
   "cell_type": "markdown",
   "id": "a819d717",
   "metadata": {},
   "source": [
    "<li>simple interest applies a constant rate of interest of a principal year on year</li>\n",
    "<li>Whereas in case of compound interest The interest is added to the principal amount. CI is simply Interest on Interest.</li>"
   ]
  },
  {
   "cell_type": "markdown",
   "id": "80579787",
   "metadata": {},
   "source": [
    "# Q3. What is a histogram, exactly? Name a numpy method for creating such a graph.\n",
    "\n",
    "\n"
   ]
  },
  {
   "cell_type": "markdown",
   "id": "75ef5d53",
   "metadata": {},
   "source": [
    "<li>histogram is 2-D graph where y axis represents frqeuncy of element and x axis represent the elements</li>\n",
    "<li>numpy.histogram can be used to create histograms in numpy</li>"
   ]
  },
  {
   "cell_type": "markdown",
   "id": "41b2041d",
   "metadata": {},
   "source": [
    "# Q4. If necessary, how do you change the aspect ratios between the X and Y axes?\n"
   ]
  },
  {
   "cell_type": "markdown",
   "id": "d70f40db",
   "metadata": {},
   "source": [
    "<li>if plotting using the matplotlib we can do matplotlib.axes.Axes.set_aspect</li>"
   ]
  },
  {
   "cell_type": "markdown",
   "id": "2b4de90b",
   "metadata": {},
   "source": [
    "# Q5. Compare and contrast the three types of array multiplication between two numpy arrays: dot product, outer product, and regular multiplication of two numpy arrays.\n",
    "\n"
   ]
  },
  {
   "cell_type": "code",
   "execution_count": 3,
   "id": "dba32d73",
   "metadata": {},
   "outputs": [],
   "source": [
    "import numpy as np\n",
    "#element wise matrix multiplication\n",
    "arr1 = np.array([[5, 2],\n",
    "                 [4, 4]])\n",
    "arr2 = np.array([[7, 6],\n",
    "                 [8, 8]])\n",
    "\n",
    "arr = np.multiply(arr1, arr2)"
   ]
  },
  {
   "cell_type": "code",
   "execution_count": 4,
   "id": "52879161",
   "metadata": {},
   "outputs": [
    {
     "data": {
      "text/plain": [
       "array([[35, 12],\n",
       "       [32, 32]])"
      ]
     },
     "execution_count": 4,
     "metadata": {},
     "output_type": "execute_result"
    }
   ],
   "source": [
    "arr"
   ]
  },
  {
   "cell_type": "code",
   "execution_count": 13,
   "id": "f9748cc1",
   "metadata": {},
   "outputs": [],
   "source": [
    "#matrix product\n",
    "arr1 = np.array([[10, 2],\n",
    "                 [4, 4]])\n",
    "arr2 = np.array([[7, 6],\n",
    "                 [8, 11]])\n",
    "\n",
    "arr = np.matmul(arr1, arr2)"
   ]
  },
  {
   "cell_type": "code",
   "execution_count": 14,
   "id": "965154b3",
   "metadata": {},
   "outputs": [
    {
     "data": {
      "text/plain": [
       "array([[86, 82],\n",
       "       [60, 68]])"
      ]
     },
     "execution_count": 14,
     "metadata": {},
     "output_type": "execute_result"
    }
   ],
   "source": [
    "arr"
   ]
  },
  {
   "cell_type": "code",
   "execution_count": 15,
   "id": "bcf36722",
   "metadata": {},
   "outputs": [],
   "source": [
    "#dot product\n",
    "arr1 = np.array([[155, 2],\n",
    "                 [4, 4]])\n",
    "arr2 = np.array([[7, 13],\n",
    "                 [8, 8]])\n",
    "\n",
    "arr = np.dot(arr1, arr2)"
   ]
  },
  {
   "cell_type": "code",
   "execution_count": 16,
   "id": "fca887f0",
   "metadata": {},
   "outputs": [
    {
     "data": {
      "text/plain": [
       "array([[1101, 2031],\n",
       "       [  60,   84]])"
      ]
     },
     "execution_count": 16,
     "metadata": {},
     "output_type": "execute_result"
    }
   ],
   "source": [
    "arr"
   ]
  },
  {
   "cell_type": "markdown",
   "id": "9fd32bf5",
   "metadata": {},
   "source": [
    "# Q6. Before you buy a home, which numpy function will you use to measure your monthly mortgage payment?\n"
   ]
  },
  {
   "cell_type": "markdown",
   "id": "83a35e7b",
   "metadata": {},
   "source": [
    "<li>np.pmt. However the given fucntion has been removed from numpy 1.20 onwards</li>"
   ]
  },
  {
   "cell_type": "markdown",
   "id": "8c360eff",
   "metadata": {},
   "source": [
    "# Q7. Can string data be stored in numpy arrays? If so, list at least one restriction that applies to this data.\n"
   ]
  },
  {
   "cell_type": "code",
   "execution_count": 17,
   "id": "60df0e0d",
   "metadata": {},
   "outputs": [
    {
     "data": {
      "text/plain": [
       "array(['abcd', 'zzzz'], dtype='<U4')"
      ]
     },
     "execution_count": 17,
     "metadata": {},
     "output_type": "execute_result"
    }
   ],
   "source": [
    "mat1 = np.array(['cd','zzzz'])\n",
    "mat1[mat1 == 'cd'] = 'abcdesdadsad'\n",
    "mat1"
   ]
  },
  {
   "cell_type": "code",
   "execution_count": null,
   "id": "e6c5ae71",
   "metadata": {},
   "outputs": [],
   "source": []
  }
 ],
 "metadata": {
  "kernelspec": {
   "display_name": "Python 3 (ipykernel)",
   "language": "python",
   "name": "python3"
  },
  "language_info": {
   "codemirror_mode": {
    "name": "ipython",
    "version": 3
   },
   "file_extension": ".py",
   "mimetype": "text/x-python",
   "name": "python",
   "nbconvert_exporter": "python",
   "pygments_lexer": "ipython3",
   "version": "3.8.12"
  }
 },
 "nbformat": 4,
 "nbformat_minor": 5
}
