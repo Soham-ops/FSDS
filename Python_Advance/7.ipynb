{
 "cells": [
  {
   "cell_type": "markdown",
   "id": "93f729b7",
   "metadata": {},
   "source": [
    "# Q1. What is the purpose of the try statement?\n"
   ]
  },
  {
   "cell_type": "markdown",
   "id": "9e0a06c8",
   "metadata": {},
   "source": [
    "<li>Within try block we put the code that is likely to generate an exception</li>"
   ]
  },
  {
   "cell_type": "code",
   "execution_count": null,
   "id": "ba43b91b",
   "metadata": {},
   "outputs": [],
   "source": []
  },
  {
   "cell_type": "markdown",
   "id": "3735d6e6",
   "metadata": {},
   "source": [
    "# Q2. What are the two most popular try statement variations?\n"
   ]
  },
  {
   "cell_type": "markdown",
   "id": "0732a70c",
   "metadata": {},
   "source": [
    "<li>Try and Except</li>\n",
    "<li>Try,Except and Finally</li>"
   ]
  },
  {
   "cell_type": "code",
   "execution_count": null,
   "id": "b46c7954",
   "metadata": {},
   "outputs": [],
   "source": []
  },
  {
   "cell_type": "markdown",
   "id": "189e84ed",
   "metadata": {},
   "source": [
    "# Q3. What is the purpose of the raise statement?\n"
   ]
  },
  {
   "cell_type": "markdown",
   "id": "30b676d7",
   "metadata": {},
   "source": [
    "<li>When we want to generate an exception based on our own based upon some criteria we will use raise statement</li>"
   ]
  },
  {
   "cell_type": "code",
   "execution_count": null,
   "id": "02a74e80",
   "metadata": {},
   "outputs": [],
   "source": []
  },
  {
   "cell_type": "markdown",
   "id": "3a83c6ba",
   "metadata": {},
   "source": [
    "# Q4. What does the assert statement do, and what other statement is it like?\n",
    "\n"
   ]
  },
  {
   "cell_type": "code",
   "execution_count": 4,
   "id": "4103463c",
   "metadata": {},
   "outputs": [
    {
     "ename": "AssertionError",
     "evalue": "",
     "output_type": "error",
     "traceback": [
      "\u001b[1;31m---------------------------------------------------------------------------\u001b[0m",
      "\u001b[1;31mAssertionError\u001b[0m                            Traceback (most recent call last)",
      "\u001b[1;32m<ipython-input-4-0038bddb2f45>\u001b[0m in \u001b[0;36m<module>\u001b[1;34m\u001b[0m\n\u001b[0;32m      2\u001b[0m \u001b[1;31m#If condition is False will raise assertion error.If true will do nothing\u001b[0m\u001b[1;33m\u001b[0m\u001b[1;33m\u001b[0m\u001b[1;33m\u001b[0m\u001b[0m\n\u001b[0;32m      3\u001b[0m \u001b[0my\u001b[0m \u001b[1;33m=\u001b[0m \u001b[1;34m\"Ram\"\u001b[0m\u001b[1;33m\u001b[0m\u001b[1;33m\u001b[0m\u001b[0m\n\u001b[1;32m----> 4\u001b[1;33m \u001b[1;32massert\u001b[0m \u001b[0mx\u001b[0m\u001b[1;33m==\u001b[0m\u001b[0my\u001b[0m\u001b[1;33m\u001b[0m\u001b[1;33m\u001b[0m\u001b[0m\n\u001b[0m",
      "\u001b[1;31mAssertionError\u001b[0m: "
     ]
    }
   ],
   "source": [
    "x='Soham'\n",
    "#If condition is False will raise assertion error.If true will do nothing\n",
    "y = \"Ram\"\n",
    "assert x==y"
   ]
  },
  {
   "cell_type": "code",
   "execution_count": 5,
   "id": "dd430379",
   "metadata": {},
   "outputs": [
    {
     "ename": "AssertionError",
     "evalue": "",
     "output_type": "error",
     "traceback": [
      "\u001b[1;31m---------------------------------------------------------------------------\u001b[0m",
      "\u001b[1;31mAssertionError\u001b[0m                            Traceback (most recent call last)",
      "\u001b[1;32m<ipython-input-5-c9b70040c016>\u001b[0m in \u001b[0;36m<module>\u001b[1;34m\u001b[0m\n\u001b[0;32m      2\u001b[0m \u001b[0my\u001b[0m \u001b[1;33m=\u001b[0m\u001b[1;34m\"Ram\"\u001b[0m\u001b[1;33m\u001b[0m\u001b[1;33m\u001b[0m\u001b[0m\n\u001b[0;32m      3\u001b[0m \u001b[1;32mif\u001b[0m \u001b[0mx\u001b[0m\u001b[1;33m!=\u001b[0m\u001b[0my\u001b[0m\u001b[1;33m:\u001b[0m\u001b[1;33m\u001b[0m\u001b[1;33m\u001b[0m\u001b[0m\n\u001b[1;32m----> 4\u001b[1;33m     \u001b[1;32mraise\u001b[0m \u001b[0mAssertionError\u001b[0m\u001b[1;33m\u001b[0m\u001b[1;33m\u001b[0m\u001b[0m\n\u001b[0m",
      "\u001b[1;31mAssertionError\u001b[0m: "
     ]
    }
   ],
   "source": [
    "#Assert statement alternative\n",
    "x = 'Soham'\n",
    "y =\"Ram\"\n",
    "if x!=y:\n",
    "    raise AssertionError"
   ]
  },
  {
   "cell_type": "code",
   "execution_count": null,
   "id": "9cd9add7",
   "metadata": {},
   "outputs": [],
   "source": []
  },
  {
   "cell_type": "markdown",
   "id": "43415c37",
   "metadata": {},
   "source": [
    "# Q5. What is the purpose of the with/as argument, and what other statement is it like?\n"
   ]
  },
  {
   "cell_type": "markdown",
   "id": "8065e4e0",
   "metadata": {},
   "source": [
    "<li>'with' keyword of python allows to create a context manager,and by creating a context manager we are basically automating the handling of external resources like files etc.</li>\n",
    "<li>The 'as' keyword simply creates an alias</li>\n",
    "<li>try,except,else,finally is an alternative to the work done by the with keyword</li>"
   ]
  },
  {
   "cell_type": "code",
   "execution_count": null,
   "id": "bd3a43f2",
   "metadata": {},
   "outputs": [],
   "source": []
  }
 ],
 "metadata": {
  "kernelspec": {
   "display_name": "iNeuronFSDSPythonModule",
   "language": "python",
   "name": "ineuronfsdspythonmodule"
  },
  "language_info": {
   "codemirror_mode": {
    "name": "ipython",
    "version": 3
   },
   "file_extension": ".py",
   "mimetype": "text/x-python",
   "name": "python",
   "nbconvert_exporter": "python",
   "pygments_lexer": "ipython3",
   "version": "3.6.12"
  }
 },
 "nbformat": 4,
 "nbformat_minor": 5
}
