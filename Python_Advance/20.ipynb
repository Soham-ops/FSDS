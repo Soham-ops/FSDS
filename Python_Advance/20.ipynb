{
 "cells": [
  {
   "cell_type": "markdown",
   "id": "9b4ccf36",
   "metadata": {},
   "source": [
    "# 1. Compare and contrast the float and Decimal classes' benefits and drawbacks.\n"
   ]
  },
  {
   "cell_type": "markdown",
   "id": "30c1158b",
   "metadata": {},
   "source": [
    "<li> The decimal module provides fast correctly rounded decimal point arithmetic over float datatype</li>\n",
    "<li>Decimal numbers can be represented exactly,whereas numbers like 1.1 + 2.2 do not have exact representations in binary floating point</li>\n",
    "<li>In decimal floating point 0.1 + 0.1 + 0.1 - 0.3 is exactly equal to zero. Whereas In binary floating point, the result is 5.5511151231257827e-017.While near to zero such an error in approximation can create series issues as these get compounded over a sequence of operations</li>\n",
    "<li>Unlike hardware based binary floating point, the decimal module has a user alterable precision</li>"
   ]
  },
  {
   "cell_type": "markdown",
   "id": "f97ea2c9",
   "metadata": {},
   "source": [
    "# 2. Decimal('1.200') and Decimal('1.2') are two objects to consider. In what sense are these the same object? Are these just two ways of representing the exact same value, or do they correspond to different internal states?\n"
   ]
  },
  {
   "cell_type": "code",
   "execution_count": 10,
   "id": "f823e9f7",
   "metadata": {},
   "outputs": [],
   "source": [
    "import decimal\n",
    "from decimal import Decimal\n",
    "\n",
    "x = Decimal('1.200')\n",
    "y = Decimal('1.2')"
   ]
  },
  {
   "cell_type": "code",
   "execution_count": 15,
   "id": "996e6779",
   "metadata": {},
   "outputs": [
    {
     "data": {
      "text/plain": [
       "Decimal('2.200')"
      ]
     },
     "execution_count": 15,
     "metadata": {},
     "output_type": "execute_result"
    }
   ],
   "source": [
    "x+1"
   ]
  },
  {
   "cell_type": "code",
   "execution_count": 16,
   "id": "69a23351",
   "metadata": {},
   "outputs": [
    {
     "data": {
      "text/plain": [
       "Decimal('2.2')"
      ]
     },
     "execution_count": 16,
     "metadata": {},
     "output_type": "execute_result"
    }
   ],
   "source": [
    "y+1"
   ]
  },
  {
   "cell_type": "markdown",
   "id": "c6196b6b",
   "metadata": {},
   "source": [
    "<li>Value wise they are same but they correspond to different internal states as the precison wise they are not same as can be seen when we are adding 1</li>"
   ]
  },
  {
   "cell_type": "markdown",
   "id": "f0e82838",
   "metadata": {},
   "source": [
    "# 3. What happens if the equality of Decimal('1.200') and Decimal('1.2') is checked?\n"
   ]
  },
  {
   "cell_type": "code",
   "execution_count": 18,
   "id": "cb633d45",
   "metadata": {},
   "outputs": [],
   "source": [
    "x = Decimal('1.200')\n",
    "y = Decimal('1.2')"
   ]
  },
  {
   "cell_type": "code",
   "execution_count": 19,
   "id": "defebf58",
   "metadata": {},
   "outputs": [
    {
     "data": {
      "text/plain": [
       "True"
      ]
     },
     "execution_count": 19,
     "metadata": {},
     "output_type": "execute_result"
    }
   ],
   "source": [
    "x==y"
   ]
  },
  {
   "cell_type": "markdown",
   "id": "84d53625",
   "metadata": {},
   "source": [
    "# 4. Why is it preferable to start a Decimal object with a string rather than a floating-point value?\n"
   ]
  },
  {
   "cell_type": "markdown",
   "id": "28ded51d",
   "metadata": {},
   "source": [
    "<li>So that we get If you need a precise decimal representation of a number</li>"
   ]
  },
  {
   "cell_type": "markdown",
   "id": "489c4a79",
   "metadata": {},
   "source": [
    "# 5. In an arithmetic phrase, how simple is it to combine Decimal objects with integers?\n",
    "\n"
   ]
  },
  {
   "cell_type": "code",
   "execution_count": 21,
   "id": "b126e82d",
   "metadata": {},
   "outputs": [],
   "source": [
    "x = Decimal('1.200')"
   ]
  },
  {
   "cell_type": "code",
   "execution_count": 22,
   "id": "f8904887",
   "metadata": {},
   "outputs": [
    {
     "data": {
      "text/plain": [
       "Decimal('2.200')"
      ]
     },
     "execution_count": 22,
     "metadata": {},
     "output_type": "execute_result"
    }
   ],
   "source": [
    "x+1"
   ]
  },
  {
   "cell_type": "markdown",
   "id": "822f31c0",
   "metadata": {},
   "source": [
    "# 6. Can Decimal objects and floating-point values be combined easily?\n",
    "\n"
   ]
  },
  {
   "cell_type": "code",
   "execution_count": 23,
   "id": "4913598e",
   "metadata": {},
   "outputs": [],
   "source": [
    "x = Decimal('1.200')"
   ]
  },
  {
   "cell_type": "code",
   "execution_count": 32,
   "id": "d92642a1",
   "metadata": {},
   "outputs": [
    {
     "data": {
      "text/plain": [
       "1.1"
      ]
     },
     "execution_count": 32,
     "metadata": {},
     "output_type": "execute_result"
    }
   ],
   "source": [
    "1.1"
   ]
  },
  {
   "cell_type": "code",
   "execution_count": 33,
   "id": "acd6436a",
   "metadata": {},
   "outputs": [
    {
     "ename": "TypeError",
     "evalue": "unsupported operand type(s) for +: 'decimal.Decimal' and 'float'",
     "output_type": "error",
     "traceback": [
      "\u001b[1;31m---------------------------------------------------------------------------\u001b[0m",
      "\u001b[1;31mTypeError\u001b[0m                                 Traceback (most recent call last)",
      "Input \u001b[1;32mIn [33]\u001b[0m, in \u001b[0;36m<cell line: 1>\u001b[1;34m()\u001b[0m\n\u001b[1;32m----> 1\u001b[0m \u001b[43mx\u001b[49m\u001b[38;5;241;43m+\u001b[39;49m\u001b[38;5;241;43m1.1\u001b[39;49m\n",
      "\u001b[1;31mTypeError\u001b[0m: unsupported operand type(s) for +: 'decimal.Decimal' and 'float'"
     ]
    }
   ],
   "source": [
    "x+1.1"
   ]
  },
  {
   "cell_type": "markdown",
   "id": "338e04ec",
   "metadata": {},
   "source": [
    "<li>No,they cant be combined thus we need to typecast</li>"
   ]
  },
  {
   "cell_type": "code",
   "execution_count": 34,
   "id": "59cf933b",
   "metadata": {},
   "outputs": [
    {
     "data": {
      "text/plain": [
       "Decimal('1.200')"
      ]
     },
     "execution_count": 34,
     "metadata": {},
     "output_type": "execute_result"
    }
   ],
   "source": [
    "x"
   ]
  },
  {
   "cell_type": "code",
   "execution_count": 36,
   "id": "ff1dc808",
   "metadata": {},
   "outputs": [
    {
     "data": {
      "text/plain": [
       "Decimal('2.300')"
      ]
     },
     "execution_count": 36,
     "metadata": {},
     "output_type": "execute_result"
    }
   ],
   "source": [
    "x+Decimal('1.1')"
   ]
  },
  {
   "cell_type": "markdown",
   "id": "96029d13",
   "metadata": {},
   "source": [
    "# 7. Using the Fraction class but not the Decimal class, give an example of a quantity that can be expressed with absolute precision.\n"
   ]
  },
  {
   "cell_type": "code",
   "execution_count": 72,
   "id": "b1fd518b",
   "metadata": {},
   "outputs": [
    {
     "name": "stdout",
     "output_type": "stream",
     "text": [
      "2476979795053773/2251799813685248\n"
     ]
    }
   ],
   "source": [
    "#using fraction class representing wuth absolutie precison\n",
    "from fractions import Fraction\n",
    "print(Fraction(1.1))"
   ]
  },
  {
   "cell_type": "code",
   "execution_count": 71,
   "id": "54f42621",
   "metadata": {},
   "outputs": [
    {
     "data": {
      "text/plain": [
       "Decimal('1.100000000000000088817841970012523233890533447265625')"
      ]
     },
     "execution_count": 71,
     "metadata": {},
     "output_type": "execute_result"
    }
   ],
   "source": [
    "#using decimal class not able to represent with absoulute precision\n",
    "Decimal(1.1)"
   ]
  },
  {
   "cell_type": "markdown",
   "id": "b7a27588",
   "metadata": {},
   "source": [
    "# 8. Describe a quantity that can be accurately expressed by the Decimal or Fraction classes but not by a floating-point value.\n",
    "\n"
   ]
  },
  {
   "cell_type": "code",
   "execution_count": 73,
   "id": "c1431254",
   "metadata": {},
   "outputs": [
    {
     "name": "stdout",
     "output_type": "stream",
     "text": [
      "3602879701896397/36028797018963968\n"
     ]
    }
   ],
   "source": [
    "#using fraction class not being able to represent wuth absolutie precison\n",
    "from fractions import Fraction\n",
    "print(Fraction(0.1))"
   ]
  },
  {
   "cell_type": "code",
   "execution_count": 74,
   "id": "cfb1f887",
   "metadata": {},
   "outputs": [
    {
     "data": {
      "text/plain": [
       "Decimal('0.1')"
      ]
     },
     "execution_count": 74,
     "metadata": {},
     "output_type": "execute_result"
    }
   ],
   "source": [
    "#using decimal class able represent with absoulute precision\n",
    "Decimal('0.1')"
   ]
  },
  {
   "cell_type": "markdown",
   "id": "924d6cbd",
   "metadata": {},
   "source": [
    "# 9.Consider the following two fraction objects: \n",
    "<li>Fraction(1, 2) and Fraction(5, 10). \n",
    "<li>Is the internal state of these two objects the same? Why do you think that is?\n"
   ]
  },
  {
   "cell_type": "code",
   "execution_count": 75,
   "id": "3d11059e",
   "metadata": {},
   "outputs": [
    {
     "name": "stdout",
     "output_type": "stream",
     "text": [
      "1/2\n"
     ]
    }
   ],
   "source": [
    "from fractions import Fraction\n",
    "print(Fraction(1,2))"
   ]
  },
  {
   "cell_type": "code",
   "execution_count": 77,
   "id": "0ac2197e",
   "metadata": {},
   "outputs": [
    {
     "name": "stdout",
     "output_type": "stream",
     "text": [
      "1/2\n"
     ]
    }
   ],
   "source": [
    "from fractions import Fraction\n",
    "print(Fraction(5,10))"
   ]
  },
  {
   "cell_type": "markdown",
   "id": "a9dc5e09",
   "metadata": {},
   "source": [
    "<li>On browsing the source code over here https://github.com/python/cpython/blob/3.10/Lib/fractions.py,</li> \n",
    "<li>It is found that fractions require two pieces of state data, the numerator and the denominator.</li>\n",
    "<li>Thus although the both fraction give us the same value but self.numerator and self._denominator values are different</li>"
   ]
  },
  {
   "cell_type": "markdown",
   "id": "b002e057",
   "metadata": {},
   "source": [
    "# Q10. How do the Fraction class and the integer type (int) relate to each other? Containment or inheritance?\n"
   ]
  },
  {
   "cell_type": "markdown",
   "id": "f59fa504",
   "metadata": {},
   "source": [
    "<li>Containment</li>"
   ]
  },
  {
   "cell_type": "code",
   "execution_count": null,
   "id": "aa217072",
   "metadata": {},
   "outputs": [],
   "source": []
  }
 ],
 "metadata": {
  "kernelspec": {
   "display_name": "Python 3 (ipykernel)",
   "language": "python",
   "name": "python3"
  },
  "language_info": {
   "codemirror_mode": {
    "name": "ipython",
    "version": 3
   },
   "file_extension": ".py",
   "mimetype": "text/x-python",
   "name": "python",
   "nbconvert_exporter": "python",
   "pygments_lexer": "ipython3",
   "version": "3.8.12"
  }
 },
 "nbformat": 4,
 "nbformat_minor": 5
}
