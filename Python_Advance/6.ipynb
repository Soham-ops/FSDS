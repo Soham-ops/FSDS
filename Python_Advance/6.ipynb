{
 "cells": [
  {
   "cell_type": "markdown",
   "id": "759233e2",
   "metadata": {},
   "source": [
    "# Q1. Describe three applications for exception processing.\n"
   ]
  },
  {
   "cell_type": "markdown",
   "id": "763b8b93",
   "metadata": {},
   "source": [
    "<li>Whenever there is some error in code and some exception is raised,with the help of exception handling that crash will be handled and the program will not behave unpredictably</li>\n",
    "<li>With exception handling, if any issues in database connectivity we handle that with exception handling</li>\n",
    "<li>Operating systems use exception handling to resolve deadlocks</li>"
   ]
  },
  {
   "cell_type": "code",
   "execution_count": null,
   "id": "15e4f9b0",
   "metadata": {},
   "outputs": [],
   "source": []
  },
  {
   "cell_type": "markdown",
   "id": "f1c08594",
   "metadata": {},
   "source": [
    "# Q2. What happens if you don't do something extra to treat an exception?\n"
   ]
  },
  {
   "cell_type": "markdown",
   "id": "8ca3f347",
   "metadata": {},
   "source": [
    "<li>Either the system will catch the error and throw an inbuilt exception if we have not defined ourselves</li>\n",
    "<li>The system may behave unpredictably</li>"
   ]
  },
  {
   "cell_type": "code",
   "execution_count": null,
   "id": "e2a5db47",
   "metadata": {},
   "outputs": [],
   "source": []
  },
  {
   "cell_type": "markdown",
   "id": "b753cc7a",
   "metadata": {},
   "source": [
    "# Q3. What are your options for recovering from an exception in your script?\n"
   ]
  },
  {
   "cell_type": "code",
   "execution_count": 2,
   "id": "af3e5be1",
   "metadata": {},
   "outputs": [
    {
     "name": "stdout",
     "output_type": "stream",
     "text": [
      "division by zero\n"
     ]
    }
   ],
   "source": [
    "#catch the exception as shown below and control the crash\n",
    "\n",
    "try:\n",
    "    a = 5/0\n",
    "except Exception as e:\n",
    "    print(e)"
   ]
  },
  {
   "cell_type": "code",
   "execution_count": null,
   "id": "78b07b81",
   "metadata": {},
   "outputs": [],
   "source": []
  },
  {
   "cell_type": "markdown",
   "id": "5fb42227",
   "metadata": {},
   "source": [
    "# Q4. Describe two methods for triggering exceptions in your script.\n",
    "\n"
   ]
  },
  {
   "cell_type": "code",
   "execution_count": 3,
   "id": "5d539457",
   "metadata": {},
   "outputs": [
    {
     "name": "stdout",
     "output_type": "stream",
     "text": [
      "division by zero\n"
     ]
    }
   ],
   "source": [
    "#Method 1\n",
    "try:\n",
    "    a = 5/0\n",
    "except Exception as e:\n",
    "    print(e)"
   ]
  },
  {
   "cell_type": "code",
   "execution_count": 4,
   "id": "9c001ca0",
   "metadata": {},
   "outputs": [
    {
     "ename": "Exception",
     "evalue": "Number less than 0",
     "output_type": "error",
     "traceback": [
      "\u001b[1;31m---------------------------------------------------------------------------\u001b[0m",
      "\u001b[1;31mException\u001b[0m                                 Traceback (most recent call last)",
      "\u001b[1;32m<ipython-input-4-38b90ebb6cd4>\u001b[0m in \u001b[0;36m<module>\u001b[1;34m\u001b[0m\n\u001b[0;32m      2\u001b[0m \u001b[0mx\u001b[0m \u001b[1;33m=\u001b[0m \u001b[1;33m-\u001b[0m\u001b[1;36m1\u001b[0m\u001b[1;33m\u001b[0m\u001b[1;33m\u001b[0m\u001b[0m\n\u001b[0;32m      3\u001b[0m \u001b[1;32mif\u001b[0m \u001b[0mx\u001b[0m\u001b[1;33m<\u001b[0m\u001b[1;36m0\u001b[0m\u001b[1;33m:\u001b[0m\u001b[1;33m\u001b[0m\u001b[1;33m\u001b[0m\u001b[0m\n\u001b[1;32m----> 4\u001b[1;33m     \u001b[1;32mraise\u001b[0m \u001b[0mException\u001b[0m\u001b[1;33m(\u001b[0m\u001b[1;34m\"Number less than 0\"\u001b[0m\u001b[1;33m)\u001b[0m\u001b[1;33m\u001b[0m\u001b[1;33m\u001b[0m\u001b[0m\n\u001b[0m",
      "\u001b[1;31mException\u001b[0m: Number less than 0"
     ]
    }
   ],
   "source": [
    "#Method 2\n",
    "x = -1\n",
    "if x<0:\n",
    "    raise Exception(\"Number less than 0\")"
   ]
  },
  {
   "cell_type": "code",
   "execution_count": null,
   "id": "2e0575c5",
   "metadata": {},
   "outputs": [],
   "source": []
  },
  {
   "cell_type": "markdown",
   "id": "19367ed7",
   "metadata": {},
   "source": [
    "# Q5. Identify two methods for specifying actions to be executed at termination time, regardless of whether or not an exception exists.\n"
   ]
  },
  {
   "cell_type": "code",
   "execution_count": 9,
   "id": "7ad1b214",
   "metadata": {},
   "outputs": [
    {
     "name": "stdout",
     "output_type": "stream",
     "text": [
      "division by zero\n",
      "Exception Handling done\n"
     ]
    }
   ],
   "source": [
    "#Method 1 (regardless of whether exception occurs)\n",
    "try:\n",
    "    a = 5/0\n",
    "except Exception as e:\n",
    "    print(e)\n",
    "finally:\n",
    "    print(\"Exception Handling done\")"
   ]
  },
  {
   "cell_type": "code",
   "execution_count": 11,
   "id": "4afdd614",
   "metadata": {},
   "outputs": [
    {
     "name": "stdout",
     "output_type": "stream",
     "text": [
      "division by zero\n"
     ]
    }
   ],
   "source": [
    "#Method 2(if try does not raise exception)\n",
    "try:\n",
    "    a = 5/0\n",
    "except Exception as e:\n",
    "    print(e)\n",
    "else:\n",
    "    print(\"Exception Handling done\")"
   ]
  },
  {
   "cell_type": "code",
   "execution_count": null,
   "id": "3123a1d7",
   "metadata": {},
   "outputs": [],
   "source": []
  }
 ],
 "metadata": {
  "kernelspec": {
   "display_name": "iNeuronFSDSPythonModule",
   "language": "python",
   "name": "ineuronfsdspythonmodule"
  },
  "language_info": {
   "codemirror_mode": {
    "name": "ipython",
    "version": 3
   },
   "file_extension": ".py",
   "mimetype": "text/x-python",
   "name": "python",
   "nbconvert_exporter": "python",
   "pygments_lexer": "ipython3",
   "version": "3.6.12"
  }
 },
 "nbformat": 4,
 "nbformat_minor": 5
}
