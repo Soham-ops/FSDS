{
 "cells": [
  {
   "cell_type": "markdown",
   "id": "a905b60a",
   "metadata": {},
   "source": [
    "# Q1. What is the relationship between classes and modules?\n"
   ]
  },
  {
   "cell_type": "markdown",
   "id": "2a2512ad",
   "metadata": {},
   "source": [
    "<li>It is inside modules that we find find classes</li>"
   ]
  },
  {
   "cell_type": "code",
   "execution_count": null,
   "id": "874a96eb",
   "metadata": {},
   "outputs": [],
   "source": []
  },
  {
   "cell_type": "markdown",
   "id": "540d93a0",
   "metadata": {},
   "source": [
    "# Q2. How do you make instances and classes?\n",
    "\n"
   ]
  },
  {
   "cell_type": "code",
   "execution_count": 1,
   "id": "8629f072",
   "metadata": {},
   "outputs": [],
   "source": [
    "class Sample:\n",
    "    \n",
    "    def __init__(self):\n",
    "        self.instance = 'Hi'"
   ]
  },
  {
   "cell_type": "code",
   "execution_count": 2,
   "id": "cf422fb2",
   "metadata": {},
   "outputs": [
    {
     "data": {
      "text/plain": [
       "'Hi'"
      ]
     },
     "execution_count": 2,
     "metadata": {},
     "output_type": "execute_result"
    }
   ],
   "source": [
    "obj = Sample()\n",
    "obj.instance"
   ]
  },
  {
   "cell_type": "code",
   "execution_count": null,
   "id": "bad9594b",
   "metadata": {},
   "outputs": [],
   "source": []
  },
  {
   "cell_type": "markdown",
   "id": "5d1918de",
   "metadata": {},
   "source": [
    "# Q3. Where and how should be class attributes created?\n"
   ]
  },
  {
   "cell_type": "code",
   "execution_count": 4,
   "id": "fd46144a",
   "metadata": {},
   "outputs": [],
   "source": [
    "class Sample:\n",
    "    \n",
    "    clss_attribute = 'Hi'\n",
    "    \n",
    "    def __init__(self):\n",
    "        self.attr ='Instance Hi'"
   ]
  },
  {
   "cell_type": "code",
   "execution_count": 6,
   "id": "463f0e64",
   "metadata": {},
   "outputs": [
    {
     "name": "stdout",
     "output_type": "stream",
     "text": [
      "Hi\n",
      "Instance Hi\n"
     ]
    }
   ],
   "source": [
    "obj = Sample()\n",
    "print(obj.clss_attribute)\n",
    "print(obj.attr)\n"
   ]
  },
  {
   "cell_type": "markdown",
   "id": "f7755769",
   "metadata": {},
   "source": [
    "<li>When there is a need of an attribute to be shared among all the objects of the class then we create a class attribute</li>"
   ]
  },
  {
   "cell_type": "code",
   "execution_count": null,
   "id": "b6728312",
   "metadata": {},
   "outputs": [],
   "source": []
  },
  {
   "cell_type": "markdown",
   "id": "ce261b50",
   "metadata": {},
   "source": [
    "# Q4. Where and how are instance attributes created?\n"
   ]
  },
  {
   "cell_type": "code",
   "execution_count": 8,
   "id": "7ba90618",
   "metadata": {},
   "outputs": [],
   "source": [
    "class Sample:\n",
    "    \n",
    "    def __init__(self):\n",
    "        self.attr ='Instance Hi'"
   ]
  },
  {
   "cell_type": "code",
   "execution_count": 9,
   "id": "ae855acc",
   "metadata": {},
   "outputs": [
    {
     "data": {
      "text/plain": [
       "'Instance Hi'"
      ]
     },
     "execution_count": 9,
     "metadata": {},
     "output_type": "execute_result"
    }
   ],
   "source": [
    "obj = Sample()\n",
    "obj.attr"
   ]
  },
  {
   "cell_type": "markdown",
   "id": "9efb1ce9",
   "metadata": {},
   "source": [
    "<li>When there is a need that we want a attribute to be present whenever we create an instance then we create an instance atrribute</li>"
   ]
  },
  {
   "cell_type": "code",
   "execution_count": null,
   "id": "a00dbd74",
   "metadata": {},
   "outputs": [],
   "source": []
  },
  {
   "cell_type": "markdown",
   "id": "9aafc985",
   "metadata": {},
   "source": [
    "# Q5. What does the term \"self\" in a Python class mean?\n",
    "\n"
   ]
  },
  {
   "cell_type": "code",
   "execution_count": 11,
   "id": "eb473309",
   "metadata": {},
   "outputs": [],
   "source": [
    "class Sample:\n",
    "    \n",
    "    def __init__(self):\n",
    "        self.attr ='Instance Hi'"
   ]
  },
  {
   "cell_type": "code",
   "execution_count": 12,
   "id": "b2670f2b",
   "metadata": {},
   "outputs": [
    {
     "data": {
      "text/plain": [
       "'Instance Hi'"
      ]
     },
     "execution_count": 12,
     "metadata": {},
     "output_type": "execute_result"
    }
   ],
   "source": [
    "obj = Sample()\n",
    "obj.attr"
   ]
  },
  {
   "cell_type": "markdown",
   "id": "5eec8a0b",
   "metadata": {},
   "source": [
    "<li>Self will refer to the object of the class.Thus here self mean object(obj)</li>"
   ]
  },
  {
   "cell_type": "code",
   "execution_count": null,
   "id": "2d3ec84c",
   "metadata": {},
   "outputs": [],
   "source": []
  },
  {
   "cell_type": "markdown",
   "id": "2168477f",
   "metadata": {},
   "source": [
    "# Q6. How does a Python class handle operator overloading?\n"
   ]
  },
  {
   "cell_type": "code",
   "execution_count": 13,
   "id": "0e58536e",
   "metadata": {},
   "outputs": [
    {
     "name": "stdout",
     "output_type": "stream",
     "text": [
      "2\n",
      "Ronnie Kumar\n"
     ]
    }
   ],
   "source": [
    "#default operator overloading of '+'\n",
    "print(1+1)\n",
    "print('Ronnie Kumar')"
   ]
  },
  {
   "cell_type": "code",
   "execution_count": 25,
   "id": "acee8b09",
   "metadata": {},
   "outputs": [],
   "source": [
    "#Manual operator overloading of '+'\n",
    "class Custom:\n",
    "    def __init__(self,arg):\n",
    "        self.arg = arg\n",
    "        \n",
    "    def __add__(self,obj_2):\n",
    "        return self.arg + str(obj_2.arg)"
   ]
  },
  {
   "cell_type": "code",
   "execution_count": 26,
   "id": "d634a92b",
   "metadata": {},
   "outputs": [
    {
     "name": "stdout",
     "output_type": "stream",
     "text": [
      "Soham1\n"
     ]
    }
   ],
   "source": [
    "obj_1 = Custom('Soham')\n",
    "obj_2 = Custom(1)\n",
    "print(obj_1 + obj_2)"
   ]
  },
  {
   "cell_type": "code",
   "execution_count": null,
   "id": "1f31add6",
   "metadata": {},
   "outputs": [],
   "source": []
  },
  {
   "cell_type": "markdown",
   "id": "e00269da",
   "metadata": {},
   "source": [
    "# Q7. When do you consider allowing operator overloading of your classes?\n",
    "\n"
   ]
  },
  {
   "cell_type": "markdown",
   "id": "35adc268",
   "metadata": {},
   "source": [
    "<li>Its a case specific scenario that depends upon the problem statement.If on encountering a problem we understand post reading that we have to go with operator overloading then we do accordingly.Its not that for every problem we encounter we will go for operator overloading</li>"
   ]
  },
  {
   "cell_type": "code",
   "execution_count": null,
   "id": "d62b662a",
   "metadata": {},
   "outputs": [],
   "source": []
  },
  {
   "cell_type": "markdown",
   "id": "873b51df",
   "metadata": {},
   "source": [
    "# Q8. What is the most popular form of operator overloading?\n"
   ]
  },
  {
   "cell_type": "markdown",
   "id": "c913712c",
   "metadata": {},
   "source": [
    "<li> It has to be the '+' operator as shown in Q6 Soln</li>"
   ]
  },
  {
   "cell_type": "code",
   "execution_count": null,
   "id": "027ff307",
   "metadata": {},
   "outputs": [],
   "source": []
  },
  {
   "cell_type": "markdown",
   "id": "bef76fa5",
   "metadata": {},
   "source": [
    "# Q9. What are the two most important concepts to grasp in order to comprehend Python OOP code?\n"
   ]
  },
  {
   "cell_type": "markdown",
   "id": "215ebef7",
   "metadata": {},
   "source": [
    "<li>Polymorphism(Same thing many forms) and Inheritance</li>"
   ]
  },
  {
   "cell_type": "code",
   "execution_count": null,
   "id": "632838d9",
   "metadata": {},
   "outputs": [],
   "source": []
  }
 ],
 "metadata": {
  "kernelspec": {
   "display_name": "iNeuronFSDSPythonModule",
   "language": "python",
   "name": "ineuronfsdspythonmodule"
  },
  "language_info": {
   "codemirror_mode": {
    "name": "ipython",
    "version": 3
   },
   "file_extension": ".py",
   "mimetype": "text/x-python",
   "name": "python",
   "nbconvert_exporter": "python",
   "pygments_lexer": "ipython3",
   "version": "3.6.12"
  }
 },
 "nbformat": 4,
 "nbformat_minor": 5
}
