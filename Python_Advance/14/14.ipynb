{
 "cells": [
  {
   "cell_type": "markdown",
   "id": "e418ed21",
   "metadata": {},
   "source": [
    "# Q1. Is an assignment operator like += only for show? Is it possible that it would lead to faster results at the runtime?\n"
   ]
  },
  {
   "cell_type": "code",
   "execution_count": 1,
   "id": "5c4f3df6",
   "metadata": {},
   "outputs": [],
   "source": [
    "a = 'cat'\n",
    "a += 'dog'\n",
    "a += 'rat'"
   ]
  },
  {
   "cell_type": "code",
   "execution_count": 2,
   "id": "0bf0b650",
   "metadata": {},
   "outputs": [
    {
     "data": {
      "text/plain": [
       "'catdograt'"
      ]
     },
     "execution_count": 2,
     "metadata": {},
     "output_type": "execute_result"
    }
   ],
   "source": [
    "a"
   ]
  },
  {
   "cell_type": "markdown",
   "id": "ac928abd",
   "metadata": {},
   "source": [
    "<li>What happens is that each time += is called the previous string as well as the new string that we are appending needs to copied to a new memory space</li>\n",
    "<li>Thus we conclude that += would not let to faster results at the runtime</li>"
   ]
  },
  {
   "cell_type": "markdown",
   "id": "dd95afcd",
   "metadata": {},
   "source": [
    "# Q2. What is the smallest number of statements you'd have to write in most programming languages to replace the Python expression a, b = a + b, a?\n"
   ]
  },
  {
   "cell_type": "markdown",
   "id": "4953c4c0",
   "metadata": {},
   "source": [
    "<li>At least 2</li>"
   ]
  },
  {
   "cell_type": "markdown",
   "id": "686a93c1",
   "metadata": {},
   "source": [
    "# Q3. In Python, what is the most effective way to set a list of 100 integers to 0?\n",
    "\n"
   ]
  },
  {
   "cell_type": "code",
   "execution_count": 7,
   "id": "b9d8ef87",
   "metadata": {},
   "outputs": [],
   "source": [
    "ls = [0 for i in range(100)]"
   ]
  },
  {
   "cell_type": "code",
   "execution_count": 8,
   "id": "3dd61b14",
   "metadata": {},
   "outputs": [
    {
     "data": {
      "text/plain": [
       "[0,\n",
       " 0,\n",
       " 0,\n",
       " 0,\n",
       " 0,\n",
       " 0,\n",
       " 0,\n",
       " 0,\n",
       " 0,\n",
       " 0,\n",
       " 0,\n",
       " 0,\n",
       " 0,\n",
       " 0,\n",
       " 0,\n",
       " 0,\n",
       " 0,\n",
       " 0,\n",
       " 0,\n",
       " 0,\n",
       " 0,\n",
       " 0,\n",
       " 0,\n",
       " 0,\n",
       " 0,\n",
       " 0,\n",
       " 0,\n",
       " 0,\n",
       " 0,\n",
       " 0,\n",
       " 0,\n",
       " 0,\n",
       " 0,\n",
       " 0,\n",
       " 0,\n",
       " 0,\n",
       " 0,\n",
       " 0,\n",
       " 0,\n",
       " 0,\n",
       " 0,\n",
       " 0,\n",
       " 0,\n",
       " 0,\n",
       " 0,\n",
       " 0,\n",
       " 0,\n",
       " 0,\n",
       " 0,\n",
       " 0,\n",
       " 0,\n",
       " 0,\n",
       " 0,\n",
       " 0,\n",
       " 0,\n",
       " 0,\n",
       " 0,\n",
       " 0,\n",
       " 0,\n",
       " 0,\n",
       " 0,\n",
       " 0,\n",
       " 0,\n",
       " 0,\n",
       " 0,\n",
       " 0,\n",
       " 0,\n",
       " 0,\n",
       " 0,\n",
       " 0,\n",
       " 0,\n",
       " 0,\n",
       " 0,\n",
       " 0,\n",
       " 0,\n",
       " 0,\n",
       " 0,\n",
       " 0,\n",
       " 0,\n",
       " 0,\n",
       " 0,\n",
       " 0,\n",
       " 0,\n",
       " 0,\n",
       " 0,\n",
       " 0,\n",
       " 0,\n",
       " 0,\n",
       " 0,\n",
       " 0,\n",
       " 0,\n",
       " 0,\n",
       " 0,\n",
       " 0,\n",
       " 0,\n",
       " 0,\n",
       " 0,\n",
       " 0,\n",
       " 0,\n",
       " 0]"
      ]
     },
     "execution_count": 8,
     "metadata": {},
     "output_type": "execute_result"
    }
   ],
   "source": [
    "ls"
   ]
  },
  {
   "cell_type": "markdown",
   "id": "de22d573",
   "metadata": {},
   "source": [
    "# Q4. What is the most effective way to initialise a list of 99 integers that repeats the sequence 1, 2, 3? S If necessary, show step-by-step instructions on how to accomplish this.\n",
    "\n"
   ]
  },
  {
   "cell_type": "code",
   "execution_count": 9,
   "id": "d9cbf4e3",
   "metadata": {},
   "outputs": [],
   "source": [
    "ls = [i for i in range(1,100)]"
   ]
  },
  {
   "cell_type": "code",
   "execution_count": 10,
   "id": "8a3e8f35",
   "metadata": {},
   "outputs": [
    {
     "data": {
      "text/plain": [
       "[1,\n",
       " 2,\n",
       " 3,\n",
       " 4,\n",
       " 5,\n",
       " 6,\n",
       " 7,\n",
       " 8,\n",
       " 9,\n",
       " 10,\n",
       " 11,\n",
       " 12,\n",
       " 13,\n",
       " 14,\n",
       " 15,\n",
       " 16,\n",
       " 17,\n",
       " 18,\n",
       " 19,\n",
       " 20,\n",
       " 21,\n",
       " 22,\n",
       " 23,\n",
       " 24,\n",
       " 25,\n",
       " 26,\n",
       " 27,\n",
       " 28,\n",
       " 29,\n",
       " 30,\n",
       " 31,\n",
       " 32,\n",
       " 33,\n",
       " 34,\n",
       " 35,\n",
       " 36,\n",
       " 37,\n",
       " 38,\n",
       " 39,\n",
       " 40,\n",
       " 41,\n",
       " 42,\n",
       " 43,\n",
       " 44,\n",
       " 45,\n",
       " 46,\n",
       " 47,\n",
       " 48,\n",
       " 49,\n",
       " 50,\n",
       " 51,\n",
       " 52,\n",
       " 53,\n",
       " 54,\n",
       " 55,\n",
       " 56,\n",
       " 57,\n",
       " 58,\n",
       " 59,\n",
       " 60,\n",
       " 61,\n",
       " 62,\n",
       " 63,\n",
       " 64,\n",
       " 65,\n",
       " 66,\n",
       " 67,\n",
       " 68,\n",
       " 69,\n",
       " 70,\n",
       " 71,\n",
       " 72,\n",
       " 73,\n",
       " 74,\n",
       " 75,\n",
       " 76,\n",
       " 77,\n",
       " 78,\n",
       " 79,\n",
       " 80,\n",
       " 81,\n",
       " 82,\n",
       " 83,\n",
       " 84,\n",
       " 85,\n",
       " 86,\n",
       " 87,\n",
       " 88,\n",
       " 89,\n",
       " 90,\n",
       " 91,\n",
       " 92,\n",
       " 93,\n",
       " 94,\n",
       " 95,\n",
       " 96,\n",
       " 97,\n",
       " 98,\n",
       " 99]"
      ]
     },
     "execution_count": 10,
     "metadata": {},
     "output_type": "execute_result"
    }
   ],
   "source": [
    "ls"
   ]
  },
  {
   "cell_type": "markdown",
   "id": "16458e71",
   "metadata": {},
   "source": [
    "# Q5. If you're using IDLE to run a Python application, explain how to print a multidimensional list as efficiently?\n",
    "\n"
   ]
  },
  {
   "cell_type": "markdown",
   "id": "784b3730",
   "metadata": {},
   "source": [
    "<img src = \"code.png\">"
   ]
  },
  {
   "cell_type": "markdown",
   "id": "9a8dfd24",
   "metadata": {},
   "source": [
    "# Q6. Is it possible to use list comprehension with a string? If so, how can you go about doing it?\n",
    "\n",
    "\n"
   ]
  },
  {
   "cell_type": "code",
   "execution_count": 11,
   "id": "78dab149",
   "metadata": {},
   "outputs": [
    {
     "data": {
      "text/plain": [
       "['s', 'o', 'h', 'a', 'm']"
      ]
     },
     "execution_count": 11,
     "metadata": {},
     "output_type": "execute_result"
    }
   ],
   "source": [
    "s = 'soham'\n",
    "ls = [i for i in s]\n",
    "ls"
   ]
  },
  {
   "cell_type": "markdown",
   "id": "5bef2fb4",
   "metadata": {},
   "source": [
    "# Q7. From the command line, how do you get support with a user-written Python programme? Is this possible from inside IDLE?\n",
    "\n",
    "\n"
   ]
  },
  {
   "cell_type": "markdown",
   "id": "adea8b87",
   "metadata": {},
   "source": [
    "<img src = \"code_2.png\">"
   ]
  },
  {
   "cell_type": "markdown",
   "id": "260ab1eb",
   "metadata": {},
   "source": [
    "# Q8. Functions are said to be “first-class objects” in Python but not in most other languages, such as C++ or Java. What can you do in Python with a function (callable object) that you can't do in C or C++?\n",
    "\n",
    "\n",
    "\n"
   ]
  },
  {
   "cell_type": "markdown",
   "id": "a2cee885",
   "metadata": {},
   "source": [
    "<li> In c++ python there is restriction to the return type as well as the parameters, as these have to match with the function definition</li>"
   ]
  },
  {
   "cell_type": "markdown",
   "id": "654e9f8e",
   "metadata": {},
   "source": [
    "# Q9. How do you distinguish between a wrapper, a wrapped feature, and a decorator?\n",
    "\n"
   ]
  },
  {
   "cell_type": "code",
   "execution_count": 13,
   "id": "2c1aef61",
   "metadata": {},
   "outputs": [],
   "source": [
    "def decorator(arg):#The decorator\n",
    "    def wrapper():#The wrapper function\n",
    "        print(\"Hello\")\n",
    "        arg()\n",
    "        \n",
    "    return wrapper\n",
    "\n",
    "@decorator\n",
    "def func():#The wrapped feature\n",
    "    print('Soham')"
   ]
  },
  {
   "cell_type": "code",
   "execution_count": 14,
   "id": "96cc0d1b",
   "metadata": {},
   "outputs": [
    {
     "name": "stdout",
     "output_type": "stream",
     "text": [
      "Hello\n",
      "Soham\n"
     ]
    }
   ],
   "source": [
    "func()"
   ]
  },
  {
   "cell_type": "markdown",
   "id": "32d9ac91",
   "metadata": {},
   "source": [
    "# Q10. If a function is a generator function, what does it return?\n"
   ]
  },
  {
   "cell_type": "markdown",
   "id": "fbd1ceea",
   "metadata": {},
   "source": [
    "<li>a generator function does not return any single value it returns iterator over a sequence of values</li> "
   ]
  },
  {
   "cell_type": "code",
   "execution_count": 17,
   "id": "ba1c1988",
   "metadata": {},
   "outputs": [],
   "source": [
    "def gen_fn():\n",
    "    for i in range(5):\n",
    "        yield i"
   ]
  },
  {
   "cell_type": "code",
   "execution_count": 18,
   "id": "3f97107a",
   "metadata": {},
   "outputs": [
    {
     "name": "stdout",
     "output_type": "stream",
     "text": [
      "0\n",
      "1\n",
      "2\n",
      "3\n",
      "4\n"
     ]
    }
   ],
   "source": [
    "for i in gen_fn():\n",
    "    print(i)"
   ]
  },
  {
   "cell_type": "markdown",
   "id": "8c714441",
   "metadata": {},
   "source": [
    "# Q11. What is the one improvement that must be made to a function in order for it to become a generator function in the Python language?\n",
    "\n"
   ]
  },
  {
   "cell_type": "code",
   "execution_count": 19,
   "id": "9c09c3d9",
   "metadata": {},
   "outputs": [],
   "source": [
    "#Addition of a yield keyword is required\n",
    "def gen_fn():\n",
    "    for i in range(5):\n",
    "        yield i"
   ]
  },
  {
   "cell_type": "code",
   "execution_count": 20,
   "id": "47514509",
   "metadata": {},
   "outputs": [
    {
     "name": "stdout",
     "output_type": "stream",
     "text": [
      "0\n",
      "1\n",
      "2\n",
      "3\n",
      "4\n"
     ]
    }
   ],
   "source": [
    "for i in gen_fn():\n",
    "    print(i)"
   ]
  },
  {
   "cell_type": "markdown",
   "id": "1057a31a",
   "metadata": {},
   "source": [
    "# Q12. Identify at least one benefit of generators.\n"
   ]
  },
  {
   "cell_type": "markdown",
   "id": "3ae489f6",
   "metadata": {},
   "source": [
    "<li>When we have to iterate over a large sequence, using generators will prevent exhausting our ram as it will iterate one by one</li>"
   ]
  },
  {
   "cell_type": "code",
   "execution_count": null,
   "id": "26a7f624",
   "metadata": {},
   "outputs": [],
   "source": []
  }
 ],
 "metadata": {
  "kernelspec": {
   "display_name": "Python 3 (ipykernel)",
   "language": "python",
   "name": "python3"
  },
  "language_info": {
   "codemirror_mode": {
    "name": "ipython",
    "version": 3
   },
   "file_extension": ".py",
   "mimetype": "text/x-python",
   "name": "python",
   "nbconvert_exporter": "python",
   "pygments_lexer": "ipython3",
   "version": "3.8.12"
  }
 },
 "nbformat": 4,
 "nbformat_minor": 5
}
