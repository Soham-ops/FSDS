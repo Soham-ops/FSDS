{
 "cells": [
  {
   "cell_type": "markdown",
   "id": "769f5147",
   "metadata": {},
   "source": [
    "# Q1. What is the meaning of multiple inheritance?\n",
    "\n"
   ]
  },
  {
   "cell_type": "code",
   "execution_count": 2,
   "id": "3671aaf7",
   "metadata": {},
   "outputs": [],
   "source": [
    "class A:\n",
    "    \n",
    "    def m(self):\n",
    "        print('In A')\n",
    "        \n",
    "class B:\n",
    "    \n",
    "    def m(self):\n",
    "        print('In B')\n",
    "        \n",
    "class C(A,B):\n",
    "    pass"
   ]
  },
  {
   "cell_type": "code",
   "execution_count": 3,
   "id": "cea96437",
   "metadata": {},
   "outputs": [
    {
     "name": "stdout",
     "output_type": "stream",
     "text": [
      "In A\n"
     ]
    }
   ],
   "source": [
    "obj = C()\n",
    "obj.m()"
   ]
  },
  {
   "cell_type": "markdown",
   "id": "883d4fcc",
   "metadata": {},
   "source": [
    "<li>When a class is derived from more than one base class, then such a type of inheritance is called multiple inheritance</li>"
   ]
  },
  {
   "cell_type": "code",
   "execution_count": null,
   "id": "75b9c63a",
   "metadata": {},
   "outputs": [],
   "source": []
  },
  {
   "cell_type": "markdown",
   "id": "2b3d75ce",
   "metadata": {},
   "source": [
    "# Q2. What is the concept of delegation?\n",
    "\n"
   ]
  },
  {
   "cell_type": "markdown",
   "id": "cc234b99",
   "metadata": {},
   "source": [
    "<li>Suppose,Car is a class and we fall in such a situation that we are calling has_silencer() method which belongs to Bike class then instead of creating a has_silencer method in Car class we will delegate has_silencer method of bike class whenever Car class calls has_silencer method</li>\n",
    "<li>So this is the concept of delegation</li>"
   ]
  },
  {
   "cell_type": "code",
   "execution_count": null,
   "id": "1408ae9d",
   "metadata": {},
   "outputs": [],
   "source": []
  },
  {
   "cell_type": "markdown",
   "id": "e661875b",
   "metadata": {},
   "source": [
    "# Q3. What is the concept of composition?\n"
   ]
  },
  {
   "cell_type": "markdown",
   "id": "50cca6f7",
   "metadata": {},
   "source": [
    "<li>first of all where inheritance decribes a 'is-a' relation,composition describes a 'has-a' relation</li>\n",
    "<li>Here we have have two paradigms of classes, component and composite</li>\n",
    "<li>A composite class can reference one or more objects of a component class as an instance variable</li>\n",
    "<li>Thus composition is where we can only use other classes attributes and methods, but can't modify it.For modification we use inheritance</li>"
   ]
  },
  {
   "cell_type": "code",
   "execution_count": null,
   "id": "73b46b6e",
   "metadata": {},
   "outputs": [],
   "source": []
  },
  {
   "cell_type": "markdown",
   "id": "ada45030",
   "metadata": {},
   "source": [
    "# Q4. What are bound methods and how do we use them?\n"
   ]
  },
  {
   "cell_type": "code",
   "execution_count": 16,
   "id": "c5ff7c78",
   "metadata": {},
   "outputs": [],
   "source": [
    "class A:\n",
    "    \n",
    "    def func(self,p):\n",
    "        self.p = p\n",
    "        "
   ]
  },
  {
   "cell_type": "code",
   "execution_count": 18,
   "id": "4f1b69a6",
   "metadata": {},
   "outputs": [
    {
     "data": {
      "text/plain": [
       "<bound method A.func of <__main__.A object at 0x00000234BAD36390>>"
      ]
     },
     "execution_count": 18,
     "metadata": {},
     "output_type": "execute_result"
    }
   ],
   "source": [
    "obj = A()\n",
    "obj.func"
   ]
  },
  {
   "cell_type": "markdown",
   "id": "157c9af8",
   "metadata": {},
   "source": [
    "<li>All methods that is dependent on the object of the class as it first argument,such methods are called bound methods.Thus in Python3 onwards all methods in a class are bound methods</li>"
   ]
  },
  {
   "cell_type": "code",
   "execution_count": null,
   "id": "cade2479",
   "metadata": {},
   "outputs": [],
   "source": []
  },
  {
   "cell_type": "markdown",
   "id": "ff6e4fcd",
   "metadata": {},
   "source": [
    "# Q5. What is the purpose of pseudoprivate attributes?\n"
   ]
  },
  {
   "cell_type": "code",
   "execution_count": 30,
   "id": "3130b4a7",
   "metadata": {},
   "outputs": [
    {
     "ename": "AttributeError",
     "evalue": "'A' object has no attribute '__name'",
     "output_type": "error",
     "traceback": [
      "\u001b[1;31m---------------------------------------------------------------------------\u001b[0m",
      "\u001b[1;31mAttributeError\u001b[0m                            Traceback (most recent call last)",
      "\u001b[1;32m<ipython-input-30-173ff6e08e45>\u001b[0m in \u001b[0;36m<module>\u001b[1;34m\u001b[0m\n\u001b[0;32m      4\u001b[0m \u001b[1;33m\u001b[0m\u001b[0m\n\u001b[0;32m      5\u001b[0m \u001b[0ma\u001b[0m \u001b[1;33m=\u001b[0m \u001b[0mA\u001b[0m\u001b[1;33m(\u001b[0m\u001b[1;33m)\u001b[0m\u001b[1;33m\u001b[0m\u001b[1;33m\u001b[0m\u001b[0m\n\u001b[1;32m----> 6\u001b[1;33m \u001b[0mprint\u001b[0m\u001b[1;33m(\u001b[0m\u001b[0ma\u001b[0m\u001b[1;33m.\u001b[0m\u001b[0m__name\u001b[0m\u001b[1;33m)\u001b[0m\u001b[1;33m\u001b[0m\u001b[1;33m\u001b[0m\u001b[0m\n\u001b[0m",
      "\u001b[1;31mAttributeError\u001b[0m: 'A' object has no attribute '__name'"
     ]
    }
   ],
   "source": [
    "class A:\n",
    "    def __init__(self):\n",
    "        self.__name = 'soham'\n",
    "    \n",
    "a = A()\n",
    "print(a.__name)#will give error"
   ]
  },
  {
   "cell_type": "code",
   "execution_count": 29,
   "id": "b7dc1929",
   "metadata": {},
   "outputs": [
    {
     "name": "stdout",
     "output_type": "stream",
     "text": [
      "soham\n"
     ]
    }
   ],
   "source": [
    "class A:\n",
    "    def __init__(self):\n",
    "        self.__name = 'soham'\n",
    "    \n",
    "a = A()\n",
    "print(a._A__name)#able to access with pseudo-private mechanism"
   ]
  },
  {
   "cell_type": "markdown",
   "id": "c47555e4",
   "metadata": {},
   "source": [
    "<li>So by giving a double underscore infront of a variable or method we indicate that it's private and thus be dealt accordingly.</li>\n",
    "<li>However if we want to access the private entity  we can do so and we do it using the pseudo-private mechanism as shown above</li>"
   ]
  },
  {
   "cell_type": "code",
   "execution_count": null,
   "id": "9921f173",
   "metadata": {},
   "outputs": [],
   "source": []
  }
 ],
 "metadata": {
  "kernelspec": {
   "display_name": "iNeuronFSDSPythonModule",
   "language": "python",
   "name": "ineuronfsdspythonmodule"
  },
  "language_info": {
   "codemirror_mode": {
    "name": "ipython",
    "version": 3
   },
   "file_extension": ".py",
   "mimetype": "text/x-python",
   "name": "python",
   "nbconvert_exporter": "python",
   "pygments_lexer": "ipython3",
   "version": "3.6.12"
  }
 },
 "nbformat": 4,
 "nbformat_minor": 5
}
