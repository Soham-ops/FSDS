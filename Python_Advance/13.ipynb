{
 "cells": [
  {
   "cell_type": "markdown",
   "id": "0894c5a3",
   "metadata": {},
   "source": [
    "# Q1. Can you create a programme or function that employs both positive and negative indexing? Is there any repercussion if you do so?\n",
    "\n"
   ]
  },
  {
   "cell_type": "markdown",
   "id": "2bc2f191",
   "metadata": {},
   "source": [
    "<li>Yes, there is a possiblilty of repercussion as we may land in a scenario that we are accessing and manipulating the same number at the same time twice once via +ve indexing and once via -ve indexing. Which will give error </li>"
   ]
  },
  {
   "cell_type": "markdown",
   "id": "3c630e27",
   "metadata": {},
   "source": [
    "# Q2. What is the most effective way of starting with 1,000 elements in a Python list? Assume that all elements should be set to the same value.\n"
   ]
  },
  {
   "cell_type": "code",
   "execution_count": 11,
   "id": "6b349def",
   "metadata": {},
   "outputs": [],
   "source": [
    "#By creating a generator comprehension as follows\n",
    "#in this way we will not exhaust our RAM\n",
    "#pls change the value from 3 to 1000, as i have used 3 for demonstration purpose\n",
    "ls = (1 for i in range(3))"
   ]
  },
  {
   "cell_type": "code",
   "execution_count": 12,
   "id": "e3fc07c3",
   "metadata": {},
   "outputs": [
    {
     "data": {
      "text/plain": [
       "<generator object <genexpr> at 0x00000149671C5040>"
      ]
     },
     "execution_count": 12,
     "metadata": {},
     "output_type": "execute_result"
    }
   ],
   "source": [
    "ls"
   ]
  },
  {
   "cell_type": "code",
   "execution_count": 13,
   "id": "297ab474",
   "metadata": {},
   "outputs": [
    {
     "data": {
      "text/plain": [
       "1"
      ]
     },
     "execution_count": 13,
     "metadata": {},
     "output_type": "execute_result"
    }
   ],
   "source": [
    "next(ls)"
   ]
  },
  {
   "cell_type": "code",
   "execution_count": 14,
   "id": "b63603d4",
   "metadata": {},
   "outputs": [
    {
     "data": {
      "text/plain": [
       "1"
      ]
     },
     "execution_count": 14,
     "metadata": {},
     "output_type": "execute_result"
    }
   ],
   "source": [
    "next(ls)"
   ]
  },
  {
   "cell_type": "code",
   "execution_count": 15,
   "id": "b410d21e",
   "metadata": {},
   "outputs": [
    {
     "data": {
      "text/plain": [
       "1"
      ]
     },
     "execution_count": 15,
     "metadata": {},
     "output_type": "execute_result"
    }
   ],
   "source": [
    "next(ls)"
   ]
  },
  {
   "cell_type": "code",
   "execution_count": 16,
   "id": "8bdc2e44",
   "metadata": {},
   "outputs": [
    {
     "ename": "StopIteration",
     "evalue": "",
     "output_type": "error",
     "traceback": [
      "\u001b[1;31m---------------------------------------------------------------------------\u001b[0m",
      "\u001b[1;31mStopIteration\u001b[0m                             Traceback (most recent call last)",
      "Input \u001b[1;32mIn [16]\u001b[0m, in \u001b[0;36m<cell line: 1>\u001b[1;34m()\u001b[0m\n\u001b[1;32m----> 1\u001b[0m \u001b[38;5;28;43mnext\u001b[39;49m\u001b[43m(\u001b[49m\u001b[43mls\u001b[49m\u001b[43m)\u001b[49m\n",
      "\u001b[1;31mStopIteration\u001b[0m: "
     ]
    }
   ],
   "source": [
    "next(ls)"
   ]
  },
  {
   "cell_type": "markdown",
   "id": "7a17ac9c",
   "metadata": {},
   "source": [
    "# Q3. How do you slice a list to get any other part while missing the rest? (For example, suppose you want to make a new list with the elements first, third, fifth, seventh, and so on.)\n",
    "\n"
   ]
  },
  {
   "cell_type": "code",
   "execution_count": 17,
   "id": "1be49b78",
   "metadata": {},
   "outputs": [
    {
     "data": {
      "text/plain": [
       "[1, 3, 5, 7, 9]"
      ]
     },
     "execution_count": 17,
     "metadata": {},
     "output_type": "execute_result"
    }
   ],
   "source": [
    "ls = [1,2,3,4,5,6,7,8,9,10]\n",
    "ls[0:len(ls):2]"
   ]
  },
  {
   "cell_type": "markdown",
   "id": "9ca48e5e",
   "metadata": {},
   "source": [
    "# Q4. Explain the distinctions between indexing and slicing.\n",
    "\n"
   ]
  },
  {
   "cell_type": "code",
   "execution_count": 18,
   "id": "7bce262a",
   "metadata": {},
   "outputs": [
    {
     "data": {
      "text/plain": [
       "'s'"
      ]
     },
     "execution_count": 18,
     "metadata": {},
     "output_type": "execute_result"
    }
   ],
   "source": [
    "#Through indexing we get a particular character of a string\n",
    "s = 'soham'\n",
    "s[0]"
   ]
  },
  {
   "cell_type": "code",
   "execution_count": 19,
   "id": "1d203774",
   "metadata": {},
   "outputs": [
    {
     "data": {
      "text/plain": [
       "'so'"
      ]
     },
     "execution_count": 19,
     "metadata": {},
     "output_type": "execute_result"
    }
   ],
   "source": [
    "#Through slicing we generally obtain a substring\n",
    "s[0:2]"
   ]
  },
  {
   "cell_type": "markdown",
   "id": "26beac85",
   "metadata": {},
   "source": [
    "# Q5. What happens if one of the slicing expression's indexes is out of range?"
   ]
  },
  {
   "cell_type": "code",
   "execution_count": 21,
   "id": "0145bf9e",
   "metadata": {},
   "outputs": [
    {
     "data": {
      "text/plain": [
       "''"
      ]
     },
     "execution_count": 21,
     "metadata": {},
     "output_type": "execute_result"
    }
   ],
   "source": [
    "#No substring will be returnd as output\n",
    "s = 'soham'\n",
    "s[5:6]"
   ]
  },
  {
   "cell_type": "markdown",
   "id": "2c72645f",
   "metadata": {},
   "source": [
    "# Q6. If you pass a list to a function, and if you want the function to be able to change the values of the list—so that the list is different after the function returns—what action should you avoid?\n",
    "\n",
    "\n"
   ]
  },
  {
   "cell_type": "code",
   "execution_count": 57,
   "id": "ae81cff1",
   "metadata": {},
   "outputs": [],
   "source": [
    "import copy\n",
    "def modify(ls):\n",
    "    ls1 = copy.deepcopy(ls) \n",
    "    ls1[0]= 1\n",
    "    return ls1"
   ]
  },
  {
   "cell_type": "code",
   "execution_count": 58,
   "id": "4c1b9c1a",
   "metadata": {},
   "outputs": [],
   "source": [
    "ls = [0,1,2,3]\n",
    "ls1 = modify(ls)"
   ]
  },
  {
   "cell_type": "code",
   "execution_count": 59,
   "id": "13fd9415",
   "metadata": {},
   "outputs": [
    {
     "data": {
      "text/plain": [
       "[0, 1, 2, 3]"
      ]
     },
     "execution_count": 59,
     "metadata": {},
     "output_type": "execute_result"
    }
   ],
   "source": [
    "ls"
   ]
  },
  {
   "cell_type": "code",
   "execution_count": 60,
   "id": "42bb56db",
   "metadata": {},
   "outputs": [
    {
     "data": {
      "text/plain": [
       "[1, 1, 2, 3]"
      ]
     },
     "execution_count": 60,
     "metadata": {},
     "output_type": "execute_result"
    }
   ],
   "source": [
    "ls1"
   ]
  },
  {
   "cell_type": "markdown",
   "id": "e646a0b3",
   "metadata": {},
   "source": [
    "<li>We should avoid creating a deepcopy of the list whose values we want to alter</li>"
   ]
  },
  {
   "cell_type": "markdown",
   "id": "a7f8bfdd",
   "metadata": {},
   "source": [
    "# Q7. What is the concept of an unbalanced matrix?\n",
    "\n",
    "\n"
   ]
  },
  {
   "cell_type": "markdown",
   "id": "beec7da4",
   "metadata": {},
   "source": [
    "<li>unbalanced is the one in which if any one cells in the matrix is unbalanced.</li>\n",
    "<li>A cell of the matrix is unbalanced if the number of cells in that matrix that are adjacent(top,down,left,right) to that cell is not strictly greater than the value written in this cell.</li> \n"
   ]
  },
  {
   "cell_type": "markdown",
   "id": "44cae9e7",
   "metadata": {},
   "source": [
    "# Q8. Why is it necessary to use either list comprehension or a loop to create arbitrarily large matrices?\n"
   ]
  },
  {
   "cell_type": "markdown",
   "id": "8aba8352",
   "metadata": {},
   "source": [
    "<li>Because large matrices will have large number of cells and in order to access them we need to iterate over each one of them and that is possible thorugh the concept of looping. Hence it is necessary</li>"
   ]
  },
  {
   "cell_type": "code",
   "execution_count": null,
   "id": "8c3c299e",
   "metadata": {},
   "outputs": [],
   "source": []
  }
 ],
 "metadata": {
  "kernelspec": {
   "display_name": "Python 3 (ipykernel)",
   "language": "python",
   "name": "python3"
  },
  "language_info": {
   "codemirror_mode": {
    "name": "ipython",
    "version": 3
   },
   "file_extension": ".py",
   "mimetype": "text/x-python",
   "name": "python",
   "nbconvert_exporter": "python",
   "pygments_lexer": "ipython3",
   "version": "3.8.12"
  }
 },
 "nbformat": 4,
 "nbformat_minor": 5
}
