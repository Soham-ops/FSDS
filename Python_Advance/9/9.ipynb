{
 "cells": [
  {
   "cell_type": "markdown",
   "id": "0bc5212b",
   "metadata": {},
   "source": [
    "# Q1. In Python 3.X, what are the names and functions of string object types?\n",
    "\n"
   ]
  },
  {
   "cell_type": "markdown",
   "id": "f9b6337a",
   "metadata": {},
   "source": [
    "<li>Strings are arrays of bytes representing unicode characters</li>\n",
    "<li>When we enclose a a group of characters or a single character within a single,double,triple quotes then it becomes a string in python</li>"
   ]
  },
  {
   "cell_type": "code",
   "execution_count": 1,
   "id": "081f4036",
   "metadata": {},
   "outputs": [
    {
     "data": {
      "text/plain": [
       "['__add__',\n",
       " '__class__',\n",
       " '__contains__',\n",
       " '__delattr__',\n",
       " '__dir__',\n",
       " '__doc__',\n",
       " '__eq__',\n",
       " '__format__',\n",
       " '__ge__',\n",
       " '__getattribute__',\n",
       " '__getitem__',\n",
       " '__getnewargs__',\n",
       " '__gt__',\n",
       " '__hash__',\n",
       " '__init__',\n",
       " '__init_subclass__',\n",
       " '__iter__',\n",
       " '__le__',\n",
       " '__len__',\n",
       " '__lt__',\n",
       " '__mod__',\n",
       " '__mul__',\n",
       " '__ne__',\n",
       " '__new__',\n",
       " '__reduce__',\n",
       " '__reduce_ex__',\n",
       " '__repr__',\n",
       " '__rmod__',\n",
       " '__rmul__',\n",
       " '__setattr__',\n",
       " '__sizeof__',\n",
       " '__str__',\n",
       " '__subclasshook__',\n",
       " 'capitalize',\n",
       " 'casefold',\n",
       " 'center',\n",
       " 'count',\n",
       " 'encode',\n",
       " 'endswith',\n",
       " 'expandtabs',\n",
       " 'find',\n",
       " 'format',\n",
       " 'format_map',\n",
       " 'index',\n",
       " 'isalnum',\n",
       " 'isalpha',\n",
       " 'isdecimal',\n",
       " 'isdigit',\n",
       " 'isidentifier',\n",
       " 'islower',\n",
       " 'isnumeric',\n",
       " 'isprintable',\n",
       " 'isspace',\n",
       " 'istitle',\n",
       " 'isupper',\n",
       " 'join',\n",
       " 'ljust',\n",
       " 'lower',\n",
       " 'lstrip',\n",
       " 'maketrans',\n",
       " 'partition',\n",
       " 'replace',\n",
       " 'rfind',\n",
       " 'rindex',\n",
       " 'rjust',\n",
       " 'rpartition',\n",
       " 'rsplit',\n",
       " 'rstrip',\n",
       " 'split',\n",
       " 'splitlines',\n",
       " 'startswith',\n",
       " 'strip',\n",
       " 'swapcase',\n",
       " 'title',\n",
       " 'translate',\n",
       " 'upper',\n",
       " 'zfill']"
      ]
     },
     "execution_count": 1,
     "metadata": {},
     "output_type": "execute_result"
    }
   ],
   "source": [
    "#Function available for any string object types\n",
    "dir(str)"
   ]
  },
  {
   "cell_type": "code",
   "execution_count": null,
   "id": "5e56efac",
   "metadata": {},
   "outputs": [],
   "source": []
  },
  {
   "cell_type": "markdown",
   "id": "18c5e948",
   "metadata": {},
   "source": [
    "# Q2. How do the string forms in Python 3.X vary in terms of operations?\n"
   ]
  },
  {
   "cell_type": "markdown",
   "id": "46321b53",
   "metadata": {},
   "source": [
    "<li>Strings are immutable,thus updation and deletion of strings is not allowed</li>"
   ]
  },
  {
   "cell_type": "code",
   "execution_count": 2,
   "id": "442e9382",
   "metadata": {},
   "outputs": [
    {
     "ename": "TypeError",
     "evalue": "'str' object does not support item assignment",
     "output_type": "error",
     "traceback": [
      "\u001b[1;31m---------------------------------------------------------------------------\u001b[0m",
      "\u001b[1;31mTypeError\u001b[0m                                 Traceback (most recent call last)",
      "\u001b[1;32m<ipython-input-2-66a7e56487cc>\u001b[0m in \u001b[0;36m<module>\u001b[1;34m\u001b[0m\n\u001b[0;32m      1\u001b[0m \u001b[1;31m#Example\u001b[0m\u001b[1;33m\u001b[0m\u001b[1;33m\u001b[0m\u001b[1;33m\u001b[0m\u001b[0m\n\u001b[0;32m      2\u001b[0m \u001b[0ms\u001b[0m \u001b[1;33m=\u001b[0m \u001b[1;34m'Soham'\u001b[0m\u001b[1;33m\u001b[0m\u001b[1;33m\u001b[0m\u001b[0m\n\u001b[1;32m----> 3\u001b[1;33m \u001b[0ms\u001b[0m\u001b[1;33m[\u001b[0m\u001b[1;36m0\u001b[0m\u001b[1;33m]\u001b[0m \u001b[1;33m=\u001b[0m \u001b[1;34m'r'\u001b[0m\u001b[1;33m\u001b[0m\u001b[1;33m\u001b[0m\u001b[0m\n\u001b[0m",
      "\u001b[1;31mTypeError\u001b[0m: 'str' object does not support item assignment"
     ]
    }
   ],
   "source": [
    "#Example\n",
    "s = 'Soham'\n",
    "s[0] = 'r'"
   ]
  },
  {
   "cell_type": "markdown",
   "id": "000ff5c4",
   "metadata": {},
   "source": [
    "<li>However we can delete an entire string variable using del keyword</li>"
   ]
  },
  {
   "cell_type": "code",
   "execution_count": 4,
   "id": "9b7a7b99",
   "metadata": {},
   "outputs": [
    {
     "data": {
      "text/plain": [
       "'Soham'"
      ]
     },
     "execution_count": 4,
     "metadata": {},
     "output_type": "execute_result"
    }
   ],
   "source": [
    "#Example\n",
    "s = 'Soham'\n",
    "s"
   ]
  },
  {
   "cell_type": "code",
   "execution_count": 5,
   "id": "5c9cfed9",
   "metadata": {},
   "outputs": [],
   "source": [
    "del s"
   ]
  },
  {
   "cell_type": "code",
   "execution_count": 6,
   "id": "342bfbff",
   "metadata": {},
   "outputs": [
    {
     "ename": "NameError",
     "evalue": "name 's' is not defined",
     "output_type": "error",
     "traceback": [
      "\u001b[1;31m---------------------------------------------------------------------------\u001b[0m",
      "\u001b[1;31mNameError\u001b[0m                                 Traceback (most recent call last)",
      "\u001b[1;32m<ipython-input-6-ded5ba42480f>\u001b[0m in \u001b[0;36m<module>\u001b[1;34m\u001b[0m\n\u001b[1;32m----> 1\u001b[1;33m \u001b[0ms\u001b[0m\u001b[1;33m\u001b[0m\u001b[1;33m\u001b[0m\u001b[0m\n\u001b[0m",
      "\u001b[1;31mNameError\u001b[0m: name 's' is not defined"
     ]
    }
   ],
   "source": [
    "s"
   ]
  },
  {
   "cell_type": "code",
   "execution_count": null,
   "id": "c38a384a",
   "metadata": {},
   "outputs": [],
   "source": []
  },
  {
   "cell_type": "markdown",
   "id": "1e917cca",
   "metadata": {},
   "source": [
    "# Q3. In 3.X, how do you put non-ASCII Unicode characters in a string?\n",
    "\n",
    "\n"
   ]
  },
  {
   "cell_type": "code",
   "execution_count": 8,
   "id": "be6bf5b6",
   "metadata": {},
   "outputs": [
    {
     "name": "stdout",
     "output_type": "stream",
     "text": [
      "😎,Hello\n"
     ]
    }
   ],
   "source": [
    "print('\\U0001F60E,Hello')"
   ]
  },
  {
   "cell_type": "code",
   "execution_count": null,
   "id": "873546e6",
   "metadata": {},
   "outputs": [],
   "source": []
  },
  {
   "cell_type": "markdown",
   "id": "d622ec36",
   "metadata": {},
   "source": [
    "# Q4. In Python 3.X, what are the key differences between text-mode and binary-mode files?\n",
    "\n"
   ]
  },
  {
   "cell_type": "markdown",
   "id": "e219ccad",
   "metadata": {},
   "source": [
    "<li>In text mode mode newline(\\n) conversions take place, whereas in binary-mode no such conversion take place</li>\n",
    "<li>In text mode we have a mechanism in place to signal EOF, whereas in binary mode no such mechanism exists</li>\n",
    "<li>It does not matter that, if assuming int takes 4 bytes, then if we store any number it will take 4 bytes only.In text mode if we want to store a number then it will treat each digit as a character and will take 1 byte per digit(assuming that char takes 1 bytes). Eg- 414144 will note take 4 bytes storage and will instead take 6 bytes</li>\n",
    "<li>To overcome this if we use binary mode then storing of numbers will take 4 bytes only(assuming integers take 4 bytes)</li>"
   ]
  },
  {
   "cell_type": "code",
   "execution_count": null,
   "id": "e2c6ac8b",
   "metadata": {},
   "outputs": [],
   "source": []
  },
  {
   "cell_type": "markdown",
   "id": "2020d6a8",
   "metadata": {},
   "source": [
    "# Q5. How can you interpret a Unicode text file containing text encoded in a different encoding than your platform's default?\n",
    "\n"
   ]
  },
  {
   "cell_type": "code",
   "execution_count": 9,
   "id": "c8ec6d84",
   "metadata": {},
   "outputs": [
    {
     "ename": "FileNotFoundError",
     "evalue": "[Errno 2] No such file or directory: 'yourfile.txt'",
     "output_type": "error",
     "traceback": [
      "\u001b[1;31m---------------------------------------------------------------------------\u001b[0m",
      "\u001b[1;31mFileNotFoundError\u001b[0m                         Traceback (most recent call last)",
      "\u001b[1;32m<ipython-input-9-c85efc628706>\u001b[0m in \u001b[0;36m<module>\u001b[1;34m\u001b[0m\n\u001b[1;32m----> 1\u001b[1;33m \u001b[0mopen\u001b[0m\u001b[1;33m(\u001b[0m\u001b[1;34m'yourfile.txt'\u001b[0m\u001b[1;33m,\u001b[0m\u001b[0mencoding\u001b[0m\u001b[1;33m=\u001b[0m\u001b[1;34m'utf=16'\u001b[0m\u001b[1;33m)\u001b[0m\u001b[1;31m#assuming yourfile.txt is having utf-16 encoding\u001b[0m\u001b[1;33m\u001b[0m\u001b[1;33m\u001b[0m\u001b[0m\n\u001b[0m",
      "\u001b[1;31mFileNotFoundError\u001b[0m: [Errno 2] No such file or directory: 'yourfile.txt'"
     ]
    }
   ],
   "source": [
    "open('yourfile.txt',encoding='utf=16')#assuming there is a file named yourfile.txt that is having utf-16 encoding"
   ]
  },
  {
   "cell_type": "code",
   "execution_count": null,
   "id": "95b8fb7b",
   "metadata": {},
   "outputs": [],
   "source": []
  },
  {
   "cell_type": "markdown",
   "id": "a9f00e1a",
   "metadata": {},
   "source": [
    "# Q6. What is the best way to make a Unicode text file in a particular encoding format?\n",
    "\n",
    "\n"
   ]
  },
  {
   "cell_type": "code",
   "execution_count": 24,
   "id": "e6894052",
   "metadata": {},
   "outputs": [],
   "source": [
    "#A sample unicode string\n",
    "sample = u'😂,😅,🦠,😎'\n",
    "f = open('test', 'wb')\n",
    "f.write(sample.encode('utf16'))\n",
    "f.close()"
   ]
  },
  {
   "cell_type": "code",
   "execution_count": 25,
   "id": "6e514994",
   "metadata": {},
   "outputs": [
    {
     "name": "stdout",
     "output_type": "stream",
     "text": [
      "😂,😅,🦠,😎\n"
     ]
    }
   ],
   "source": [
    "f = open('test',encoding='utf16')\n",
    "print(f.read())\n",
    "f.close()"
   ]
  },
  {
   "cell_type": "code",
   "execution_count": null,
   "id": "15e2c79f",
   "metadata": {},
   "outputs": [],
   "source": []
  },
  {
   "cell_type": "markdown",
   "id": "a9f6f4cc",
   "metadata": {},
   "source": [
    "# Q7. What qualifies ASCII text as a form of Unicode text?\n"
   ]
  },
  {
   "cell_type": "markdown",
   "id": "f120051b",
   "metadata": {},
   "source": [
    "<li>ASCII is a subset of unicode,thus all ascii characters qualifies as unicode text</li>"
   ]
  },
  {
   "cell_type": "code",
   "execution_count": null,
   "id": "f2310b01",
   "metadata": {},
   "outputs": [],
   "source": []
  },
  {
   "cell_type": "markdown",
   "id": "397c1a9d",
   "metadata": {},
   "source": [
    "# Q8. How much of an effect does the change in string types in Python 3.X have on your code?\n"
   ]
  },
  {
   "cell_type": "markdown",
   "id": "440fd6f9",
   "metadata": {},
   "source": [
    "<li>No effect as such is observed, as in python all strings are immutable and that is the core thing one needs to remember</li>"
   ]
  },
  {
   "cell_type": "code",
   "execution_count": null,
   "id": "6b7a1de3",
   "metadata": {},
   "outputs": [],
   "source": []
  }
 ],
 "metadata": {
  "kernelspec": {
   "display_name": "iNeuronFSDSPythonModule",
   "language": "python",
   "name": "ineuronfsdspythonmodule"
  },
  "language_info": {
   "codemirror_mode": {
    "name": "ipython",
    "version": 3
   },
   "file_extension": ".py",
   "mimetype": "text/x-python",
   "name": "python",
   "nbconvert_exporter": "python",
   "pygments_lexer": "ipython3",
   "version": "3.6.12"
  }
 },
 "nbformat": 4,
 "nbformat_minor": 5
}
