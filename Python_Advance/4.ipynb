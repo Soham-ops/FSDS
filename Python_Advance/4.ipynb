{
 "cells": [
  {
   "cell_type": "markdown",
   "id": "8d000047",
   "metadata": {},
   "source": [
    "# Q1. Which two operator overloading methods can you use in your classes to support iteration?\n",
    "\n"
   ]
  },
  {
   "cell_type": "markdown",
   "id": "0103a07d",
   "metadata": {},
   "source": [
    "<li>__iter__() which is implicitly called at the start of loops</li>\n",
    "<li>__next__ which is implicitly called at each loop increment,it raises a  StopIteration exception when it finds that that there are no values tor return</li>"
   ]
  },
  {
   "cell_type": "code",
   "execution_count": null,
   "id": "cfeba7f5",
   "metadata": {},
   "outputs": [],
   "source": []
  },
  {
   "cell_type": "markdown",
   "id": "7d4cccba",
   "metadata": {},
   "source": [
    "# Q2. In what contexts do the two operator overloading methods manage printing?\n",
    "\n"
   ]
  },
  {
   "cell_type": "markdown",
   "id": "3066f757",
   "metadata": {},
   "source": [
    "<li>__str__ method</li>\n",
    "<li>__repr__ method</li>"
   ]
  },
  {
   "cell_type": "code",
   "execution_count": null,
   "id": "b29da2b5",
   "metadata": {},
   "outputs": [],
   "source": []
  },
  {
   "cell_type": "markdown",
   "id": "c73bbeba",
   "metadata": {},
   "source": [
    "# Q3. In a class, how do you intercept slice operations?\n"
   ]
  },
  {
   "cell_type": "code",
   "execution_count": 6,
   "id": "1cd11182",
   "metadata": {},
   "outputs": [
    {
     "name": "stdout",
     "output_type": "stream",
     "text": [
      "<class 'slice'> slice(1, 3, 1)\n"
     ]
    },
    {
     "data": {
      "text/plain": [
       "slice(1, 3, 1)"
      ]
     },
     "execution_count": 6,
     "metadata": {},
     "output_type": "execute_result"
    }
   ],
   "source": [
    "class Demo: \n",
    "    def __getitem__(self, key): \n",
    "        print(type(key),key) \n",
    "        return key \n",
    "\n",
    "a = Demo() \n",
    "a[1:3:1] "
   ]
  },
  {
   "cell_type": "code",
   "execution_count": null,
   "id": "043f1f05",
   "metadata": {},
   "outputs": [],
   "source": []
  },
  {
   "cell_type": "markdown",
   "id": "25a7ba32",
   "metadata": {},
   "source": [
    "# Q4. In a class, how do you capture in-place addition?\n"
   ]
  },
  {
   "cell_type": "code",
   "execution_count": 9,
   "id": "f5ff09b1",
   "metadata": {},
   "outputs": [],
   "source": [
    "class Sample:\n",
    "    \n",
    "    def __init__(self,a):\n",
    "        self.a = a\n",
    "    \n",
    "    #Captured + and instead doing *\n",
    "    def __add__(self,obj):\n",
    "        return self.a * obj.a"
   ]
  },
  {
   "cell_type": "code",
   "execution_count": 11,
   "id": "4c0f36b6",
   "metadata": {},
   "outputs": [
    {
     "data": {
      "text/plain": [
       "16"
      ]
     },
     "execution_count": 11,
     "metadata": {},
     "output_type": "execute_result"
    }
   ],
   "source": [
    "obj = Sample(4)\n",
    "obj_1 = Sample(4)\n",
    "obj + obj_1"
   ]
  },
  {
   "cell_type": "code",
   "execution_count": null,
   "id": "8c6adb78",
   "metadata": {},
   "outputs": [],
   "source": []
  },
  {
   "cell_type": "markdown",
   "id": "8206726c",
   "metadata": {},
   "source": [
    "# Q5. When is it appropriate to use operator overloading?\n"
   ]
  },
  {
   "cell_type": "markdown",
   "id": "19bd3137",
   "metadata": {},
   "source": [
    "<li>When defining a class using a Abstract Base Class</li>\n",
    "<li>Will depend on the problem statement, suppose as per the problem definition we are required to overload the + operator and do multiply when + is called, then we have to do operator overloading</li>"
   ]
  },
  {
   "cell_type": "code",
   "execution_count": null,
   "id": "d51e5d15",
   "metadata": {},
   "outputs": [],
   "source": []
  }
 ],
 "metadata": {
  "kernelspec": {
   "display_name": "iNeuronFSDSPythonModule",
   "language": "python",
   "name": "ineuronfsdspythonmodule"
  },
  "language_info": {
   "codemirror_mode": {
    "name": "ipython",
    "version": 3
   },
   "file_extension": ".py",
   "mimetype": "text/x-python",
   "name": "python",
   "nbconvert_exporter": "python",
   "pygments_lexer": "ipython3",
   "version": "3.6.12"
  }
 },
 "nbformat": 4,
 "nbformat_minor": 5
}
