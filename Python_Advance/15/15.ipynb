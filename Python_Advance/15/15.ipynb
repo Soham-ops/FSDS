{
 "cells": [
  {
   "cell_type": "markdown",
   "id": "4f9c67fa",
   "metadata": {},
   "source": [
    "# 1) What are the new features added in Python 3.8 version?\n"
   ]
  },
  {
   "cell_type": "code",
   "execution_count": 3,
   "id": "7f13b7a0",
   "metadata": {},
   "outputs": [
    {
     "name": "stdout",
     "output_type": "stream",
     "text": [
      "Length of list is small, size=5\n"
     ]
    }
   ],
   "source": [
    "#addition of walrus operator\n",
    "ls = [5,7,21,3]\n",
    "if ((container:=len(num)) < 10 ):\n",
    "    print(f\"Length of list is small, size={container}\")"
   ]
  },
  {
   "cell_type": "code",
   "execution_count": 8,
   "id": "46a3c924",
   "metadata": {},
   "outputs": [],
   "source": [
    "#(/) to highlight that some of the functions must be stated positionally and not by keyword arguments.\n",
    "#operator (*) that indicates that the arguments must be keyword only.\n",
    "def foo(a,/,b,*,c):\n",
    "    print(a,b,c)"
   ]
  },
  {
   "cell_type": "code",
   "execution_count": 9,
   "id": "78596189",
   "metadata": {},
   "outputs": [
    {
     "name": "stdout",
     "output_type": "stream",
     "text": [
      "1 2 3\n"
     ]
    }
   ],
   "source": [
    "#a has to be positional\n",
    "#b can be keyword or positional\n",
    "#c has to be positional\n",
    "foo(1,b=2,c=3)"
   ]
  },
  {
   "cell_type": "markdown",
   "id": "b9b28e0e",
   "metadata": {},
   "source": [
    "<li>A new C API is introduced to optimize the calls of objects.</li>"
   ]
  },
  {
   "cell_type": "markdown",
   "id": "ba14cce3",
   "metadata": {},
   "source": [
    "<li>Pickle is useful to transfer big amounts of data between Python processors to take full advantage of multicore processors.</li>\n",
    "\n",
    "<li>It’s important to maximize the transfer speed by optimizing memory copies. Pickle protocol 5 now supports out-of-band data buffers and extra metadata is required.</li>"
   ]
  },
  {
   "cell_type": "code",
   "execution_count": 13,
   "id": "e0442b21",
   "metadata": {},
   "outputs": [
    {
     "name": "stdout",
     "output_type": "stream",
     "text": [
      "a=2\n"
     ]
    }
   ],
   "source": [
    "#F-strings now support = (Easy debugging)\n",
    "a=2\n",
    "print(f\"{a=}\")"
   ]
  },
  {
   "cell_type": "markdown",
   "id": "9be97b94",
   "metadata": {},
   "source": [
    "<li>Python now supports the “final”. Java programmers already know about this. It has 3 major uses:\n",
    "\n",
    "Declaring a class final will prevent it from inheriting.\n",
    "Declaring a variable final will prevent it from reassigning the value.\n",
    "Declaring a method final will prevent it from being overridden.</li>"
   ]
  },
  {
   "cell_type": "code",
   "execution_count": 14,
   "id": "006897ba",
   "metadata": {},
   "outputs": [
    {
     "data": {
      "text/plain": [
       "True"
      ]
     },
     "execution_count": 14,
     "metadata": {},
     "output_type": "execute_result"
    }
   ],
   "source": [
    "0==False"
   ]
  },
  {
   "cell_type": "markdown",
   "id": "75d0d582",
   "metadata": {},
   "source": [
    "# 2.What is monkey patching in Python?\n"
   ]
  },
  {
   "cell_type": "code",
   "execution_count": 17,
   "id": "c306ebeb",
   "metadata": {},
   "outputs": [
    {
     "name": "stdout",
     "output_type": "stream",
     "text": [
      "func_2() is being called\n"
     ]
    }
   ],
   "source": [
    "import demo\n",
    "def func_2(self):\n",
    "    print(\"func_2() is being called\")\n",
    "    \n",
    "demo.B.func =func_2\n",
    "obj = demo.B()\n",
    "obj.func()"
   ]
  },
  {
   "cell_type": "markdown",
   "id": "9208ed45",
   "metadata": {},
   "source": [
    "<li>So monkey patching is basically the run-time modification of a class or module in python</li>"
   ]
  },
  {
   "cell_type": "markdown",
   "id": "8908108d",
   "metadata": {},
   "source": [
    "# 3. What is the difference between a shallow copy and deep copy?\n"
   ]
  },
  {
   "cell_type": "markdown",
   "id": "a5ee1d63",
   "metadata": {},
   "source": [
    "<li>Shallow Copy\n",
    "\n",
    "References to the values are copied\n",
    "We can use copy.copy() from copy module to achieve the same</li>\n",
    "                    "
   ]
  },
  {
   "cell_type": "code",
   "execution_count": 18,
   "id": "6645d8b2",
   "metadata": {},
   "outputs": [
    {
     "name": "stdout",
     "output_type": "stream",
     "text": [
      "Pre Modification\n",
      "x is [1, [2, 3], 4]\n",
      "y is [1, [2, 3], 4]\n",
      "Post Modification\n",
      "x is [1, ['Soham', 3], 4]\n",
      "y is [1, ['Soham', 3], 4]\n"
     ]
    }
   ],
   "source": [
    "#Example\n",
    "import copy\n",
    "\n",
    "x=[1,[2,3],4]\n",
    "\n",
    "y = copy.copy(x)\n",
    "\n",
    "print(\"Pre Modification\")\n",
    "\n",
    "print(f\"x is {x}\")\n",
    "\n",
    "print(f\"y is {y}\")\n",
    "\n",
    "x[1][0]=\"Soham\"\n",
    "\n",
    "print(\"Post Modification\")   \n",
    "\n",
    "print(f\"x is {x}\")\n",
    "\n",
    "print(f\"y is {y}\")"
   ]
  },
  {
   "cell_type": "markdown",
   "id": "278459dd",
   "metadata": {},
   "source": [
    "<li>Deep Copy\n",
    "\n",
    "The value themselves are copied\n",
    "The copy.deepcopy() from the copy module can be used for the same</li>"
   ]
  },
  {
   "cell_type": "code",
   "execution_count": 19,
   "id": "b1761719",
   "metadata": {},
   "outputs": [
    {
     "name": "stdout",
     "output_type": "stream",
     "text": [
      "Pre Modification\n",
      "x is [1, [2, 3], 4]\n",
      "y is [1, [2, 3], 4]\n",
      "Post Modification\n",
      "x is [1, ['Soham', 3], 4]\n",
      "y is [1, [2, 3], 4]\n"
     ]
    }
   ],
   "source": [
    "#Example\n",
    "x=[1,[2,3],4]\n",
    "\n",
    "y=copy.deepcopy(x)\n",
    "\n",
    "print(\"Pre Modification\")\n",
    "\n",
    "print(f\"x is {x}\")\n",
    "\n",
    "print(f\"y is {y}\")\n",
    "\n",
    "x[1][0]=\"Soham\"   \n",
    "\n",
    "print(\"Post Modification\")\n",
    "\n",
    "print(f\"x is {x}\") \n",
    "\n",
    "print(f\"y is {y}\")"
   ]
  },
  {
   "cell_type": "markdown",
   "id": "722b6581",
   "metadata": {},
   "source": [
    "# 4.What is the maximum possible length of an identifier?\n"
   ]
  },
  {
   "cell_type": "markdown",
   "id": "6522e230",
   "metadata": {},
   "source": [
    "<li>79 characters. </li>"
   ]
  },
  {
   "cell_type": "markdown",
   "id": "212427f8",
   "metadata": {},
   "source": [
    "# 5.What is generator comprehension?\n"
   ]
  },
  {
   "cell_type": "code",
   "execution_count": 22,
   "id": "e592f387",
   "metadata": {},
   "outputs": [],
   "source": [
    "itrble = (i for i in range(5))"
   ]
  },
  {
   "cell_type": "code",
   "execution_count": 23,
   "id": "fd2c3edd",
   "metadata": {},
   "outputs": [
    {
     "name": "stdout",
     "output_type": "stream",
     "text": [
      "0\n",
      "1\n",
      "2\n",
      "3\n",
      "4\n"
     ]
    }
   ],
   "source": [
    "for i in itrble:\n",
    "    print(i)"
   ]
  },
  {
   "cell_type": "code",
   "execution_count": null,
   "id": "2f218a57",
   "metadata": {},
   "outputs": [],
   "source": []
  }
 ],
 "metadata": {
  "kernelspec": {
   "display_name": "Python 3 (ipykernel)",
   "language": "python",
   "name": "python3"
  },
  "language_info": {
   "codemirror_mode": {
    "name": "ipython",
    "version": 3
   },
   "file_extension": ".py",
   "mimetype": "text/x-python",
   "name": "python",
   "nbconvert_exporter": "python",
   "pygments_lexer": "ipython3",
   "version": "3.8.12"
  }
 },
 "nbformat": 4,
 "nbformat_minor": 5
}
