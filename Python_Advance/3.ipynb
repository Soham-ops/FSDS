{
 "cells": [
  {
   "cell_type": "markdown",
   "id": "302237c5",
   "metadata": {},
   "source": [
    "# 1. What is the concept of an abstract superclass?\n"
   ]
  },
  {
   "cell_type": "markdown",
   "id": "5575bc86",
   "metadata": {},
   "source": [
    "<li>Abstract superclass are there so that we can provide a common template to all the subclasses that inherits this abstract superclass</li>"
   ]
  },
  {
   "cell_type": "code",
   "execution_count": null,
   "id": "abbb41e7",
   "metadata": {},
   "outputs": [],
   "source": []
  },
  {
   "cell_type": "markdown",
   "id": "58a3ede1",
   "metadata": {},
   "source": [
    "# 2. What happens when a class statement's top level contains a basic assignment statement?\n",
    "\n"
   ]
  },
  {
   "cell_type": "code",
   "execution_count": 1,
   "id": "0784bd88",
   "metadata": {},
   "outputs": [],
   "source": [
    "class Sample:\n",
    "    a=5#assingment statement present at the top level\n",
    "    "
   ]
  },
  {
   "cell_type": "code",
   "execution_count": 2,
   "id": "999dd4d9",
   "metadata": {},
   "outputs": [
    {
     "data": {
      "text/plain": [
       "5"
      ]
     },
     "execution_count": 2,
     "metadata": {},
     "output_type": "execute_result"
    }
   ],
   "source": [
    "obj = Sample()\n",
    "obj.a"
   ]
  },
  {
   "cell_type": "markdown",
   "id": "46c8ec32",
   "metadata": {},
   "source": [
    "<li>Then we are basically referring to a class attribute when doing assingnment at the top level of a class </li>"
   ]
  },
  {
   "cell_type": "code",
   "execution_count": null,
   "id": "20743a25",
   "metadata": {},
   "outputs": [],
   "source": []
  },
  {
   "cell_type": "markdown",
   "id": "0dcaa4cb",
   "metadata": {},
   "source": [
    "# 3. Why does a class need to manually call a superclass's __init__ method?\n",
    "\n"
   ]
  },
  {
   "cell_type": "markdown",
   "id": "aa7076af",
   "metadata": {},
   "source": [
    "<li> Because if you do not then calling the __init__ method will refer to the init method of the subclass and not the superclas</li>"
   ]
  },
  {
   "cell_type": "code",
   "execution_count": 5,
   "id": "fc35b49d",
   "metadata": {},
   "outputs": [],
   "source": [
    "#Example\n",
    "\n",
    "class A:\n",
    "    \n",
    "    def __init__(self):\n",
    "        self.a = 'A'\n",
    "        \n",
    "class B(A):\n",
    "    \n",
    "    def __init__(self):\n",
    "        self.a = 'B'"
   ]
  },
  {
   "cell_type": "code",
   "execution_count": 6,
   "id": "7532fe85",
   "metadata": {},
   "outputs": [
    {
     "data": {
      "text/plain": [
       "'B'"
      ]
     },
     "execution_count": 6,
     "metadata": {},
     "output_type": "execute_result"
    }
   ],
   "source": [
    "obj = B()\n",
    "obj.a"
   ]
  },
  {
   "cell_type": "code",
   "execution_count": null,
   "id": "06b49a7a",
   "metadata": {},
   "outputs": [],
   "source": []
  },
  {
   "cell_type": "markdown",
   "id": "ca0761a4",
   "metadata": {},
   "source": [
    "# 4. How can you augment, instead of completely replacing, an inherited method?\n"
   ]
  },
  {
   "cell_type": "code",
   "execution_count": 8,
   "id": "5c390c07",
   "metadata": {},
   "outputs": [],
   "source": [
    "#Example\n",
    "\n",
    "class A:\n",
    "    \n",
    "    def __init__(self):\n",
    "        self.a = 'A'\n",
    "        \n",
    "class B(A):\n",
    "    \n",
    "    def __init__(self):\n",
    "        super().__init__()\n",
    "    \n",
    "    def new_method(self):\n",
    "        self.a+='A'"
   ]
  },
  {
   "cell_type": "code",
   "execution_count": 10,
   "id": "2d2fffdd",
   "metadata": {},
   "outputs": [
    {
     "name": "stdout",
     "output_type": "stream",
     "text": [
      "A\n",
      "AA\n"
     ]
    }
   ],
   "source": [
    "obj = B()\n",
    "print(obj.a)\n",
    "obj.new_method()\n",
    "print(obj.a)"
   ]
  },
  {
   "cell_type": "code",
   "execution_count": null,
   "id": "2185889a",
   "metadata": {},
   "outputs": [],
   "source": []
  },
  {
   "cell_type": "markdown",
   "id": "42770147",
   "metadata": {},
   "source": [
    "# 5. How is the local scope of a class different from that of a function?\n"
   ]
  },
  {
   "cell_type": "code",
   "execution_count": 13,
   "id": "a0061c49",
   "metadata": {},
   "outputs": [],
   "source": [
    "class Sample:\n",
    "    a =5 # all object of Sample can access this\n",
    "    \n",
    "    def __init__(self):\n",
    "        pass\n",
    "        \n",
    "    def method(self):\n",
    "        a= 15#this is a local var of method which wont exist once a method exits\n",
    "        print(a)"
   ]
  },
  {
   "cell_type": "code",
   "execution_count": 14,
   "id": "b33005c3",
   "metadata": {},
   "outputs": [
    {
     "name": "stdout",
     "output_type": "stream",
     "text": [
      "5\n",
      "15\n",
      "5\n"
     ]
    }
   ],
   "source": [
    "obj  = Sample()\n",
    "print(obj.a)\n",
    "obj.method()\n",
    "print(obj.a)"
   ]
  },
  {
   "cell_type": "code",
   "execution_count": null,
   "id": "27aec86b",
   "metadata": {},
   "outputs": [],
   "source": []
  }
 ],
 "metadata": {
  "kernelspec": {
   "display_name": "iNeuronFSDSPythonModule",
   "language": "python",
   "name": "ineuronfsdspythonmodule"
  },
  "language_info": {
   "codemirror_mode": {
    "name": "ipython",
    "version": 3
   },
   "file_extension": ".py",
   "mimetype": "text/x-python",
   "name": "python",
   "nbconvert_exporter": "python",
   "pygments_lexer": "ipython3",
   "version": "3.6.12"
  }
 },
 "nbformat": 4,
 "nbformat_minor": 5
}
