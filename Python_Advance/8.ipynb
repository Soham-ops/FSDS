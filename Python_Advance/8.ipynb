{
 "cells": [
  {
   "cell_type": "markdown",
   "id": "9ead7fc1",
   "metadata": {},
   "source": [
    "# Q1. What are the two latest user-defined exception constraints in Python 3.X?"
   ]
  },
  {
   "cell_type": "code",
   "execution_count": 7,
   "id": "56784ffb",
   "metadata": {},
   "outputs": [
    {
     "name": "stdout",
     "output_type": "stream",
     "text": [
      "Custom Error 4\n"
     ]
    }
   ],
   "source": [
    "#Ability to create our own Standalone exceptions\n",
    "class CustomError(Exception):\n",
    "    \n",
    "    def __init__(self,value):\n",
    "        self.value =value\n",
    "        \n",
    "    def __str__(self):\n",
    "        return (repr(self.value))\n",
    "    \n",
    "try:\n",
    "    raise(CustomError(2*2))\n",
    "    \n",
    "except CustomError as error:\n",
    "    print(f\"Custom Error {error.value}\")"
   ]
  },
  {
   "cell_type": "code",
   "execution_count": 8,
   "id": "b6dae676",
   "metadata": {},
   "outputs": [
    {
     "name": "stdout",
     "output_type": "stream",
     "text": [
      "Custom Error 4\n"
     ]
    }
   ],
   "source": [
    "#Ability to create our own Base Error Class\n",
    "#And then create subclasses from the same as per the Error we encounter\n",
    "class Error(Exception):\n",
    "    pass\n",
    "\n",
    "class SubError(Error):\n",
    "    \n",
    "    def __init__(self,value):\n",
    "        self.value = value\n",
    "        \n",
    "    def __str__(self):\n",
    "        return (repr(self.value))\n",
    "    \n",
    "try:\n",
    "    raise SubError(2*2)\n",
    "\n",
    "except SubError as e:\n",
    "    print(f'Custom Error {e.value}')"
   ]
  },
  {
   "cell_type": "markdown",
   "id": "4f70afba",
   "metadata": {},
   "source": [
    "# Q2. How are class-based exceptions that have been raised matched to handlers?\n"
   ]
  },
  {
   "cell_type": "code",
   "execution_count": 1,
   "id": "0522d536",
   "metadata": {},
   "outputs": [
    {
     "name": "stdout",
     "output_type": "stream",
     "text": [
      "Custom Error 4\n"
     ]
    }
   ],
   "source": [
    "class CustomError(Exception):\n",
    "    \n",
    "    def __init__(self,value):\n",
    "        self.value = value\n",
    "        \n",
    "    def __str__(self):\n",
    "        return (repr(self.value))\n",
    "    \n",
    "try:\n",
    "    raise(CustomError(2*2))\n",
    "    \n",
    "except CustomError as error:\n",
    "    print(f'Custom Error {error.value}')"
   ]
  },
  {
   "cell_type": "code",
   "execution_count": null,
   "id": "699549f2",
   "metadata": {},
   "outputs": [],
   "source": []
  },
  {
   "cell_type": "markdown",
   "id": "cc6d4522",
   "metadata": {},
   "source": [
    "# Q3. Describe two methods for attaching context information to exception artefacts.\n"
   ]
  },
  {
   "cell_type": "code",
   "execution_count": 2,
   "id": "d650ffe9",
   "metadata": {},
   "outputs": [
    {
     "name": "stdout",
     "output_type": "stream",
     "text": [
      "4 Non Permissible Value Range\n"
     ]
    }
   ],
   "source": [
    "class CustomError(Exception):\n",
    "    \n",
    "    def __init__(self,value,msg):\n",
    "        self.value = value\n",
    "        self.msg = msg\n",
    "        \n",
    "    def __str__(self):\n",
    "        return repr(self.value)\n",
    "    \n",
    "try:\n",
    "    #Sending demo context information\n",
    "    raise(CustomError(2*2,'Non Permissible Value Range'))\n",
    "    \n",
    "except CustomError as error:\n",
    "    print(error.value,error.msg)"
   ]
  },
  {
   "cell_type": "code",
   "execution_count": null,
   "id": "189805cd",
   "metadata": {},
   "outputs": [],
   "source": []
  },
  {
   "cell_type": "markdown",
   "id": "aba9933d",
   "metadata": {},
   "source": [
    "# Q4. Describe two methods for specifying the text of an exception object's error message.\n"
   ]
  },
  {
   "cell_type": "code",
   "execution_count": 4,
   "id": "d9885c37",
   "metadata": {},
   "outputs": [
    {
     "name": "stdout",
     "output_type": "stream",
     "text": [
      "division by zero\n"
     ]
    }
   ],
   "source": [
    "#Method 1\n",
    "try:\n",
    "    a = 1/0\n",
    "except Exception as error:\n",
    "    print(error)"
   ]
  },
  {
   "cell_type": "code",
   "execution_count": 6,
   "id": "89fcfa4d",
   "metadata": {},
   "outputs": [
    {
     "name": "stdout",
     "output_type": "stream",
     "text": [
      "division by zero\n"
     ]
    }
   ],
   "source": [
    "#Method 2\n",
    "try:\n",
    "    a = 1/0\n",
    "except ZeroDivisionError as error:\n",
    "    print(error)"
   ]
  },
  {
   "cell_type": "code",
   "execution_count": null,
   "id": "57fbf944",
   "metadata": {},
   "outputs": [],
   "source": []
  },
  {
   "cell_type": "markdown",
   "id": "7afa4b8e",
   "metadata": {},
   "source": [
    "# Q5. Why do you no longer use string-based exceptions?\n"
   ]
  },
  {
   "cell_type": "markdown",
   "id": "483f48cf",
   "metadata": {},
   "source": [
    "<li>Because Suppose considering the above the example of ZeroDivisionError exception</li>\n",
    "<li>Had it not been a class and instead would have been a string then the possibility of  methods and attributes dedicated to this class(ZeroDivisionError) would not be possible.</li>\n",
    "<li>It is thus post Python 1.5 Exceptions were made to be class based instead of string based</li>"
   ]
  },
  {
   "cell_type": "code",
   "execution_count": null,
   "id": "5f5e18d0",
   "metadata": {},
   "outputs": [],
   "source": []
  }
 ],
 "metadata": {
  "kernelspec": {
   "display_name": "iNeuronFSDSPythonModule",
   "language": "python",
   "name": "ineuronfsdspythonmodule"
  },
  "language_info": {
   "codemirror_mode": {
    "name": "ipython",
    "version": 3
   },
   "file_extension": ".py",
   "mimetype": "text/x-python",
   "name": "python",
   "nbconvert_exporter": "python",
   "pygments_lexer": "ipython3",
   "version": "3.6.12"
  }
 },
 "nbformat": 4,
 "nbformat_minor": 5
}
