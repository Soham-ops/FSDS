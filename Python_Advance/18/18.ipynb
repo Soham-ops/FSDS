{
 "cells": [
  {
   "cell_type": "markdown",
   "id": "861c72fd",
   "metadata": {},
   "source": [
    "# Q1. Describe the differences between text and binary files in a single paragraph.\n"
   ]
  },
  {
   "cell_type": "markdown",
   "id": "1d1a0ab5",
   "metadata": {},
   "source": [
    "<li>In a text file, text,characters,numbers are stored one character per byte Eg- 12345 will take 5 bytes even if it will take 2 bytes in memory</li>\n",
    "<li>text files store data in more user friendly manner, whereas in binary files data is stored in more compact manner</li>\n"
   ]
  },
  {
   "cell_type": "markdown",
   "id": "a3e61e74",
   "metadata": {},
   "source": [
    "# Q2. What are some scenarios where using text files will be the better option? When would you like to use binary files instead of text files?\n",
    "\n"
   ]
  },
  {
   "cell_type": "markdown",
   "id": "e699dec6",
   "metadata": {},
   "source": [
    "<ul>\n",
    "    text file use cases\n",
    "    <li> to store some plain text\n",
    "</ul>\n",
    "<ul>\n",
    "binary file use cases\n",
    "    <li>to store image,video</li>\n",
    "</ul>"
   ]
  },
  {
   "cell_type": "markdown",
   "id": "14ad5624",
   "metadata": {},
   "source": [
    "# Q3. What are some of the issues with using binary operations to read and write a Python integer directly to disc?\n"
   ]
  },
  {
   "cell_type": "markdown",
   "id": "55283fdc",
   "metadata": {},
   "source": [
    "<li>We need to know the encoding of the binary data, as change in encoding will change the entire info</li>"
   ]
  },
  {
   "cell_type": "markdown",
   "id": "277a76c0",
   "metadata": {},
   "source": [
    "# Q4. Describe a benefit of using the with keyword instead of explicitly opening a file.\n",
    "\n"
   ]
  },
  {
   "cell_type": "markdown",
   "id": "9faa3c94",
   "metadata": {},
   "source": [
    "<li>We dont have to worry about any connections/file that remained open or the data was not commited, as with context manager will take care of it</li>"
   ]
  },
  {
   "cell_type": "markdown",
   "id": "0ee0799a",
   "metadata": {},
   "source": [
    "# Q5. Does Python have the trailing newline while reading a line of text? Does Python append a newline when you write a line of text?\n",
    "\n",
    "\n"
   ]
  },
  {
   "cell_type": "code",
   "execution_count": 4,
   "id": "cb29d623",
   "metadata": {},
   "outputs": [
    {
     "data": {
      "text/plain": [
       "'helloram'"
      ]
     },
     "execution_count": 4,
     "metadata": {},
     "output_type": "execute_result"
    }
   ],
   "source": [
    "f = open(\"demo.txt\",'w+')\n",
    "f.write(\"hello\")\n",
    "f.write('ram')\n",
    "f.seek(0)\n",
    "f.read()"
   ]
  },
  {
   "cell_type": "markdown",
   "id": "755b8417",
   "metadata": {},
   "source": [
    "<li>thus the answer is no to both the questions</li>"
   ]
  },
  {
   "cell_type": "markdown",
   "id": "5caea3a9",
   "metadata": {},
   "source": [
    "# Q6. What file operations enable for random-access operation?\n"
   ]
  },
  {
   "cell_type": "markdown",
   "id": "67e2bd66",
   "metadata": {},
   "source": [
    "<li>we have the mmap module in python that allows the user to randomly access locations in a file by mapping the file into memory.</li>"
   ]
  },
  {
   "cell_type": "markdown",
   "id": "978816be",
   "metadata": {},
   "source": [
    "# Q7. When do you think you'll use the struct package the most?\n"
   ]
  },
  {
   "cell_type": "markdown",
   "id": "36cdc82a",
   "metadata": {},
   "source": [
    "<li>In cases of handling binary data stored in files</li>"
   ]
  },
  {
   "cell_type": "markdown",
   "id": "8dc0afd6",
   "metadata": {},
   "source": [
    "# Q8. When is pickling the best option?\n"
   ]
  },
  {
   "cell_type": "markdown",
   "id": "cb2c2c28",
   "metadata": {},
   "source": [
    "<li>In cases where serialization and de-serialization of data is required</li>"
   ]
  },
  {
   "cell_type": "markdown",
   "id": "834c6212",
   "metadata": {},
   "source": [
    "# Q9. When will it be best to use the shelve package?\n"
   ]
  },
  {
   "cell_type": "markdown",
   "id": "8b1b0a23",
   "metadata": {},
   "source": [
    "<li>since the shelve module uses pickle module to serialize the data, and by serialization we are basically stroing Python objects in a database file so that they can be retrieved in the same manner they were pre-serializing. </li>\n",
    "<li>Thus when we want to store complex python object in structured format, then that is the best time to use shelve</li>"
   ]
  },
  {
   "cell_type": "markdown",
   "id": "a8e3fcfe",
   "metadata": {},
   "source": [
    "# Q10. What is a special restriction when using the shelve package, as opposed to using other data dictionaries?\n"
   ]
  },
  {
   "cell_type": "markdown",
   "id": "5eba152a",
   "metadata": {},
   "source": [
    "<li> the key has to be a string data type, whereas any picklable object can serve as value</li>"
   ]
  },
  {
   "cell_type": "code",
   "execution_count": null,
   "id": "d3d52d85",
   "metadata": {},
   "outputs": [],
   "source": []
  }
 ],
 "metadata": {
  "kernelspec": {
   "display_name": "Python 3 (ipykernel)",
   "language": "python",
   "name": "python3"
  },
  "language_info": {
   "codemirror_mode": {
    "name": "ipython",
    "version": 3
   },
   "file_extension": ".py",
   "mimetype": "text/x-python",
   "name": "python",
   "nbconvert_exporter": "python",
   "pygments_lexer": "ipython3",
   "version": "3.8.12"
  }
 },
 "nbformat": 4,
 "nbformat_minor": 5
}
