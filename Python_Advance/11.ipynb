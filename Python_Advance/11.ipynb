{
 "cells": [
  {
   "cell_type": "markdown",
   "id": "014d05c2",
   "metadata": {},
   "source": [
    "# Q1. What is the concept of a metaclass?"
   ]
  },
  {
   "cell_type": "markdown",
   "id": "e43fdc5a",
   "metadata": {},
   "source": [
    "<li>The main idea behind metaclass is that just like we create a class defines the behaviour of the object a metaclass defines the behaviour of the classes.Thus metaclasses are used to create classes</li>"
   ]
  },
  {
   "cell_type": "markdown",
   "id": "62c91644",
   "metadata": {},
   "source": [
    "# Q2. What is the best way to declare a class's metaclass?"
   ]
  },
  {
   "cell_type": "code",
   "execution_count": 26,
   "id": "17291804",
   "metadata": {},
   "outputs": [],
   "source": [
    "class Foo(type):\n",
    "    def __new__(cls,name,bases,dct):\n",
    "        super().__new__(cls,name,bases,dct)\n",
    "        x.a = 100\n",
    "        return x\n",
    "\n",
    "#declaring metaclass of a class\n",
    "class Sample(metaclass = Foo):\n",
    "    pass"
   ]
  },
  {
   "cell_type": "code",
   "execution_count": 29,
   "id": "16ab35f5",
   "metadata": {},
   "outputs": [
    {
     "data": {
      "text/plain": [
       "100"
      ]
     },
     "execution_count": 29,
     "metadata": {},
     "output_type": "execute_result"
    }
   ],
   "source": [
    "Sample.a"
   ]
  },
  {
   "cell_type": "markdown",
   "id": "c05dae96",
   "metadata": {},
   "source": [
    "# Q3. How do class decorators overlap with metaclasses for handling classes?"
   ]
  },
  {
   "cell_type": "markdown",
   "id": "8864ecf7",
   "metadata": {},
   "source": [
    "#### Like metaclasses augment class functionality"
   ]
  },
  {
   "cell_type": "code",
   "execution_count": 11,
   "id": "9e94b063",
   "metadata": {},
   "outputs": [
    {
     "ename": "AttributeError",
     "evalue": "'foo' object has no attribute 'attr'",
     "output_type": "error",
     "traceback": [
      "\u001b[1;31m---------------------------------------------------------------------------\u001b[0m",
      "\u001b[1;31mAttributeError\u001b[0m                            Traceback (most recent call last)",
      "Input \u001b[1;32mIn [11]\u001b[0m, in \u001b[0;36m<cell line: 6>\u001b[1;34m()\u001b[0m\n\u001b[0;32m      3\u001b[0m     \u001b[38;5;28;01mpass\u001b[39;00m\n\u001b[0;32m      5\u001b[0m f \u001b[38;5;241m=\u001b[39m foo()\n\u001b[1;32m----> 6\u001b[0m \u001b[43mf\u001b[49m\u001b[38;5;241;43m.\u001b[39;49m\u001b[43mattr\u001b[49m\n",
      "\u001b[1;31mAttributeError\u001b[0m: 'foo' object has no attribute 'attr'"
     ]
    }
   ],
   "source": [
    "#pre metaclass phase\n",
    "class foo:\n",
    "    pass\n",
    "\n",
    "f = foo()\n",
    "f.attr"
   ]
  },
  {
   "cell_type": "code",
   "execution_count": 12,
   "id": "58a288c6",
   "metadata": {},
   "outputs": [
    {
     "data": {
      "text/plain": [
       "100"
      ]
     },
     "execution_count": 12,
     "metadata": {},
     "output_type": "execute_result"
    }
   ],
   "source": [
    "#post metaclass phase\n",
    "\n",
    "class foo:\n",
    "    pass\n",
    "\n",
    "def new(cls):\n",
    "    x = object.__new__(cls)\n",
    "    x.attr = 100\n",
    "    return x\n",
    "\n",
    "foo.__new__ = new\n",
    "f = foo()\n",
    "f.attr"
   ]
  },
  {
   "cell_type": "markdown",
   "id": "6b159f2e",
   "metadata": {},
   "source": [
    "#### Decorators too augment class functionality"
   ]
  },
  {
   "cell_type": "code",
   "execution_count": 18,
   "id": "7eeb4b9d",
   "metadata": {},
   "outputs": [],
   "source": [
    "#pre decorator phase\n",
    "class foo:\n",
    "    a:int\n",
    "    b:float   "
   ]
  },
  {
   "cell_type": "code",
   "execution_count": 19,
   "id": "d8d31212",
   "metadata": {},
   "outputs": [
    {
     "ename": "TypeError",
     "evalue": "foo() takes no arguments",
     "output_type": "error",
     "traceback": [
      "\u001b[1;31m---------------------------------------------------------------------------\u001b[0m",
      "\u001b[1;31mTypeError\u001b[0m                                 Traceback (most recent call last)",
      "Input \u001b[1;32mIn [19]\u001b[0m, in \u001b[0;36m<cell line: 1>\u001b[1;34m()\u001b[0m\n\u001b[1;32m----> 1\u001b[0m \u001b[43mfoo\u001b[49m\u001b[43m(\u001b[49m\u001b[38;5;241;43m1\u001b[39;49m\u001b[43m,\u001b[49m\u001b[38;5;241;43m1.5\u001b[39;49m\u001b[43m)\u001b[49m\n",
      "\u001b[1;31mTypeError\u001b[0m: foo() takes no arguments"
     ]
    }
   ],
   "source": [
    "foo(1,1.5)"
   ]
  },
  {
   "cell_type": "code",
   "execution_count": 16,
   "id": "1ea89105",
   "metadata": {},
   "outputs": [],
   "source": [
    "#post decorator phase\n",
    "from dataclasses import dataclass\n",
    "@dataclass\n",
    "class foo:\n",
    "    a:int\n",
    "    b:float   "
   ]
  },
  {
   "cell_type": "code",
   "execution_count": 17,
   "id": "4d7e392a",
   "metadata": {},
   "outputs": [
    {
     "data": {
      "text/plain": [
       "foo(a=1, b=1.5)"
      ]
     },
     "execution_count": 17,
     "metadata": {},
     "output_type": "execute_result"
    }
   ],
   "source": [
    "foo(1,1.5)"
   ]
  },
  {
   "cell_type": "markdown",
   "id": "5148a005",
   "metadata": {},
   "source": [
    "# Q4. How do class decorators overlap with metaclasses for handling instances?\n"
   ]
  },
  {
   "cell_type": "markdown",
   "id": "9592c1c9",
   "metadata": {},
   "source": [
    "#### Decorators can augment functionaality of a specific instance of a class\n",
    "#### But metaclasses cant do that as etaclasses are designed to manage classes"
   ]
  },
  {
   "cell_type": "code",
   "execution_count": null,
   "id": "a8ba58b7",
   "metadata": {},
   "outputs": [],
   "source": []
  }
 ],
 "metadata": {
  "kernelspec": {
   "display_name": "Python 3 (ipykernel)",
   "language": "python",
   "name": "python3"
  },
  "language_info": {
   "codemirror_mode": {
    "name": "ipython",
    "version": 3
   },
   "file_extension": ".py",
   "mimetype": "text/x-python",
   "name": "python",
   "nbconvert_exporter": "python",
   "pygments_lexer": "ipython3",
   "version": "3.8.12"
  }
 },
 "nbformat": 4,
 "nbformat_minor": 5
}
