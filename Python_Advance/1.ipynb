{
 "cells": [
  {
   "cell_type": "markdown",
   "id": "715224a7",
   "metadata": {},
   "source": [
    "# Q1. What is the purpose of Python's OOP?\n"
   ]
  },
  {
   "cell_type": "markdown",
   "id": "0f12d100",
   "metadata": {},
   "source": [
    "<li>The purpose of oops is that with the help of it we can organize our codebase in a much better fashion as it grows larger</li>\n",
    "<li>On the same lines debugging also gets easier</li>"
   ]
  },
  {
   "cell_type": "code",
   "execution_count": null,
   "id": "13d6f14b",
   "metadata": {},
   "outputs": [],
   "source": []
  },
  {
   "cell_type": "markdown",
   "id": "11b3cd65",
   "metadata": {},
   "source": [
    "# Q2. Where does an inheritance search look for an attribute?\n"
   ]
  },
  {
   "cell_type": "markdown",
   "id": "5b384367",
   "metadata": {},
   "source": [
    "<li>In multiple inheritance scenario,any attribute is searched first in the currentn class</li>\n",
    "<li>If not found,the search continue into parent class in DEPTH FIRST LEFT TO RIGHT WITHOUT SEARCHING THE SAME CLASS TWICE.</li>\n",
    "<li>Searching in this way is called Method Resolution Order (MRO)</li>"
   ]
  },
  {
   "cell_type": "code",
   "execution_count": null,
   "id": "e9bf8827",
   "metadata": {},
   "outputs": [],
   "source": []
  },
  {
   "cell_type": "markdown",
   "id": "d6839cfe",
   "metadata": {},
   "source": [
    "# Q3. How do you distinguish between a class object and an instance object?\n"
   ]
  },
  {
   "cell_type": "code",
   "execution_count": 1,
   "id": "837b1636",
   "metadata": {},
   "outputs": [],
   "source": [
    "class Sample:\n",
    "    class_obj = 'I am class obh'\n",
    "    \n",
    "    def __init__(self):\n",
    "        self.instance_obj = 'I am instance object'"
   ]
  },
  {
   "cell_type": "code",
   "execution_count": 2,
   "id": "a7e963e2",
   "metadata": {},
   "outputs": [
    {
     "name": "stdout",
     "output_type": "stream",
     "text": [
      "I am instance object\n",
      "I am class obh\n"
     ]
    }
   ],
   "source": [
    "obj = Sample()\n",
    "print(obj.instance_obj)\n",
    "print(obj.class_obj)"
   ]
  },
  {
   "cell_type": "code",
   "execution_count": null,
   "id": "701a9198",
   "metadata": {},
   "outputs": [],
   "source": []
  },
  {
   "cell_type": "markdown",
   "id": "715ea0e9",
   "metadata": {},
   "source": [
    "# Q4. What makes the first argument in a class’s method function special?\n"
   ]
  },
  {
   "cell_type": "code",
   "execution_count": 4,
   "id": "823d9a3c",
   "metadata": {},
   "outputs": [],
   "source": [
    "class Sample:\n",
    "    def __init__(self):\n",
    "        self.instance_obj = f'{self}I am instance object'"
   ]
  },
  {
   "cell_type": "code",
   "execution_count": 5,
   "id": "0355a196",
   "metadata": {},
   "outputs": [
    {
     "data": {
      "text/plain": [
       "'<__main__.Sample object at 0x000001E05C375828>I am instance object'"
      ]
     },
     "execution_count": 5,
     "metadata": {},
     "output_type": "execute_result"
    }
   ],
   "source": [
    "obj = Sample()\n",
    "obj.instance_obj"
   ]
  },
  {
   "cell_type": "code",
   "execution_count": 6,
   "id": "63ecf549",
   "metadata": {},
   "outputs": [
    {
     "data": {
      "text/plain": [
       "'<__main__.Sample object at 0x000001E05C3B90F0>I am instance object'"
      ]
     },
     "execution_count": 6,
     "metadata": {},
     "output_type": "execute_result"
    }
   ],
   "source": [
    "obj1 = Sample()\n",
    "obj1.instance_obj"
   ]
  },
  {
   "cell_type": "markdown",
   "id": "2715d7c9",
   "metadata": {},
   "source": [
    "<li>Thus as visible,self is basically a reference to the object of the classes that we create</li>"
   ]
  },
  {
   "cell_type": "code",
   "execution_count": null,
   "id": "a15192b2",
   "metadata": {},
   "outputs": [],
   "source": []
  },
  {
   "cell_type": "markdown",
   "id": "44e7ceb1",
   "metadata": {},
   "source": [
    "# Q5. What is the purpose of the __init__ method?\n",
    "\n"
   ]
  },
  {
   "cell_type": "code",
   "execution_count": 7,
   "id": "c2313d12",
   "metadata": {},
   "outputs": [],
   "source": [
    "class Sample:\n",
    "    def __init__(self):\n",
    "        self.instance_obj = 'I am instance object'"
   ]
  },
  {
   "cell_type": "code",
   "execution_count": 8,
   "id": "b1e30bd4",
   "metadata": {},
   "outputs": [
    {
     "data": {
      "text/plain": [
       "'I am instance object'"
      ]
     },
     "execution_count": 8,
     "metadata": {},
     "output_type": "execute_result"
    }
   ],
   "source": [
    "obj1 = Sample()\n",
    "obj1.instance_obj"
   ]
  },
  {
   "cell_type": "markdown",
   "id": "792245de",
   "metadata": {},
   "source": [
    "<li>Thus when we create any object of Sample and we want that at the time of creation, each object must have a set of attributes, so if these attributes are declared inside __init__, our purpose is solved.So this the purpose of init method</li>"
   ]
  },
  {
   "cell_type": "code",
   "execution_count": null,
   "id": "2e970a52",
   "metadata": {},
   "outputs": [],
   "source": []
  },
  {
   "cell_type": "markdown",
   "id": "cb262670",
   "metadata": {},
   "source": [
    "# Q6. What is the process for creating a class instance?\n"
   ]
  },
  {
   "cell_type": "code",
   "execution_count": 9,
   "id": "b58daefb",
   "metadata": {},
   "outputs": [],
   "source": [
    "class Sample:\n",
    "    def __init__(self):\n",
    "        self.instance_obj = 'I am instance object'"
   ]
  },
  {
   "cell_type": "code",
   "execution_count": 10,
   "id": "21fb3b38",
   "metadata": {},
   "outputs": [
    {
     "data": {
      "text/plain": [
       "'I am instance object'"
      ]
     },
     "execution_count": 10,
     "metadata": {},
     "output_type": "execute_result"
    }
   ],
   "source": [
    "obj1 = Sample()\n",
    "obj1.instance_obj"
   ]
  },
  {
   "cell_type": "code",
   "execution_count": null,
   "id": "64bcc736",
   "metadata": {},
   "outputs": [],
   "source": []
  },
  {
   "cell_type": "markdown",
   "id": "5625f77b",
   "metadata": {},
   "source": [
    "# Q7. What is the process for creating a class?\n",
    "\n"
   ]
  },
  {
   "cell_type": "code",
   "execution_count": 11,
   "id": "e190c9c9",
   "metadata": {},
   "outputs": [],
   "source": [
    "class Sample:\n",
    "    def __init__(self):\n",
    "        self.instance_obj = 'I am instance object'"
   ]
  },
  {
   "cell_type": "code",
   "execution_count": null,
   "id": "47d6e989",
   "metadata": {},
   "outputs": [],
   "source": []
  },
  {
   "cell_type": "markdown",
   "id": "0d84a738",
   "metadata": {},
   "source": [
    "# Q8. How would you define the superclasses of a class?\n"
   ]
  },
  {
   "cell_type": "code",
   "execution_count": 23,
   "id": "f21b4b64",
   "metadata": {},
   "outputs": [],
   "source": [
    "class SampleSuper:\n",
    "    def __init__(self):\n",
    "        self.super = \"I am super\"\n",
    "\n",
    "class Sample(SampleSuper):\n",
    "    def __init__(self):\n",
    "        super().__init__()\n",
    "        self.child = 'I am child'"
   ]
  },
  {
   "cell_type": "code",
   "execution_count": 24,
   "id": "2d82f19a",
   "metadata": {},
   "outputs": [
    {
     "name": "stdout",
     "output_type": "stream",
     "text": [
      "I am super\n",
      "I am child\n"
     ]
    }
   ],
   "source": [
    "obj = Sample()\n",
    "print(obj.super)\n",
    "print(obj.child)"
   ]
  },
  {
   "cell_type": "code",
   "execution_count": null,
   "id": "c1e8afb8",
   "metadata": {},
   "outputs": [],
   "source": []
  }
 ],
 "metadata": {
  "kernelspec": {
   "display_name": "iNeuronFSDSPythonModule",
   "language": "python",
   "name": "ineuronfsdspythonmodule"
  },
  "language_info": {
   "codemirror_mode": {
    "name": "ipython",
    "version": 3
   },
   "file_extension": ".py",
   "mimetype": "text/x-python",
   "name": "python",
   "nbconvert_exporter": "python",
   "pygments_lexer": "ipython3",
   "version": "3.6.12"
  }
 },
 "nbformat": 4,
 "nbformat_minor": 5
}
