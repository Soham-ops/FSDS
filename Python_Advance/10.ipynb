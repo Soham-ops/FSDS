{
 "cells": [
  {
   "cell_type": "markdown",
   "id": "450ce2f8",
   "metadata": {},
   "source": [
    " <h1>1. What is the difference between __getattr__ and __getattribute__?</h1>\n"
   ]
  },
  {
   "cell_type": "code",
   "execution_count": 3,
   "id": "4c61a0bb",
   "metadata": {},
   "outputs": [],
   "source": [
    "#__getattr__\n",
    "# This magic method is called if an attribute is not defined\n",
    "class Sample:\n",
    "    \n",
    "    def __getattr__(self,attr):\n",
    "        self.__dict__['name'] = 'Soham' \n",
    "        return self.__dict__['name']\n",
    "        "
   ]
  },
  {
   "cell_type": "code",
   "execution_count": 4,
   "id": "8a3ecadd",
   "metadata": {},
   "outputs": [
    {
     "data": {
      "text/plain": [
       "'Soham'"
      ]
     },
     "execution_count": 4,
     "metadata": {},
     "output_type": "execute_result"
    }
   ],
   "source": [
    "obj = Sample()\n",
    "obj.name"
   ]
  },
  {
   "cell_type": "code",
   "execution_count": 6,
   "id": "9967a131",
   "metadata": {},
   "outputs": [],
   "source": [
    "#__getattribute__\n",
    "# This magic method is called whenever we call an attribute, it does not matter if it exists or not\n",
    "class Sample:\n",
    "    def __init__(self):\n",
    "        self.name = 'Soham'\n",
    "        self.branch = 'CSE'\n",
    "        self.specialization = None\n",
    "        \n",
    "    def __getattribute__(self,attr):\n",
    "        if attr.startswith('specialization'):\n",
    "            raise AttributeError\n",
    "        return super().__getattribute__(attr)"
   ]
  },
  {
   "cell_type": "code",
   "execution_count": 7,
   "id": "52c413d6",
   "metadata": {},
   "outputs": [
    {
     "name": "stdout",
     "output_type": "stream",
     "text": [
      "Soham\n",
      "CSE\n"
     ]
    },
    {
     "ename": "AttributeError",
     "evalue": "",
     "output_type": "error",
     "traceback": [
      "\u001b[1;31m---------------------------------------------------------------------------\u001b[0m",
      "\u001b[1;31mAttributeError\u001b[0m                            Traceback (most recent call last)",
      "\u001b[1;32m<ipython-input-7-4b0a62c0820d>\u001b[0m in \u001b[0;36m<module>\u001b[1;34m\u001b[0m\n\u001b[0;32m      2\u001b[0m \u001b[0mprint\u001b[0m\u001b[1;33m(\u001b[0m\u001b[0mobj\u001b[0m\u001b[1;33m.\u001b[0m\u001b[0mname\u001b[0m\u001b[1;33m)\u001b[0m\u001b[1;33m\u001b[0m\u001b[1;33m\u001b[0m\u001b[0m\n\u001b[0;32m      3\u001b[0m \u001b[0mprint\u001b[0m\u001b[1;33m(\u001b[0m\u001b[0mobj\u001b[0m\u001b[1;33m.\u001b[0m\u001b[0mbranch\u001b[0m\u001b[1;33m)\u001b[0m\u001b[1;33m\u001b[0m\u001b[1;33m\u001b[0m\u001b[0m\n\u001b[1;32m----> 4\u001b[1;33m \u001b[0mprint\u001b[0m\u001b[1;33m(\u001b[0m\u001b[0mobj\u001b[0m\u001b[1;33m.\u001b[0m\u001b[0mspecialization\u001b[0m\u001b[1;33m)\u001b[0m\u001b[1;33m\u001b[0m\u001b[1;33m\u001b[0m\u001b[0m\n\u001b[0m",
      "\u001b[1;32m<ipython-input-6-ff2b498f6ae3>\u001b[0m in \u001b[0;36m__getattribute__\u001b[1;34m(self, attr)\u001b[0m\n\u001b[0;32m      7\u001b[0m     \u001b[1;32mdef\u001b[0m \u001b[0m__getattribute__\u001b[0m\u001b[1;33m(\u001b[0m\u001b[0mself\u001b[0m\u001b[1;33m,\u001b[0m\u001b[0mattr\u001b[0m\u001b[1;33m)\u001b[0m\u001b[1;33m:\u001b[0m\u001b[1;33m\u001b[0m\u001b[1;33m\u001b[0m\u001b[0m\n\u001b[0;32m      8\u001b[0m         \u001b[1;32mif\u001b[0m \u001b[0mattr\u001b[0m\u001b[1;33m.\u001b[0m\u001b[0mstartswith\u001b[0m\u001b[1;33m(\u001b[0m\u001b[1;34m'specialization'\u001b[0m\u001b[1;33m)\u001b[0m\u001b[1;33m:\u001b[0m\u001b[1;33m\u001b[0m\u001b[1;33m\u001b[0m\u001b[0m\n\u001b[1;32m----> 9\u001b[1;33m             \u001b[1;32mraise\u001b[0m \u001b[0mAttributeError\u001b[0m\u001b[1;33m\u001b[0m\u001b[1;33m\u001b[0m\u001b[0m\n\u001b[0m\u001b[0;32m     10\u001b[0m         \u001b[1;32mreturn\u001b[0m \u001b[0msuper\u001b[0m\u001b[1;33m(\u001b[0m\u001b[1;33m)\u001b[0m\u001b[1;33m.\u001b[0m\u001b[0m__getattribute__\u001b[0m\u001b[1;33m(\u001b[0m\u001b[0mattr\u001b[0m\u001b[1;33m)\u001b[0m\u001b[1;33m\u001b[0m\u001b[1;33m\u001b[0m\u001b[0m\n",
      "\u001b[1;31mAttributeError\u001b[0m: "
     ]
    }
   ],
   "source": [
    "obj = Sample()\n",
    "print(obj.name)\n",
    "print(obj.branch)\n",
    "print(obj.specialization)"
   ]
  },
  {
   "cell_type": "code",
   "execution_count": null,
   "id": "08012f17",
   "metadata": {},
   "outputs": [],
   "source": []
  },
  {
   "cell_type": "markdown",
   "id": "6a3b6891",
   "metadata": {},
   "source": [
    "# Q2. What is the difference between properties and descriptors?\n"
   ]
  },
  {
   "cell_type": "markdown",
   "id": "c4c97ffb",
   "metadata": {},
   "source": [
    "<li>Descriptors are the base on which properties are created,so basically we can properties as high level descriptors</li>\n",
    "<li>For advanced use case we will use decorators,whereas for basic use case we will use properties</li>\n"
   ]
  },
  {
   "cell_type": "code",
   "execution_count": null,
   "id": "47537aef",
   "metadata": {},
   "outputs": [],
   "source": []
  },
  {
   "cell_type": "markdown",
   "id": "df61280b",
   "metadata": {},
   "source": [
    "# Q3. What are the key differences in functionality between __getattr__ and __getattribute__, as well as properties and descriptors?\n"
   ]
  },
  {
   "cell_type": "markdown",
   "id": "bd073a13",
   "metadata": {},
   "source": [
    "#### Soln-1 getaatr and getattribute"
   ]
  },
  {
   "cell_type": "code",
   "execution_count": 3,
   "id": "56e25a55",
   "metadata": {},
   "outputs": [],
   "source": [
    "#__getattr__\n",
    "# This magic method is called if an attribute is not defined\n",
    "class Sample:\n",
    "    \n",
    "    def __getattr__(self,attr):\n",
    "        self.__dict__['name'] = 'Soham' \n",
    "        return self.__dict__['name']\n",
    "        "
   ]
  },
  {
   "cell_type": "code",
   "execution_count": 4,
   "id": "1cf4f142",
   "metadata": {},
   "outputs": [
    {
     "data": {
      "text/plain": [
       "'Soham'"
      ]
     },
     "execution_count": 4,
     "metadata": {},
     "output_type": "execute_result"
    }
   ],
   "source": [
    "obj = Sample()\n",
    "obj.name"
   ]
  },
  {
   "cell_type": "code",
   "execution_count": 6,
   "id": "a5812920",
   "metadata": {},
   "outputs": [],
   "source": [
    "#__getattribute__\n",
    "# This magic method is called whenever we call an attribute, it does not matter if it exists or not\n",
    "class Sample:\n",
    "    def __init__(self):\n",
    "        self.name = 'Soham'\n",
    "        self.branch = 'CSE'\n",
    "        self.specialization = None\n",
    "        \n",
    "    def __getattribute__(self,attr):\n",
    "        if attr.startswith('specialization'):\n",
    "            raise AttributeError\n",
    "        return super().__getattribute__(attr)"
   ]
  },
  {
   "cell_type": "code",
   "execution_count": 7,
   "id": "a03636be",
   "metadata": {},
   "outputs": [
    {
     "name": "stdout",
     "output_type": "stream",
     "text": [
      "Soham\n",
      "CSE\n"
     ]
    },
    {
     "ename": "AttributeError",
     "evalue": "",
     "output_type": "error",
     "traceback": [
      "\u001b[1;31m---------------------------------------------------------------------------\u001b[0m",
      "\u001b[1;31mAttributeError\u001b[0m                            Traceback (most recent call last)",
      "\u001b[1;32m<ipython-input-7-4b0a62c0820d>\u001b[0m in \u001b[0;36m<module>\u001b[1;34m\u001b[0m\n\u001b[0;32m      2\u001b[0m \u001b[0mprint\u001b[0m\u001b[1;33m(\u001b[0m\u001b[0mobj\u001b[0m\u001b[1;33m.\u001b[0m\u001b[0mname\u001b[0m\u001b[1;33m)\u001b[0m\u001b[1;33m\u001b[0m\u001b[1;33m\u001b[0m\u001b[0m\n\u001b[0;32m      3\u001b[0m \u001b[0mprint\u001b[0m\u001b[1;33m(\u001b[0m\u001b[0mobj\u001b[0m\u001b[1;33m.\u001b[0m\u001b[0mbranch\u001b[0m\u001b[1;33m)\u001b[0m\u001b[1;33m\u001b[0m\u001b[1;33m\u001b[0m\u001b[0m\n\u001b[1;32m----> 4\u001b[1;33m \u001b[0mprint\u001b[0m\u001b[1;33m(\u001b[0m\u001b[0mobj\u001b[0m\u001b[1;33m.\u001b[0m\u001b[0mspecialization\u001b[0m\u001b[1;33m)\u001b[0m\u001b[1;33m\u001b[0m\u001b[1;33m\u001b[0m\u001b[0m\n\u001b[0m",
      "\u001b[1;32m<ipython-input-6-ff2b498f6ae3>\u001b[0m in \u001b[0;36m__getattribute__\u001b[1;34m(self, attr)\u001b[0m\n\u001b[0;32m      7\u001b[0m     \u001b[1;32mdef\u001b[0m \u001b[0m__getattribute__\u001b[0m\u001b[1;33m(\u001b[0m\u001b[0mself\u001b[0m\u001b[1;33m,\u001b[0m\u001b[0mattr\u001b[0m\u001b[1;33m)\u001b[0m\u001b[1;33m:\u001b[0m\u001b[1;33m\u001b[0m\u001b[1;33m\u001b[0m\u001b[0m\n\u001b[0;32m      8\u001b[0m         \u001b[1;32mif\u001b[0m \u001b[0mattr\u001b[0m\u001b[1;33m.\u001b[0m\u001b[0mstartswith\u001b[0m\u001b[1;33m(\u001b[0m\u001b[1;34m'specialization'\u001b[0m\u001b[1;33m)\u001b[0m\u001b[1;33m:\u001b[0m\u001b[1;33m\u001b[0m\u001b[1;33m\u001b[0m\u001b[0m\n\u001b[1;32m----> 9\u001b[1;33m             \u001b[1;32mraise\u001b[0m \u001b[0mAttributeError\u001b[0m\u001b[1;33m\u001b[0m\u001b[1;33m\u001b[0m\u001b[0m\n\u001b[0m\u001b[0;32m     10\u001b[0m         \u001b[1;32mreturn\u001b[0m \u001b[0msuper\u001b[0m\u001b[1;33m(\u001b[0m\u001b[1;33m)\u001b[0m\u001b[1;33m.\u001b[0m\u001b[0m__getattribute__\u001b[0m\u001b[1;33m(\u001b[0m\u001b[0mattr\u001b[0m\u001b[1;33m)\u001b[0m\u001b[1;33m\u001b[0m\u001b[1;33m\u001b[0m\u001b[0m\n",
      "\u001b[1;31mAttributeError\u001b[0m: "
     ]
    }
   ],
   "source": [
    "obj = Sample()\n",
    "print(obj.name)\n",
    "print(obj.branch)\n",
    "print(obj.specialization)"
   ]
  },
  {
   "cell_type": "markdown",
   "id": "9a527ae2",
   "metadata": {},
   "source": [
    "#### Soln-2 Properties and descriptors"
   ]
  },
  {
   "cell_type": "markdown",
   "id": "29c81d4f",
   "metadata": {},
   "source": [
    "<li>Descriptors are the base on which properties are created,so basically we can properties as high level descriptors</li>\n",
    "<li>For advanced use case we will use decorators,whereas for basic use case we will use properties</li>\n"
   ]
  },
  {
   "cell_type": "markdown",
   "id": "60fe800b",
   "metadata": {},
   "source": []
  }
 ],
 "metadata": {
  "kernelspec": {
   "display_name": "iNeuronFSDSPythonModule",
   "language": "python",
   "name": "ineuronfsdspythonmodule"
  },
  "language_info": {
   "codemirror_mode": {
    "name": "ipython",
    "version": 3
   },
   "file_extension": ".py",
   "mimetype": "text/x-python",
   "name": "python",
   "nbconvert_exporter": "python",
   "pygments_lexer": "ipython3",
   "version": "3.6.12"
  }
 },
 "nbformat": 4,
 "nbformat_minor": 5
}
